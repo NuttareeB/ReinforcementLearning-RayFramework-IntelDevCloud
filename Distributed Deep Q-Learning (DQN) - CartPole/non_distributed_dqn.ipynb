{
 "cells": [
  {
   "cell_type": "markdown",
   "metadata": {},
   "source": [
    "# Distributed Deep Q-Learning \n",
    "\n",
    "The goal of this assignment is to implement and experiment with both single-core and distributed versions of the deep reinforcement learning algorithm Deep Q Networks (DQN). In particular, DQN will be run in the classic RL benchmark Cart-Pole and abblation experiments will be run to observe the impact of the different DQN components. \n",
    "\n",
    "The relevant content about DQN can be found Q-Learning and SARSA are in the following course notes from CS533.\n",
    "\n",
    "https://oregonstate.instructure.com/courses/1719746/files/75047394/download?wrap=1\n",
    "\n",
    "The full pseudo-code for DQN is on slide 45 with prior slides introducing the individual components. \n",
    "\n",
    "\n",
    "## Recap of DQN \n",
    "\n",
    "From the course slides it can be seen that DQN is simply the standard table-based Q-learning algorithm but with three extensions:\n",
    "\n",
    "1) Use of function approximation via a neural network instead of a Q-table. \n",
    "2) Use of experience replay. \n",
    "3) Use of a target network. \n",
    "\n",
    "Extension (1) allows for scaling to problems with enormous state spaces, such as when the states correspond to images or sequences of images. Extensions (2) and (3) are claimed to improve the robustness and effectiveness of DQN compared. \n",
    "\n",
    "(2) adjusts Q-learning so that updates are not just performed on individual experiences as they arrive. But rather, experiences are stored in a memory buffer and updates are performed by sampling random mini-batches of experience tuples from the memory buffer and updating the network based on the mini-batch. This allows for reuse of experience as well as helping to reduce correlation between successive updates, which is claimed to be beneficial. \n",
    "\n",
    "(3) adjusts the way that target values are computed for the Q-learning updates. Let $Q_{\\theta}(s,a)$ be the function approximation network with parameters $\\theta$ for representing the Q-function. Given an experience tuple $(s, a, r, s')$ the origional Q-learning algorithm updates the parameters so that $Q_{\\theta}(s,a)$ moves closer to the target value: \n",
    "\\begin{equation}\n",
    "r + \\beta \\max_a' Q_{\\theta}(s',a') \n",
    "\\end{equation}\n",
    "Rather, DQN stores two function approximation networks. The first is the update network with parameters $\\theta$, which is the network that is continually updated during learning. The second is a target network with parameters $\\theta'$. Given the same experience tuple, DQN will update the parameters $\\theta$ so that $Q_{\\theta}(s,a)$ moves toward a target value based on the target network:\n",
    "\\begin{equation}\n",
    "r + \\beta \\max_a' Q_{\\theta'}(s',a') \n",
    "\\end{equation}\n",
    "Periodically the target network is updated with the most recent parameters $\\theta' \\leftarrow \\theta$. This use of a target network is claimed to stabilize learning.\n",
    "\n",
    "In the assignment you will get to see an example of the impact of both the target network and experience replay.\n",
    "\n",
    "Further reading about DQN and its application to learning to play Atari games can be found in the following paper. \n",
    "\n",
    "Mnih, V., Kavukcuoglu, K., Silver, D., Rusu, A.A., Veness, J., Bellemare, M.G., Graves, A., Riedmiller, M., Fidjeland, A.K., Ostrovski, G. and Petersen, S., 2015. Human-level control through deep reinforcement learning. Nature, 518(7540), p.529.\n",
    "https://oregonstate.instructure.com/courses/1719746/files/75234294/download?wrap=1"
   ]
  },
  {
   "cell_type": "code",
   "execution_count": null,
   "metadata": {},
   "outputs": [],
   "source": [
    "!pip3 install --user gym[Box2D]\n",
    "!pip3 install --user torch\n",
    "!pip3 install --user JSAnimation\n",
    "!pip3 install --user matplotlib"
   ]
  },
  {
   "cell_type": "markdown",
   "metadata": {},
   "source": [
    "Install the packages for enviroment"
   ]
  },
  {
   "cell_type": "code",
   "execution_count": 2,
   "metadata": {},
   "outputs": [],
   "source": [
    "import gym\n",
    "import torch\n",
    "import time\n",
    "import os\n",
    "import ray\n",
    "import numpy as np\n",
    "\n",
    "from tqdm import tqdm\n",
    "from random import uniform, randint\n",
    "\n",
    "import io\n",
    "import base64\n",
    "from IPython.display import HTML\n",
    "\n",
    "from dqn_model import DQNModel\n",
    "from dqn_model import _DQNModel\n",
    "from memory import ReplayBuffer\n",
    "\n",
    "import matplotlib.pyplot as plt\n",
    "%matplotlib inline\n",
    "\n",
    "FloatTensor = torch.FloatTensor"
   ]
  },
  {
   "cell_type": "markdown",
   "metadata": {},
   "source": [
    "## Useful PyTorch functions"
   ]
  },
  {
   "cell_type": "markdown",
   "metadata": {},
   "source": [
    "### Tensors\n",
    "\n",
    "This assignment will use the PyTorch library for the required neural network functionality. You do not need to be familiar with the details of PyTorch or neural network training. However, the assignment will require dealing with data in the form of tensors.  \n",
    "\n",
    "The mini-batches used to train the PyTorch neural network is expected to be represented as a tensor matrix. The function `FloatTensor` can convert a list or NumPy matrix into a tensor matrix if needed. \n",
    "\n",
    "You can find more infomation here: https://pytorch.org/docs/stable/tensors.html"
   ]
  },
  {
   "cell_type": "code",
   "execution_count": 3,
   "metadata": {},
   "outputs": [
    {
     "name": "stdout",
     "output_type": "stream",
     "text": [
      "[[3, 2, 1], [6, 4, 5], [7, 8, 9]]\n",
      "<class 'torch.Tensor'>\n",
      "tensor([[3., 2., 1.],\n",
      "        [6., 4., 5.],\n",
      "        [7., 8., 9.]])\n"
     ]
    }
   ],
   "source": [
    "# list\n",
    "m = [[3,2,1],[6,4,5],[7,8,9]]\n",
    "print(m)\n",
    "\n",
    "# tensor matrix\n",
    "m_tensor = FloatTensor(m)\n",
    "print(type(m_tensor))\n",
    "print(m_tensor)"
   ]
  },
  {
   "cell_type": "markdown",
   "metadata": {},
   "source": [
    "### Tensor.max()\n",
    "Once you have a tenosr maxtrix, you can use torch.max(m_tensor, dim) to get the max value and max index corresponding to the dimension you choose.\n",
    "```\n",
    ">>> a = torch.randn(4, 4)\n",
    ">>> a\n",
    "tensor([[-1.2360, -0.2942, -0.1222,  0.8475],\n",
    "        [ 1.1949, -1.1127, -2.2379, -0.6702],\n",
    "        [ 1.5717, -0.9207,  0.1297, -1.8768],\n",
    "        [-0.6172,  1.0036, -0.6060, -0.2432]])\n",
    ">>> torch.max(a, 1)\n",
    "torch.return_types.max(values=tensor([0.8475, 1.1949, 1.5717, 1.0036]), indices=tensor([3, 0, 0, 1]))\n",
    "```\n",
    "You can find more infomation here: https://pytorch.org/docs/stable/torch.html#torch.max"
   ]
  },
  {
   "cell_type": "code",
   "execution_count": 4,
   "metadata": {},
   "outputs": [
    {
     "name": "stdout",
     "output_type": "stream",
     "text": [
      "tensor([3., 6., 9.]) tensor([0, 0, 2])\n"
     ]
    }
   ],
   "source": [
    "max_value, index = torch.max(m_tensor, dim = 1)\n",
    "print(max_value, index)"
   ]
  },
  {
   "cell_type": "markdown",
   "metadata": {},
   "source": [
    "## Initialize Environment\n",
    "### CartPole-v0:  \n",
    "CartPole is a classic control task that is often used as an introductory reinforcement learning benchmark. The environment involves controlling a 2d cart that can move in either the left or right direction on a frictionless track. A pole is attached to the cart via an unactuated joint. The system is controlled by applying a force of +1 or -1 to the cart. The pendulum starts upright, and the goal is to prevent it from falling over. A reward of +1 is provided for every timestep that the pole remains upright. The episode ends when the pole is more than 15 degrees from vertical, or the cart moves more than 2.4 units from the center.  \n",
    "(You can find more infomation by this Link: https://gym.openai.com/envs/CartPole-v0/)  \n",
    "  \n"
   ]
  },
  {
   "cell_type": "code",
   "execution_count": 5,
   "metadata": {},
   "outputs": [],
   "source": [
    "# Set the Env name and action space for CartPole\n",
    "ENV_NAME = 'CartPole-v0'\n",
    "# Move left, Move right\n",
    "ACTION_DICT = {\n",
    "    \"LEFT\": 0,\n",
    "    \"RIGHT\":1\n",
    "}\n",
    "# Register the environment\n",
    "env_CartPole = gym.make(ENV_NAME)"
   ]
  },
  {
   "cell_type": "code",
   "execution_count": 6,
   "metadata": {},
   "outputs": [],
   "source": [
    "# Set result saveing floder\n",
    "result_floder = ENV_NAME\n",
    "result_file = ENV_NAME + \"/results.txt\"\n",
    "if not os.path.isdir(result_floder):\n",
    "    os.mkdir(result_floder)"
   ]
  },
  {
   "cell_type": "markdown",
   "metadata": {},
   "source": [
    "## Helper Function\n",
    "Plot results."
   ]
  },
  {
   "cell_type": "code",
   "execution_count": 7,
   "metadata": {},
   "outputs": [],
   "source": [
    "def plot_result(total_rewards ,learning_num, legend):\n",
    "    print(\"\\nLearning Performance:\\n\")\n",
    "    episodes = []\n",
    "    for i in range(len(total_rewards)):\n",
    "        episodes.append(i * learning_num + 1)\n",
    "        \n",
    "    plt.figure(num = 1)\n",
    "    fig, ax = plt.subplots()\n",
    "    plt.plot(episodes, total_rewards)\n",
    "    plt.title('performance')\n",
    "    plt.legend(legend)\n",
    "    plt.xlabel(\"Episodes\")\n",
    "    plt.ylabel(\"total rewards\")\n",
    "    plt.show()"
   ]
  },
  {
   "cell_type": "markdown",
   "metadata": {},
   "source": [
    "## Hyperparams\n",
    "When function approximation is involves, especially neural networks, additional hyper parameters are inroduced and setting the parameters can require experience. Below is a list of the hyperparameters used in this assignment and values for the parameters that have worked well for a basic DQN implementation. You will adjust these values for particular parts of the assignment. For example, experiments that do not use the target network will set 'use_target_model' to False. \n",
    "\n",
    "You can find the more infomation about these hyperparameters in the notation of DQN_agent.init() function."
   ]
  },
  {
   "cell_type": "code",
   "execution_count": 8,
   "metadata": {},
   "outputs": [],
   "source": [
    "hyperparams_CartPole = {\n",
    "    'epsilon_decay_steps' : 100000, \n",
    "    'final_epsilon' : 0.1,\n",
    "    'batch_size' : 32, \n",
    "    'update_steps' : 10, \n",
    "    'memory_size' : 2000, \n",
    "    'beta' : 0.99, \n",
    "    'model_replace_freq' : 2000,\n",
    "    'learning_rate' : 0.0003,\n",
    "    'use_target_model': True\n",
    "}"
   ]
  },
  {
   "cell_type": "markdown",
   "metadata": {},
   "source": [
    "***\n",
    "# Part 1: Non-distributed DQN\n",
    "\n",
    "In this part, you will complete an implementation of DQN and run experiments on the CartPole environment from OpenAI Gym.  \n",
    "Note that OpenAI Gym has many other environments that use the same interface---so this experience will allow the curious student to easily explore these algorithms more widely. \n",
    "\n",
    "Below you need to fill in the missing code for the DQN implementation. \n",
    "\n",
    "The Run function below can then be used to generate learning curves. \n",
    "\n",
    "You should conduct the following experiments involving different features of DQN. \n",
    "\n",
    "1. DQN without a replay buffer and without a target network. This is just standard Q-learning with a function approximator.\n",
    "    The corresponding parameters are: memory_size = 1, update_steps = 1, batch_size = 1, use_target_model = False  \n",
    "    \n",
    "2. DQN without a replay buffer (but including the target network).   \n",
    "    The corresponding parameters are: memory_size = 1, update_steps = 1, batch_size = 1, use_target_model = True  \n",
    "\n",
    "3. DQN with a replay buffer, but without a target network.   \n",
    "    Here you set use_target_model = False and otherwise set the replay memory parameters to the above suggested values \n",
    "   \n",
    "4. Full DQN\n",
    "\n",
    "For each experiment, record the parameters that you used, plot the resulting learning curves, and give a summary of your observations regarding the differences you observed. \n",
    "***\n"
   ]
  },
  {
   "cell_type": "markdown",
   "metadata": {},
   "source": [
    "\n",
    "## DQN Agent\n",
    "\n",
    "The full DQN agent involves a number of functions, the neural network, and the replay memory. Interfaces to a neural network model and memory are provided. \n",
    "\n",
    "Some useful information is below:   \n",
    "- Neural Network Model: The network is used to represent the Q-function $Q(s,a)$. It takes a state $s$ as input and returns a vector of Q-values, one value for each action. The following interface functions are used for predicting Q-values, actions, and updating the neural network model parameters. \n",
    "    1. Model.predict(state) --- Returns the action that has the best Q-value in 'state'.\n",
    "    2. Model.predict_batch(states) --- This is used to predict both the Q-values and best actions for a batch of states. Given a batch of states, the function returns: 1) 'best_actions' a vector containing the best action for each input state, and 2) 'q_values' a matrix where each row gives the Q-value for all actions of each state (one row per state).   \n",
    "    3. Model.fit(q_values, q_target) --- It is used to update the neural network (via back-propagation). 'q_values' is a vector containing the Q-value predictions for a list of state-action pairs (e.g. from a batch of experience tuples). 'q_target' is a vector containing target values that we would like the correspoinding predictions to get closer to. This function updates the network in a way that the network predictions will ideally be closer to the targets. There is no return value.  \n",
    "    4. Model.replace(another_model) --- It takes another model as input, and replace the weight of itself by the input model.\n",
    "- Memory: This is the buffer used to store experience tuples for experience replay.\n",
    "    1. Memory.add(state, action, reward, state', is_terminal) --- It takes one example as input, and store it into its storage.  \n",
    "    2. Memory.sample(batch_size) --- It takes a batch_size int number as input. Return 'batch_size' number of randomly selected examples from the current memory buffer. The batch takes the form (states, actions, rewards, states', is_terminals) with each component being a vector/list of size equal to batch_size. "
   ]
  },
  {
   "cell_type": "code",
   "execution_count": 9,
   "metadata": {},
   "outputs": [],
   "source": [
    "class DQN_agent(object):\n",
    "    def __init__(self, env, hyper_params, action_space = len(ACTION_DICT)):\n",
    "        \n",
    "        self.env = env\n",
    "        self.max_episode_steps = env._max_episode_steps\n",
    "        \n",
    "        \"\"\"\n",
    "            beta: The discounted factor of Q-value function\n",
    "            (epsilon): The explore or exploit policy epsilon. \n",
    "            initial_epsilon: When the 'steps' is 0, the epsilon is initial_epsilon, 1\n",
    "            final_epsilon: After the number of 'steps' reach 'epsilon_decay_steps', \n",
    "                The epsilon set to the 'final_epsilon' determinately.\n",
    "            epsilon_decay_steps: The epsilon will decrease linearly along with the steps from 0 to 'epsilon_decay_steps'.\n",
    "        \"\"\"\n",
    "        self.beta = hyper_params['beta']\n",
    "        self.initial_epsilon = 1\n",
    "        self.final_epsilon = hyper_params['final_epsilon']\n",
    "        self.epsilon_decay_steps = hyper_params['epsilon_decay_steps']\n",
    "\n",
    "        \"\"\"\n",
    "            episode: Record training episode\n",
    "            steps: Add 1 when predicting an action\n",
    "            learning: The trigger of agent learning. It is on while training agent. It is off while testing agent.\n",
    "            action_space: The action space of the current environment, e.g 2.\n",
    "        \"\"\"\n",
    "        self.episode = 0\n",
    "        self.steps = 0\n",
    "        self.best_reward = 0\n",
    "        self.learning = True\n",
    "        self.action_space = action_space\n",
    "\n",
    "        \"\"\"\n",
    "            input_len The input length of the neural network. It equals to the length of the state vector.\n",
    "            output_len: The output length of the neural network. It is equal to the action space.\n",
    "            eval_model: The model for predicting action for the agent.\n",
    "            target_model: The model for calculating Q-value of next_state to update 'eval_model'.\n",
    "            use_target_model: Trigger for turn 'target_model' on/off\n",
    "        \"\"\"\n",
    "        state = env.reset()\n",
    "        input_len = len(state)\n",
    "        output_len = action_space\n",
    "        self.eval_model = DQNModel(input_len, output_len, learning_rate = hyper_params['learning_rate'])\n",
    "        self.use_target_model = hyper_params['use_target_model']\n",
    "        if self.use_target_model:\n",
    "            self.target_model = DQNModel(input_len, output_len)\n",
    "#         memory: Store and sample experience replay.\n",
    "        self.memory = ReplayBuffer(hyper_params['memory_size'])\n",
    "        \n",
    "        \"\"\"\n",
    "            batch_size: Mini batch size for training model.\n",
    "            update_steps: The frequence of traning model\n",
    "            model_replace_freq: The frequence of replacing 'target_model' by 'eval_model'\n",
    "        \"\"\"\n",
    "        self.batch_size = hyper_params['batch_size']\n",
    "        self.update_steps = hyper_params['update_steps']\n",
    "        self.model_replace_freq = hyper_params['model_replace_freq']\n",
    "        \n",
    "    # Linear decrease function for epsilon\n",
    "    def linear_decrease(self, initial_value, final_value, curr_steps, final_decay_steps):\n",
    "        decay_rate = curr_steps / final_decay_steps\n",
    "        if decay_rate > 1:\n",
    "            decay_rate = 1\n",
    "        return initial_value - (initial_value - final_value) * decay_rate\n",
    "    \n",
    "    def explore_or_exploit_policy(self, state):\n",
    "        p = uniform(0, 1)\n",
    "        # Get decreased epsilon\n",
    "        epsilon = self.linear_decrease(self.initial_epsilon, \n",
    "                               self.final_epsilon,\n",
    "                               self.steps,\n",
    "                               self.epsilon_decay_steps)\n",
    "        \n",
    "        if p < epsilon:\n",
    "            #return action\n",
    "            return randint(0, self.action_space - 1)\n",
    "        else:\n",
    "            #return action\n",
    "            return self.greedy_policy(state)\n",
    "        \n",
    "    def greedy_policy(self, state):\n",
    "        return self.eval_model.predict(state)\n",
    "    \n",
    "    # This next function will be called in the main RL loop to update the neural network model given a batch of experience\n",
    "    # 1) Sample a 'batch_size' batch of experiences from the memory.\n",
    "    # 2) Predict the Q-value from the 'eval_model' based on (states, actions)\n",
    "    # 3) Predict the Q-value from the 'target_model' base on (next_states), and take the max of each Q-value vector, Q_max\n",
    "    # 4) If is_terminal == 1, q_target = reward, otherwise q_target = reward + discounted factor * Q_max\n",
    "    # 5) Call fit() to do the back-propagation for 'eval_model'.\n",
    "    def update_batch(self):\n",
    "        if len(self.memory) < self.batch_size or self.steps % self.update_steps != 0:\n",
    "            return\n",
    "\n",
    "        batch = self.memory.sample(self.batch_size)\n",
    "\n",
    "        (states, actions, reward, next_states,\n",
    "         is_terminal) = batch\n",
    "        \n",
    "        states = states\n",
    "        next_states = next_states\n",
    "        terminal = FloatTensor([1 if t else 0 for t in is_terminal])\n",
    "        reward = FloatTensor(reward)\n",
    "        batch_index = torch.arange(self.batch_size,\n",
    "                                   dtype=torch.long)\n",
    "        \n",
    "        # Current Q Values\n",
    "        _, q_values = self.eval_model.predict_batch(states)\n",
    "        q_values = q_values[batch_index, actions]\n",
    "        \n",
    "        # Calculate target\n",
    "        if self.use_target_model:\n",
    "            actions, q_next = self.target_model.predict_batch(next_states)\n",
    "        else:\n",
    "            actions, q_next = self.eval_model.predict_batch(next_states)\n",
    "            \n",
    "        #INSERT YOUR CODE HERE --- neet to compute 'q_targets' used below\n",
    "        q_targets = []\n",
    "        \n",
    "        for i, is_terminal in enumerate(terminal):\n",
    "            q_tar = reward[i] if is_terminal == 1 else reward[i] + (self.beta * torch.max(q_next, 1).values[i].data)\n",
    "            q_targets.append(q_tar)\n",
    "            \n",
    "        q_target = FloatTensor(q_targets)\n",
    "        \n",
    "        # update model\n",
    "        self.eval_model.fit(q_values, q_target)\n",
    "    \n",
    "    def learn_and_evaluate(self, training_episodes, test_interval):\n",
    "        test_number = training_episodes // test_interval\n",
    "        all_results = []\n",
    "        \n",
    "        for i in range(test_number):\n",
    "            # learn\n",
    "            self.learn(test_interval)\n",
    "            \n",
    "            # evaluate\n",
    "            avg_reward = self.evaluate()\n",
    "            all_results.append(avg_reward)\n",
    "            \n",
    "        return all_results\n",
    "    \n",
    "    def learn(self, test_interval):\n",
    "        for episode in tqdm(range(test_interval), desc=\"Training\"):\n",
    "            state = self.env.reset()\n",
    "            done = False\n",
    "            steps = 0\n",
    "\n",
    "            while steps < self.max_episode_steps and not done:\n",
    "                #INSERT YOUR CODE HERE\n",
    "                steps += 1\n",
    "                self.steps += 1\n",
    "                action = self.explore_or_exploit_policy(state)\n",
    "                next_state, reward, done, _ = self.env.step(action)\n",
    "                \n",
    "                # add experience from explore-exploit policy to memory\n",
    "                self.memory.add(state, action, reward, next_state, done)\n",
    "                \n",
    "                # update the model every 'update_steps' of experience\n",
    "                if (self.steps % self.update_steps) == 0:\n",
    "                    self.update_batch()\n",
    "                \n",
    "                # update the target network (if the target network is being used) every 'model_replace_freq' of experiences \n",
    "                if self.use_target_model and (self.steps % self.model_replace_freq) == 0:\n",
    "                    self.target_model.replace(self.eval_model)\n",
    "                \n",
    "                state = next_state\n",
    "                \n",
    "    def evaluate(self, trials = 30):\n",
    "        total_reward = 0\n",
    "        for _ in tqdm(range(trials), desc=\"Evaluating\"):\n",
    "            state = self.env.reset()\n",
    "            done = False\n",
    "            steps = 0\n",
    "\n",
    "            while steps < self.max_episode_steps and not done:\n",
    "                steps += 1\n",
    "                action = self.greedy_policy(state)\n",
    "                state, reward, done, _ = self.env.step(action)\n",
    "                total_reward += reward\n",
    "\n",
    "        avg_reward = total_reward / trials\n",
    "        print(avg_reward)\n",
    "        f = open(result_file, \"a+\")\n",
    "        f.write(str(avg_reward) + \"\\n\")\n",
    "        f.close()\n",
    "        if avg_reward >= self.best_reward:\n",
    "            self.best_reward = avg_reward\n",
    "            self.save_model()\n",
    "        return avg_reward\n",
    "\n",
    "    # save model\n",
    "    def save_model(self):\n",
    "        self.eval_model.save(result_floder + '/best_model.pt')\n",
    "        \n",
    "    # load model\n",
    "    def load_model(self):\n",
    "        self.eval_model.load(result_floder + '/best_model.pt')"
   ]
  },
  {
   "cell_type": "markdown",
   "metadata": {},
   "source": [
    "## Run function"
   ]
  },
  {
   "cell_type": "code",
   "execution_count": 15,
   "metadata": {},
   "outputs": [
    {
     "name": "stderr",
     "output_type": "stream",
     "text": [
      "Training: 100%|██████████| 50/50 [00:00<00:00, 94.45it/s]\n",
      "Evaluating: 100%|██████████| 30/30 [00:00<00:00, 563.39it/s]\n",
      "Training:  26%|██▌       | 13/50 [00:00<00:00, 129.03it/s]"
     ]
    },
    {
     "name": "stdout",
     "output_type": "stream",
     "text": [
      "9.5\n"
     ]
    },
    {
     "name": "stderr",
     "output_type": "stream",
     "text": [
      "Training: 100%|██████████| 50/50 [00:00<00:00, 140.64it/s]\n",
      "Evaluating: 100%|██████████| 30/30 [00:00<00:00, 704.80it/s]\n",
      "Training:  22%|██▏       | 11/50 [00:00<00:00, 107.70it/s]"
     ]
    },
    {
     "name": "stdout",
     "output_type": "stream",
     "text": [
      "9.2\n"
     ]
    },
    {
     "name": "stderr",
     "output_type": "stream",
     "text": [
      "Training: 100%|██████████| 50/50 [00:00<00:00, 124.85it/s]\n",
      "Evaluating: 100%|██████████| 30/30 [00:00<00:00, 502.30it/s]\n",
      "Training:  20%|██        | 10/50 [00:00<00:00, 96.72it/s]"
     ]
    },
    {
     "name": "stdout",
     "output_type": "stream",
     "text": [
      "13.933333333333334\n"
     ]
    },
    {
     "name": "stderr",
     "output_type": "stream",
     "text": [
      "Training: 100%|██████████| 50/50 [00:00<00:00, 127.28it/s]\n",
      "Evaluating: 100%|██████████| 30/30 [00:00<00:00, 444.03it/s]\n",
      "Training:  18%|█▊        | 9/50 [00:00<00:00, 86.92it/s]"
     ]
    },
    {
     "name": "stdout",
     "output_type": "stream",
     "text": [
      "14.2\n"
     ]
    },
    {
     "name": "stderr",
     "output_type": "stream",
     "text": [
      "Training: 100%|██████████| 50/50 [00:00<00:00, 98.05it/s]\n",
      "Evaluating: 100%|██████████| 30/30 [00:00<00:00, 495.38it/s]\n",
      "Training:  26%|██▌       | 13/50 [00:00<00:00, 124.74it/s]"
     ]
    },
    {
     "name": "stdout",
     "output_type": "stream",
     "text": [
      "10.5\n"
     ]
    },
    {
     "name": "stderr",
     "output_type": "stream",
     "text": [
      "Training: 100%|██████████| 50/50 [00:00<00:00, 130.46it/s]\n",
      "Evaluating: 100%|██████████| 30/30 [00:00<00:00, 389.10it/s]\n",
      "Training:  26%|██▌       | 13/50 [00:00<00:00, 118.20it/s]"
     ]
    },
    {
     "name": "stdout",
     "output_type": "stream",
     "text": [
      "15.766666666666667\n"
     ]
    },
    {
     "name": "stderr",
     "output_type": "stream",
     "text": [
      "Training: 100%|██████████| 50/50 [00:00<00:00, 139.99it/s]\n",
      "Evaluating: 100%|██████████| 30/30 [00:00<00:00, 465.07it/s]\n",
      "Training:  24%|██▍       | 12/50 [00:00<00:00, 113.33it/s]"
     ]
    },
    {
     "name": "stdout",
     "output_type": "stream",
     "text": [
      "14.5\n"
     ]
    },
    {
     "name": "stderr",
     "output_type": "stream",
     "text": [
      "Training: 100%|██████████| 50/50 [00:00<00:00, 115.52it/s]\n",
      "Evaluating: 100%|██████████| 30/30 [00:00<00:00, 176.22it/s]\n",
      "Training:  20%|██        | 10/50 [00:00<00:00, 94.96it/s]"
     ]
    },
    {
     "name": "stdout",
     "output_type": "stream",
     "text": [
      "39.733333333333334\n"
     ]
    },
    {
     "name": "stderr",
     "output_type": "stream",
     "text": [
      "Training: 100%|██████████| 50/50 [00:00<00:00, 119.78it/s]\n",
      "Evaluating: 100%|██████████| 30/30 [00:00<00:00, 126.35it/s]\n",
      "Training:   4%|▍         | 2/50 [00:00<00:02, 17.74it/s]"
     ]
    },
    {
     "name": "stdout",
     "output_type": "stream",
     "text": [
      "55.766666666666666\n"
     ]
    },
    {
     "name": "stderr",
     "output_type": "stream",
     "text": [
      "Training: 100%|██████████| 50/50 [00:00<00:00, 79.73it/s]\n",
      "Evaluating: 100%|██████████| 30/30 [00:00<00:00, 164.25it/s]\n",
      "Training:  20%|██        | 10/50 [00:00<00:00, 98.35it/s]"
     ]
    },
    {
     "name": "stdout",
     "output_type": "stream",
     "text": [
      "44.7\n"
     ]
    },
    {
     "name": "stderr",
     "output_type": "stream",
     "text": [
      "Training: 100%|██████████| 50/50 [00:00<00:00, 78.52it/s]\n",
      "Evaluating: 100%|██████████| 30/30 [00:00<00:00, 37.02it/s]\n",
      "Training:   2%|▏         | 1/50 [00:00<00:06,  7.32it/s]"
     ]
    },
    {
     "name": "stdout",
     "output_type": "stream",
     "text": [
      "200.0\n"
     ]
    },
    {
     "name": "stderr",
     "output_type": "stream",
     "text": [
      "Training: 100%|██████████| 50/50 [00:00<00:00, 70.20it/s]\n",
      "Evaluating: 100%|██████████| 30/30 [00:00<00:00, 43.85it/s]\n",
      "Training:  12%|█▏        | 6/50 [00:00<00:00, 53.96it/s]"
     ]
    },
    {
     "name": "stdout",
     "output_type": "stream",
     "text": [
      "160.6\n"
     ]
    },
    {
     "name": "stderr",
     "output_type": "stream",
     "text": [
      "Training: 100%|██████████| 50/50 [00:00<00:00, 83.80it/s]\n",
      "Evaluating: 100%|██████████| 30/30 [00:00<00:00, 35.64it/s]\n",
      "Training:  14%|█▍        | 7/50 [00:00<00:00, 69.95it/s]"
     ]
    },
    {
     "name": "stdout",
     "output_type": "stream",
     "text": [
      "200.0\n"
     ]
    },
    {
     "name": "stderr",
     "output_type": "stream",
     "text": [
      "Training: 100%|██████████| 50/50 [00:00<00:00, 84.07it/s]\n",
      "Evaluating: 100%|██████████| 30/30 [00:00<00:00, 37.18it/s]\n",
      "Training:  18%|█▊        | 9/50 [00:00<00:00, 87.50it/s]"
     ]
    },
    {
     "name": "stdout",
     "output_type": "stream",
     "text": [
      "194.13333333333333\n"
     ]
    },
    {
     "name": "stderr",
     "output_type": "stream",
     "text": [
      "Training: 100%|██████████| 50/50 [00:00<00:00, 91.15it/s]\n",
      "Evaluating: 100%|██████████| 30/30 [00:00<00:00, 48.24it/s]\n",
      "Training:  14%|█▍        | 7/50 [00:00<00:00, 59.78it/s]"
     ]
    },
    {
     "name": "stdout",
     "output_type": "stream",
     "text": [
      "149.7\n"
     ]
    },
    {
     "name": "stderr",
     "output_type": "stream",
     "text": [
      "Training: 100%|██████████| 50/50 [00:00<00:00, 71.63it/s]\n",
      "Evaluating: 100%|██████████| 30/30 [00:00<00:00, 36.93it/s]\n",
      "Training:  12%|█▏        | 6/50 [00:00<00:00, 57.01it/s]"
     ]
    },
    {
     "name": "stdout",
     "output_type": "stream",
     "text": [
      "193.9\n"
     ]
    },
    {
     "name": "stderr",
     "output_type": "stream",
     "text": [
      "Training: 100%|██████████| 50/50 [00:01<00:00, 49.37it/s]\n",
      "Evaluating: 100%|██████████| 30/30 [00:01<00:00, 27.27it/s]\n",
      "Training:  12%|█▏        | 6/50 [00:00<00:00, 59.34it/s]"
     ]
    },
    {
     "name": "stdout",
     "output_type": "stream",
     "text": [
      "196.23333333333332\n"
     ]
    },
    {
     "name": "stderr",
     "output_type": "stream",
     "text": [
      "Training: 100%|██████████| 50/50 [00:00<00:00, 66.46it/s]\n",
      "Evaluating: 100%|██████████| 30/30 [00:01<00:00, 29.45it/s]\n",
      "Training:  14%|█▍        | 7/50 [00:00<00:00, 59.98it/s]"
     ]
    },
    {
     "name": "stdout",
     "output_type": "stream",
     "text": [
      "199.0\n"
     ]
    },
    {
     "name": "stderr",
     "output_type": "stream",
     "text": [
      "Training: 100%|██████████| 50/50 [00:00<00:00, 59.17it/s]\n",
      "Evaluating: 100%|██████████| 30/30 [00:00<00:00, 37.53it/s]\n",
      "Training:  10%|█         | 5/50 [00:00<00:00, 49.02it/s]"
     ]
    },
    {
     "name": "stdout",
     "output_type": "stream",
     "text": [
      "196.46666666666667\n"
     ]
    },
    {
     "name": "stderr",
     "output_type": "stream",
     "text": [
      "Training: 100%|██████████| 50/50 [00:00<00:00, 60.80it/s]\n",
      "Evaluating: 100%|██████████| 30/30 [00:00<00:00, 36.36it/s]\n",
      "Training:   8%|▊         | 4/50 [00:00<00:01, 36.82it/s]"
     ]
    },
    {
     "name": "stdout",
     "output_type": "stream",
     "text": [
      "196.73333333333332\n"
     ]
    },
    {
     "name": "stderr",
     "output_type": "stream",
     "text": [
      "Training: 100%|██████████| 50/50 [00:01<00:00, 43.89it/s]\n",
      "Evaluating: 100%|██████████| 30/30 [00:00<00:00, 35.67it/s]\n",
      "Training:   8%|▊         | 4/50 [00:00<00:01, 30.96it/s]"
     ]
    },
    {
     "name": "stdout",
     "output_type": "stream",
     "text": [
      "199.1\n"
     ]
    },
    {
     "name": "stderr",
     "output_type": "stream",
     "text": [
      "Training: 100%|██████████| 50/50 [00:01<00:00, 46.11it/s]\n",
      "Evaluating: 100%|██████████| 30/30 [00:00<00:00, 37.12it/s]\n",
      "Training:   8%|▊         | 4/50 [00:00<00:01, 36.51it/s]"
     ]
    },
    {
     "name": "stdout",
     "output_type": "stream",
     "text": [
      "200.0\n"
     ]
    },
    {
     "name": "stderr",
     "output_type": "stream",
     "text": [
      "Training: 100%|██████████| 50/50 [00:01<00:00, 38.98it/s]\n",
      "Evaluating: 100%|██████████| 30/30 [00:00<00:00, 35.66it/s]\n",
      "Training:   6%|▌         | 3/50 [00:00<00:01, 26.16it/s]"
     ]
    },
    {
     "name": "stdout",
     "output_type": "stream",
     "text": [
      "199.36666666666667\n"
     ]
    },
    {
     "name": "stderr",
     "output_type": "stream",
     "text": [
      "Training: 100%|██████████| 50/50 [00:01<00:00, 37.08it/s]\n",
      "Evaluating: 100%|██████████| 30/30 [00:00<00:00, 36.66it/s]\n",
      "Training:  12%|█▏        | 6/50 [00:00<00:01, 38.33it/s]"
     ]
    },
    {
     "name": "stdout",
     "output_type": "stream",
     "text": [
      "198.3\n"
     ]
    },
    {
     "name": "stderr",
     "output_type": "stream",
     "text": [
      "Training: 100%|██████████| 50/50 [00:01<00:00, 31.28it/s]\n",
      "Evaluating: 100%|██████████| 30/30 [00:00<00:00, 35.94it/s]\n",
      "Training:   6%|▌         | 3/50 [00:00<00:01, 24.44it/s]"
     ]
    },
    {
     "name": "stdout",
     "output_type": "stream",
     "text": [
      "196.56666666666666\n"
     ]
    },
    {
     "name": "stderr",
     "output_type": "stream",
     "text": [
      "Training: 100%|██████████| 50/50 [00:01<00:00, 29.97it/s]\n",
      "Evaluating: 100%|██████████| 30/30 [00:00<00:00, 35.82it/s]\n",
      "Training:   0%|          | 0/50 [00:00<?, ?it/s]"
     ]
    },
    {
     "name": "stdout",
     "output_type": "stream",
     "text": [
      "200.0\n"
     ]
    },
    {
     "name": "stderr",
     "output_type": "stream",
     "text": [
      "Training: 100%|██████████| 50/50 [00:03<00:00, 16.33it/s]\n",
      "Evaluating: 100%|██████████| 30/30 [00:01<00:00, 27.89it/s]\n",
      "Training:   2%|▏         | 1/50 [00:00<00:06,  8.12it/s]"
     ]
    },
    {
     "name": "stdout",
     "output_type": "stream",
     "text": [
      "198.73333333333332\n"
     ]
    },
    {
     "name": "stderr",
     "output_type": "stream",
     "text": [
      "Training: 100%|██████████| 50/50 [00:04<00:00, 11.74it/s]\n",
      "Evaluating: 100%|██████████| 30/30 [00:01<00:00, 28.29it/s]\n",
      "Training:   2%|▏         | 1/50 [00:00<00:06,  7.15it/s]"
     ]
    },
    {
     "name": "stdout",
     "output_type": "stream",
     "text": [
      "200.0\n"
     ]
    },
    {
     "name": "stderr",
     "output_type": "stream",
     "text": [
      "Training: 100%|██████████| 50/50 [00:04<00:00, 10.25it/s]\n",
      "Evaluating: 100%|██████████| 30/30 [00:00<00:00, 37.11it/s]\n",
      "Training:   2%|▏         | 1/50 [00:00<00:06,  7.59it/s]"
     ]
    },
    {
     "name": "stdout",
     "output_type": "stream",
     "text": [
      "200.0\n"
     ]
    },
    {
     "name": "stderr",
     "output_type": "stream",
     "text": [
      "Training: 100%|██████████| 50/50 [00:05<00:00,  8.47it/s]\n",
      "Evaluating: 100%|██████████| 30/30 [00:00<00:00, 46.30it/s]\n",
      "Training:   2%|▏         | 1/50 [00:00<00:06,  8.16it/s]"
     ]
    },
    {
     "name": "stdout",
     "output_type": "stream",
     "text": [
      "152.06666666666666\n"
     ]
    },
    {
     "name": "stderr",
     "output_type": "stream",
     "text": [
      "Training: 100%|██████████| 50/50 [00:05<00:00,  8.69it/s]\n",
      "Evaluating: 100%|██████████| 30/30 [00:00<00:00, 157.48it/s]\n",
      "Training:   4%|▍         | 2/50 [00:00<00:02, 17.72it/s]"
     ]
    },
    {
     "name": "stdout",
     "output_type": "stream",
     "text": [
      "36.666666666666664\n"
     ]
    },
    {
     "name": "stderr",
     "output_type": "stream",
     "text": [
      "Training: 100%|██████████| 50/50 [00:04<00:00, 10.82it/s]\n",
      "Evaluating: 100%|██████████| 30/30 [00:00<00:00, 35.47it/s]\n",
      "Training:   2%|▏         | 1/50 [00:00<00:06,  7.66it/s]"
     ]
    },
    {
     "name": "stdout",
     "output_type": "stream",
     "text": [
      "200.0\n"
     ]
    },
    {
     "name": "stderr",
     "output_type": "stream",
     "text": [
      "Training: 100%|██████████| 50/50 [00:03<00:00, 13.40it/s]\n",
      "Evaluating: 100%|██████████| 30/30 [00:00<00:00, 67.53it/s]\n",
      "Training:   0%|          | 0/50 [00:00<?, ?it/s]"
     ]
    },
    {
     "name": "stdout",
     "output_type": "stream",
     "text": [
      "110.6\n"
     ]
    },
    {
     "name": "stderr",
     "output_type": "stream",
     "text": [
      "Training: 100%|██████████| 50/50 [00:02<00:00, 19.15it/s]\n",
      "Evaluating: 100%|██████████| 30/30 [00:00<00:00, 37.54it/s]\n",
      "Training:   2%|▏         | 1/50 [00:00<00:05,  8.63it/s]"
     ]
    },
    {
     "name": "stdout",
     "output_type": "stream",
     "text": [
      "200.0\n"
     ]
    },
    {
     "name": "stderr",
     "output_type": "stream",
     "text": [
      "Training: 100%|██████████| 50/50 [00:03<00:00, 15.08it/s]\n",
      "Evaluating: 100%|██████████| 30/30 [00:00<00:00, 354.14it/s]\n",
      "Training:   0%|          | 0/50 [00:00<?, ?it/s]"
     ]
    },
    {
     "name": "stdout",
     "output_type": "stream",
     "text": [
      "20.333333333333332\n"
     ]
    },
    {
     "name": "stderr",
     "output_type": "stream",
     "text": [
      "Training: 100%|██████████| 50/50 [00:01<00:00, 41.29it/s]\n",
      "Evaluating: 100%|██████████| 30/30 [00:00<00:00, 424.30it/s]\n",
      "Training:  12%|█▏        | 6/50 [00:00<00:01, 38.39it/s]"
     ]
    },
    {
     "name": "stdout",
     "output_type": "stream",
     "text": [
      "16.766666666666666\n"
     ]
    },
    {
     "name": "stderr",
     "output_type": "stream",
     "text": [
      "Training: 100%|██████████| 50/50 [00:02<00:00, 20.70it/s]\n",
      "Evaluating: 100%|██████████| 30/30 [00:00<00:00, 413.23it/s]\n",
      "Training:  18%|█▊        | 9/50 [00:00<00:00, 59.32it/s]"
     ]
    },
    {
     "name": "stdout",
     "output_type": "stream",
     "text": [
      "12.7\n"
     ]
    },
    {
     "name": "stderr",
     "output_type": "stream",
     "text": [
      "Training: 100%|██████████| 50/50 [00:03<00:00, 13.91it/s]\n",
      "Evaluating: 100%|██████████| 30/30 [00:00<00:00, 55.99it/s]\n",
      "Training:   0%|          | 0/50 [00:00<?, ?it/s]"
     ]
    },
    {
     "name": "stdout",
     "output_type": "stream",
     "text": [
      "132.0\n"
     ]
    },
    {
     "name": "stderr",
     "output_type": "stream",
     "text": [
      "Training: 100%|██████████| 50/50 [00:03<00:00, 13.36it/s]\n",
      "Evaluating: 100%|██████████| 30/30 [00:00<00:00, 126.48it/s]\n",
      "Training:   0%|          | 0/50 [00:00<?, ?it/s]"
     ]
    },
    {
     "name": "stdout",
     "output_type": "stream",
     "text": [
      "55.3\n"
     ]
    },
    {
     "name": "stderr",
     "output_type": "stream",
     "text": [
      "Training: 100%|██████████| 50/50 [00:03<00:00, 14.39it/s]\n",
      "Evaluating: 100%|██████████| 30/30 [00:00<00:00, 37.19it/s]\n",
      "Training:   0%|          | 0/50 [00:00<?, ?it/s]"
     ]
    },
    {
     "name": "stdout",
     "output_type": "stream",
     "text": [
      "200.0\n"
     ]
    },
    {
     "name": "stderr",
     "output_type": "stream",
     "text": [
      "Training: 100%|██████████| 50/50 [00:04<00:00, 12.28it/s]\n",
      "Evaluating: 100%|██████████| 30/30 [00:00<00:00, 57.80it/s]\n",
      "Training:   2%|▏         | 1/50 [00:00<00:05,  8.63it/s]"
     ]
    },
    {
     "name": "stdout",
     "output_type": "stream",
     "text": [
      "129.4\n"
     ]
    },
    {
     "name": "stderr",
     "output_type": "stream",
     "text": [
      "Training: 100%|██████████| 50/50 [00:04<00:00, 10.50it/s]\n",
      "Evaluating: 100%|██████████| 30/30 [00:00<00:00, 79.35it/s]\n",
      "Training:   2%|▏         | 1/50 [00:00<00:07,  6.64it/s]"
     ]
    },
    {
     "name": "stdout",
     "output_type": "stream",
     "text": [
      "69.16666666666667\n"
     ]
    },
    {
     "name": "stderr",
     "output_type": "stream",
     "text": [
      "Training: 100%|██████████| 50/50 [00:03<00:00, 12.85it/s]\n",
      "Evaluating: 100%|██████████| 30/30 [00:00<00:00, 434.98it/s]\n",
      "Training:  26%|██▌       | 13/50 [00:00<00:00, 125.66it/s]"
     ]
    },
    {
     "name": "stdout",
     "output_type": "stream",
     "text": [
      "12.5\n"
     ]
    },
    {
     "name": "stderr",
     "output_type": "stream",
     "text": [
      "Training: 100%|██████████| 50/50 [00:03<00:00, 14.60it/s] \n",
      "Evaluating: 100%|██████████| 30/30 [00:01<00:00, 29.07it/s]\n",
      "Training:   2%|▏         | 1/50 [00:00<00:07,  6.74it/s]"
     ]
    },
    {
     "name": "stdout",
     "output_type": "stream",
     "text": [
      "200.0\n"
     ]
    },
    {
     "name": "stderr",
     "output_type": "stream",
     "text": [
      "Training: 100%|██████████| 50/50 [00:03<00:00, 12.61it/s]\n",
      "Evaluating: 100%|██████████| 30/30 [00:00<00:00, 61.89it/s]\n",
      "Training:   2%|▏         | 1/50 [00:00<00:07,  6.54it/s]"
     ]
    },
    {
     "name": "stdout",
     "output_type": "stream",
     "text": [
      "121.23333333333333\n"
     ]
    },
    {
     "name": "stderr",
     "output_type": "stream",
     "text": [
      "Training: 100%|██████████| 50/50 [00:04<00:00, 11.34it/s]\n",
      "Evaluating: 100%|██████████| 30/30 [00:00<00:00, 37.30it/s]\n",
      "Training:   2%|▏         | 1/50 [00:00<00:05,  8.61it/s]"
     ]
    },
    {
     "name": "stdout",
     "output_type": "stream",
     "text": [
      "200.0\n"
     ]
    },
    {
     "name": "stderr",
     "output_type": "stream",
     "text": [
      "Training: 100%|██████████| 50/50 [00:02<00:00, 16.93it/s]\n",
      "Evaluating: 100%|██████████| 30/30 [00:00<00:00, 77.62it/s]\n",
      "Training:   4%|▍         | 2/50 [00:00<00:04, 11.94it/s]"
     ]
    },
    {
     "name": "stdout",
     "output_type": "stream",
     "text": [
      "94.03333333333333\n"
     ]
    },
    {
     "name": "stderr",
     "output_type": "stream",
     "text": [
      "Training: 100%|██████████| 50/50 [00:02<00:00, 19.36it/s]\n",
      "Evaluating: 100%|██████████| 30/30 [00:00<00:00, 36.46it/s]\n",
      "Training:   2%|▏         | 1/50 [00:00<00:05,  8.50it/s]"
     ]
    },
    {
     "name": "stdout",
     "output_type": "stream",
     "text": [
      "200.0\n"
     ]
    },
    {
     "name": "stderr",
     "output_type": "stream",
     "text": [
      "Training: 100%|██████████| 50/50 [00:04<00:00, 11.63it/s]\n",
      "Evaluating: 100%|██████████| 30/30 [00:00<00:00, 35.74it/s]\n",
      "Training:   2%|▏         | 1/50 [00:00<00:05,  8.20it/s]"
     ]
    },
    {
     "name": "stdout",
     "output_type": "stream",
     "text": [
      "200.0\n"
     ]
    },
    {
     "name": "stderr",
     "output_type": "stream",
     "text": [
      "Training: 100%|██████████| 50/50 [00:04<00:00, 12.28it/s]\n",
      "Evaluating: 100%|██████████| 30/30 [00:00<00:00, 48.28it/s]\n",
      "Training:   2%|▏         | 1/50 [00:00<00:05,  8.88it/s]"
     ]
    },
    {
     "name": "stdout",
     "output_type": "stream",
     "text": [
      "153.23333333333332\n"
     ]
    },
    {
     "name": "stderr",
     "output_type": "stream",
     "text": [
      "Training: 100%|██████████| 50/50 [00:04<00:00, 12.08it/s]\n",
      "Evaluating: 100%|██████████| 30/30 [00:00<00:00, 37.15it/s]\n",
      "Training:   2%|▏         | 1/50 [00:00<00:05,  8.30it/s]"
     ]
    },
    {
     "name": "stdout",
     "output_type": "stream",
     "text": [
      "200.0\n"
     ]
    },
    {
     "name": "stderr",
     "output_type": "stream",
     "text": [
      "Training: 100%|██████████| 50/50 [00:03<00:00, 15.43it/s]\n",
      "Evaluating: 100%|██████████| 30/30 [00:00<00:00, 73.08it/s]\n",
      "Training:  12%|█▏        | 6/50 [00:00<00:00, 58.33it/s]"
     ]
    },
    {
     "name": "stdout",
     "output_type": "stream",
     "text": [
      "102.3\n"
     ]
    },
    {
     "name": "stderr",
     "output_type": "stream",
     "text": [
      "Training: 100%|██████████| 50/50 [00:03<00:00, 13.67it/s]\n",
      "Evaluating: 100%|██████████| 30/30 [00:00<00:00, 37.48it/s]\n",
      "Training:   2%|▏         | 1/50 [00:00<00:05,  8.24it/s]"
     ]
    },
    {
     "name": "stdout",
     "output_type": "stream",
     "text": [
      "200.0\n"
     ]
    },
    {
     "name": "stderr",
     "output_type": "stream",
     "text": [
      "Training: 100%|██████████| 50/50 [00:04<00:00, 11.67it/s]\n",
      "Evaluating: 100%|██████████| 30/30 [00:00<00:00, 37.45it/s]\n",
      "Training:   2%|▏         | 1/50 [00:00<00:05,  8.90it/s]"
     ]
    },
    {
     "name": "stdout",
     "output_type": "stream",
     "text": [
      "200.0\n"
     ]
    },
    {
     "name": "stderr",
     "output_type": "stream",
     "text": [
      "Training: 100%|██████████| 50/50 [00:04<00:00, 11.30it/s]\n",
      "Evaluating: 100%|██████████| 30/30 [00:00<00:00, 37.20it/s]\n",
      "Training:   2%|▏         | 1/50 [00:00<00:05,  8.76it/s]"
     ]
    },
    {
     "name": "stdout",
     "output_type": "stream",
     "text": [
      "200.0\n"
     ]
    },
    {
     "name": "stderr",
     "output_type": "stream",
     "text": [
      "Training: 100%|██████████| 50/50 [00:04<00:00, 12.16it/s]\n",
      "Evaluating: 100%|██████████| 30/30 [00:00<00:00, 36.52it/s]\n",
      "Training:   2%|▏         | 1/50 [00:00<00:06,  7.20it/s]"
     ]
    },
    {
     "name": "stdout",
     "output_type": "stream",
     "text": [
      "199.16666666666666\n"
     ]
    },
    {
     "name": "stderr",
     "output_type": "stream",
     "text": [
      "Training: 100%|██████████| 50/50 [00:04<00:00, 10.37it/s]\n",
      "Evaluating: 100%|██████████| 30/30 [00:00<00:00, 37.45it/s]\n",
      "Training:   2%|▏         | 1/50 [00:00<00:07,  6.72it/s]"
     ]
    },
    {
     "name": "stdout",
     "output_type": "stream",
     "text": [
      "200.0\n"
     ]
    },
    {
     "name": "stderr",
     "output_type": "stream",
     "text": [
      "Training: 100%|██████████| 50/50 [00:04<00:00, 10.62it/s]\n",
      "Evaluating: 100%|██████████| 30/30 [00:00<00:00, 37.28it/s]\n",
      "Training:   2%|▏         | 1/50 [00:00<00:06,  8.04it/s]"
     ]
    },
    {
     "name": "stdout",
     "output_type": "stream",
     "text": [
      "200.0\n"
     ]
    },
    {
     "name": "stderr",
     "output_type": "stream",
     "text": [
      "Training: 100%|██████████| 50/50 [00:05<00:00,  8.68it/s]\n",
      "Evaluating: 100%|██████████| 30/30 [00:01<00:00, 29.07it/s]\n",
      "Training:   2%|▏         | 1/50 [00:00<00:07,  6.89it/s]"
     ]
    },
    {
     "name": "stdout",
     "output_type": "stream",
     "text": [
      "200.0\n"
     ]
    },
    {
     "name": "stderr",
     "output_type": "stream",
     "text": [
      "Training: 100%|██████████| 50/50 [00:06<00:00,  7.63it/s]\n",
      "Evaluating: 100%|██████████| 30/30 [00:00<00:00, 41.32it/s]\n",
      "Training:   2%|▏         | 1/50 [00:00<00:05,  8.34it/s]"
     ]
    },
    {
     "name": "stdout",
     "output_type": "stream",
     "text": [
      "175.0\n"
     ]
    },
    {
     "name": "stderr",
     "output_type": "stream",
     "text": [
      "Training: 100%|██████████| 50/50 [00:04<00:00, 10.10it/s]\n",
      "Evaluating: 100%|██████████| 30/30 [00:00<00:00, 42.76it/s]\n",
      "Training:   2%|▏         | 1/50 [00:00<00:06,  7.17it/s]"
     ]
    },
    {
     "name": "stdout",
     "output_type": "stream",
     "text": [
      "173.7\n"
     ]
    },
    {
     "name": "stderr",
     "output_type": "stream",
     "text": [
      "Training: 100%|██████████| 50/50 [00:06<00:00,  7.75it/s]\n",
      "Evaluating: 100%|██████████| 30/30 [00:01<00:00, 28.99it/s]\n",
      "Training:   2%|▏         | 1/50 [00:00<00:07,  6.71it/s]"
     ]
    },
    {
     "name": "stdout",
     "output_type": "stream",
     "text": [
      "200.0\n"
     ]
    },
    {
     "name": "stderr",
     "output_type": "stream",
     "text": [
      "Training: 100%|██████████| 50/50 [00:06<00:00,  8.15it/s]\n",
      "Evaluating: 100%|██████████| 30/30 [00:01<00:00, 28.04it/s]\n",
      "Training:   2%|▏         | 1/50 [00:00<00:07,  6.60it/s]"
     ]
    },
    {
     "name": "stdout",
     "output_type": "stream",
     "text": [
      "200.0\n"
     ]
    },
    {
     "name": "stderr",
     "output_type": "stream",
     "text": [
      "Training: 100%|██████████| 50/50 [00:04<00:00, 10.62it/s]\n",
      "Evaluating: 100%|██████████| 30/30 [00:00<00:00, 36.88it/s]\n",
      "Training:   2%|▏         | 1/50 [00:00<00:05,  8.71it/s]"
     ]
    },
    {
     "name": "stdout",
     "output_type": "stream",
     "text": [
      "200.0\n"
     ]
    },
    {
     "name": "stderr",
     "output_type": "stream",
     "text": [
      "Training: 100%|██████████| 50/50 [00:04<00:00, 10.68it/s]\n",
      "Evaluating: 100%|██████████| 30/30 [00:00<00:00, 34.76it/s]\n",
      "Training:   2%|▏         | 1/50 [00:00<00:05,  8.58it/s]"
     ]
    },
    {
     "name": "stdout",
     "output_type": "stream",
     "text": [
      "200.0\n"
     ]
    },
    {
     "name": "stderr",
     "output_type": "stream",
     "text": [
      "Training: 100%|██████████| 50/50 [00:04<00:00, 10.89it/s]\n",
      "Evaluating: 100%|██████████| 30/30 [00:00<00:00, 40.84it/s]\n",
      "Training:   2%|▏         | 1/50 [00:00<00:05,  8.53it/s]"
     ]
    },
    {
     "name": "stdout",
     "output_type": "stream",
     "text": [
      "174.6\n"
     ]
    },
    {
     "name": "stderr",
     "output_type": "stream",
     "text": [
      "Training: 100%|██████████| 50/50 [00:04<00:00, 10.51it/s]\n",
      "Evaluating: 100%|██████████| 30/30 [00:00<00:00, 36.74it/s]\n",
      "Training:   2%|▏         | 1/50 [00:00<00:07,  6.74it/s]"
     ]
    },
    {
     "name": "stdout",
     "output_type": "stream",
     "text": [
      "200.0\n"
     ]
    },
    {
     "name": "stderr",
     "output_type": "stream",
     "text": [
      "Training: 100%|██████████| 50/50 [00:06<00:00,  7.72it/s]\n",
      "Evaluating: 100%|██████████| 30/30 [00:01<00:00, 28.42it/s]\n",
      "Training:   2%|▏         | 1/50 [00:00<00:07,  6.58it/s]"
     ]
    },
    {
     "name": "stdout",
     "output_type": "stream",
     "text": [
      "200.0\n"
     ]
    },
    {
     "name": "stderr",
     "output_type": "stream",
     "text": [
      "Training: 100%|██████████| 50/50 [00:06<00:00,  7.99it/s]\n",
      "Evaluating: 100%|██████████| 30/30 [00:01<00:00, 27.89it/s]\n",
      "Training:   2%|▏         | 1/50 [00:00<00:05,  8.29it/s]"
     ]
    },
    {
     "name": "stdout",
     "output_type": "stream",
     "text": [
      "200.0\n"
     ]
    },
    {
     "name": "stderr",
     "output_type": "stream",
     "text": [
      "Training: 100%|██████████| 50/50 [00:04<00:00, 10.38it/s]\n",
      "Evaluating: 100%|██████████| 30/30 [00:00<00:00, 35.93it/s]\n",
      "Training:   2%|▏         | 1/50 [00:00<00:06,  7.81it/s]"
     ]
    },
    {
     "name": "stdout",
     "output_type": "stream",
     "text": [
      "200.0\n"
     ]
    },
    {
     "name": "stderr",
     "output_type": "stream",
     "text": [
      "Training: 100%|██████████| 50/50 [00:04<00:00, 10.57it/s]\n",
      "Evaluating: 100%|██████████| 30/30 [00:00<00:00, 46.47it/s]\n",
      "Training:   2%|▏         | 1/50 [00:00<00:06,  8.02it/s]"
     ]
    },
    {
     "name": "stdout",
     "output_type": "stream",
     "text": [
      "161.73333333333332\n"
     ]
    },
    {
     "name": "stderr",
     "output_type": "stream",
     "text": [
      "Training: 100%|██████████| 50/50 [00:04<00:00, 10.42it/s]\n",
      "Evaluating: 100%|██████████| 30/30 [00:00<00:00, 37.59it/s]\n",
      "Training:   2%|▏         | 1/50 [00:00<00:05,  9.68it/s]"
     ]
    },
    {
     "name": "stdout",
     "output_type": "stream",
     "text": [
      "200.0\n"
     ]
    },
    {
     "name": "stderr",
     "output_type": "stream",
     "text": [
      "Training: 100%|██████████| 50/50 [00:04<00:00, 10.75it/s]\n",
      "Evaluating: 100%|██████████| 30/30 [00:00<00:00, 37.75it/s]\n",
      "Training:   2%|▏         | 1/50 [00:00<00:05,  8.55it/s]"
     ]
    },
    {
     "name": "stdout",
     "output_type": "stream",
     "text": [
      "198.16666666666666\n"
     ]
    },
    {
     "name": "stderr",
     "output_type": "stream",
     "text": [
      "Training: 100%|██████████| 50/50 [00:04<00:00, 11.16it/s]\n",
      "Evaluating: 100%|██████████| 30/30 [00:00<00:00, 55.70it/s]\n",
      "Training:   2%|▏         | 1/50 [00:00<00:05,  8.49it/s]"
     ]
    },
    {
     "name": "stdout",
     "output_type": "stream",
     "text": [
      "131.16666666666666\n"
     ]
    },
    {
     "name": "stderr",
     "output_type": "stream",
     "text": [
      "Training: 100%|██████████| 50/50 [00:05<00:00,  9.86it/s]\n",
      "Evaluating: 100%|██████████| 30/30 [00:00<00:00, 37.44it/s]\n",
      "Training:   2%|▏         | 1/50 [00:00<00:07,  6.25it/s]"
     ]
    },
    {
     "name": "stdout",
     "output_type": "stream",
     "text": [
      "200.0\n"
     ]
    },
    {
     "name": "stderr",
     "output_type": "stream",
     "text": [
      "Training: 100%|██████████| 50/50 [00:05<00:00,  8.35it/s]\n",
      "Evaluating: 100%|██████████| 30/30 [00:01<00:00, 28.79it/s]\n",
      "Training:   4%|▍         | 2/50 [00:00<00:03, 12.98it/s]"
     ]
    },
    {
     "name": "stdout",
     "output_type": "stream",
     "text": [
      "200.0\n"
     ]
    },
    {
     "name": "stderr",
     "output_type": "stream",
     "text": [
      "Training: 100%|██████████| 50/50 [00:04<00:00, 10.84it/s]\n",
      "Evaluating: 100%|██████████| 30/30 [00:00<00:00, 36.27it/s]\n",
      "Training:   2%|▏         | 1/50 [00:00<00:06,  7.62it/s]"
     ]
    },
    {
     "name": "stdout",
     "output_type": "stream",
     "text": [
      "200.0\n"
     ]
    },
    {
     "name": "stderr",
     "output_type": "stream",
     "text": [
      "Training: 100%|██████████| 50/50 [00:05<00:00,  9.85it/s]\n",
      "Evaluating: 100%|██████████| 30/30 [00:00<00:00, 35.54it/s]\n",
      "Training:   2%|▏         | 1/50 [00:00<00:05,  8.69it/s]"
     ]
    },
    {
     "name": "stdout",
     "output_type": "stream",
     "text": [
      "200.0\n"
     ]
    },
    {
     "name": "stderr",
     "output_type": "stream",
     "text": [
      "Training: 100%|██████████| 50/50 [00:05<00:00,  9.83it/s]\n",
      "Evaluating: 100%|██████████| 30/30 [00:01<00:00, 29.53it/s]\n",
      "Training:   2%|▏         | 1/50 [00:00<00:06,  7.78it/s]"
     ]
    },
    {
     "name": "stdout",
     "output_type": "stream",
     "text": [
      "200.0\n"
     ]
    },
    {
     "name": "stderr",
     "output_type": "stream",
     "text": [
      "Training: 100%|██████████| 50/50 [00:04<00:00, 10.40it/s]\n",
      "Evaluating: 100%|██████████| 30/30 [00:00<00:00, 37.47it/s]\n",
      "Training:   2%|▏         | 1/50 [00:00<00:05,  8.59it/s]"
     ]
    },
    {
     "name": "stdout",
     "output_type": "stream",
     "text": [
      "200.0\n"
     ]
    },
    {
     "name": "stderr",
     "output_type": "stream",
     "text": [
      "Training: 100%|██████████| 50/50 [00:04<00:00, 10.03it/s]\n",
      "Evaluating: 100%|██████████| 30/30 [00:00<00:00, 36.64it/s]\n",
      "Training:   2%|▏         | 1/50 [00:00<00:06,  7.39it/s]"
     ]
    },
    {
     "name": "stdout",
     "output_type": "stream",
     "text": [
      "200.0\n"
     ]
    },
    {
     "name": "stderr",
     "output_type": "stream",
     "text": [
      "Training: 100%|██████████| 50/50 [00:05<00:00,  9.97it/s]\n",
      "Evaluating: 100%|██████████| 30/30 [00:00<00:00, 37.63it/s]\n",
      "Training:   2%|▏         | 1/50 [00:00<00:07,  6.79it/s]"
     ]
    },
    {
     "name": "stdout",
     "output_type": "stream",
     "text": [
      "200.0\n"
     ]
    },
    {
     "name": "stderr",
     "output_type": "stream",
     "text": [
      "Training: 100%|██████████| 50/50 [00:05<00:00,  9.05it/s]\n",
      "Evaluating: 100%|██████████| 30/30 [00:00<00:00, 37.16it/s]\n",
      "Training:   2%|▏         | 1/50 [00:00<00:07,  6.76it/s]"
     ]
    },
    {
     "name": "stdout",
     "output_type": "stream",
     "text": [
      "200.0\n"
     ]
    },
    {
     "name": "stderr",
     "output_type": "stream",
     "text": [
      "Training: 100%|██████████| 50/50 [00:04<00:00, 10.29it/s]\n",
      "Evaluating: 100%|██████████| 30/30 [00:00<00:00, 37.45it/s]\n",
      "Training:   2%|▏         | 1/50 [00:00<00:06,  7.62it/s]"
     ]
    },
    {
     "name": "stdout",
     "output_type": "stream",
     "text": [
      "200.0\n"
     ]
    },
    {
     "name": "stderr",
     "output_type": "stream",
     "text": [
      "Training: 100%|██████████| 50/50 [00:04<00:00, 11.30it/s]\n",
      "Evaluating: 100%|██████████| 30/30 [00:00<00:00, 37.41it/s]\n",
      "Training:   2%|▏         | 1/50 [00:00<00:05,  8.64it/s]"
     ]
    },
    {
     "name": "stdout",
     "output_type": "stream",
     "text": [
      "200.0\n"
     ]
    },
    {
     "name": "stderr",
     "output_type": "stream",
     "text": [
      "Training: 100%|██████████| 50/50 [00:05<00:00,  9.86it/s]\n",
      "Evaluating: 100%|██████████| 30/30 [00:00<00:00, 36.43it/s]\n",
      "Training:   2%|▏         | 1/50 [00:00<00:05,  8.62it/s]"
     ]
    },
    {
     "name": "stdout",
     "output_type": "stream",
     "text": [
      "200.0\n"
     ]
    },
    {
     "name": "stderr",
     "output_type": "stream",
     "text": [
      "Training: 100%|██████████| 50/50 [00:05<00:00,  9.84it/s]\n",
      "Evaluating: 100%|██████████| 30/30 [00:00<00:00, 37.56it/s]\n",
      "Training:   2%|▏         | 1/50 [00:00<00:06,  7.34it/s]"
     ]
    },
    {
     "name": "stdout",
     "output_type": "stream",
     "text": [
      "200.0\n"
     ]
    },
    {
     "name": "stderr",
     "output_type": "stream",
     "text": [
      "Training: 100%|██████████| 50/50 [00:05<00:00,  9.53it/s]\n",
      "Evaluating: 100%|██████████| 30/30 [00:00<00:00, 36.82it/s]\n",
      "Training:   0%|          | 0/50 [00:00<?, ?it/s]"
     ]
    },
    {
     "name": "stdout",
     "output_type": "stream",
     "text": [
      "200.0\n"
     ]
    },
    {
     "name": "stderr",
     "output_type": "stream",
     "text": [
      "Training: 100%|██████████| 50/50 [00:06<00:00,  7.87it/s]\n",
      "Evaluating: 100%|██████████| 30/30 [00:01<00:00, 29.12it/s]\n",
      "Training:   2%|▏         | 1/50 [00:00<00:05,  8.65it/s]"
     ]
    },
    {
     "name": "stdout",
     "output_type": "stream",
     "text": [
      "200.0\n"
     ]
    },
    {
     "name": "stderr",
     "output_type": "stream",
     "text": [
      "Training: 100%|██████████| 50/50 [00:05<00:00,  9.90it/s]\n",
      "Evaluating: 100%|██████████| 30/30 [00:00<00:00, 37.25it/s]\n",
      "Training:   2%|▏         | 1/50 [00:00<00:07,  6.58it/s]"
     ]
    },
    {
     "name": "stdout",
     "output_type": "stream",
     "text": [
      "200.0\n"
     ]
    },
    {
     "name": "stderr",
     "output_type": "stream",
     "text": [
      "Training: 100%|██████████| 50/50 [00:06<00:00,  7.75it/s]\n",
      "Evaluating: 100%|██████████| 30/30 [00:01<00:00, 29.08it/s]\n",
      "Training:   2%|▏         | 1/50 [00:00<00:05,  8.63it/s]"
     ]
    },
    {
     "name": "stdout",
     "output_type": "stream",
     "text": [
      "200.0\n"
     ]
    },
    {
     "name": "stderr",
     "output_type": "stream",
     "text": [
      "Training: 100%|██████████| 50/50 [00:04<00:00, 10.03it/s]\n",
      "Evaluating: 100%|██████████| 30/30 [00:00<00:00, 37.59it/s]\n",
      "Training:   2%|▏         | 1/50 [00:00<00:06,  7.34it/s]"
     ]
    },
    {
     "name": "stdout",
     "output_type": "stream",
     "text": [
      "200.0\n"
     ]
    },
    {
     "name": "stderr",
     "output_type": "stream",
     "text": [
      "Training: 100%|██████████| 50/50 [00:05<00:00,  9.83it/s]\n",
      "Evaluating: 100%|██████████| 30/30 [00:00<00:00, 36.51it/s]\n",
      "Training:   0%|          | 0/50 [00:00<?, ?it/s]"
     ]
    },
    {
     "name": "stdout",
     "output_type": "stream",
     "text": [
      "200.0\n"
     ]
    },
    {
     "name": "stderr",
     "output_type": "stream",
     "text": [
      "Training: 100%|██████████| 50/50 [00:05<00:00,  9.83it/s]\n",
      "Evaluating: 100%|██████████| 30/30 [00:00<00:00, 35.55it/s]\n",
      "Training:   2%|▏         | 1/50 [00:00<00:05,  8.93it/s]"
     ]
    },
    {
     "name": "stdout",
     "output_type": "stream",
     "text": [
      "200.0\n"
     ]
    },
    {
     "name": "stderr",
     "output_type": "stream",
     "text": [
      "Training: 100%|██████████| 50/50 [00:04<00:00, 10.01it/s]\n",
      "Evaluating: 100%|██████████| 30/30 [00:00<00:00, 35.83it/s]\n",
      "Training:   2%|▏         | 1/50 [00:00<00:06,  7.50it/s]"
     ]
    },
    {
     "name": "stdout",
     "output_type": "stream",
     "text": [
      "200.0\n"
     ]
    },
    {
     "name": "stderr",
     "output_type": "stream",
     "text": [
      "Training: 100%|██████████| 50/50 [00:02<00:00, 17.83it/s]\n",
      "Evaluating: 100%|██████████| 30/30 [00:00<00:00, 36.40it/s]\n",
      "Training:   2%|▏         | 1/50 [00:00<00:05,  8.67it/s]"
     ]
    },
    {
     "name": "stdout",
     "output_type": "stream",
     "text": [
      "200.0\n"
     ]
    },
    {
     "name": "stderr",
     "output_type": "stream",
     "text": [
      "Training: 100%|██████████| 50/50 [00:05<00:00,  9.66it/s]\n",
      "Evaluating: 100%|██████████| 30/30 [00:00<00:00, 37.64it/s]\n",
      "Training:   2%|▏         | 1/50 [00:00<00:06,  7.32it/s]"
     ]
    },
    {
     "name": "stdout",
     "output_type": "stream",
     "text": [
      "200.0\n"
     ]
    },
    {
     "name": "stderr",
     "output_type": "stream",
     "text": [
      "Training: 100%|██████████| 50/50 [00:05<00:00,  9.75it/s]\n",
      "Evaluating: 100%|██████████| 30/30 [00:00<00:00, 36.71it/s]\n",
      "Training:   2%|▏         | 1/50 [00:00<00:05,  9.28it/s]"
     ]
    },
    {
     "name": "stdout",
     "output_type": "stream",
     "text": [
      "200.0\n"
     ]
    },
    {
     "name": "stderr",
     "output_type": "stream",
     "text": [
      "Training: 100%|██████████| 50/50 [00:04<00:00, 10.32it/s]\n",
      "Evaluating: 100%|██████████| 30/30 [00:00<00:00, 37.36it/s]\n",
      "Training:   2%|▏         | 1/50 [00:00<00:05,  8.88it/s]"
     ]
    },
    {
     "name": "stdout",
     "output_type": "stream",
     "text": [
      "200.0\n"
     ]
    },
    {
     "name": "stderr",
     "output_type": "stream",
     "text": [
      "Training: 100%|██████████| 50/50 [00:04<00:00, 10.47it/s]\n",
      "Evaluating: 100%|██████████| 30/30 [00:00<00:00, 37.59it/s]\n",
      "Training:   2%|▏         | 1/50 [00:00<00:05,  8.62it/s]"
     ]
    },
    {
     "name": "stdout",
     "output_type": "stream",
     "text": [
      "200.0\n"
     ]
    },
    {
     "name": "stderr",
     "output_type": "stream",
     "text": [
      "Training: 100%|██████████| 50/50 [00:06<00:00,  8.00it/s]\n",
      "Evaluating: 100%|██████████| 30/30 [00:01<00:00, 29.11it/s]\n",
      "Training:   2%|▏         | 1/50 [00:00<00:05,  8.56it/s]"
     ]
    },
    {
     "name": "stdout",
     "output_type": "stream",
     "text": [
      "200.0\n"
     ]
    },
    {
     "name": "stderr",
     "output_type": "stream",
     "text": [
      "Training: 100%|██████████| 50/50 [00:04<00:00, 10.29it/s]\n",
      "Evaluating: 100%|██████████| 30/30 [00:00<00:00, 36.73it/s]\n",
      "Training:   2%|▏         | 1/50 [00:00<00:07,  6.86it/s]"
     ]
    },
    {
     "name": "stdout",
     "output_type": "stream",
     "text": [
      "200.0\n"
     ]
    },
    {
     "name": "stderr",
     "output_type": "stream",
     "text": [
      "Training: 100%|██████████| 50/50 [00:05<00:00,  8.48it/s]\n",
      "Evaluating: 100%|██████████| 30/30 [00:00<00:00, 36.98it/s]\n",
      "Training:   2%|▏         | 1/50 [00:00<00:05,  8.58it/s]"
     ]
    },
    {
     "name": "stdout",
     "output_type": "stream",
     "text": [
      "200.0\n"
     ]
    },
    {
     "name": "stderr",
     "output_type": "stream",
     "text": [
      "Training: 100%|██████████| 50/50 [00:04<00:00, 10.20it/s]\n",
      "Evaluating: 100%|██████████| 30/30 [00:00<00:00, 37.63it/s]\n",
      "Training:   2%|▏         | 1/50 [00:00<00:05,  8.57it/s]"
     ]
    },
    {
     "name": "stdout",
     "output_type": "stream",
     "text": [
      "200.0\n"
     ]
    },
    {
     "name": "stderr",
     "output_type": "stream",
     "text": [
      "Training: 100%|██████████| 50/50 [00:04<00:00, 10.31it/s]\n",
      "Evaluating: 100%|██████████| 30/30 [00:00<00:00, 37.59it/s]\n",
      "Training:   2%|▏         | 1/50 [00:00<00:05,  8.65it/s]"
     ]
    },
    {
     "name": "stdout",
     "output_type": "stream",
     "text": [
      "200.0\n"
     ]
    },
    {
     "name": "stderr",
     "output_type": "stream",
     "text": [
      "Training: 100%|██████████| 50/50 [00:05<00:00,  9.96it/s]\n",
      "Evaluating: 100%|██████████| 30/30 [00:00<00:00, 37.03it/s]\n",
      "Training:   2%|▏         | 1/50 [00:00<00:05,  8.56it/s]"
     ]
    },
    {
     "name": "stdout",
     "output_type": "stream",
     "text": [
      "200.0\n"
     ]
    },
    {
     "name": "stderr",
     "output_type": "stream",
     "text": [
      "Training: 100%|██████████| 50/50 [00:04<00:00, 10.22it/s]\n",
      "Evaluating: 100%|██████████| 30/30 [00:00<00:00, 37.15it/s]\n",
      "Training:   2%|▏         | 1/50 [00:00<00:05,  8.71it/s]"
     ]
    },
    {
     "name": "stdout",
     "output_type": "stream",
     "text": [
      "200.0\n"
     ]
    },
    {
     "name": "stderr",
     "output_type": "stream",
     "text": [
      "Training: 100%|██████████| 50/50 [00:04<00:00, 10.20it/s]\n",
      "Evaluating: 100%|██████████| 30/30 [00:00<00:00, 36.66it/s]\n",
      "Training:   2%|▏         | 1/50 [00:00<00:05,  8.64it/s]"
     ]
    },
    {
     "name": "stdout",
     "output_type": "stream",
     "text": [
      "200.0\n"
     ]
    },
    {
     "name": "stderr",
     "output_type": "stream",
     "text": [
      "Training: 100%|██████████| 50/50 [00:04<00:00, 11.57it/s]\n",
      "Evaluating: 100%|██████████| 30/30 [00:00<00:00, 44.96it/s]\n",
      "Training:   2%|▏         | 1/50 [00:00<00:07,  6.44it/s]"
     ]
    },
    {
     "name": "stdout",
     "output_type": "stream",
     "text": [
      "164.06666666666666\n"
     ]
    },
    {
     "name": "stderr",
     "output_type": "stream",
     "text": [
      "Training: 100%|██████████| 50/50 [00:05<00:00,  9.57it/s]\n",
      "Evaluating: 100%|██████████| 30/30 [00:00<00:00, 48.28it/s]\n",
      "Training:   0%|          | 0/50 [00:00<?, ?it/s]"
     ]
    },
    {
     "name": "stdout",
     "output_type": "stream",
     "text": [
      "137.6\n"
     ]
    },
    {
     "name": "stderr",
     "output_type": "stream",
     "text": [
      "Training: 100%|██████████| 50/50 [00:04<00:00, 11.30it/s]\n",
      "Evaluating: 100%|██████████| 30/30 [00:00<00:00, 37.54it/s]\n",
      "Training:   2%|▏         | 1/50 [00:00<00:06,  7.36it/s]"
     ]
    },
    {
     "name": "stdout",
     "output_type": "stream",
     "text": [
      "200.0\n"
     ]
    },
    {
     "name": "stderr",
     "output_type": "stream",
     "text": [
      "Training: 100%|██████████| 50/50 [00:04<00:00, 10.90it/s]\n",
      "Evaluating: 100%|██████████| 30/30 [00:00<00:00, 37.42it/s]\n",
      "Training:   2%|▏         | 1/50 [00:00<00:05,  8.50it/s]"
     ]
    },
    {
     "name": "stdout",
     "output_type": "stream",
     "text": [
      "200.0\n"
     ]
    },
    {
     "name": "stderr",
     "output_type": "stream",
     "text": [
      "Training: 100%|██████████| 50/50 [00:03<00:00, 12.70it/s]\n",
      "Evaluating: 100%|██████████| 30/30 [00:00<00:00, 66.64it/s]\n",
      "Training:   4%|▍         | 2/50 [00:00<00:04, 12.00it/s]"
     ]
    },
    {
     "name": "stdout",
     "output_type": "stream",
     "text": [
      "112.43333333333334\n"
     ]
    },
    {
     "name": "stderr",
     "output_type": "stream",
     "text": [
      "Training: 100%|██████████| 50/50 [00:03<00:00, 13.00it/s]\n",
      "Evaluating: 100%|██████████| 30/30 [00:00<00:00, 67.48it/s]\n",
      "Training:   4%|▍         | 2/50 [00:00<00:03, 12.12it/s]"
     ]
    },
    {
     "name": "stdout",
     "output_type": "stream",
     "text": [
      "111.03333333333333\n"
     ]
    },
    {
     "name": "stderr",
     "output_type": "stream",
     "text": [
      "Training: 100%|██████████| 50/50 [00:04<00:00, 12.12it/s]\n",
      "Evaluating: 100%|██████████| 30/30 [00:00<00:00, 37.45it/s]\n",
      "Training:   2%|▏         | 1/50 [00:00<00:06,  7.23it/s]"
     ]
    },
    {
     "name": "stdout",
     "output_type": "stream",
     "text": [
      "200.0\n"
     ]
    },
    {
     "name": "stderr",
     "output_type": "stream",
     "text": [
      "Training: 100%|██████████| 50/50 [00:03<00:00, 12.89it/s]\n",
      "Evaluating: 100%|██████████| 30/30 [00:00<00:00, 37.35it/s]\n",
      "Training:   2%|▏         | 1/50 [00:00<00:06,  7.55it/s]"
     ]
    },
    {
     "name": "stdout",
     "output_type": "stream",
     "text": [
      "200.0\n"
     ]
    },
    {
     "name": "stderr",
     "output_type": "stream",
     "text": [
      "Training: 100%|██████████| 50/50 [00:04<00:00, 12.26it/s]\n",
      "Evaluating: 100%|██████████| 30/30 [00:00<00:00, 40.55it/s]\n",
      "Training:   2%|▏         | 1/50 [00:00<00:05,  8.59it/s]"
     ]
    },
    {
     "name": "stdout",
     "output_type": "stream",
     "text": [
      "185.7\n"
     ]
    },
    {
     "name": "stderr",
     "output_type": "stream",
     "text": [
      "Training: 100%|██████████| 50/50 [00:03<00:00, 12.68it/s]\n",
      "Evaluating: 100%|██████████| 30/30 [00:00<00:00, 59.07it/s]\n",
      "Training:   4%|▍         | 2/50 [00:00<00:04, 11.69it/s]"
     ]
    },
    {
     "name": "stdout",
     "output_type": "stream",
     "text": [
      "126.9\n"
     ]
    },
    {
     "name": "stderr",
     "output_type": "stream",
     "text": [
      "Training: 100%|██████████| 50/50 [00:05<00:00,  9.97it/s]\n",
      "Evaluating: 100%|██████████| 30/30 [00:00<00:00, 32.05it/s]\n",
      "Training:   2%|▏         | 1/50 [00:00<00:05,  8.31it/s]"
     ]
    },
    {
     "name": "stdout",
     "output_type": "stream",
     "text": [
      "182.46666666666667\n"
     ]
    },
    {
     "name": "stderr",
     "output_type": "stream",
     "text": [
      "Training: 100%|██████████| 50/50 [00:05<00:00,  8.61it/s]\n",
      "Evaluating: 100%|██████████| 30/30 [00:00<00:00, 36.19it/s]\n",
      "Training:   2%|▏         | 1/50 [00:00<00:07,  6.69it/s]"
     ]
    },
    {
     "name": "stdout",
     "output_type": "stream",
     "text": [
      "200.0\n"
     ]
    },
    {
     "name": "stderr",
     "output_type": "stream",
     "text": [
      "Training: 100%|██████████| 50/50 [00:05<00:00,  8.96it/s]\n",
      "Evaluating: 100%|██████████| 30/30 [00:00<00:00, 54.46it/s]\n",
      "Training:   4%|▍         | 2/50 [00:00<00:04, 11.21it/s]"
     ]
    },
    {
     "name": "stdout",
     "output_type": "stream",
     "text": [
      "136.63333333333333\n"
     ]
    },
    {
     "name": "stderr",
     "output_type": "stream",
     "text": [
      "Training: 100%|██████████| 50/50 [00:04<00:00, 10.64it/s]\n",
      "Evaluating: 100%|██████████| 30/30 [00:00<00:00, 35.93it/s]\n",
      "Training:   2%|▏         | 1/50 [00:00<00:06,  8.10it/s]"
     ]
    },
    {
     "name": "stdout",
     "output_type": "stream",
     "text": [
      "200.0\n"
     ]
    },
    {
     "name": "stderr",
     "output_type": "stream",
     "text": [
      "Training: 100%|██████████| 50/50 [00:05<00:00,  9.82it/s]\n",
      "Evaluating: 100%|██████████| 30/30 [00:00<00:00, 37.42it/s]\n",
      "Training:   0%|          | 0/50 [00:00<?, ?it/s]"
     ]
    },
    {
     "name": "stdout",
     "output_type": "stream",
     "text": [
      "200.0\n"
     ]
    },
    {
     "name": "stderr",
     "output_type": "stream",
     "text": [
      "Training: 100%|██████████| 50/50 [00:05<00:00,  9.79it/s]\n",
      "Evaluating: 100%|██████████| 30/30 [00:00<00:00, 37.61it/s]\n",
      "Training:   2%|▏         | 1/50 [00:00<00:05,  8.78it/s]"
     ]
    },
    {
     "name": "stdout",
     "output_type": "stream",
     "text": [
      "200.0\n"
     ]
    },
    {
     "name": "stderr",
     "output_type": "stream",
     "text": [
      "Training: 100%|██████████| 50/50 [00:05<00:00,  9.86it/s]\n",
      "Evaluating: 100%|██████████| 30/30 [00:00<00:00, 37.68it/s]\n",
      "Training:   2%|▏         | 1/50 [00:00<00:05,  8.95it/s]"
     ]
    },
    {
     "name": "stdout",
     "output_type": "stream",
     "text": [
      "200.0\n"
     ]
    },
    {
     "name": "stderr",
     "output_type": "stream",
     "text": [
      "Training: 100%|██████████| 50/50 [00:05<00:00,  9.86it/s]\n",
      "Evaluating: 100%|██████████| 30/30 [00:00<00:00, 37.39it/s]\n",
      "Training:   2%|▏         | 1/50 [00:00<00:05,  8.37it/s]"
     ]
    },
    {
     "name": "stdout",
     "output_type": "stream",
     "text": [
      "200.0\n"
     ]
    },
    {
     "name": "stderr",
     "output_type": "stream",
     "text": [
      "Training: 100%|██████████| 50/50 [00:05<00:00,  9.97it/s]\n",
      "Evaluating: 100%|██████████| 30/30 [00:00<00:00, 37.52it/s]\n",
      "Training:   2%|▏         | 1/50 [00:00<00:05,  8.56it/s]"
     ]
    },
    {
     "name": "stdout",
     "output_type": "stream",
     "text": [
      "200.0\n"
     ]
    },
    {
     "name": "stderr",
     "output_type": "stream",
     "text": [
      "Training: 100%|██████████| 50/50 [00:05<00:00,  9.87it/s]\n",
      "Evaluating: 100%|██████████| 30/30 [00:00<00:00, 37.01it/s]\n",
      "Training:   2%|▏         | 1/50 [00:00<00:05,  8.84it/s]"
     ]
    },
    {
     "name": "stdout",
     "output_type": "stream",
     "text": [
      "200.0\n"
     ]
    },
    {
     "name": "stderr",
     "output_type": "stream",
     "text": [
      "Training: 100%|██████████| 50/50 [00:05<00:00,  9.83it/s]\n",
      "Evaluating: 100%|██████████| 30/30 [00:00<00:00, 37.17it/s]\n",
      "Training:   2%|▏         | 1/50 [00:00<00:05,  8.57it/s]"
     ]
    },
    {
     "name": "stdout",
     "output_type": "stream",
     "text": [
      "200.0\n"
     ]
    },
    {
     "name": "stderr",
     "output_type": "stream",
     "text": [
      "Training: 100%|██████████| 50/50 [00:04<00:00, 10.18it/s]\n",
      "Evaluating: 100%|██████████| 30/30 [00:00<00:00, 37.32it/s]\n",
      "Training:   0%|          | 0/50 [00:00<?, ?it/s]"
     ]
    },
    {
     "name": "stdout",
     "output_type": "stream",
     "text": [
      "200.0\n"
     ]
    },
    {
     "name": "stderr",
     "output_type": "stream",
     "text": [
      "Training: 100%|██████████| 50/50 [00:05<00:00,  9.52it/s]\n",
      "Evaluating: 100%|██████████| 30/30 [00:01<00:00, 29.75it/s]\n",
      "Training:   2%|▏         | 1/50 [00:00<00:05,  8.35it/s]"
     ]
    },
    {
     "name": "stdout",
     "output_type": "stream",
     "text": [
      "200.0\n"
     ]
    },
    {
     "name": "stderr",
     "output_type": "stream",
     "text": [
      "Training: 100%|██████████| 50/50 [00:05<00:00,  9.83it/s]\n",
      "Evaluating: 100%|██████████| 30/30 [00:00<00:00, 37.45it/s]\n",
      "Training:   2%|▏         | 1/50 [00:00<00:05,  8.79it/s]"
     ]
    },
    {
     "name": "stdout",
     "output_type": "stream",
     "text": [
      "200.0\n"
     ]
    },
    {
     "name": "stderr",
     "output_type": "stream",
     "text": [
      "Training: 100%|██████████| 50/50 [00:05<00:00,  9.88it/s]\n",
      "Evaluating: 100%|██████████| 30/30 [00:00<00:00, 37.49it/s]\n",
      "Training:   2%|▏         | 1/50 [00:00<00:05,  8.74it/s]"
     ]
    },
    {
     "name": "stdout",
     "output_type": "stream",
     "text": [
      "200.0\n"
     ]
    },
    {
     "name": "stderr",
     "output_type": "stream",
     "text": [
      "Training: 100%|██████████| 50/50 [00:05<00:00,  9.86it/s]\n",
      "Evaluating: 100%|██████████| 30/30 [00:00<00:00, 37.25it/s]\n",
      "Training:   2%|▏         | 1/50 [00:00<00:05,  8.79it/s]"
     ]
    },
    {
     "name": "stdout",
     "output_type": "stream",
     "text": [
      "200.0\n"
     ]
    },
    {
     "name": "stderr",
     "output_type": "stream",
     "text": [
      "Training: 100%|██████████| 50/50 [00:04<00:00, 10.05it/s]\n",
      "Evaluating: 100%|██████████| 30/30 [00:00<00:00, 37.39it/s]\n",
      "Training:   2%|▏         | 1/50 [00:00<00:06,  7.57it/s]"
     ]
    },
    {
     "name": "stdout",
     "output_type": "stream",
     "text": [
      "200.0\n"
     ]
    },
    {
     "name": "stderr",
     "output_type": "stream",
     "text": [
      "Training: 100%|██████████| 50/50 [00:05<00:00, 10.00it/s]\n",
      "Evaluating: 100%|██████████| 30/30 [00:00<00:00, 37.60it/s]\n",
      "Training:   2%|▏         | 1/50 [00:00<00:05,  8.94it/s]"
     ]
    },
    {
     "name": "stdout",
     "output_type": "stream",
     "text": [
      "200.0\n"
     ]
    },
    {
     "name": "stderr",
     "output_type": "stream",
     "text": [
      "Training: 100%|██████████| 50/50 [00:05<00:00,  9.82it/s]\n",
      "Evaluating: 100%|██████████| 30/30 [00:00<00:00, 37.34it/s]\n",
      "Training:   2%|▏         | 1/50 [00:00<00:05,  8.71it/s]"
     ]
    },
    {
     "name": "stdout",
     "output_type": "stream",
     "text": [
      "200.0\n"
     ]
    },
    {
     "name": "stderr",
     "output_type": "stream",
     "text": [
      "Training: 100%|██████████| 50/50 [00:05<00:00,  9.84it/s]\n",
      "Evaluating: 100%|██████████| 30/30 [00:00<00:00, 37.51it/s]\n",
      "Training:   2%|▏         | 1/50 [00:00<00:07,  6.88it/s]"
     ]
    },
    {
     "name": "stdout",
     "output_type": "stream",
     "text": [
      "200.0\n"
     ]
    },
    {
     "name": "stderr",
     "output_type": "stream",
     "text": [
      "Training: 100%|██████████| 50/50 [00:05<00:00,  9.79it/s]\n",
      "Evaluating: 100%|██████████| 30/30 [00:00<00:00, 37.45it/s]\n",
      "Training:   2%|▏         | 1/50 [00:00<00:08,  5.86it/s]"
     ]
    },
    {
     "name": "stdout",
     "output_type": "stream",
     "text": [
      "200.0\n"
     ]
    },
    {
     "name": "stderr",
     "output_type": "stream",
     "text": [
      "Training: 100%|██████████| 50/50 [00:06<00:00,  7.51it/s]\n",
      "Evaluating: 100%|██████████| 30/30 [00:00<00:00, 37.43it/s]\n",
      "Training:   0%|          | 0/50 [00:00<?, ?it/s]"
     ]
    },
    {
     "name": "stdout",
     "output_type": "stream",
     "text": [
      "200.0\n"
     ]
    },
    {
     "name": "stderr",
     "output_type": "stream",
     "text": [
      "Training: 100%|██████████| 50/50 [00:06<00:00,  7.52it/s]\n",
      "Evaluating: 100%|██████████| 30/30 [00:00<00:00, 33.76it/s]\n",
      "Training:   2%|▏         | 1/50 [00:00<00:05,  8.68it/s]"
     ]
    },
    {
     "name": "stdout",
     "output_type": "stream",
     "text": [
      "200.0\n"
     ]
    },
    {
     "name": "stderr",
     "output_type": "stream",
     "text": [
      "Training: 100%|██████████| 50/50 [00:05<00:00,  9.79it/s]\n",
      "Evaluating: 100%|██████████| 30/30 [00:00<00:00, 37.33it/s]\n",
      "Training:   2%|▏         | 1/50 [00:00<00:05,  8.50it/s]"
     ]
    },
    {
     "name": "stdout",
     "output_type": "stream",
     "text": [
      "200.0\n"
     ]
    },
    {
     "name": "stderr",
     "output_type": "stream",
     "text": [
      "Training: 100%|██████████| 50/50 [00:05<00:00,  9.63it/s]\n",
      "Evaluating: 100%|██████████| 30/30 [00:01<00:00, 28.99it/s]\n",
      "Training:   2%|▏         | 1/50 [00:00<00:06,  7.59it/s]"
     ]
    },
    {
     "name": "stdout",
     "output_type": "stream",
     "text": [
      "200.0\n"
     ]
    },
    {
     "name": "stderr",
     "output_type": "stream",
     "text": [
      "Training: 100%|██████████| 50/50 [00:05<00:00,  9.69it/s]\n",
      "Evaluating: 100%|██████████| 30/30 [00:00<00:00, 36.85it/s]\n",
      "Training:   2%|▏         | 1/50 [00:00<00:05,  8.41it/s]"
     ]
    },
    {
     "name": "stdout",
     "output_type": "stream",
     "text": [
      "200.0\n"
     ]
    },
    {
     "name": "stderr",
     "output_type": "stream",
     "text": [
      "Training: 100%|██████████| 50/50 [00:05<00:00,  9.51it/s]\n",
      "Evaluating: 100%|██████████| 30/30 [00:01<00:00, 28.26it/s]\n",
      "Training:   2%|▏         | 1/50 [00:00<00:06,  7.65it/s]"
     ]
    },
    {
     "name": "stdout",
     "output_type": "stream",
     "text": [
      "200.0\n"
     ]
    },
    {
     "name": "stderr",
     "output_type": "stream",
     "text": [
      "Training: 100%|██████████| 50/50 [00:05<00:00,  9.78it/s]\n",
      "Evaluating: 100%|██████████| 30/30 [00:00<00:00, 37.51it/s]\n",
      "Training:   2%|▏         | 1/50 [00:00<00:05,  8.87it/s]"
     ]
    },
    {
     "name": "stdout",
     "output_type": "stream",
     "text": [
      "200.0\n"
     ]
    },
    {
     "name": "stderr",
     "output_type": "stream",
     "text": [
      "Training: 100%|██████████| 50/50 [00:04<00:00, 10.06it/s]\n",
      "Evaluating: 100%|██████████| 30/30 [00:00<00:00, 36.03it/s]\n",
      "Training:   2%|▏         | 1/50 [00:00<00:05,  8.89it/s]"
     ]
    },
    {
     "name": "stdout",
     "output_type": "stream",
     "text": [
      "200.0\n"
     ]
    },
    {
     "name": "stderr",
     "output_type": "stream",
     "text": [
      "Training: 100%|██████████| 50/50 [00:06<00:00,  8.30it/s]\n",
      "Evaluating: 100%|██████████| 30/30 [00:01<00:00, 29.23it/s]\n",
      "Training:   2%|▏         | 1/50 [00:00<00:07,  6.88it/s]"
     ]
    },
    {
     "name": "stdout",
     "output_type": "stream",
     "text": [
      "200.0\n"
     ]
    },
    {
     "name": "stderr",
     "output_type": "stream",
     "text": [
      "Training: 100%|██████████| 50/50 [00:05<00:00,  9.02it/s]\n",
      "Evaluating: 100%|██████████| 30/30 [00:00<00:00, 37.62it/s]\n",
      "Training:   0%|          | 0/50 [00:00<?, ?it/s]"
     ]
    },
    {
     "name": "stdout",
     "output_type": "stream",
     "text": [
      "200.0\n"
     ]
    },
    {
     "name": "stderr",
     "output_type": "stream",
     "text": [
      "Training: 100%|██████████| 50/50 [00:05<00:00,  9.57it/s]\n",
      "Evaluating: 100%|██████████| 30/30 [00:00<00:00, 36.62it/s]\n",
      "Training:   2%|▏         | 1/50 [00:00<00:07,  6.50it/s]"
     ]
    },
    {
     "name": "stdout",
     "output_type": "stream",
     "text": [
      "200.0\n"
     ]
    },
    {
     "name": "stderr",
     "output_type": "stream",
     "text": [
      "Training: 100%|██████████| 50/50 [00:05<00:00,  9.42it/s]\n",
      "Evaluating: 100%|██████████| 30/30 [00:00<00:00, 37.55it/s]\n",
      "Training:   2%|▏         | 1/50 [00:00<00:07,  6.54it/s]"
     ]
    },
    {
     "name": "stdout",
     "output_type": "stream",
     "text": [
      "200.0\n"
     ]
    },
    {
     "name": "stderr",
     "output_type": "stream",
     "text": [
      "Training: 100%|██████████| 50/50 [00:05<00:00,  9.73it/s]\n",
      "Evaluating: 100%|██████████| 30/30 [00:00<00:00, 37.78it/s]\n",
      "Training:   2%|▏         | 1/50 [00:00<00:05,  8.58it/s]"
     ]
    },
    {
     "name": "stdout",
     "output_type": "stream",
     "text": [
      "200.0\n"
     ]
    },
    {
     "name": "stderr",
     "output_type": "stream",
     "text": [
      "Training: 100%|██████████| 50/50 [00:05<00:00,  9.77it/s]\n",
      "Evaluating: 100%|██████████| 30/30 [00:00<00:00, 35.04it/s]\n",
      "Training:   2%|▏         | 1/50 [00:00<00:05,  8.75it/s]"
     ]
    },
    {
     "name": "stdout",
     "output_type": "stream",
     "text": [
      "200.0\n"
     ]
    },
    {
     "name": "stderr",
     "output_type": "stream",
     "text": [
      "Training: 100%|██████████| 50/50 [00:04<00:00, 10.08it/s]\n",
      "Evaluating: 100%|██████████| 30/30 [00:00<00:00, 37.54it/s]\n",
      "Training:   2%|▏         | 1/50 [00:00<00:06,  7.83it/s]"
     ]
    },
    {
     "name": "stdout",
     "output_type": "stream",
     "text": [
      "200.0\n"
     ]
    },
    {
     "name": "stderr",
     "output_type": "stream",
     "text": [
      "Training: 100%|██████████| 50/50 [00:06<00:00,  7.85it/s]\n",
      "Evaluating: 100%|██████████| 30/30 [00:01<00:00, 28.59it/s]\n",
      "Training:   2%|▏         | 1/50 [00:00<00:08,  5.91it/s]"
     ]
    },
    {
     "name": "stdout",
     "output_type": "stream",
     "text": [
      "200.0\n"
     ]
    },
    {
     "name": "stderr",
     "output_type": "stream",
     "text": [
      "Training: 100%|██████████| 50/50 [00:05<00:00,  9.70it/s]\n",
      "Evaluating: 100%|██████████| 30/30 [00:00<00:00, 37.37it/s]\n",
      "Training:   2%|▏         | 1/50 [00:00<00:05,  8.50it/s]"
     ]
    },
    {
     "name": "stdout",
     "output_type": "stream",
     "text": [
      "200.0\n"
     ]
    },
    {
     "name": "stderr",
     "output_type": "stream",
     "text": [
      "Training: 100%|██████████| 50/50 [00:05<00:00,  9.92it/s]\n",
      "Evaluating: 100%|██████████| 30/30 [00:01<00:00, 29.08it/s]\n",
      "Training:   2%|▏         | 1/50 [00:00<00:05,  8.56it/s]"
     ]
    },
    {
     "name": "stdout",
     "output_type": "stream",
     "text": [
      "200.0\n"
     ]
    },
    {
     "name": "stderr",
     "output_type": "stream",
     "text": [
      "Training: 100%|██████████| 50/50 [00:05<00:00,  9.84it/s]\n",
      "Evaluating: 100%|██████████| 30/30 [00:00<00:00, 36.74it/s]\n",
      "Training:   0%|          | 0/50 [00:00<?, ?it/s]"
     ]
    },
    {
     "name": "stdout",
     "output_type": "stream",
     "text": [
      "200.0\n"
     ]
    },
    {
     "name": "stderr",
     "output_type": "stream",
     "text": [
      "Training: 100%|██████████| 50/50 [00:05<00:00,  8.58it/s]\n",
      "Evaluating: 100%|██████████| 30/30 [00:00<00:00, 37.47it/s]\n",
      "Training:   2%|▏         | 1/50 [00:00<00:05,  8.55it/s]"
     ]
    },
    {
     "name": "stdout",
     "output_type": "stream",
     "text": [
      "200.0\n"
     ]
    },
    {
     "name": "stderr",
     "output_type": "stream",
     "text": [
      "Training: 100%|██████████| 50/50 [00:05<00:00,  9.85it/s]\n",
      "Evaluating: 100%|██████████| 30/30 [00:00<00:00, 37.46it/s]\n",
      "Training:   0%|          | 0/50 [00:00<?, ?it/s]"
     ]
    },
    {
     "name": "stdout",
     "output_type": "stream",
     "text": [
      "200.0\n"
     ]
    },
    {
     "name": "stderr",
     "output_type": "stream",
     "text": [
      "Training: 100%|██████████| 50/50 [00:05<00:00,  9.75it/s]\n",
      "Evaluating: 100%|██████████| 30/30 [00:00<00:00, 37.51it/s]\n",
      "Training:   2%|▏         | 1/50 [00:00<00:06,  7.50it/s]"
     ]
    },
    {
     "name": "stdout",
     "output_type": "stream",
     "text": [
      "200.0\n"
     ]
    },
    {
     "name": "stderr",
     "output_type": "stream",
     "text": [
      "Training: 100%|██████████| 50/50 [00:05<00:00,  9.80it/s]\n",
      "Evaluating: 100%|██████████| 30/30 [00:00<00:00, 37.27it/s]\n",
      "Training:   2%|▏         | 1/50 [00:00<00:05,  8.40it/s]"
     ]
    },
    {
     "name": "stdout",
     "output_type": "stream",
     "text": [
      "200.0\n"
     ]
    },
    {
     "name": "stderr",
     "output_type": "stream",
     "text": [
      "Training: 100%|██████████| 50/50 [00:04<00:00, 10.25it/s]\n",
      "Evaluating: 100%|██████████| 30/30 [00:00<00:00, 36.87it/s]\n",
      "Training:   2%|▏         | 1/50 [00:00<00:07,  6.78it/s]"
     ]
    },
    {
     "name": "stdout",
     "output_type": "stream",
     "text": [
      "200.0\n"
     ]
    },
    {
     "name": "stderr",
     "output_type": "stream",
     "text": [
      "Training: 100%|██████████| 50/50 [00:05<00:00,  9.73it/s]\n",
      "Evaluating: 100%|██████████| 30/30 [00:00<00:00, 37.49it/s]\n",
      "Training:   2%|▏         | 1/50 [00:00<00:07,  6.65it/s]"
     ]
    },
    {
     "name": "stdout",
     "output_type": "stream",
     "text": [
      "200.0\n"
     ]
    },
    {
     "name": "stderr",
     "output_type": "stream",
     "text": [
      "Training: 100%|██████████| 50/50 [00:06<00:00,  7.47it/s]\n",
      "Evaluating: 100%|██████████| 30/30 [00:01<00:00, 28.98it/s]\n",
      "Training:   2%|▏         | 1/50 [00:00<00:07,  6.25it/s]"
     ]
    },
    {
     "name": "stdout",
     "output_type": "stream",
     "text": [
      "200.0\n"
     ]
    },
    {
     "name": "stderr",
     "output_type": "stream",
     "text": [
      "Training: 100%|██████████| 50/50 [00:06<00:00,  7.45it/s]\n",
      "Evaluating: 100%|██████████| 30/30 [00:01<00:00, 29.19it/s]\n",
      "Training:   2%|▏         | 1/50 [00:00<00:07,  6.58it/s]"
     ]
    },
    {
     "name": "stdout",
     "output_type": "stream",
     "text": [
      "200.0\n"
     ]
    },
    {
     "name": "stderr",
     "output_type": "stream",
     "text": [
      "Training: 100%|██████████| 50/50 [00:06<00:00,  7.45it/s]\n",
      "Evaluating: 100%|██████████| 30/30 [00:01<00:00, 28.94it/s]\n",
      "Training:   2%|▏         | 1/50 [00:00<00:07,  6.27it/s]"
     ]
    },
    {
     "name": "stdout",
     "output_type": "stream",
     "text": [
      "200.0\n"
     ]
    },
    {
     "name": "stderr",
     "output_type": "stream",
     "text": [
      "Training: 100%|██████████| 50/50 [00:05<00:00,  8.96it/s]\n",
      "Evaluating: 100%|██████████| 30/30 [00:00<00:00, 37.48it/s]\n",
      "Training:   2%|▏         | 1/50 [00:00<00:06,  7.18it/s]"
     ]
    },
    {
     "name": "stdout",
     "output_type": "stream",
     "text": [
      "200.0\n"
     ]
    },
    {
     "name": "stderr",
     "output_type": "stream",
     "text": [
      "Training: 100%|██████████| 50/50 [00:05<00:00,  9.73it/s]\n",
      "Evaluating: 100%|██████████| 30/30 [00:00<00:00, 37.48it/s]\n",
      "Training:   2%|▏         | 1/50 [00:00<00:06,  7.36it/s]"
     ]
    },
    {
     "name": "stdout",
     "output_type": "stream",
     "text": [
      "200.0\n"
     ]
    },
    {
     "name": "stderr",
     "output_type": "stream",
     "text": [
      "Training: 100%|██████████| 50/50 [00:05<00:00,  9.76it/s]\n",
      "Evaluating: 100%|██████████| 30/30 [00:00<00:00, 37.10it/s]\n",
      "Training:   2%|▏         | 1/50 [00:00<00:05,  8.24it/s]"
     ]
    },
    {
     "name": "stdout",
     "output_type": "stream",
     "text": [
      "200.0\n"
     ]
    },
    {
     "name": "stderr",
     "output_type": "stream",
     "text": [
      "Training: 100%|██████████| 50/50 [00:05<00:00,  9.78it/s]\n",
      "Evaluating: 100%|██████████| 30/30 [00:00<00:00, 36.63it/s]\n",
      "Training:   2%|▏         | 1/50 [00:00<00:06,  7.13it/s]"
     ]
    },
    {
     "name": "stdout",
     "output_type": "stream",
     "text": [
      "200.0\n"
     ]
    },
    {
     "name": "stderr",
     "output_type": "stream",
     "text": [
      "Training: 100%|██████████| 50/50 [00:05<00:00,  9.79it/s]\n",
      "Evaluating: 100%|██████████| 30/30 [00:00<00:00, 37.41it/s]\n",
      "Training:   2%|▏         | 1/50 [00:00<00:06,  7.82it/s]"
     ]
    },
    {
     "name": "stdout",
     "output_type": "stream",
     "text": [
      "200.0\n"
     ]
    },
    {
     "name": "stderr",
     "output_type": "stream",
     "text": [
      "Training: 100%|██████████| 50/50 [00:04<00:00, 11.14it/s]\n",
      "Evaluating: 100%|██████████| 30/30 [00:00<00:00, 37.26it/s]\n",
      "Training:   2%|▏         | 1/50 [00:00<00:05,  8.43it/s]"
     ]
    },
    {
     "name": "stdout",
     "output_type": "stream",
     "text": [
      "200.0\n"
     ]
    },
    {
     "name": "stderr",
     "output_type": "stream",
     "text": [
      "Training: 100%|██████████| 50/50 [00:05<00:00,  9.79it/s]\n",
      "Evaluating: 100%|██████████| 30/30 [00:00<00:00, 36.67it/s]\n",
      "Training:   2%|▏         | 1/50 [00:00<00:06,  7.90it/s]"
     ]
    },
    {
     "name": "stdout",
     "output_type": "stream",
     "text": [
      "200.0\n"
     ]
    },
    {
     "name": "stderr",
     "output_type": "stream",
     "text": [
      "Training: 100%|██████████| 50/50 [00:05<00:00,  9.86it/s]\n",
      "Evaluating: 100%|██████████| 30/30 [00:00<00:00, 36.96it/s]\n",
      "Training:   2%|▏         | 1/50 [00:00<00:05,  8.50it/s]"
     ]
    },
    {
     "name": "stdout",
     "output_type": "stream",
     "text": [
      "200.0\n"
     ]
    },
    {
     "name": "stderr",
     "output_type": "stream",
     "text": [
      "Training: 100%|██████████| 50/50 [00:05<00:00,  9.88it/s]\n",
      "Evaluating: 100%|██████████| 30/30 [00:00<00:00, 37.28it/s]\n",
      "Training:   2%|▏         | 1/50 [00:00<00:05,  8.56it/s]"
     ]
    },
    {
     "name": "stdout",
     "output_type": "stream",
     "text": [
      "200.0\n"
     ]
    },
    {
     "name": "stderr",
     "output_type": "stream",
     "text": [
      "Training: 100%|██████████| 50/50 [00:04<00:00, 10.04it/s]\n",
      "Evaluating: 100%|██████████| 30/30 [00:00<00:00, 37.40it/s]\n",
      "Training:   2%|▏         | 1/50 [00:00<00:05,  8.63it/s]"
     ]
    },
    {
     "name": "stdout",
     "output_type": "stream",
     "text": [
      "200.0\n"
     ]
    },
    {
     "name": "stderr",
     "output_type": "stream",
     "text": [
      "Training: 100%|██████████| 50/50 [00:04<00:00, 10.02it/s]\n",
      "Evaluating: 100%|██████████| 30/30 [00:00<00:00, 35.03it/s]\n",
      "Training:   2%|▏         | 1/50 [00:00<00:07,  6.16it/s]"
     ]
    },
    {
     "name": "stdout",
     "output_type": "stream",
     "text": [
      "200.0\n"
     ]
    },
    {
     "name": "stderr",
     "output_type": "stream",
     "text": [
      "Training: 100%|██████████| 50/50 [00:05<00:00,  9.12it/s]\n",
      "Evaluating: 100%|██████████| 30/30 [00:00<00:00, 35.64it/s]\n",
      "Training:   2%|▏         | 1/50 [00:00<00:05,  8.32it/s]"
     ]
    },
    {
     "name": "stdout",
     "output_type": "stream",
     "text": [
      "200.0\n"
     ]
    },
    {
     "name": "stderr",
     "output_type": "stream",
     "text": [
      "Training: 100%|██████████| 50/50 [00:05<00:00,  9.69it/s]\n",
      "Evaluating: 100%|██████████| 30/30 [00:00<00:00, 34.80it/s]\n",
      "Training:   2%|▏         | 1/50 [00:00<00:07,  6.26it/s]"
     ]
    },
    {
     "name": "stdout",
     "output_type": "stream",
     "text": [
      "200.0\n"
     ]
    },
    {
     "name": "stderr",
     "output_type": "stream",
     "text": [
      "Training: 100%|██████████| 50/50 [00:05<00:00,  9.69it/s]\n",
      "Evaluating: 100%|██████████| 30/30 [00:00<00:00, 37.45it/s]\n",
      "Training:   2%|▏         | 1/50 [00:00<00:06,  7.91it/s]"
     ]
    },
    {
     "name": "stdout",
     "output_type": "stream",
     "text": [
      "200.0\n"
     ]
    },
    {
     "name": "stderr",
     "output_type": "stream",
     "text": [
      "Training: 100%|██████████| 50/50 [00:05<00:00,  9.79it/s]\n",
      "Evaluating: 100%|██████████| 30/30 [00:00<00:00, 37.43it/s]\n",
      "Training:   0%|          | 0/50 [00:00<?, ?it/s]"
     ]
    },
    {
     "name": "stdout",
     "output_type": "stream",
     "text": [
      "200.0\n"
     ]
    },
    {
     "name": "stderr",
     "output_type": "stream",
     "text": [
      "Training: 100%|██████████| 50/50 [00:05<00:00,  9.83it/s]\n",
      "Evaluating: 100%|██████████| 30/30 [00:00<00:00, 37.46it/s]\n",
      "Training:   2%|▏         | 1/50 [00:00<00:07,  6.72it/s]"
     ]
    },
    {
     "name": "stdout",
     "output_type": "stream",
     "text": [
      "200.0\n"
     ]
    },
    {
     "name": "stderr",
     "output_type": "stream",
     "text": [
      "Training: 100%|██████████| 50/50 [00:05<00:00,  9.71it/s]\n",
      "Evaluating: 100%|██████████| 30/30 [00:00<00:00, 37.26it/s]\n",
      "Training:   2%|▏         | 1/50 [00:00<00:05,  8.49it/s]"
     ]
    },
    {
     "name": "stdout",
     "output_type": "stream",
     "text": [
      "200.0\n"
     ]
    },
    {
     "name": "stderr",
     "output_type": "stream",
     "text": [
      "Training: 100%|██████████| 50/50 [00:05<00:00,  9.75it/s]\n",
      "Evaluating: 100%|██████████| 30/30 [00:00<00:00, 37.59it/s]\n",
      "Training:   2%|▏         | 1/50 [00:00<00:05,  8.23it/s]"
     ]
    },
    {
     "name": "stdout",
     "output_type": "stream",
     "text": [
      "200.0\n"
     ]
    },
    {
     "name": "stderr",
     "output_type": "stream",
     "text": [
      "Training: 100%|██████████| 50/50 [00:05<00:00,  9.75it/s]\n",
      "Evaluating: 100%|██████████| 30/30 [00:00<00:00, 37.52it/s]\n",
      "Training:   2%|▏         | 1/50 [00:00<00:05,  8.67it/s]"
     ]
    },
    {
     "name": "stdout",
     "output_type": "stream",
     "text": [
      "200.0\n"
     ]
    },
    {
     "name": "stderr",
     "output_type": "stream",
     "text": [
      "Training: 100%|██████████| 50/50 [00:05<00:00,  9.78it/s]\n",
      "Evaluating: 100%|██████████| 30/30 [00:00<00:00, 37.49it/s]\n",
      "Training:   2%|▏         | 1/50 [00:00<00:06,  8.12it/s]"
     ]
    },
    {
     "name": "stdout",
     "output_type": "stream",
     "text": [
      "200.0\n"
     ]
    },
    {
     "name": "stderr",
     "output_type": "stream",
     "text": [
      "Training: 100%|██████████| 50/50 [00:05<00:00,  9.81it/s]\n",
      "Evaluating: 100%|██████████| 30/30 [00:00<00:00, 37.41it/s]\n",
      "Training:   2%|▏         | 1/50 [00:00<00:05,  8.68it/s]"
     ]
    },
    {
     "name": "stdout",
     "output_type": "stream",
     "text": [
      "200.0\n"
     ]
    },
    {
     "name": "stderr",
     "output_type": "stream",
     "text": [
      "Training: 100%|██████████| 50/50 [00:05<00:00,  9.78it/s]\n",
      "Evaluating: 100%|██████████| 30/30 [00:00<00:00, 36.07it/s]\n",
      "Training:   2%|▏         | 1/50 [00:00<00:06,  7.87it/s]"
     ]
    },
    {
     "name": "stdout",
     "output_type": "stream",
     "text": [
      "200.0\n"
     ]
    },
    {
     "name": "stderr",
     "output_type": "stream",
     "text": [
      "Training: 100%|██████████| 50/50 [00:05<00:00,  9.79it/s]\n",
      "Evaluating: 100%|██████████| 30/30 [00:00<00:00, 37.43it/s]\n",
      "Training:   2%|▏         | 1/50 [00:00<00:05,  8.40it/s]"
     ]
    },
    {
     "name": "stdout",
     "output_type": "stream",
     "text": [
      "200.0\n"
     ]
    },
    {
     "name": "stderr",
     "output_type": "stream",
     "text": [
      "Training: 100%|██████████| 50/50 [00:05<00:00,  9.72it/s]\n",
      "Evaluating: 100%|██████████| 30/30 [00:00<00:00, 37.34it/s]\n",
      "Training:   2%|▏         | 1/50 [00:00<00:06,  7.45it/s]"
     ]
    },
    {
     "name": "stdout",
     "output_type": "stream",
     "text": [
      "200.0\n"
     ]
    },
    {
     "name": "stderr",
     "output_type": "stream",
     "text": [
      "Training: 100%|██████████| 50/50 [00:05<00:00,  9.81it/s]\n",
      "Evaluating: 100%|██████████| 30/30 [00:00<00:00, 37.61it/s]\n",
      "Training:   2%|▏         | 1/50 [00:00<00:07,  6.60it/s]"
     ]
    },
    {
     "name": "stdout",
     "output_type": "stream",
     "text": [
      "200.0\n"
     ]
    },
    {
     "name": "stderr",
     "output_type": "stream",
     "text": [
      "Training: 100%|██████████| 50/50 [00:05<00:00,  9.18it/s]\n",
      "Evaluating: 100%|██████████| 30/30 [00:00<00:00, 37.33it/s]\n",
      "Training:   2%|▏         | 1/50 [00:00<00:07,  6.70it/s]"
     ]
    },
    {
     "name": "stdout",
     "output_type": "stream",
     "text": [
      "200.0\n"
     ]
    },
    {
     "name": "stderr",
     "output_type": "stream",
     "text": [
      "Training: 100%|██████████| 50/50 [00:05<00:00,  9.40it/s]\n",
      "Evaluating: 100%|██████████| 30/30 [00:01<00:00, 29.34it/s]\n",
      "Training:   2%|▏         | 1/50 [00:00<00:07,  6.85it/s]"
     ]
    },
    {
     "name": "stdout",
     "output_type": "stream",
     "text": [
      "200.0\n"
     ]
    },
    {
     "name": "stderr",
     "output_type": "stream",
     "text": [
      "Training: 100%|██████████| 50/50 [00:05<00:00,  9.71it/s]\n",
      "Evaluating: 100%|██████████| 30/30 [00:00<00:00, 35.67it/s]\n",
      "Training:   2%|▏         | 1/50 [00:00<00:05,  8.25it/s]"
     ]
    },
    {
     "name": "stdout",
     "output_type": "stream",
     "text": [
      "200.0\n"
     ]
    },
    {
     "name": "stderr",
     "output_type": "stream",
     "text": [
      "Training: 100%|██████████| 50/50 [00:05<00:00,  9.89it/s]\n",
      "Evaluating: 100%|██████████| 30/30 [00:00<00:00, 37.56it/s]\n",
      "Training:   2%|▏         | 1/50 [00:00<00:05,  8.78it/s]"
     ]
    },
    {
     "name": "stdout",
     "output_type": "stream",
     "text": [
      "200.0\n"
     ]
    },
    {
     "name": "stderr",
     "output_type": "stream",
     "text": [
      "Training: 100%|██████████| 50/50 [00:05<00:00,  9.80it/s]\n",
      "Evaluating: 100%|██████████| 30/30 [00:00<00:00, 37.40it/s]\n",
      "Training:   0%|          | 0/50 [00:00<?, ?it/s]"
     ]
    },
    {
     "name": "stdout",
     "output_type": "stream",
     "text": [
      "200.0\n"
     ]
    },
    {
     "name": "stderr",
     "output_type": "stream",
     "text": [
      "Training: 100%|██████████| 50/50 [00:06<00:00,  8.25it/s]\n",
      "Evaluating: 100%|██████████| 30/30 [00:00<00:00, 37.19it/s]\n",
      "Training:   2%|▏         | 1/50 [00:00<00:06,  7.94it/s]"
     ]
    },
    {
     "name": "stdout",
     "output_type": "stream",
     "text": [
      "200.0\n"
     ]
    },
    {
     "name": "stderr",
     "output_type": "stream",
     "text": [
      "Training: 100%|██████████| 50/50 [00:05<00:00,  9.84it/s]\n",
      "Evaluating: 100%|██████████| 30/30 [00:00<00:00, 37.49it/s]\n",
      "Training:   2%|▏         | 1/50 [00:00<00:05,  8.66it/s]"
     ]
    },
    {
     "name": "stdout",
     "output_type": "stream",
     "text": [
      "200.0\n"
     ]
    },
    {
     "name": "stderr",
     "output_type": "stream",
     "text": [
      "Training: 100%|██████████| 50/50 [00:05<00:00,  9.85it/s]\n",
      "Evaluating: 100%|██████████| 30/30 [00:00<00:00, 37.36it/s]\n"
     ]
    },
    {
     "name": "stdout",
     "output_type": "stream",
     "text": [
      "200.0\n",
      "\n",
      "Learning Performance:\n",
      "\n"
     ]
    },
    {
     "data": {
      "text/plain": [
       "<Figure size 432x288 with 0 Axes>"
      ]
     },
     "metadata": {},
     "output_type": "display_data"
    },
    {
     "data": {
      "image/png": "[encoded data removed]",
      "text/plain": [
       "<Figure size 432x288 with 1 Axes>"
      ]
     },
     "metadata": {
      "needs_background": "light"
     },
     "output_type": "display_data"
    }
   ],
   "source": [
    "training_episodes, test_interval = 10000, 50\n",
    "agent = DQN_agent(env_CartPole, hyperparams_CartPole)\n",
    "result = agent.learn_and_evaluate(training_episodes, test_interval)\n",
    "plot_result(result, test_interval, [\"batch_update with target_model\"])"
   ]
  },
  {
   "cell_type": "code",
   "execution_count": 18,
   "metadata": {},
   "outputs": [
    {
     "name": "stderr",
     "output_type": "stream",
     "text": [
      "Training: 100%|██████████| 50/50 [00:00<00:00, 133.02it/s]\n",
      "Evaluating: 100%|██████████| 30/30 [00:00<00:00, 697.18it/s]\n",
      "Training:  26%|██▌       | 13/50 [00:00<00:00, 124.99it/s]"
     ]
    },
    {
     "name": "stdout",
     "output_type": "stream",
     "text": [
      "9.4\n"
     ]
    },
    {
     "name": "stderr",
     "output_type": "stream",
     "text": [
      "Training: 100%|██████████| 50/50 [00:00<00:00, 128.33it/s]\n",
      "Evaluating: 100%|██████████| 30/30 [00:00<00:00, 690.24it/s]\n",
      "Training:  26%|██▌       | 13/50 [00:00<00:00, 127.78it/s]"
     ]
    },
    {
     "name": "stdout",
     "output_type": "stream",
     "text": [
      "9.366666666666667\n"
     ]
    },
    {
     "name": "stderr",
     "output_type": "stream",
     "text": [
      "Training: 100%|██████████| 50/50 [00:00<00:00, 113.29it/s]\n",
      "Evaluating: 100%|██████████| 30/30 [00:00<00:00, 523.64it/s]\n",
      "Training:  22%|██▏       | 11/50 [00:00<00:00, 106.24it/s]"
     ]
    },
    {
     "name": "stdout",
     "output_type": "stream",
     "text": [
      "12.866666666666667\n"
     ]
    },
    {
     "name": "stderr",
     "output_type": "stream",
     "text": [
      "Training: 100%|██████████| 50/50 [00:00<00:00, 117.71it/s]\n",
      "Evaluating: 100%|██████████| 30/30 [00:00<00:00, 651.36it/s]\n",
      "Training:  20%|██        | 10/50 [00:00<00:00, 89.25it/s]"
     ]
    },
    {
     "name": "stdout",
     "output_type": "stream",
     "text": [
      "10.1\n"
     ]
    },
    {
     "name": "stderr",
     "output_type": "stream",
     "text": [
      "Training: 100%|██████████| 50/50 [00:00<00:00, 120.42it/s]\n",
      "Evaluating: 100%|██████████| 30/30 [00:00<00:00, 689.48it/s]\n",
      "Training:  30%|███       | 15/50 [00:00<00:00, 143.24it/s]"
     ]
    },
    {
     "name": "stdout",
     "output_type": "stream",
     "text": [
      "9.133333333333333\n"
     ]
    },
    {
     "name": "stderr",
     "output_type": "stream",
     "text": [
      "Training: 100%|██████████| 50/50 [00:00<00:00, 117.25it/s]\n",
      "Evaluating: 100%|██████████| 30/30 [00:00<00:00, 696.66it/s]\n",
      "Training:  20%|██        | 10/50 [00:00<00:00, 91.85it/s]"
     ]
    },
    {
     "name": "stdout",
     "output_type": "stream",
     "text": [
      "9.433333333333334\n"
     ]
    },
    {
     "name": "stderr",
     "output_type": "stream",
     "text": [
      "Training: 100%|██████████| 50/50 [00:00<00:00, 130.35it/s]\n",
      "Evaluating: 100%|██████████| 30/30 [00:00<00:00, 692.06it/s]\n",
      "Training:  32%|███▏      | 16/50 [00:00<00:00, 150.37it/s]"
     ]
    },
    {
     "name": "stdout",
     "output_type": "stream",
     "text": [
      "9.4\n"
     ]
    },
    {
     "name": "stderr",
     "output_type": "stream",
     "text": [
      "Training: 100%|██████████| 50/50 [00:00<00:00, 149.86it/s]\n",
      "Evaluating: 100%|██████████| 30/30 [00:00<00:00, 702.45it/s]\n",
      "Training:  28%|██▊       | 14/50 [00:00<00:00, 139.09it/s]"
     ]
    },
    {
     "name": "stdout",
     "output_type": "stream",
     "text": [
      "9.233333333333333\n"
     ]
    },
    {
     "name": "stderr",
     "output_type": "stream",
     "text": [
      "Training: 100%|██████████| 50/50 [00:00<00:00, 118.06it/s]\n",
      "Evaluating: 100%|██████████| 30/30 [00:00<00:00, 718.81it/s]\n",
      "Training:  24%|██▍       | 12/50 [00:00<00:00, 118.17it/s]"
     ]
    },
    {
     "name": "stdout",
     "output_type": "stream",
     "text": [
      "9.3\n"
     ]
    },
    {
     "name": "stderr",
     "output_type": "stream",
     "text": [
      "Training: 100%|██████████| 50/50 [00:00<00:00, 125.00it/s]\n",
      "Evaluating: 100%|██████████| 30/30 [00:00<00:00, 692.36it/s]\n",
      "Training:  32%|███▏      | 16/50 [00:00<00:00, 156.89it/s]"
     ]
    },
    {
     "name": "stdout",
     "output_type": "stream",
     "text": [
      "9.4\n"
     ]
    },
    {
     "name": "stderr",
     "output_type": "stream",
     "text": [
      "Training: 100%|██████████| 50/50 [00:00<00:00, 139.60it/s]\n",
      "Evaluating: 100%|██████████| 30/30 [00:00<00:00, 700.73it/s]\n",
      "Training:  26%|██▌       | 13/50 [00:00<00:00, 123.59it/s]"
     ]
    },
    {
     "name": "stdout",
     "output_type": "stream",
     "text": [
      "9.266666666666667\n"
     ]
    },
    {
     "name": "stderr",
     "output_type": "stream",
     "text": [
      "Training: 100%|██████████| 50/50 [00:00<00:00, 144.27it/s]\n",
      "Evaluating: 100%|██████████| 30/30 [00:00<00:00, 695.08it/s]\n",
      "Training:  26%|██▌       | 13/50 [00:00<00:00, 126.44it/s]"
     ]
    },
    {
     "name": "stdout",
     "output_type": "stream",
     "text": [
      "9.366666666666667\n"
     ]
    },
    {
     "name": "stderr",
     "output_type": "stream",
     "text": [
      "Training: 100%|██████████| 50/50 [00:00<00:00, 121.20it/s]\n",
      "Evaluating: 100%|██████████| 30/30 [00:00<00:00, 689.54it/s]\n",
      "Training:  28%|██▊       | 14/50 [00:00<00:00, 138.81it/s]"
     ]
    },
    {
     "name": "stdout",
     "output_type": "stream",
     "text": [
      "9.366666666666667\n"
     ]
    },
    {
     "name": "stderr",
     "output_type": "stream",
     "text": [
      "Training: 100%|██████████| 50/50 [00:00<00:00, 141.90it/s]\n",
      "Evaluating: 100%|██████████| 30/30 [00:00<00:00, 705.52it/s]\n",
      "Training:  26%|██▌       | 13/50 [00:00<00:00, 125.14it/s]"
     ]
    },
    {
     "name": "stdout",
     "output_type": "stream",
     "text": [
      "9.266666666666667\n"
     ]
    },
    {
     "name": "stderr",
     "output_type": "stream",
     "text": [
      "Training: 100%|██████████| 50/50 [00:00<00:00, 126.91it/s]\n",
      "Evaluating: 100%|██████████| 30/30 [00:00<00:00, 704.16it/s]\n",
      "Training:  30%|███       | 15/50 [00:00<00:00, 147.32it/s]"
     ]
    },
    {
     "name": "stdout",
     "output_type": "stream",
     "text": [
      "9.2\n"
     ]
    },
    {
     "name": "stderr",
     "output_type": "stream",
     "text": [
      "Training: 100%|██████████| 50/50 [00:00<00:00, 123.49it/s]\n",
      "Evaluating: 100%|██████████| 30/30 [00:00<00:00, 736.67it/s]\n",
      "Training:  30%|███       | 15/50 [00:00<00:00, 134.40it/s]"
     ]
    },
    {
     "name": "stdout",
     "output_type": "stream",
     "text": [
      "9.433333333333334\n"
     ]
    },
    {
     "name": "stderr",
     "output_type": "stream",
     "text": [
      "Training: 100%|██████████| 50/50 [00:00<00:00, 139.65it/s]\n",
      "Evaluating: 100%|██████████| 30/30 [00:00<00:00, 726.61it/s]\n",
      "Training:  24%|██▍       | 12/50 [00:00<00:00, 115.34it/s]"
     ]
    },
    {
     "name": "stdout",
     "output_type": "stream",
     "text": [
      "9.266666666666667\n"
     ]
    },
    {
     "name": "stderr",
     "output_type": "stream",
     "text": [
      "Training: 100%|██████████| 50/50 [00:00<00:00, 136.47it/s]\n",
      "Evaluating: 100%|██████████| 30/30 [00:00<00:00, 707.41it/s]\n",
      "Training:  16%|█▌        | 8/50 [00:00<00:00, 77.20it/s]"
     ]
    },
    {
     "name": "stdout",
     "output_type": "stream",
     "text": [
      "9.533333333333333\n"
     ]
    },
    {
     "name": "stderr",
     "output_type": "stream",
     "text": [
      "Training: 100%|██████████| 50/50 [00:00<00:00, 115.40it/s]\n",
      "Evaluating: 100%|██████████| 30/30 [00:00<00:00, 700.65it/s]\n",
      "Training:  24%|██▍       | 12/50 [00:00<00:00, 116.37it/s]"
     ]
    },
    {
     "name": "stdout",
     "output_type": "stream",
     "text": [
      "9.166666666666666\n"
     ]
    },
    {
     "name": "stderr",
     "output_type": "stream",
     "text": [
      "Training: 100%|██████████| 50/50 [00:00<00:00, 127.70it/s]\n",
      "Evaluating: 100%|██████████| 30/30 [00:00<00:00, 688.10it/s]\n",
      "Training:  30%|███       | 15/50 [00:00<00:00, 144.47it/s]"
     ]
    },
    {
     "name": "stdout",
     "output_type": "stream",
     "text": [
      "9.366666666666667\n"
     ]
    },
    {
     "name": "stderr",
     "output_type": "stream",
     "text": [
      "Training: 100%|██████████| 50/50 [00:00<00:00, 132.46it/s]\n",
      "Evaluating: 100%|██████████| 30/30 [00:00<00:00, 699.47it/s]\n",
      "Training:  26%|██▌       | 13/50 [00:00<00:00, 125.19it/s]"
     ]
    },
    {
     "name": "stdout",
     "output_type": "stream",
     "text": [
      "9.333333333333334\n"
     ]
    },
    {
     "name": "stderr",
     "output_type": "stream",
     "text": [
      "Training: 100%|██████████| 50/50 [00:00<00:00, 141.33it/s]\n",
      "Evaluating: 100%|██████████| 30/30 [00:00<00:00, 694.14it/s]\n",
      "Training:  28%|██▊       | 14/50 [00:00<00:00, 139.74it/s]"
     ]
    },
    {
     "name": "stdout",
     "output_type": "stream",
     "text": [
      "9.433333333333334\n"
     ]
    },
    {
     "name": "stderr",
     "output_type": "stream",
     "text": [
      "Training: 100%|██████████| 50/50 [00:00<00:00, 140.74it/s]\n",
      "Evaluating: 100%|██████████| 30/30 [00:00<00:00, 735.03it/s]\n",
      "Training:  28%|██▊       | 14/50 [00:00<00:00, 139.26it/s]"
     ]
    },
    {
     "name": "stdout",
     "output_type": "stream",
     "text": [
      "9.0\n"
     ]
    },
    {
     "name": "stderr",
     "output_type": "stream",
     "text": [
      "Training: 100%|██████████| 50/50 [00:00<00:00, 144.35it/s]\n",
      "Evaluating: 100%|██████████| 30/30 [00:00<00:00, 720.37it/s]\n",
      "Training:  22%|██▏       | 11/50 [00:00<00:00, 108.79it/s]"
     ]
    },
    {
     "name": "stdout",
     "output_type": "stream",
     "text": [
      "9.2\n"
     ]
    },
    {
     "name": "stderr",
     "output_type": "stream",
     "text": [
      "Training: 100%|██████████| 50/50 [00:00<00:00, 140.74it/s]\n",
      "Evaluating: 100%|██████████| 30/30 [00:00<00:00, 724.86it/s]\n",
      "Training:  24%|██▍       | 12/50 [00:00<00:00, 111.14it/s]"
     ]
    },
    {
     "name": "stdout",
     "output_type": "stream",
     "text": [
      "9.466666666666667\n"
     ]
    },
    {
     "name": "stderr",
     "output_type": "stream",
     "text": [
      "Training: 100%|██████████| 50/50 [00:00<00:00, 109.16it/s]\n",
      "Evaluating: 100%|██████████| 30/30 [00:00<00:00, 562.48it/s]\n",
      "Training:  30%|███       | 15/50 [00:00<00:00, 141.63it/s]"
     ]
    },
    {
     "name": "stdout",
     "output_type": "stream",
     "text": [
      "9.466666666666667\n"
     ]
    },
    {
     "name": "stderr",
     "output_type": "stream",
     "text": [
      "Training: 100%|██████████| 50/50 [00:00<00:00, 148.57it/s]\n",
      "Evaluating: 100%|██████████| 30/30 [00:00<00:00, 723.34it/s]\n",
      "Training:  34%|███▍      | 17/50 [00:00<00:00, 156.73it/s]"
     ]
    },
    {
     "name": "stdout",
     "output_type": "stream",
     "text": [
      "9.3\n"
     ]
    },
    {
     "name": "stderr",
     "output_type": "stream",
     "text": [
      "Training: 100%|██████████| 50/50 [00:00<00:00, 149.24it/s]\n",
      "Evaluating: 100%|██████████| 30/30 [00:00<00:00, 704.76it/s]\n",
      "Training:  32%|███▏      | 16/50 [00:00<00:00, 153.26it/s]"
     ]
    },
    {
     "name": "stdout",
     "output_type": "stream",
     "text": [
      "9.233333333333333\n"
     ]
    },
    {
     "name": "stderr",
     "output_type": "stream",
     "text": [
      "Training: 100%|██████████| 50/50 [00:00<00:00, 161.48it/s]\n",
      "Evaluating: 100%|██████████| 30/30 [00:00<00:00, 713.81it/s]\n",
      "Training:  30%|███       | 15/50 [00:00<00:00, 140.13it/s]"
     ]
    },
    {
     "name": "stdout",
     "output_type": "stream",
     "text": [
      "9.266666666666667\n"
     ]
    },
    {
     "name": "stderr",
     "output_type": "stream",
     "text": [
      "Training: 100%|██████████| 50/50 [00:00<00:00, 152.58it/s]\n",
      "Evaluating: 100%|██████████| 30/30 [00:00<00:00, 705.63it/s]\n",
      "Training:  28%|██▊       | 14/50 [00:00<00:00, 127.91it/s]"
     ]
    },
    {
     "name": "stdout",
     "output_type": "stream",
     "text": [
      "9.366666666666667\n"
     ]
    },
    {
     "name": "stderr",
     "output_type": "stream",
     "text": [
      "Training: 100%|██████████| 50/50 [00:00<00:00, 124.34it/s]\n",
      "Evaluating: 100%|██████████| 30/30 [00:00<00:00, 681.76it/s]\n",
      "Training:  28%|██▊       | 14/50 [00:00<00:00, 136.81it/s]"
     ]
    },
    {
     "name": "stdout",
     "output_type": "stream",
     "text": [
      "9.5\n"
     ]
    },
    {
     "name": "stderr",
     "output_type": "stream",
     "text": [
      "Training: 100%|██████████| 50/50 [00:00<00:00, 136.22it/s]\n",
      "Evaluating: 100%|██████████| 30/30 [00:00<00:00, 692.08it/s]\n",
      "Training:  30%|███       | 15/50 [00:00<00:00, 144.73it/s]"
     ]
    },
    {
     "name": "stdout",
     "output_type": "stream",
     "text": [
      "9.333333333333334\n"
     ]
    },
    {
     "name": "stderr",
     "output_type": "stream",
     "text": [
      "Training: 100%|██████████| 50/50 [00:00<00:00, 139.15it/s]\n",
      "Evaluating: 100%|██████████| 30/30 [00:00<00:00, 699.36it/s]\n",
      "Training:  24%|██▍       | 12/50 [00:00<00:00, 118.19it/s]"
     ]
    },
    {
     "name": "stdout",
     "output_type": "stream",
     "text": [
      "9.433333333333334\n"
     ]
    },
    {
     "name": "stderr",
     "output_type": "stream",
     "text": [
      "Training: 100%|██████████| 50/50 [00:00<00:00, 121.96it/s]\n",
      "Evaluating: 100%|██████████| 30/30 [00:00<00:00, 705.77it/s]\n",
      "Training:  26%|██▌       | 13/50 [00:00<00:00, 126.11it/s]"
     ]
    },
    {
     "name": "stdout",
     "output_type": "stream",
     "text": [
      "9.4\n"
     ]
    },
    {
     "name": "stderr",
     "output_type": "stream",
     "text": [
      "Training: 100%|██████████| 50/50 [00:00<00:00, 129.59it/s]\n",
      "Evaluating: 100%|██████████| 30/30 [00:00<00:00, 690.61it/s]\n",
      "Training:  28%|██▊       | 14/50 [00:00<00:00, 130.54it/s]"
     ]
    },
    {
     "name": "stdout",
     "output_type": "stream",
     "text": [
      "9.466666666666667\n"
     ]
    },
    {
     "name": "stderr",
     "output_type": "stream",
     "text": [
      "Training: 100%|██████████| 50/50 [00:00<00:00, 150.24it/s]\n",
      "Evaluating: 100%|██████████| 30/30 [00:00<00:00, 683.69it/s]\n",
      "Training:  28%|██▊       | 14/50 [00:00<00:00, 138.52it/s]"
     ]
    },
    {
     "name": "stdout",
     "output_type": "stream",
     "text": [
      "9.5\n"
     ]
    },
    {
     "name": "stderr",
     "output_type": "stream",
     "text": [
      "Training: 100%|██████████| 50/50 [00:00<00:00, 143.42it/s]\n",
      "Evaluating: 100%|██████████| 30/30 [00:00<00:00, 715.67it/s]\n",
      "Training:  22%|██▏       | 11/50 [00:00<00:00, 109.06it/s]"
     ]
    },
    {
     "name": "stdout",
     "output_type": "stream",
     "text": [
      "9.433333333333334\n"
     ]
    },
    {
     "name": "stderr",
     "output_type": "stream",
     "text": [
      "Training: 100%|██████████| 50/50 [00:00<00:00, 144.14it/s]\n",
      "Evaluating: 100%|██████████| 30/30 [00:00<00:00, 727.14it/s]\n",
      "Training:  34%|███▍      | 17/50 [00:00<00:00, 164.54it/s]"
     ]
    },
    {
     "name": "stdout",
     "output_type": "stream",
     "text": [
      "9.333333333333334\n"
     ]
    },
    {
     "name": "stderr",
     "output_type": "stream",
     "text": [
      "Training: 100%|██████████| 50/50 [00:00<00:00, 92.49it/s] \n",
      "Evaluating: 100%|██████████| 30/30 [00:00<00:00, 732.95it/s]\n",
      "Training:  22%|██▏       | 11/50 [00:00<00:00, 104.60it/s]"
     ]
    },
    {
     "name": "stdout",
     "output_type": "stream",
     "text": [
      "9.2\n"
     ]
    },
    {
     "name": "stderr",
     "output_type": "stream",
     "text": [
      "Training: 100%|██████████| 50/50 [00:00<00:00, 139.77it/s]\n",
      "Evaluating: 100%|██████████| 30/30 [00:00<00:00, 674.32it/s]\n",
      "Training:  34%|███▍      | 17/50 [00:00<00:00, 158.97it/s]"
     ]
    },
    {
     "name": "stdout",
     "output_type": "stream",
     "text": [
      "9.5\n"
     ]
    },
    {
     "name": "stderr",
     "output_type": "stream",
     "text": [
      "Training: 100%|██████████| 50/50 [00:00<00:00, 159.48it/s]\n",
      "Evaluating: 100%|██████████| 30/30 [00:00<00:00, 720.36it/s]\n",
      "Training:  36%|███▌      | 18/50 [00:00<00:00, 170.43it/s]"
     ]
    },
    {
     "name": "stdout",
     "output_type": "stream",
     "text": [
      "9.433333333333334\n"
     ]
    },
    {
     "name": "stderr",
     "output_type": "stream",
     "text": [
      "Training: 100%|██████████| 50/50 [00:00<00:00, 152.52it/s]\n",
      "Evaluating: 100%|██████████| 30/30 [00:00<00:00, 689.57it/s]\n",
      "Training:  22%|██▏       | 11/50 [00:00<00:00, 107.12it/s]"
     ]
    },
    {
     "name": "stdout",
     "output_type": "stream",
     "text": [
      "9.4\n"
     ]
    },
    {
     "name": "stderr",
     "output_type": "stream",
     "text": [
      "Training: 100%|██████████| 50/50 [00:00<00:00, 108.39it/s]\n",
      "Evaluating: 100%|██████████| 30/30 [00:00<00:00, 566.66it/s]\n",
      "Training:  22%|██▏       | 11/50 [00:00<00:00, 109.38it/s]"
     ]
    },
    {
     "name": "stdout",
     "output_type": "stream",
     "text": [
      "9.433333333333334\n"
     ]
    },
    {
     "name": "stderr",
     "output_type": "stream",
     "text": [
      "Training: 100%|██████████| 50/50 [00:00<00:00, 112.70it/s]\n",
      "Evaluating: 100%|██████████| 30/30 [00:00<00:00, 538.96it/s]\n",
      "Training:  24%|██▍       | 12/50 [00:00<00:00, 119.34it/s]"
     ]
    },
    {
     "name": "stdout",
     "output_type": "stream",
     "text": [
      "9.433333333333334\n"
     ]
    },
    {
     "name": "stderr",
     "output_type": "stream",
     "text": [
      "Training: 100%|██████████| 50/50 [00:00<00:00, 109.41it/s]\n",
      "Evaluating: 100%|██████████| 30/30 [00:00<00:00, 547.80it/s]\n",
      "Training:  26%|██▌       | 13/50 [00:00<00:00, 124.77it/s]"
     ]
    },
    {
     "name": "stdout",
     "output_type": "stream",
     "text": [
      "9.333333333333334\n"
     ]
    },
    {
     "name": "stderr",
     "output_type": "stream",
     "text": [
      "Training: 100%|██████████| 50/50 [00:00<00:00, 115.71it/s]\n",
      "Evaluating: 100%|██████████| 30/30 [00:00<00:00, 558.26it/s]\n",
      "Training:  24%|██▍       | 12/50 [00:00<00:00, 116.14it/s]"
     ]
    },
    {
     "name": "stdout",
     "output_type": "stream",
     "text": [
      "9.3\n"
     ]
    },
    {
     "name": "stderr",
     "output_type": "stream",
     "text": [
      "Training: 100%|██████████| 50/50 [00:00<00:00, 120.70it/s]\n",
      "Evaluating: 100%|██████████| 30/30 [00:00<00:00, 574.25it/s]\n",
      "Training:  24%|██▍       | 12/50 [00:00<00:00, 119.83it/s]"
     ]
    },
    {
     "name": "stdout",
     "output_type": "stream",
     "text": [
      "9.133333333333333\n"
     ]
    },
    {
     "name": "stderr",
     "output_type": "stream",
     "text": [
      "Training: 100%|██████████| 50/50 [00:00<00:00, 138.04it/s]\n",
      "Evaluating: 100%|██████████| 30/30 [00:00<00:00, 675.13it/s]\n",
      "Training:  28%|██▊       | 14/50 [00:00<00:00, 128.50it/s]"
     ]
    },
    {
     "name": "stdout",
     "output_type": "stream",
     "text": [
      "9.6\n"
     ]
    },
    {
     "name": "stderr",
     "output_type": "stream",
     "text": [
      "Training: 100%|██████████| 50/50 [00:00<00:00, 144.69it/s]\n",
      "Evaluating: 100%|██████████| 30/30 [00:00<00:00, 697.95it/s]\n",
      "Training:  34%|███▍      | 17/50 [00:00<00:00, 167.93it/s]"
     ]
    },
    {
     "name": "stdout",
     "output_type": "stream",
     "text": [
      "9.266666666666667\n"
     ]
    },
    {
     "name": "stderr",
     "output_type": "stream",
     "text": [
      "Training: 100%|██████████| 50/50 [00:00<00:00, 154.75it/s]\n",
      "Evaluating: 100%|██████████| 30/30 [00:00<00:00, 677.34it/s]\n",
      "Training:  28%|██▊       | 14/50 [00:00<00:00, 136.79it/s]"
     ]
    },
    {
     "name": "stdout",
     "output_type": "stream",
     "text": [
      "9.366666666666667\n"
     ]
    },
    {
     "name": "stderr",
     "output_type": "stream",
     "text": [
      "Training: 100%|██████████| 50/50 [00:00<00:00, 145.60it/s]\n",
      "Evaluating: 100%|██████████| 30/30 [00:00<00:00, 687.90it/s]\n",
      "Training:  26%|██▌       | 13/50 [00:00<00:00, 129.43it/s]"
     ]
    },
    {
     "name": "stdout",
     "output_type": "stream",
     "text": [
      "9.366666666666667\n"
     ]
    },
    {
     "name": "stderr",
     "output_type": "stream",
     "text": [
      "Training: 100%|██████████| 50/50 [00:00<00:00, 124.44it/s]\n",
      "Evaluating: 100%|██████████| 30/30 [00:00<00:00, 554.15it/s]\n",
      "Training:  24%|██▍       | 12/50 [00:00<00:00, 118.66it/s]"
     ]
    },
    {
     "name": "stdout",
     "output_type": "stream",
     "text": [
      "9.333333333333334\n"
     ]
    },
    {
     "name": "stderr",
     "output_type": "stream",
     "text": [
      "Training: 100%|██████████| 50/50 [00:00<00:00, 127.46it/s]\n",
      "Evaluating: 100%|██████████| 30/30 [00:00<00:00, 507.91it/s]\n",
      "Training:  30%|███       | 15/50 [00:00<00:00, 145.75it/s]"
     ]
    },
    {
     "name": "stdout",
     "output_type": "stream",
     "text": [
      "9.266666666666667\n"
     ]
    },
    {
     "name": "stderr",
     "output_type": "stream",
     "text": [
      "Training: 100%|██████████| 50/50 [00:00<00:00, 154.73it/s]\n",
      "Evaluating: 100%|██████████| 30/30 [00:00<00:00, 708.71it/s]\n",
      "Training:  26%|██▌       | 13/50 [00:00<00:00, 126.84it/s]"
     ]
    },
    {
     "name": "stdout",
     "output_type": "stream",
     "text": [
      "9.366666666666667\n"
     ]
    },
    {
     "name": "stderr",
     "output_type": "stream",
     "text": [
      "Training: 100%|██████████| 50/50 [00:00<00:00, 153.82it/s]\n",
      "Evaluating: 100%|██████████| 30/30 [00:00<00:00, 697.20it/s]\n",
      "Training:  34%|███▍      | 17/50 [00:00<00:00, 168.11it/s]"
     ]
    },
    {
     "name": "stdout",
     "output_type": "stream",
     "text": [
      "9.466666666666667\n"
     ]
    },
    {
     "name": "stderr",
     "output_type": "stream",
     "text": [
      "Training: 100%|██████████| 50/50 [00:00<00:00, 159.64it/s]\n",
      "Evaluating: 100%|██████████| 30/30 [00:00<00:00, 703.95it/s]\n",
      "Training:  34%|███▍      | 17/50 [00:00<00:00, 166.46it/s]"
     ]
    },
    {
     "name": "stdout",
     "output_type": "stream",
     "text": [
      "9.133333333333333\n"
     ]
    },
    {
     "name": "stderr",
     "output_type": "stream",
     "text": [
      "Training: 100%|██████████| 50/50 [00:00<00:00, 156.68it/s]\n",
      "Evaluating: 100%|██████████| 30/30 [00:00<00:00, 710.95it/s]\n",
      "Training:  32%|███▏      | 16/50 [00:00<00:00, 158.32it/s]"
     ]
    },
    {
     "name": "stdout",
     "output_type": "stream",
     "text": [
      "9.333333333333334\n"
     ]
    },
    {
     "name": "stderr",
     "output_type": "stream",
     "text": [
      "Training: 100%|██████████| 50/50 [00:00<00:00, 168.06it/s]\n",
      "Evaluating: 100%|██████████| 30/30 [00:00<00:00, 712.86it/s]\n",
      "Training:  26%|██▌       | 13/50 [00:00<00:00, 104.73it/s]"
     ]
    },
    {
     "name": "stdout",
     "output_type": "stream",
     "text": [
      "9.233333333333333\n"
     ]
    },
    {
     "name": "stderr",
     "output_type": "stream",
     "text": [
      "Training: 100%|██████████| 50/50 [00:00<00:00, 123.64it/s]\n",
      "Evaluating: 100%|██████████| 30/30 [00:00<00:00, 545.48it/s]\n",
      "Training:  34%|███▍      | 17/50 [00:00<00:00, 160.18it/s]"
     ]
    },
    {
     "name": "stdout",
     "output_type": "stream",
     "text": [
      "9.466666666666667\n"
     ]
    },
    {
     "name": "stderr",
     "output_type": "stream",
     "text": [
      "Training: 100%|██████████| 50/50 [00:00<00:00, 169.81it/s]\n",
      "Evaluating: 100%|██████████| 30/30 [00:00<00:00, 696.23it/s]\n",
      "Training:  22%|██▏       | 11/50 [00:00<00:00, 97.87it/s]"
     ]
    },
    {
     "name": "stdout",
     "output_type": "stream",
     "text": [
      "9.466666666666667\n"
     ]
    },
    {
     "name": "stderr",
     "output_type": "stream",
     "text": [
      "Training: 100%|██████████| 50/50 [00:00<00:00, 123.92it/s]\n",
      "Evaluating: 100%|██████████| 30/30 [00:00<00:00, 468.35it/s]\n",
      "Training:  26%|██▌       | 13/50 [00:00<00:00, 120.47it/s]"
     ]
    },
    {
     "name": "stdout",
     "output_type": "stream",
     "text": [
      "9.333333333333334\n"
     ]
    },
    {
     "name": "stderr",
     "output_type": "stream",
     "text": [
      "Training: 100%|██████████| 50/50 [00:00<00:00, 133.54it/s]\n",
      "Evaluating: 100%|██████████| 30/30 [00:00<00:00, 462.14it/s]\n",
      "Training:  26%|██▌       | 13/50 [00:00<00:00, 124.28it/s]"
     ]
    },
    {
     "name": "stdout",
     "output_type": "stream",
     "text": [
      "9.233333333333333\n"
     ]
    },
    {
     "name": "stderr",
     "output_type": "stream",
     "text": [
      "Training: 100%|██████████| 50/50 [00:00<00:00, 148.83it/s]\n",
      "Evaluating: 100%|██████████| 30/30 [00:00<00:00, 648.31it/s]\n",
      "Training:  26%|██▌       | 13/50 [00:00<00:00, 127.86it/s]"
     ]
    },
    {
     "name": "stdout",
     "output_type": "stream",
     "text": [
      "9.133333333333333\n"
     ]
    },
    {
     "name": "stderr",
     "output_type": "stream",
     "text": [
      "Training: 100%|██████████| 50/50 [00:00<00:00, 142.08it/s]\n",
      "Evaluating: 100%|██████████| 30/30 [00:00<00:00, 722.15it/s]\n",
      "Training:  30%|███       | 15/50 [00:00<00:00, 146.51it/s]"
     ]
    },
    {
     "name": "stdout",
     "output_type": "stream",
     "text": [
      "9.0\n"
     ]
    },
    {
     "name": "stderr",
     "output_type": "stream",
     "text": [
      "Training: 100%|██████████| 50/50 [00:00<00:00, 164.03it/s]\n",
      "Evaluating: 100%|██████████| 30/30 [00:00<00:00, 693.72it/s]\n",
      "Training:  32%|███▏      | 16/50 [00:00<00:00, 150.31it/s]"
     ]
    },
    {
     "name": "stdout",
     "output_type": "stream",
     "text": [
      "9.266666666666667\n"
     ]
    },
    {
     "name": "stderr",
     "output_type": "stream",
     "text": [
      "Training: 100%|██████████| 50/50 [00:00<00:00, 158.58it/s]\n",
      "Evaluating: 100%|██████████| 30/30 [00:00<00:00, 739.29it/s]\n",
      "Training:  34%|███▍      | 17/50 [00:00<00:00, 167.05it/s]"
     ]
    },
    {
     "name": "stdout",
     "output_type": "stream",
     "text": [
      "9.133333333333333\n"
     ]
    },
    {
     "name": "stderr",
     "output_type": "stream",
     "text": [
      "Training: 100%|██████████| 50/50 [00:00<00:00, 168.28it/s]\n",
      "Evaluating: 100%|██████████| 30/30 [00:00<00:00, 694.66it/s]\n",
      "Training:  34%|███▍      | 17/50 [00:00<00:00, 164.82it/s]"
     ]
    },
    {
     "name": "stdout",
     "output_type": "stream",
     "text": [
      "9.4\n"
     ]
    },
    {
     "name": "stderr",
     "output_type": "stream",
     "text": [
      "Training: 100%|██████████| 50/50 [00:00<00:00, 169.65it/s]\n",
      "Evaluating: 100%|██████████| 30/30 [00:00<00:00, 694.49it/s]\n",
      "Training:  38%|███▊      | 19/50 [00:00<00:00, 184.24it/s]"
     ]
    },
    {
     "name": "stdout",
     "output_type": "stream",
     "text": [
      "9.5\n"
     ]
    },
    {
     "name": "stderr",
     "output_type": "stream",
     "text": [
      "Training: 100%|██████████| 50/50 [00:00<00:00, 171.42it/s]\n",
      "Evaluating: 100%|██████████| 30/30 [00:00<00:00, 539.17it/s]\n",
      "Training:  34%|███▍      | 17/50 [00:00<00:00, 159.15it/s]"
     ]
    },
    {
     "name": "stdout",
     "output_type": "stream",
     "text": [
      "12.3\n"
     ]
    },
    {
     "name": "stderr",
     "output_type": "stream",
     "text": [
      "Training: 100%|██████████| 50/50 [00:00<00:00, 134.36it/s]\n",
      "Evaluating: 100%|██████████| 30/30 [00:00<00:00, 424.67it/s]\n",
      "Training:  28%|██▊       | 14/50 [00:00<00:00, 131.34it/s]"
     ]
    },
    {
     "name": "stdout",
     "output_type": "stream",
     "text": [
      "15.966666666666667\n"
     ]
    },
    {
     "name": "stderr",
     "output_type": "stream",
     "text": [
      "Training: 100%|██████████| 50/50 [00:00<00:00, 88.73it/s] \n",
      "Evaluating: 100%|██████████| 30/30 [00:00<00:00, 318.88it/s]\n",
      "Training:  14%|█▍        | 7/50 [00:00<00:00, 67.57it/s]"
     ]
    },
    {
     "name": "stdout",
     "output_type": "stream",
     "text": [
      "21.633333333333333\n"
     ]
    },
    {
     "name": "stderr",
     "output_type": "stream",
     "text": [
      "Training: 100%|██████████| 50/50 [00:00<00:00, 84.93it/s]\n",
      "Evaluating: 100%|██████████| 30/30 [00:00<00:00, 293.99it/s]\n",
      "Training:  12%|█▏        | 6/50 [00:00<00:00, 59.09it/s]"
     ]
    },
    {
     "name": "stdout",
     "output_type": "stream",
     "text": [
      "23.0\n"
     ]
    },
    {
     "name": "stderr",
     "output_type": "stream",
     "text": [
      "Training: 100%|██████████| 50/50 [00:00<00:00, 54.27it/s]\n",
      "Evaluating: 100%|██████████| 30/30 [00:00<00:00, 122.62it/s]\n",
      "Training:   8%|▊         | 4/50 [00:00<00:01, 23.15it/s]"
     ]
    },
    {
     "name": "stdout",
     "output_type": "stream",
     "text": [
      "50.56666666666667\n"
     ]
    },
    {
     "name": "stderr",
     "output_type": "stream",
     "text": [
      "Training: 100%|██████████| 50/50 [00:00<00:00, 66.10it/s]\n",
      "Evaluating: 100%|██████████| 30/30 [00:00<00:00, 296.16it/s]\n",
      "Training:  16%|█▌        | 8/50 [00:00<00:00, 74.91it/s]"
     ]
    },
    {
     "name": "stdout",
     "output_type": "stream",
     "text": [
      "22.066666666666666\n"
     ]
    },
    {
     "name": "stderr",
     "output_type": "stream",
     "text": [
      "Training: 100%|██████████| 50/50 [00:00<00:00, 57.47it/s]\n",
      "Evaluating: 100%|██████████| 30/30 [00:00<00:00, 57.37it/s]\n",
      "Training:   2%|▏         | 1/50 [00:00<00:05,  9.31it/s]"
     ]
    },
    {
     "name": "stdout",
     "output_type": "stream",
     "text": [
      "106.23333333333333\n"
     ]
    },
    {
     "name": "stderr",
     "output_type": "stream",
     "text": [
      "Training: 100%|██████████| 50/50 [00:01<00:00, 43.32it/s]\n",
      "Evaluating: 100%|██████████| 30/30 [00:00<00:00, 456.56it/s]\n",
      "Training:  18%|█▊        | 9/50 [00:00<00:00, 67.95it/s]"
     ]
    },
    {
     "name": "stdout",
     "output_type": "stream",
     "text": [
      "15.133333333333333\n"
     ]
    },
    {
     "name": "stderr",
     "output_type": "stream",
     "text": [
      "Training: 100%|██████████| 50/50 [00:00<00:00, 59.84it/s]\n",
      "Evaluating: 100%|██████████| 30/30 [00:00<00:00, 503.71it/s]\n",
      "Training:  16%|█▌        | 8/50 [00:00<00:00, 54.14it/s]"
     ]
    },
    {
     "name": "stdout",
     "output_type": "stream",
     "text": [
      "13.166666666666666\n"
     ]
    },
    {
     "name": "stderr",
     "output_type": "stream",
     "text": [
      "Training: 100%|██████████| 50/50 [00:01<00:00, 37.56it/s]\n",
      "Evaluating: 100%|██████████| 30/30 [00:00<00:00, 260.99it/s]\n",
      "Training:   6%|▌         | 3/50 [00:00<00:01, 26.02it/s]"
     ]
    },
    {
     "name": "stdout",
     "output_type": "stream",
     "text": [
      "24.3\n"
     ]
    },
    {
     "name": "stderr",
     "output_type": "stream",
     "text": [
      "Training: 100%|██████████| 50/50 [00:00<00:00, 81.50it/s]\n",
      "Evaluating: 100%|██████████| 30/30 [00:00<00:00, 433.77it/s]\n",
      "Training:  10%|█         | 5/50 [00:00<00:00, 47.53it/s]"
     ]
    },
    {
     "name": "stdout",
     "output_type": "stream",
     "text": [
      "15.4\n"
     ]
    },
    {
     "name": "stderr",
     "output_type": "stream",
     "text": [
      "Training: 100%|██████████| 50/50 [00:00<00:00, 65.56it/s]\n",
      "Evaluating: 100%|██████████| 30/30 [00:00<00:00, 146.53it/s]\n",
      "Training:  10%|█         | 5/50 [00:00<00:01, 30.15it/s]"
     ]
    },
    {
     "name": "stdout",
     "output_type": "stream",
     "text": [
      "43.86666666666667\n"
     ]
    },
    {
     "name": "stderr",
     "output_type": "stream",
     "text": [
      "Training: 100%|██████████| 50/50 [00:00<00:00, 50.84it/s]\n",
      "Evaluating: 100%|██████████| 30/30 [00:00<00:00, 367.75it/s]\n",
      "Training:  22%|██▏       | 11/50 [00:00<00:00, 109.33it/s]"
     ]
    },
    {
     "name": "stdout",
     "output_type": "stream",
     "text": [
      "17.566666666666666\n"
     ]
    },
    {
     "name": "stderr",
     "output_type": "stream",
     "text": [
      "Training: 100%|██████████| 50/50 [00:01<00:00, 46.45it/s] \n",
      "Evaluating: 100%|██████████| 30/30 [00:00<00:00, 287.25it/s]\n",
      "Training:  14%|█▍        | 7/50 [00:00<00:00, 60.25it/s]"
     ]
    },
    {
     "name": "stdout",
     "output_type": "stream",
     "text": [
      "23.6\n"
     ]
    },
    {
     "name": "stderr",
     "output_type": "stream",
     "text": [
      "Training: 100%|██████████| 50/50 [00:01<00:00, 42.14it/s]\n",
      "Evaluating: 100%|██████████| 30/30 [00:00<00:00, 37.96it/s]\n",
      "Training:   6%|▌         | 3/50 [00:00<00:01, 28.17it/s]"
     ]
    },
    {
     "name": "stdout",
     "output_type": "stream",
     "text": [
      "156.73333333333332\n"
     ]
    },
    {
     "name": "stderr",
     "output_type": "stream",
     "text": [
      "Training: 100%|██████████| 50/50 [00:01<00:00, 28.58it/s]\n",
      "Evaluating: 100%|██████████| 30/30 [00:00<00:00, 384.30it/s]\n",
      "Training:  10%|█         | 5/50 [00:00<00:01, 40.49it/s]"
     ]
    },
    {
     "name": "stdout",
     "output_type": "stream",
     "text": [
      "17.566666666666666\n"
     ]
    },
    {
     "name": "stderr",
     "output_type": "stream",
     "text": [
      "Training: 100%|██████████| 50/50 [00:01<00:00, 37.03it/s]\n",
      "Evaluating: 100%|██████████| 30/30 [00:00<00:00, 359.18it/s]\n",
      "Training:  14%|█▍        | 7/50 [00:00<00:00, 68.82it/s]"
     ]
    },
    {
     "name": "stdout",
     "output_type": "stream",
     "text": [
      "17.966666666666665\n"
     ]
    },
    {
     "name": "stderr",
     "output_type": "stream",
     "text": [
      "Training: 100%|██████████| 50/50 [00:01<00:00, 33.64it/s]\n",
      "Evaluating: 100%|██████████| 30/30 [00:00<00:00, 204.43it/s]\n",
      "Training:   0%|          | 0/50 [00:00<?, ?it/s]"
     ]
    },
    {
     "name": "stdout",
     "output_type": "stream",
     "text": [
      "32.5\n"
     ]
    },
    {
     "name": "stderr",
     "output_type": "stream",
     "text": [
      "Training: 100%|██████████| 50/50 [00:01<00:00, 34.87it/s]\n",
      "Evaluating: 100%|██████████| 30/30 [00:00<00:00, 240.13it/s]\n",
      "Training:   6%|▌         | 3/50 [00:00<00:02, 20.15it/s]"
     ]
    },
    {
     "name": "stdout",
     "output_type": "stream",
     "text": [
      "28.566666666666666\n"
     ]
    },
    {
     "name": "stderr",
     "output_type": "stream",
     "text": [
      "Training: 100%|██████████| 50/50 [00:02<00:00, 16.76it/s]\n",
      "Evaluating: 100%|██████████| 30/30 [00:00<00:00, 55.72it/s]\n",
      "Training:   4%|▍         | 2/50 [00:00<00:02, 18.55it/s]"
     ]
    },
    {
     "name": "stdout",
     "output_type": "stream",
     "text": [
      "117.03333333333333\n"
     ]
    },
    {
     "name": "stderr",
     "output_type": "stream",
     "text": [
      "Training: 100%|██████████| 50/50 [00:01<00:00, 31.62it/s]\n",
      "Evaluating: 100%|██████████| 30/30 [00:00<00:00, 41.98it/s]\n",
      "Training:   8%|▊         | 4/50 [00:00<00:01, 38.31it/s]"
     ]
    },
    {
     "name": "stdout",
     "output_type": "stream",
     "text": [
      "142.26666666666668\n"
     ]
    },
    {
     "name": "stderr",
     "output_type": "stream",
     "text": [
      "Training: 100%|██████████| 50/50 [00:02<00:00, 17.30it/s]\n",
      "Evaluating: 100%|██████████| 30/30 [00:00<00:00, 80.93it/s]\n",
      "Training:   6%|▌         | 3/50 [00:00<00:01, 26.04it/s]"
     ]
    },
    {
     "name": "stdout",
     "output_type": "stream",
     "text": [
      "82.03333333333333\n"
     ]
    },
    {
     "name": "stderr",
     "output_type": "stream",
     "text": [
      "Training: 100%|██████████| 50/50 [00:01<00:00, 46.19it/s]\n",
      "Evaluating: 100%|██████████| 30/30 [00:00<00:00, 569.90it/s]\n",
      "Training:  24%|██▍       | 12/50 [00:00<00:00, 106.85it/s]"
     ]
    },
    {
     "name": "stdout",
     "output_type": "stream",
     "text": [
      "12.133333333333333\n"
     ]
    },
    {
     "name": "stderr",
     "output_type": "stream",
     "text": [
      "Training: 100%|██████████| 50/50 [00:02<00:00, 18.03it/s] \n",
      "Evaluating: 100%|██████████| 30/30 [00:00<00:00, 36.74it/s]\n",
      "Training:   2%|▏         | 1/50 [00:00<00:06,  7.91it/s]"
     ]
    },
    {
     "name": "stdout",
     "output_type": "stream",
     "text": [
      "200.0\n"
     ]
    },
    {
     "name": "stderr",
     "output_type": "stream",
     "text": [
      "Training: 100%|██████████| 50/50 [00:05<00:00,  9.92it/s]\n",
      "Evaluating: 100%|██████████| 30/30 [00:00<00:00, 36.97it/s]\n",
      "Training:   2%|▏         | 1/50 [00:00<00:08,  5.68it/s]"
     ]
    },
    {
     "name": "stdout",
     "output_type": "stream",
     "text": [
      "200.0\n"
     ]
    },
    {
     "name": "stderr",
     "output_type": "stream",
     "text": [
      "Training: 100%|██████████| 50/50 [00:04<00:00, 11.87it/s]\n",
      "Evaluating: 100%|██████████| 30/30 [00:00<00:00, 583.14it/s]\n",
      "Training:  36%|███▌      | 18/50 [00:00<00:00, 177.29it/s]"
     ]
    },
    {
     "name": "stdout",
     "output_type": "stream",
     "text": [
      "9.266666666666667\n"
     ]
    },
    {
     "name": "stderr",
     "output_type": "stream",
     "text": [
      "Training: 100%|██████████| 50/50 [00:02<00:00, 24.29it/s] \n",
      "Evaluating: 100%|██████████| 30/30 [00:00<00:00, 678.87it/s]\n",
      "Training:  12%|█▏        | 6/50 [00:00<00:01, 43.32it/s]"
     ]
    },
    {
     "name": "stdout",
     "output_type": "stream",
     "text": [
      "9.966666666666667\n"
     ]
    },
    {
     "name": "stderr",
     "output_type": "stream",
     "text": [
      "Training: 100%|██████████| 50/50 [00:01<00:00, 36.18it/s]\n",
      "Evaluating: 100%|██████████| 30/30 [00:00<00:00, 530.86it/s]\n",
      "Training:  28%|██▊       | 14/50 [00:00<00:00, 133.96it/s]"
     ]
    },
    {
     "name": "stdout",
     "output_type": "stream",
     "text": [
      "12.633333333333333\n"
     ]
    },
    {
     "name": "stderr",
     "output_type": "stream",
     "text": [
      "Training: 100%|██████████| 50/50 [00:02<00:00, 17.50it/s] \n",
      "Evaluating: 100%|██████████| 30/30 [00:01<00:00, 29.85it/s]\n",
      "Training:   2%|▏         | 1/50 [00:00<00:05,  8.23it/s]"
     ]
    },
    {
     "name": "stdout",
     "output_type": "stream",
     "text": [
      "198.63333333333333\n"
     ]
    },
    {
     "name": "stderr",
     "output_type": "stream",
     "text": [
      "Training: 100%|██████████| 50/50 [00:04<00:00, 10.15it/s]\n",
      "Evaluating: 100%|██████████| 30/30 [00:00<00:00, 33.21it/s]\n",
      "Training:   2%|▏         | 1/50 [00:00<00:05,  9.53it/s]"
     ]
    },
    {
     "name": "stdout",
     "output_type": "stream",
     "text": [
      "178.66666666666666\n"
     ]
    },
    {
     "name": "stderr",
     "output_type": "stream",
     "text": [
      "Training: 100%|██████████| 50/50 [00:00<00:00, 62.18it/s]\n",
      "Evaluating: 100%|██████████| 30/30 [00:00<00:00, 707.01it/s]\n",
      "Training:  38%|███▊      | 19/50 [00:00<00:00, 181.08it/s]"
     ]
    },
    {
     "name": "stdout",
     "output_type": "stream",
     "text": [
      "9.5\n"
     ]
    },
    {
     "name": "stderr",
     "output_type": "stream",
     "text": [
      "Training: 100%|██████████| 50/50 [00:00<00:00, 191.86it/s]\n",
      "Evaluating: 100%|██████████| 30/30 [00:00<00:00, 712.22it/s]\n",
      "Training:  18%|█▊        | 9/50 [00:00<00:00, 69.86it/s]"
     ]
    },
    {
     "name": "stdout",
     "output_type": "stream",
     "text": [
      "9.2\n"
     ]
    },
    {
     "name": "stderr",
     "output_type": "stream",
     "text": [
      "Training: 100%|██████████| 50/50 [00:02<00:00, 16.72it/s]\n",
      "Evaluating: 100%|██████████| 30/30 [00:00<00:00, 43.69it/s]\n",
      "Training:   2%|▏         | 1/50 [00:00<00:05,  8.55it/s]"
     ]
    },
    {
     "name": "stdout",
     "output_type": "stream",
     "text": [
      "171.03333333333333\n"
     ]
    },
    {
     "name": "stderr",
     "output_type": "stream",
     "text": [
      "Training: 100%|██████████| 50/50 [00:01<00:00, 25.58it/s]\n",
      "Evaluating: 100%|██████████| 30/30 [00:00<00:00, 122.59it/s]\n",
      "Training:  24%|██▍       | 12/50 [00:00<00:00, 114.34it/s]"
     ]
    },
    {
     "name": "stdout",
     "output_type": "stream",
     "text": [
      "46.1\n"
     ]
    },
    {
     "name": "stderr",
     "output_type": "stream",
     "text": [
      "Training: 100%|██████████| 50/50 [00:00<00:00, 105.73it/s]\n",
      "Evaluating: 100%|██████████| 30/30 [00:00<00:00, 255.22it/s]\n",
      "Training:  24%|██▍       | 12/50 [00:00<00:00, 112.90it/s]"
     ]
    },
    {
     "name": "stdout",
     "output_type": "stream",
     "text": [
      "27.533333333333335\n"
     ]
    },
    {
     "name": "stderr",
     "output_type": "stream",
     "text": [
      "Training: 100%|██████████| 50/50 [00:00<00:00, 82.94it/s] \n",
      "Evaluating: 100%|██████████| 30/30 [00:00<00:00, 387.01it/s]\n",
      "Training:  16%|█▌        | 8/50 [00:00<00:00, 75.65it/s]"
     ]
    },
    {
     "name": "stdout",
     "output_type": "stream",
     "text": [
      "14.233333333333333\n"
     ]
    },
    {
     "name": "stderr",
     "output_type": "stream",
     "text": [
      "Training: 100%|██████████| 50/50 [00:00<00:00, 82.15it/s]\n",
      "Evaluating: 100%|██████████| 30/30 [00:00<00:00, 146.75it/s]\n",
      "Training:   8%|▊         | 4/50 [00:00<00:01, 37.63it/s]"
     ]
    },
    {
     "name": "stdout",
     "output_type": "stream",
     "text": [
      "40.93333333333333\n"
     ]
    },
    {
     "name": "stderr",
     "output_type": "stream",
     "text": [
      "Training: 100%|██████████| 50/50 [00:01<00:00, 48.47it/s]\n",
      "Evaluating: 100%|██████████| 30/30 [00:00<00:00, 225.27it/s]\n",
      "Training:   8%|▊         | 4/50 [00:00<00:01, 25.91it/s]"
     ]
    },
    {
     "name": "stdout",
     "output_type": "stream",
     "text": [
      "25.066666666666666\n"
     ]
    },
    {
     "name": "stderr",
     "output_type": "stream",
     "text": [
      "Training: 100%|██████████| 50/50 [00:01<00:00, 28.24it/s]\n",
      "Evaluating: 100%|██████████| 30/30 [00:00<00:00, 185.11it/s]\n",
      "Training:   6%|▌         | 3/50 [00:00<00:02, 22.72it/s]"
     ]
    },
    {
     "name": "stdout",
     "output_type": "stream",
     "text": [
      "39.233333333333334\n"
     ]
    },
    {
     "name": "stderr",
     "output_type": "stream",
     "text": [
      "Training: 100%|██████████| 50/50 [00:01<00:00, 26.82it/s]\n",
      "Evaluating: 100%|██████████| 30/30 [00:00<00:00, 57.64it/s]\n",
      "Training:   4%|▍         | 2/50 [00:00<00:04, 11.27it/s]"
     ]
    },
    {
     "name": "stdout",
     "output_type": "stream",
     "text": [
      "127.06666666666666\n"
     ]
    },
    {
     "name": "stderr",
     "output_type": "stream",
     "text": [
      "Training: 100%|██████████| 50/50 [00:03<00:00, 16.20it/s]\n",
      "Evaluating: 100%|██████████| 30/30 [00:00<00:00, 63.10it/s]\n",
      "Training:   2%|▏         | 1/50 [00:00<00:04,  9.90it/s]"
     ]
    },
    {
     "name": "stdout",
     "output_type": "stream",
     "text": [
      "118.26666666666667\n"
     ]
    },
    {
     "name": "stderr",
     "output_type": "stream",
     "text": [
      "Training: 100%|██████████| 50/50 [00:03<00:00, 16.17it/s]\n",
      "Evaluating: 100%|██████████| 30/30 [00:00<00:00, 92.80it/s]\n",
      "Training:   6%|▌         | 3/50 [00:00<00:01, 28.05it/s]"
     ]
    },
    {
     "name": "stdout",
     "output_type": "stream",
     "text": [
      "75.5\n"
     ]
    },
    {
     "name": "stderr",
     "output_type": "stream",
     "text": [
      "Training: 100%|██████████| 50/50 [00:02<00:00, 24.33it/s]\n",
      "Evaluating: 100%|██████████| 30/30 [00:00<00:00, 242.96it/s]\n",
      "Training:  16%|█▌        | 8/50 [00:00<00:00, 73.02it/s]"
     ]
    },
    {
     "name": "stdout",
     "output_type": "stream",
     "text": [
      "30.033333333333335\n"
     ]
    },
    {
     "name": "stderr",
     "output_type": "stream",
     "text": [
      "Training: 100%|██████████| 50/50 [00:00<00:00, 63.67it/s]\n",
      "Evaluating: 100%|██████████| 30/30 [00:00<00:00, 92.99it/s] \n",
      "Training:   4%|▍         | 2/50 [00:00<00:02, 19.66it/s]"
     ]
    },
    {
     "name": "stdout",
     "output_type": "stream",
     "text": [
      "66.16666666666667\n"
     ]
    },
    {
     "name": "stderr",
     "output_type": "stream",
     "text": [
      "Training: 100%|██████████| 50/50 [00:01<00:00, 39.38it/s]\n",
      "Evaluating: 100%|██████████| 30/30 [00:00<00:00, 200.45it/s]\n",
      "Training:  10%|█         | 5/50 [00:00<00:00, 46.11it/s]"
     ]
    },
    {
     "name": "stdout",
     "output_type": "stream",
     "text": [
      "34.4\n"
     ]
    },
    {
     "name": "stderr",
     "output_type": "stream",
     "text": [
      "Training: 100%|██████████| 50/50 [00:01<00:00, 36.49it/s]\n",
      "Evaluating: 100%|██████████| 30/30 [00:00<00:00, 65.92it/s]\n",
      "Training:   4%|▍         | 2/50 [00:00<00:02, 16.81it/s]"
     ]
    },
    {
     "name": "stdout",
     "output_type": "stream",
     "text": [
      "93.43333333333334\n"
     ]
    },
    {
     "name": "stderr",
     "output_type": "stream",
     "text": [
      "Training: 100%|██████████| 50/50 [00:01<00:00, 42.67it/s]\n",
      "Evaluating: 100%|██████████| 30/30 [00:00<00:00, 84.18it/s] \n",
      "Training:   2%|▏         | 1/50 [00:00<00:05,  8.86it/s]"
     ]
    },
    {
     "name": "stdout",
     "output_type": "stream",
     "text": [
      "75.3\n"
     ]
    },
    {
     "name": "stderr",
     "output_type": "stream",
     "text": [
      "Training: 100%|██████████| 50/50 [00:03<00:00, 16.10it/s]\n",
      "Evaluating: 100%|██████████| 30/30 [00:00<00:00, 32.38it/s]\n",
      "Training:   2%|▏         | 1/50 [00:00<00:06,  7.36it/s]"
     ]
    },
    {
     "name": "stdout",
     "output_type": "stream",
     "text": [
      "200.0\n"
     ]
    },
    {
     "name": "stderr",
     "output_type": "stream",
     "text": [
      "Training: 100%|██████████| 50/50 [00:05<00:00,  9.60it/s]\n",
      "Evaluating: 100%|██████████| 30/30 [00:00<00:00, 34.90it/s]\n",
      "Training:   2%|▏         | 1/50 [00:00<00:06,  8.06it/s]"
     ]
    },
    {
     "name": "stdout",
     "output_type": "stream",
     "text": [
      "200.0\n"
     ]
    },
    {
     "name": "stderr",
     "output_type": "stream",
     "text": [
      "Training: 100%|██████████| 50/50 [00:02<00:00, 24.46it/s]\n",
      "Evaluating: 100%|██████████| 30/30 [00:00<00:00, 659.79it/s]\n",
      "Training:  26%|██▌       | 13/50 [00:00<00:00, 120.93it/s]"
     ]
    },
    {
     "name": "stdout",
     "output_type": "stream",
     "text": [
      "10.0\n"
     ]
    },
    {
     "name": "stderr",
     "output_type": "stream",
     "text": [
      "Training: 100%|██████████| 50/50 [00:01<00:00, 37.94it/s] \n",
      "Evaluating: 100%|██████████| 30/30 [00:00<00:00, 77.81it/s]\n",
      "Training:   4%|▍         | 2/50 [00:00<00:03, 14.35it/s]"
     ]
    },
    {
     "name": "stdout",
     "output_type": "stream",
     "text": [
      "95.2\n"
     ]
    },
    {
     "name": "stderr",
     "output_type": "stream",
     "text": [
      "Training: 100%|██████████| 50/50 [00:02<00:00, 18.25it/s]\n",
      "Evaluating: 100%|██████████| 30/30 [00:00<00:00, 329.03it/s]\n",
      "Training:  14%|█▍        | 7/50 [00:00<00:00, 68.37it/s]"
     ]
    },
    {
     "name": "stdout",
     "output_type": "stream",
     "text": [
      "20.8\n"
     ]
    },
    {
     "name": "stderr",
     "output_type": "stream",
     "text": [
      "Training: 100%|██████████| 50/50 [00:00<00:00, 64.23it/s]\n",
      "Evaluating: 100%|██████████| 30/30 [00:00<00:00, 248.23it/s]\n",
      "Training:  12%|█▏        | 6/50 [00:00<00:00, 59.62it/s]"
     ]
    },
    {
     "name": "stdout",
     "output_type": "stream",
     "text": [
      "22.5\n"
     ]
    },
    {
     "name": "stderr",
     "output_type": "stream",
     "text": [
      "Training: 100%|██████████| 50/50 [00:03<00:00, 14.79it/s]\n",
      "Evaluating: 100%|██████████| 30/30 [00:00<00:00, 41.04it/s]\n",
      "Training:   2%|▏         | 1/50 [00:00<00:05,  9.54it/s]"
     ]
    },
    {
     "name": "stdout",
     "output_type": "stream",
     "text": [
      "181.56666666666666\n"
     ]
    },
    {
     "name": "stderr",
     "output_type": "stream",
     "text": [
      "Training: 100%|██████████| 50/50 [00:04<00:00, 10.82it/s]\n",
      "Evaluating: 100%|██████████| 30/30 [00:00<00:00, 48.46it/s]\n",
      "Training:   0%|          | 0/50 [00:00<?, ?it/s]"
     ]
    },
    {
     "name": "stdout",
     "output_type": "stream",
     "text": [
      "148.26666666666668\n"
     ]
    },
    {
     "name": "stderr",
     "output_type": "stream",
     "text": [
      "Training: 100%|██████████| 50/50 [00:01<00:00, 29.04it/s]\n",
      "Evaluating: 100%|██████████| 30/30 [00:00<00:00, 447.48it/s]\n",
      "Training:   6%|▌         | 3/50 [00:00<00:02, 23.30it/s]"
     ]
    },
    {
     "name": "stdout",
     "output_type": "stream",
     "text": [
      "15.6\n"
     ]
    },
    {
     "name": "stderr",
     "output_type": "stream",
     "text": [
      "Training: 100%|██████████| 50/50 [00:01<00:00, 33.34it/s]\n",
      "Evaluating: 100%|██████████| 30/30 [00:00<00:00, 70.85it/s]\n",
      "Training:   8%|▊         | 4/50 [00:00<00:01, 32.05it/s]"
     ]
    },
    {
     "name": "stdout",
     "output_type": "stream",
     "text": [
      "102.46666666666667\n"
     ]
    },
    {
     "name": "stderr",
     "output_type": "stream",
     "text": [
      "Training: 100%|██████████| 50/50 [00:03<00:00, 16.58it/s]\n",
      "Evaluating: 100%|██████████| 30/30 [00:00<00:00, 51.88it/s]\n",
      "Training:   4%|▍         | 2/50 [00:00<00:03, 14.22it/s]"
     ]
    },
    {
     "name": "stdout",
     "output_type": "stream",
     "text": [
      "144.23333333333332\n"
     ]
    },
    {
     "name": "stderr",
     "output_type": "stream",
     "text": [
      "Training: 100%|██████████| 50/50 [00:02<00:00, 21.36it/s]\n",
      "Evaluating: 100%|██████████| 30/30 [00:00<00:00, 85.16it/s]\n",
      "Training:   8%|▊         | 4/50 [00:00<00:01, 32.13it/s]"
     ]
    },
    {
     "name": "stdout",
     "output_type": "stream",
     "text": [
      "86.56666666666666\n"
     ]
    },
    {
     "name": "stderr",
     "output_type": "stream",
     "text": [
      "Training: 100%|██████████| 50/50 [00:01<00:00, 26.68it/s]\n",
      "Evaluating: 100%|██████████| 30/30 [00:00<00:00, 164.03it/s]\n",
      "Training:   4%|▍         | 2/50 [00:00<00:02, 19.28it/s]"
     ]
    },
    {
     "name": "stdout",
     "output_type": "stream",
     "text": [
      "43.96666666666667\n"
     ]
    },
    {
     "name": "stderr",
     "output_type": "stream",
     "text": [
      "Training: 100%|██████████| 50/50 [00:00<00:00, 54.61it/s]\n",
      "Evaluating: 100%|██████████| 30/30 [00:00<00:00, 219.78it/s]\n",
      "Training:   8%|▊         | 4/50 [00:00<00:01, 35.34it/s]"
     ]
    },
    {
     "name": "stdout",
     "output_type": "stream",
     "text": [
      "28.0\n"
     ]
    },
    {
     "name": "stderr",
     "output_type": "stream",
     "text": [
      "Training: 100%|██████████| 50/50 [00:02<00:00, 21.92it/s]\n",
      "Evaluating: 100%|██████████| 30/30 [00:00<00:00, 61.22it/s]\n",
      "Training:   4%|▍         | 2/50 [00:00<00:03, 14.80it/s]"
     ]
    },
    {
     "name": "stdout",
     "output_type": "stream",
     "text": [
      "113.3\n"
     ]
    },
    {
     "name": "stderr",
     "output_type": "stream",
     "text": [
      "Training: 100%|██████████| 50/50 [00:02<00:00, 20.94it/s]\n",
      "Evaluating: 100%|██████████| 30/30 [00:00<00:00, 44.43it/s]\n",
      "Training:   4%|▍         | 2/50 [00:00<00:04, 11.86it/s]"
     ]
    },
    {
     "name": "stdout",
     "output_type": "stream",
     "text": [
      "165.5\n"
     ]
    },
    {
     "name": "stderr",
     "output_type": "stream",
     "text": [
      "Training: 100%|██████████| 50/50 [00:03<00:00, 14.36it/s]\n",
      "Evaluating: 100%|██████████| 30/30 [00:00<00:00, 210.24it/s]\n",
      "Training:  12%|█▏        | 6/50 [00:00<00:00, 53.23it/s]"
     ]
    },
    {
     "name": "stdout",
     "output_type": "stream",
     "text": [
      "35.166666666666664\n"
     ]
    },
    {
     "name": "stderr",
     "output_type": "stream",
     "text": [
      "Training: 100%|██████████| 50/50 [00:00<00:00, 50.05it/s]\n",
      "Evaluating: 100%|██████████| 30/30 [00:00<00:00, 201.80it/s]\n",
      "Training:   0%|          | 0/50 [00:00<?, ?it/s]"
     ]
    },
    {
     "name": "stdout",
     "output_type": "stream",
     "text": [
      "36.233333333333334\n"
     ]
    },
    {
     "name": "stderr",
     "output_type": "stream",
     "text": [
      "Training: 100%|██████████| 50/50 [00:03<00:00, 13.23it/s]\n",
      "Evaluating: 100%|██████████| 30/30 [00:00<00:00, 42.74it/s]\n",
      "Training:   4%|▍         | 2/50 [00:00<00:04, 11.44it/s]"
     ]
    },
    {
     "name": "stdout",
     "output_type": "stream",
     "text": [
      "172.2\n"
     ]
    },
    {
     "name": "stderr",
     "output_type": "stream",
     "text": [
      "Training: 100%|██████████| 50/50 [00:04<00:00, 10.02it/s]\n",
      "Evaluating: 100%|██████████| 30/30 [00:00<00:00, 37.27it/s]\n",
      "Training:   2%|▏         | 1/50 [00:00<00:05,  8.39it/s]"
     ]
    },
    {
     "name": "stdout",
     "output_type": "stream",
     "text": [
      "200.0\n"
     ]
    },
    {
     "name": "stderr",
     "output_type": "stream",
     "text": [
      "Training: 100%|██████████| 50/50 [00:05<00:00,  9.64it/s]\n",
      "Evaluating: 100%|██████████| 30/30 [00:00<00:00, 37.31it/s]\n",
      "Training:   2%|▏         | 1/50 [00:00<00:07,  6.52it/s]"
     ]
    },
    {
     "name": "stdout",
     "output_type": "stream",
     "text": [
      "200.0\n"
     ]
    },
    {
     "name": "stderr",
     "output_type": "stream",
     "text": [
      "Training: 100%|██████████| 50/50 [00:02<00:00, 23.54it/s]\n",
      "Evaluating: 100%|██████████| 30/30 [00:00<00:00, 519.52it/s]\n",
      "Training:  26%|██▌       | 13/50 [00:00<00:00, 89.23it/s]"
     ]
    },
    {
     "name": "stdout",
     "output_type": "stream",
     "text": [
      "12.666666666666666\n"
     ]
    },
    {
     "name": "stderr",
     "output_type": "stream",
     "text": [
      "Training: 100%|██████████| 50/50 [00:03<00:00, 13.79it/s]\n",
      "Evaluating: 100%|██████████| 30/30 [00:00<00:00, 31.14it/s]\n",
      "Training:   2%|▏         | 1/50 [00:00<00:06,  7.49it/s]"
     ]
    },
    {
     "name": "stdout",
     "output_type": "stream",
     "text": [
      "200.0\n"
     ]
    },
    {
     "name": "stderr",
     "output_type": "stream",
     "text": [
      "Training: 100%|██████████| 50/50 [00:05<00:00,  9.71it/s]\n",
      "Evaluating: 100%|██████████| 30/30 [00:00<00:00, 34.58it/s]\n",
      "Training:   2%|▏         | 1/50 [00:00<00:06,  8.02it/s]"
     ]
    },
    {
     "name": "stdout",
     "output_type": "stream",
     "text": [
      "200.0\n"
     ]
    },
    {
     "name": "stderr",
     "output_type": "stream",
     "text": [
      "Training: 100%|██████████| 50/50 [00:05<00:00,  9.65it/s]\n",
      "Evaluating: 100%|██████████| 30/30 [00:01<00:00, 29.72it/s]\n",
      "Training:   2%|▏         | 1/50 [00:00<00:07,  6.33it/s]"
     ]
    },
    {
     "name": "stdout",
     "output_type": "stream",
     "text": [
      "200.0\n"
     ]
    },
    {
     "name": "stderr",
     "output_type": "stream",
     "text": [
      "Training: 100%|██████████| 50/50 [00:05<00:00,  8.97it/s]\n",
      "Evaluating: 100%|██████████| 30/30 [00:00<00:00, 30.11it/s]\n",
      "Training:   2%|▏         | 1/50 [00:00<00:05,  8.78it/s]"
     ]
    },
    {
     "name": "stdout",
     "output_type": "stream",
     "text": [
      "200.0\n"
     ]
    },
    {
     "name": "stderr",
     "output_type": "stream",
     "text": [
      "Training: 100%|██████████| 50/50 [00:04<00:00, 10.03it/s]\n",
      "Evaluating: 100%|██████████| 30/30 [00:00<00:00, 37.26it/s]\n",
      "Training:   2%|▏         | 1/50 [00:00<00:06,  7.60it/s]"
     ]
    },
    {
     "name": "stdout",
     "output_type": "stream",
     "text": [
      "200.0\n"
     ]
    },
    {
     "name": "stderr",
     "output_type": "stream",
     "text": [
      "Training: 100%|██████████| 50/50 [00:05<00:00,  9.87it/s]\n",
      "Evaluating: 100%|██████████| 30/30 [00:00<00:00, 37.26it/s]\n",
      "Training:   2%|▏         | 1/50 [00:00<00:05,  8.82it/s]"
     ]
    },
    {
     "name": "stdout",
     "output_type": "stream",
     "text": [
      "200.0\n"
     ]
    },
    {
     "name": "stderr",
     "output_type": "stream",
     "text": [
      "Training: 100%|██████████| 50/50 [00:05<00:00,  9.98it/s]\n",
      "Evaluating: 100%|██████████| 30/30 [00:00<00:00, 37.02it/s]\n",
      "Training:   2%|▏         | 1/50 [00:00<00:05,  8.57it/s]"
     ]
    },
    {
     "name": "stdout",
     "output_type": "stream",
     "text": [
      "200.0\n"
     ]
    },
    {
     "name": "stderr",
     "output_type": "stream",
     "text": [
      "Training: 100%|██████████| 50/50 [00:04<00:00, 10.02it/s]\n",
      "Evaluating: 100%|██████████| 30/30 [00:00<00:00, 36.66it/s]\n",
      "Training:   2%|▏         | 1/50 [00:00<00:07,  6.95it/s]"
     ]
    },
    {
     "name": "stdout",
     "output_type": "stream",
     "text": [
      "200.0\n"
     ]
    },
    {
     "name": "stderr",
     "output_type": "stream",
     "text": [
      "Training: 100%|██████████| 50/50 [00:05<00:00,  8.85it/s]\n",
      "Evaluating: 100%|██████████| 30/30 [00:00<00:00, 36.30it/s]\n",
      "Training:   2%|▏         | 1/50 [00:00<00:06,  7.52it/s]"
     ]
    },
    {
     "name": "stdout",
     "output_type": "stream",
     "text": [
      "200.0\n"
     ]
    },
    {
     "name": "stderr",
     "output_type": "stream",
     "text": [
      "Training: 100%|██████████| 50/50 [00:04<00:00, 10.04it/s]\n",
      "Evaluating: 100%|██████████| 30/30 [00:01<00:00, 28.84it/s]\n",
      "Training:   2%|▏         | 1/50 [00:00<00:07,  6.13it/s]"
     ]
    },
    {
     "name": "stdout",
     "output_type": "stream",
     "text": [
      "200.0\n"
     ]
    },
    {
     "name": "stderr",
     "output_type": "stream",
     "text": [
      "Training: 100%|██████████| 50/50 [00:05<00:00,  9.57it/s]\n",
      "Evaluating: 100%|██████████| 30/30 [00:01<00:00, 28.84it/s]\n",
      "Training:   0%|          | 0/50 [00:00<?, ?it/s]"
     ]
    },
    {
     "name": "stdout",
     "output_type": "stream",
     "text": [
      "200.0\n"
     ]
    },
    {
     "name": "stderr",
     "output_type": "stream",
     "text": [
      "Training: 100%|██████████| 50/50 [00:05<00:00,  9.73it/s]\n",
      "Evaluating: 100%|██████████| 30/30 [00:00<00:00, 34.98it/s]\n",
      "Training:   2%|▏         | 1/50 [00:00<00:05,  8.35it/s]"
     ]
    },
    {
     "name": "stdout",
     "output_type": "stream",
     "text": [
      "200.0\n"
     ]
    },
    {
     "name": "stderr",
     "output_type": "stream",
     "text": [
      "Training: 100%|██████████| 50/50 [00:05<00:00,  9.43it/s]\n",
      "Evaluating: 100%|██████████| 30/30 [00:01<00:00, 29.63it/s]\n",
      "Training:   2%|▏         | 1/50 [00:00<00:06,  7.88it/s]"
     ]
    },
    {
     "name": "stdout",
     "output_type": "stream",
     "text": [
      "200.0\n"
     ]
    },
    {
     "name": "stderr",
     "output_type": "stream",
     "text": [
      "Training: 100%|██████████| 50/50 [00:05<00:00,  9.63it/s]\n",
      "Evaluating: 100%|██████████| 30/30 [00:01<00:00, 29.35it/s]\n",
      "Training:   2%|▏         | 1/50 [00:00<00:06,  8.13it/s]"
     ]
    },
    {
     "name": "stdout",
     "output_type": "stream",
     "text": [
      "200.0\n"
     ]
    },
    {
     "name": "stderr",
     "output_type": "stream",
     "text": [
      "Training: 100%|██████████| 50/50 [00:05<00:00,  9.66it/s]\n",
      "Evaluating: 100%|██████████| 30/30 [00:00<00:00, 35.95it/s]\n",
      "Training:   2%|▏         | 1/50 [00:00<00:06,  7.87it/s]"
     ]
    },
    {
     "name": "stdout",
     "output_type": "stream",
     "text": [
      "200.0\n"
     ]
    },
    {
     "name": "stderr",
     "output_type": "stream",
     "text": [
      "Training: 100%|██████████| 50/50 [00:00<00:00, 56.93it/s]\n",
      "Evaluating: 100%|██████████| 30/30 [00:00<00:00, 677.56it/s]\n",
      "Training:  34%|███▍      | 17/50 [00:00<00:00, 164.09it/s]"
     ]
    },
    {
     "name": "stdout",
     "output_type": "stream",
     "text": [
      "10.066666666666666\n"
     ]
    },
    {
     "name": "stderr",
     "output_type": "stream",
     "text": [
      "Training: 100%|██████████| 50/50 [00:02<00:00, 19.66it/s] \n",
      "Evaluating: 100%|██████████| 30/30 [00:00<00:00, 37.15it/s]\n",
      "Training:   2%|▏         | 1/50 [00:00<00:05,  8.74it/s]"
     ]
    },
    {
     "name": "stdout",
     "output_type": "stream",
     "text": [
      "200.0\n"
     ]
    },
    {
     "name": "stderr",
     "output_type": "stream",
     "text": [
      "Training: 100%|██████████| 50/50 [00:05<00:00,  9.96it/s]\n",
      "Evaluating: 100%|██████████| 30/30 [00:00<00:00, 37.30it/s]\n",
      "Training:   2%|▏         | 1/50 [00:00<00:08,  5.74it/s]"
     ]
    },
    {
     "name": "stdout",
     "output_type": "stream",
     "text": [
      "200.0\n"
     ]
    },
    {
     "name": "stderr",
     "output_type": "stream",
     "text": [
      "Training: 100%|██████████| 50/50 [00:06<00:00,  7.48it/s]\n",
      "Evaluating: 100%|██████████| 30/30 [00:01<00:00, 28.73it/s]\n",
      "Training:   2%|▏         | 1/50 [00:00<00:06,  7.49it/s]"
     ]
    },
    {
     "name": "stdout",
     "output_type": "stream",
     "text": [
      "200.0\n"
     ]
    },
    {
     "name": "stderr",
     "output_type": "stream",
     "text": [
      "Training: 100%|██████████| 50/50 [00:05<00:00,  9.76it/s]\n",
      "Evaluating: 100%|██████████| 30/30 [00:00<00:00, 37.35it/s]\n",
      "Training:   2%|▏         | 1/50 [00:00<00:05,  8.50it/s]"
     ]
    },
    {
     "name": "stdout",
     "output_type": "stream",
     "text": [
      "200.0\n"
     ]
    },
    {
     "name": "stderr",
     "output_type": "stream",
     "text": [
      "Training: 100%|██████████| 50/50 [00:05<00:00,  9.91it/s]\n",
      "Evaluating: 100%|██████████| 30/30 [00:00<00:00, 36.29it/s]\n",
      "Training:   2%|▏         | 1/50 [00:00<00:06,  7.02it/s]"
     ]
    },
    {
     "name": "stdout",
     "output_type": "stream",
     "text": [
      "200.0\n"
     ]
    },
    {
     "name": "stderr",
     "output_type": "stream",
     "text": [
      "Training: 100%|██████████| 50/50 [00:05<00:00,  8.47it/s]\n",
      "Evaluating: 100%|██████████| 30/30 [00:00<00:00, 37.34it/s]\n",
      "Training:   2%|▏         | 1/50 [00:00<00:05,  8.99it/s]"
     ]
    },
    {
     "name": "stdout",
     "output_type": "stream",
     "text": [
      "200.0\n"
     ]
    },
    {
     "name": "stderr",
     "output_type": "stream",
     "text": [
      "Training: 100%|██████████| 50/50 [00:05<00:00,  9.93it/s]\n",
      "Evaluating: 100%|██████████| 30/30 [00:00<00:00, 36.25it/s]\n",
      "Training:   2%|▏         | 1/50 [00:00<00:05,  8.36it/s]"
     ]
    },
    {
     "name": "stdout",
     "output_type": "stream",
     "text": [
      "200.0\n"
     ]
    },
    {
     "name": "stderr",
     "output_type": "stream",
     "text": [
      "Training: 100%|██████████| 50/50 [00:05<00:00,  9.95it/s]\n",
      "Evaluating: 100%|██████████| 30/30 [00:00<00:00, 35.39it/s]\n",
      "Training:   2%|▏         | 1/50 [00:00<00:05,  8.44it/s]"
     ]
    },
    {
     "name": "stdout",
     "output_type": "stream",
     "text": [
      "200.0\n"
     ]
    },
    {
     "name": "stderr",
     "output_type": "stream",
     "text": [
      "Training: 100%|██████████| 50/50 [00:05<00:00,  9.97it/s]\n",
      "Evaluating: 100%|██████████| 30/30 [00:00<00:00, 37.22it/s]\n",
      "Training:   0%|          | 0/50 [00:00<?, ?it/s]"
     ]
    },
    {
     "name": "stdout",
     "output_type": "stream",
     "text": [
      "200.0\n"
     ]
    },
    {
     "name": "stderr",
     "output_type": "stream",
     "text": [
      "Training: 100%|██████████| 50/50 [00:05<00:00,  9.87it/s]\n",
      "Evaluating: 100%|██████████| 30/30 [00:00<00:00, 129.07it/s]\n",
      "Training:   6%|▌         | 3/50 [00:00<00:02, 22.32it/s]"
     ]
    },
    {
     "name": "stdout",
     "output_type": "stream",
     "text": [
      "55.1\n"
     ]
    },
    {
     "name": "stderr",
     "output_type": "stream",
     "text": [
      "Training: 100%|██████████| 50/50 [00:04<00:00, 10.26it/s]\n",
      "Evaluating: 100%|██████████| 30/30 [00:00<00:00, 36.81it/s]\n",
      "Training:   2%|▏         | 1/50 [00:00<00:05,  8.48it/s]"
     ]
    },
    {
     "name": "stdout",
     "output_type": "stream",
     "text": [
      "200.0\n"
     ]
    },
    {
     "name": "stderr",
     "output_type": "stream",
     "text": [
      "Training: 100%|██████████| 50/50 [00:04<00:00, 10.10it/s]\n",
      "Evaluating: 100%|██████████| 30/30 [00:00<00:00, 36.38it/s]\n",
      "Training:   2%|▏         | 1/50 [00:00<00:05,  8.57it/s]"
     ]
    },
    {
     "name": "stdout",
     "output_type": "stream",
     "text": [
      "200.0\n"
     ]
    },
    {
     "name": "stderr",
     "output_type": "stream",
     "text": [
      "Training: 100%|██████████| 50/50 [00:05<00:00,  9.94it/s]\n",
      "Evaluating: 100%|██████████| 30/30 [00:00<00:00, 37.25it/s]\n",
      "Training:   2%|▏         | 1/50 [00:00<00:05,  8.94it/s]"
     ]
    },
    {
     "name": "stdout",
     "output_type": "stream",
     "text": [
      "200.0\n"
     ]
    },
    {
     "name": "stderr",
     "output_type": "stream",
     "text": [
      "Training: 100%|██████████| 50/50 [00:05<00:00,  9.85it/s]\n",
      "Evaluating: 100%|██████████| 30/30 [00:01<00:00, 29.16it/s]\n",
      "Training:   2%|▏         | 1/50 [00:00<00:07,  6.91it/s]"
     ]
    },
    {
     "name": "stdout",
     "output_type": "stream",
     "text": [
      "200.0\n"
     ]
    },
    {
     "name": "stderr",
     "output_type": "stream",
     "text": [
      "Training: 100%|██████████| 50/50 [00:05<00:00,  9.91it/s]\n",
      "Evaluating: 100%|██████████| 30/30 [00:00<00:00, 37.55it/s]\n",
      "Training:   2%|▏         | 1/50 [00:00<00:06,  7.02it/s]"
     ]
    },
    {
     "name": "stdout",
     "output_type": "stream",
     "text": [
      "200.0\n"
     ]
    },
    {
     "name": "stderr",
     "output_type": "stream",
     "text": [
      "Training: 100%|██████████| 50/50 [00:04<00:00, 10.25it/s]\n",
      "Evaluating: 100%|██████████| 30/30 [00:00<00:00, 37.01it/s]\n",
      "Training:   2%|▏         | 1/50 [00:00<00:05,  8.17it/s]"
     ]
    },
    {
     "name": "stdout",
     "output_type": "stream",
     "text": [
      "200.0\n"
     ]
    },
    {
     "name": "stderr",
     "output_type": "stream",
     "text": [
      "Training: 100%|██████████| 50/50 [00:05<00:00,  9.91it/s]\n",
      "Evaluating: 100%|██████████| 30/30 [00:00<00:00, 37.34it/s]\n",
      "Training:   2%|▏         | 1/50 [00:00<00:06,  8.13it/s]"
     ]
    },
    {
     "name": "stdout",
     "output_type": "stream",
     "text": [
      "200.0\n"
     ]
    },
    {
     "name": "stderr",
     "output_type": "stream",
     "text": [
      "Training: 100%|██████████| 50/50 [00:06<00:00,  7.74it/s]\n",
      "Evaluating: 100%|██████████| 30/30 [00:01<00:00, 28.98it/s]\n",
      "Training:   2%|▏         | 1/50 [00:00<00:05,  8.47it/s]"
     ]
    },
    {
     "name": "stdout",
     "output_type": "stream",
     "text": [
      "200.0\n"
     ]
    },
    {
     "name": "stderr",
     "output_type": "stream",
     "text": [
      "Training: 100%|██████████| 50/50 [00:05<00:00,  9.93it/s]\n",
      "Evaluating: 100%|██████████| 30/30 [00:00<00:00, 36.70it/s]\n",
      "Training:   2%|▏         | 1/50 [00:00<00:06,  7.72it/s]"
     ]
    },
    {
     "name": "stdout",
     "output_type": "stream",
     "text": [
      "200.0\n"
     ]
    },
    {
     "name": "stderr",
     "output_type": "stream",
     "text": [
      "Training: 100%|██████████| 50/50 [00:04<00:00, 10.03it/s]\n",
      "Evaluating: 100%|██████████| 30/30 [00:00<00:00, 37.29it/s]\n",
      "Training:   2%|▏         | 1/50 [00:00<00:06,  7.42it/s]"
     ]
    },
    {
     "name": "stdout",
     "output_type": "stream",
     "text": [
      "200.0\n"
     ]
    },
    {
     "name": "stderr",
     "output_type": "stream",
     "text": [
      "Training: 100%|██████████| 50/50 [00:05<00:00,  9.82it/s]\n",
      "Evaluating: 100%|██████████| 30/30 [00:00<00:00, 37.30it/s]\n",
      "Training:   2%|▏         | 1/50 [00:00<00:05,  8.65it/s]"
     ]
    },
    {
     "name": "stdout",
     "output_type": "stream",
     "text": [
      "200.0\n"
     ]
    },
    {
     "name": "stderr",
     "output_type": "stream",
     "text": [
      "Training: 100%|██████████| 50/50 [00:05<00:00,  9.93it/s]\n",
      "Evaluating: 100%|██████████| 30/30 [00:00<00:00, 37.46it/s]\n",
      "Training:   2%|▏         | 1/50 [00:00<00:05,  8.57it/s]"
     ]
    },
    {
     "name": "stdout",
     "output_type": "stream",
     "text": [
      "200.0\n"
     ]
    },
    {
     "name": "stderr",
     "output_type": "stream",
     "text": [
      "Training: 100%|██████████| 50/50 [00:05<00:00,  9.83it/s]\n",
      "Evaluating: 100%|██████████| 30/30 [00:00<00:00, 37.34it/s]\n",
      "Training:   2%|▏         | 1/50 [00:00<00:05,  8.21it/s]"
     ]
    },
    {
     "name": "stdout",
     "output_type": "stream",
     "text": [
      "200.0\n"
     ]
    },
    {
     "name": "stderr",
     "output_type": "stream",
     "text": [
      "Training: 100%|██████████| 50/50 [00:04<00:00, 11.01it/s]\n",
      "Evaluating: 100%|██████████| 30/30 [00:00<00:00, 36.67it/s]\n",
      "Training:   2%|▏         | 1/50 [00:00<00:05,  8.70it/s]"
     ]
    },
    {
     "name": "stdout",
     "output_type": "stream",
     "text": [
      "200.0\n"
     ]
    },
    {
     "name": "stderr",
     "output_type": "stream",
     "text": [
      "Training: 100%|██████████| 50/50 [00:05<00:00,  9.86it/s]\n",
      "Evaluating: 100%|██████████| 30/30 [00:00<00:00, 37.05it/s]\n",
      "Training:   2%|▏         | 1/50 [00:00<00:06,  7.73it/s]"
     ]
    },
    {
     "name": "stdout",
     "output_type": "stream",
     "text": [
      "200.0\n"
     ]
    },
    {
     "name": "stderr",
     "output_type": "stream",
     "text": [
      "Training: 100%|██████████| 50/50 [00:03<00:00, 15.90it/s]\n",
      "Evaluating: 100%|██████████| 30/30 [00:00<00:00, 623.42it/s]\n",
      "Training:  32%|███▏      | 16/50 [00:00<00:00, 159.68it/s]"
     ]
    },
    {
     "name": "stdout",
     "output_type": "stream",
     "text": [
      "11.133333333333333\n"
     ]
    },
    {
     "name": "stderr",
     "output_type": "stream",
     "text": [
      "Training: 100%|██████████| 50/50 [00:02<00:00, 16.71it/s] \n",
      "Evaluating: 100%|██████████| 30/30 [00:00<00:00, 36.15it/s]\n",
      "Training:   2%|▏         | 1/50 [00:00<00:05,  8.89it/s]"
     ]
    },
    {
     "name": "stdout",
     "output_type": "stream",
     "text": [
      "200.0\n"
     ]
    },
    {
     "name": "stderr",
     "output_type": "stream",
     "text": [
      "Training: 100%|██████████| 50/50 [00:04<00:00, 11.03it/s]\n",
      "Evaluating: 100%|██████████| 30/30 [00:00<00:00, 41.81it/s]\n",
      "Training:   2%|▏         | 1/50 [00:00<00:05,  8.76it/s]"
     ]
    },
    {
     "name": "stdout",
     "output_type": "stream",
     "text": [
      "168.5\n"
     ]
    },
    {
     "name": "stderr",
     "output_type": "stream",
     "text": [
      "Training: 100%|██████████| 50/50 [00:03<00:00, 13.53it/s]\n",
      "Evaluating: 100%|██████████| 30/30 [00:00<00:00, 30.22it/s]\n",
      "Training:   2%|▏         | 1/50 [00:00<00:06,  7.46it/s]"
     ]
    },
    {
     "name": "stdout",
     "output_type": "stream",
     "text": [
      "200.0\n"
     ]
    },
    {
     "name": "stderr",
     "output_type": "stream",
     "text": [
      "Training: 100%|██████████| 50/50 [00:05<00:00,  9.99it/s]\n",
      "Evaluating: 100%|██████████| 30/30 [00:00<00:00, 37.34it/s]\n",
      "Training:   2%|▏         | 1/50 [00:00<00:05,  8.40it/s]"
     ]
    },
    {
     "name": "stdout",
     "output_type": "stream",
     "text": [
      "200.0\n"
     ]
    },
    {
     "name": "stderr",
     "output_type": "stream",
     "text": [
      "Training: 100%|██████████| 50/50 [00:05<00:00,  9.88it/s]\n",
      "Evaluating: 100%|██████████| 30/30 [00:00<00:00, 37.36it/s]\n",
      "Training:   2%|▏         | 1/50 [00:00<00:07,  6.92it/s]"
     ]
    },
    {
     "name": "stdout",
     "output_type": "stream",
     "text": [
      "200.0\n"
     ]
    },
    {
     "name": "stderr",
     "output_type": "stream",
     "text": [
      "Training: 100%|██████████| 50/50 [00:05<00:00,  9.87it/s]\n",
      "Evaluating: 100%|██████████| 30/30 [00:00<00:00, 37.47it/s]\n",
      "Training:   2%|▏         | 1/50 [00:00<00:05,  8.33it/s]"
     ]
    },
    {
     "name": "stdout",
     "output_type": "stream",
     "text": [
      "200.0\n"
     ]
    },
    {
     "name": "stderr",
     "output_type": "stream",
     "text": [
      "Training: 100%|██████████| 50/50 [00:05<00:00,  9.92it/s]\n",
      "Evaluating: 100%|██████████| 30/30 [00:00<00:00, 37.31it/s]\n",
      "Training:   2%|▏         | 1/50 [00:00<00:07,  6.77it/s]"
     ]
    },
    {
     "name": "stdout",
     "output_type": "stream",
     "text": [
      "200.0\n"
     ]
    },
    {
     "name": "stderr",
     "output_type": "stream",
     "text": [
      "Training: 100%|██████████| 50/50 [00:05<00:00,  9.49it/s]\n",
      "Evaluating: 100%|██████████| 30/30 [00:00<00:00, 37.28it/s]\n",
      "Training:   0%|          | 0/50 [00:00<?, ?it/s]"
     ]
    },
    {
     "name": "stdout",
     "output_type": "stream",
     "text": [
      "200.0\n"
     ]
    },
    {
     "name": "stderr",
     "output_type": "stream",
     "text": [
      "Training: 100%|██████████| 50/50 [00:05<00:00,  9.74it/s]\n",
      "Evaluating: 100%|██████████| 30/30 [00:00<00:00, 35.72it/s]\n",
      "Training:   2%|▏         | 1/50 [00:00<00:06,  7.64it/s]"
     ]
    },
    {
     "name": "stdout",
     "output_type": "stream",
     "text": [
      "200.0\n"
     ]
    },
    {
     "name": "stderr",
     "output_type": "stream",
     "text": [
      "Training: 100%|██████████| 50/50 [00:05<00:00,  9.22it/s]\n",
      "Evaluating: 100%|██████████| 30/30 [00:00<00:00, 37.40it/s]\n",
      "Training:   2%|▏         | 1/50 [00:00<00:07,  6.46it/s]"
     ]
    },
    {
     "name": "stdout",
     "output_type": "stream",
     "text": [
      "200.0\n"
     ]
    },
    {
     "name": "stderr",
     "output_type": "stream",
     "text": [
      "Training: 100%|██████████| 50/50 [00:05<00:00,  8.87it/s]\n",
      "Evaluating: 100%|██████████| 30/30 [00:00<00:00, 37.17it/s]\n",
      "Training:   2%|▏         | 1/50 [00:00<00:06,  7.74it/s]"
     ]
    },
    {
     "name": "stdout",
     "output_type": "stream",
     "text": [
      "200.0\n"
     ]
    },
    {
     "name": "stderr",
     "output_type": "stream",
     "text": [
      "Training: 100%|██████████| 50/50 [00:05<00:00,  9.90it/s]\n",
      "Evaluating: 100%|██████████| 30/30 [00:00<00:00, 36.19it/s]\n",
      "Training:   2%|▏         | 1/50 [00:00<00:06,  7.91it/s]"
     ]
    },
    {
     "name": "stdout",
     "output_type": "stream",
     "text": [
      "200.0\n"
     ]
    },
    {
     "name": "stderr",
     "output_type": "stream",
     "text": [
      "Training: 100%|██████████| 50/50 [00:05<00:00,  9.33it/s]\n",
      "Evaluating: 100%|██████████| 30/30 [00:00<00:00, 37.34it/s]\n",
      "Training:   2%|▏         | 1/50 [00:00<00:06,  7.67it/s]"
     ]
    },
    {
     "name": "stdout",
     "output_type": "stream",
     "text": [
      "200.0\n"
     ]
    },
    {
     "name": "stderr",
     "output_type": "stream",
     "text": [
      "Training: 100%|██████████| 50/50 [00:04<00:00, 11.58it/s]\n",
      "Evaluating: 100%|██████████| 30/30 [00:00<00:00, 37.42it/s]\n",
      "Training:   2%|▏         | 1/50 [00:00<00:05,  9.59it/s]"
     ]
    },
    {
     "name": "stdout",
     "output_type": "stream",
     "text": [
      "200.0\n"
     ]
    },
    {
     "name": "stderr",
     "output_type": "stream",
     "text": [
      "Training: 100%|██████████| 50/50 [00:05<00:00,  9.95it/s]\n",
      "Evaluating: 100%|██████████| 30/30 [00:00<00:00, 37.39it/s]\n",
      "Training:   2%|▏         | 1/50 [00:00<00:06,  7.62it/s]"
     ]
    },
    {
     "name": "stdout",
     "output_type": "stream",
     "text": [
      "200.0\n"
     ]
    },
    {
     "name": "stderr",
     "output_type": "stream",
     "text": [
      "Training: 100%|██████████| 50/50 [00:05<00:00,  9.79it/s]\n",
      "Evaluating: 100%|██████████| 30/30 [00:00<00:00, 37.18it/s]\n",
      "Training:   2%|▏         | 1/50 [00:00<00:05,  9.48it/s]"
     ]
    },
    {
     "name": "stdout",
     "output_type": "stream",
     "text": [
      "200.0\n"
     ]
    },
    {
     "name": "stderr",
     "output_type": "stream",
     "text": [
      "Training: 100%|██████████| 50/50 [00:05<00:00,  9.95it/s]\n",
      "Evaluating: 100%|██████████| 30/30 [00:00<00:00, 37.37it/s]\n",
      "Training:   2%|▏         | 1/50 [00:00<00:05,  8.68it/s]"
     ]
    },
    {
     "name": "stdout",
     "output_type": "stream",
     "text": [
      "200.0\n"
     ]
    },
    {
     "name": "stderr",
     "output_type": "stream",
     "text": [
      "Training: 100%|██████████| 50/50 [00:03<00:00, 16.04it/s]\n",
      "Evaluating: 100%|██████████| 30/30 [00:00<00:00, 35.97it/s]\n",
      "Training:   2%|▏         | 1/50 [00:00<00:05,  8.48it/s]"
     ]
    },
    {
     "name": "stdout",
     "output_type": "stream",
     "text": [
      "200.0\n"
     ]
    },
    {
     "name": "stderr",
     "output_type": "stream",
     "text": [
      "Training: 100%|██████████| 50/50 [00:05<00:00,  9.97it/s]\n",
      "Evaluating: 100%|██████████| 30/30 [00:00<00:00, 37.35it/s]\n",
      "Training:   2%|▏         | 1/50 [00:00<00:06,  7.19it/s]"
     ]
    },
    {
     "name": "stdout",
     "output_type": "stream",
     "text": [
      "200.0\n"
     ]
    },
    {
     "name": "stderr",
     "output_type": "stream",
     "text": [
      "Training: 100%|██████████| 50/50 [00:05<00:00,  8.75it/s]\n",
      "Evaluating: 100%|██████████| 30/30 [00:00<00:00, 37.10it/s]\n",
      "Training:   2%|▏         | 1/50 [00:00<00:05,  8.55it/s]"
     ]
    },
    {
     "name": "stdout",
     "output_type": "stream",
     "text": [
      "200.0\n"
     ]
    },
    {
     "name": "stderr",
     "output_type": "stream",
     "text": [
      "Training: 100%|██████████| 50/50 [00:05<00:00,  9.88it/s]\n",
      "Evaluating: 100%|██████████| 30/30 [00:00<00:00, 36.34it/s]\n"
     ]
    },
    {
     "name": "stdout",
     "output_type": "stream",
     "text": [
      "200.0\n",
      "\n",
      "Learning Performance:\n",
      "\n"
     ]
    },
    {
     "data": {
      "text/plain": [
       "<Figure size 432x288 with 0 Axes>"
      ]
     },
     "metadata": {},
     "output_type": "display_data"
    },
    {
     "data": {
      "image/png": "[encoded data removed]",
      "text/plain": [
       "<Figure size 432x288 with 1 Axes>"
      ]
     },
     "metadata": {
      "needs_background": "light"
     },
     "output_type": "display_data"
    }
   ],
   "source": [
    "# with replay buffer but not target network\n",
    "\n",
    "hyperparams_CartPole = {\n",
    "    'epsilon_decay_steps' : 100000, \n",
    "    'final_epsilon' : 0.1,\n",
    "    'batch_size' : 32, \n",
    "    'update_steps' : 10, \n",
    "    'memory_size' : 2000, \n",
    "    'beta' : 0.99, \n",
    "    'model_replace_freq' : 2000,\n",
    "    'learning_rate' : 0.0003,\n",
    "    'use_target_model': False\n",
    "}\n",
    "\n",
    "training_episodes, test_interval = 10000, 50\n",
    "agent = DQN_agent(env_CartPole, hyperparams_CartPole)\n",
    "result = agent.learn_and_evaluate(training_episodes, test_interval)\n",
    "plot_result(result, test_interval, [\"batch_update with target_model\"])"
   ]
  },
  {
   "cell_type": "code",
   "execution_count": 10,
   "metadata": {},
   "outputs": [
    {
     "name": "stderr",
     "output_type": "stream",
     "text": [
      "Training: 100%|██████████| 50/50 [00:01<00:00, 32.42it/s]\n",
      "Evaluating: 100%|██████████| 30/30 [00:00<00:00, 761.79it/s]\n",
      "Training:   6%|▌         | 3/50 [00:00<00:01, 28.49it/s]"
     ]
    },
    {
     "name": "stdout",
     "output_type": "stream",
     "text": [
      "9.3\n"
     ]
    },
    {
     "name": "stderr",
     "output_type": "stream",
     "text": [
      "Training: 100%|██████████| 50/50 [00:01<00:00, 40.07it/s]\n",
      "Evaluating: 100%|██████████| 30/30 [00:00<00:00, 708.96it/s]\n",
      "Training:   6%|▌         | 3/50 [00:00<00:02, 23.06it/s]"
     ]
    },
    {
     "name": "stdout",
     "output_type": "stream",
     "text": [
      "9.8\n"
     ]
    },
    {
     "name": "stderr",
     "output_type": "stream",
     "text": [
      "Training: 100%|██████████| 50/50 [00:01<00:00, 31.37it/s]\n",
      "Evaluating: 100%|██████████| 30/30 [00:00<00:00, 700.00it/s]\n",
      "Training:   6%|▌         | 3/50 [00:00<00:02, 22.75it/s]"
     ]
    },
    {
     "name": "stdout",
     "output_type": "stream",
     "text": [
      "10.033333333333333\n"
     ]
    },
    {
     "name": "stderr",
     "output_type": "stream",
     "text": [
      "Training: 100%|██████████| 50/50 [00:01<00:00, 32.23it/s]\n",
      "Evaluating: 100%|██████████| 30/30 [00:00<00:00, 473.71it/s]\n",
      "Training:   8%|▊         | 4/50 [00:00<00:01, 28.49it/s]"
     ]
    },
    {
     "name": "stdout",
     "output_type": "stream",
     "text": [
      "11.866666666666667\n"
     ]
    },
    {
     "name": "stderr",
     "output_type": "stream",
     "text": [
      "Training: 100%|██████████| 50/50 [00:01<00:00, 36.05it/s]\n",
      "Evaluating: 100%|██████████| 30/30 [00:00<00:00, 584.60it/s]\n",
      "Training:   6%|▌         | 3/50 [00:00<00:01, 24.57it/s]"
     ]
    },
    {
     "name": "stdout",
     "output_type": "stream",
     "text": [
      "12.533333333333333\n"
     ]
    },
    {
     "name": "stderr",
     "output_type": "stream",
     "text": [
      "Training: 100%|██████████| 50/50 [00:01<00:00, 33.49it/s]\n",
      "Evaluating: 100%|██████████| 30/30 [00:00<00:00, 775.70it/s]\n",
      "Training:  10%|█         | 5/50 [00:00<00:00, 46.82it/s]"
     ]
    },
    {
     "name": "stdout",
     "output_type": "stream",
     "text": [
      "9.4\n"
     ]
    },
    {
     "name": "stderr",
     "output_type": "stream",
     "text": [
      "Training: 100%|██████████| 50/50 [00:01<00:00, 35.55it/s]\n",
      "Evaluating: 100%|██████████| 30/30 [00:00<00:00, 783.14it/s]\n",
      "Training:   4%|▍         | 2/50 [00:00<00:02, 17.60it/s]"
     ]
    },
    {
     "name": "stdout",
     "output_type": "stream",
     "text": [
      "9.233333333333333\n"
     ]
    },
    {
     "name": "stderr",
     "output_type": "stream",
     "text": [
      "Training: 100%|██████████| 50/50 [00:01<00:00, 28.45it/s]\n",
      "Evaluating: 100%|██████████| 30/30 [00:00<00:00, 304.10it/s]\n",
      "Training:   2%|▏         | 1/50 [00:00<00:04,  9.97it/s]"
     ]
    },
    {
     "name": "stdout",
     "output_type": "stream",
     "text": [
      "24.866666666666667\n"
     ]
    },
    {
     "name": "stderr",
     "output_type": "stream",
     "text": [
      "Training: 100%|██████████| 50/50 [00:01<00:00, 27.41it/s]\n",
      "Evaluating: 100%|██████████| 30/30 [00:00<00:00, 154.32it/s]\n",
      "Training:   6%|▌         | 3/50 [00:00<00:01, 29.71it/s]"
     ]
    },
    {
     "name": "stdout",
     "output_type": "stream",
     "text": [
      "48.733333333333334\n"
     ]
    },
    {
     "name": "stderr",
     "output_type": "stream",
     "text": [
      "Training: 100%|██████████| 50/50 [00:01<00:00, 29.80it/s]\n",
      "Evaluating: 100%|██████████| 30/30 [00:00<00:00, 170.89it/s]\n",
      "Training:   2%|▏         | 1/50 [00:00<00:05,  8.48it/s]"
     ]
    },
    {
     "name": "stdout",
     "output_type": "stream",
     "text": [
      "44.13333333333333\n"
     ]
    },
    {
     "name": "stderr",
     "output_type": "stream",
     "text": [
      "Training: 100%|██████████| 50/50 [00:01<00:00, 32.18it/s]\n",
      "Evaluating: 100%|██████████| 30/30 [00:00<00:00, 74.86it/s]\n",
      "Training:   6%|▌         | 3/50 [00:00<00:01, 25.15it/s]"
     ]
    },
    {
     "name": "stdout",
     "output_type": "stream",
     "text": [
      "99.03333333333333\n"
     ]
    },
    {
     "name": "stderr",
     "output_type": "stream",
     "text": [
      "Training: 100%|██████████| 50/50 [00:01<00:00, 28.01it/s]\n",
      "Evaluating: 100%|██████████| 30/30 [00:00<00:00, 53.63it/s]\n",
      "Training:   6%|▌         | 3/50 [00:00<00:01, 27.77it/s]"
     ]
    },
    {
     "name": "stdout",
     "output_type": "stream",
     "text": [
      "139.6\n"
     ]
    },
    {
     "name": "stderr",
     "output_type": "stream",
     "text": [
      "Training: 100%|██████████| 50/50 [00:01<00:00, 28.33it/s]\n",
      "Evaluating: 100%|██████████| 30/30 [00:00<00:00, 61.14it/s]\n",
      "Training:   0%|          | 0/50 [00:00<?, ?it/s]"
     ]
    },
    {
     "name": "stdout",
     "output_type": "stream",
     "text": [
      "118.43333333333334\n"
     ]
    },
    {
     "name": "stderr",
     "output_type": "stream",
     "text": [
      "Training: 100%|██████████| 50/50 [00:02<00:00, 24.72it/s]\n",
      "Evaluating: 100%|██████████| 30/30 [00:00<00:00, 36.65it/s]\n",
      "Training:  10%|█         | 5/50 [00:00<00:01, 39.27it/s]"
     ]
    },
    {
     "name": "stdout",
     "output_type": "stream",
     "text": [
      "197.03333333333333\n"
     ]
    },
    {
     "name": "stderr",
     "output_type": "stream",
     "text": [
      "Training: 100%|██████████| 50/50 [00:02<00:00, 23.32it/s]\n",
      "Evaluating: 100%|██████████| 30/30 [00:00<00:00, 189.73it/s]\n",
      "Training:   4%|▍         | 2/50 [00:00<00:02, 18.07it/s]"
     ]
    },
    {
     "name": "stdout",
     "output_type": "stream",
     "text": [
      "30.633333333333333\n"
     ]
    },
    {
     "name": "stderr",
     "output_type": "stream",
     "text": [
      "Training: 100%|██████████| 50/50 [00:03<00:00, 16.55it/s]\n",
      "Evaluating: 100%|██████████| 30/30 [00:00<00:00, 37.87it/s]\n",
      "Training:   8%|▊         | 4/50 [00:00<00:01, 35.42it/s]"
     ]
    },
    {
     "name": "stdout",
     "output_type": "stream",
     "text": [
      "199.56666666666666\n"
     ]
    },
    {
     "name": "stderr",
     "output_type": "stream",
     "text": [
      "Training: 100%|██████████| 50/50 [00:02<00:00, 23.40it/s]\n",
      "Evaluating: 100%|██████████| 30/30 [00:00<00:00, 37.96it/s]\n",
      "Training:   6%|▌         | 3/50 [00:00<00:02, 16.73it/s]"
     ]
    },
    {
     "name": "stdout",
     "output_type": "stream",
     "text": [
      "200.0\n"
     ]
    },
    {
     "name": "stderr",
     "output_type": "stream",
     "text": [
      "Training: 100%|██████████| 50/50 [00:02<00:00, 20.50it/s]\n",
      "Evaluating: 100%|██████████| 30/30 [00:00<00:00, 38.09it/s]\n",
      "Training:   4%|▍         | 2/50 [00:00<00:03, 12.96it/s]"
     ]
    },
    {
     "name": "stdout",
     "output_type": "stream",
     "text": [
      "199.7\n"
     ]
    },
    {
     "name": "stderr",
     "output_type": "stream",
     "text": [
      "Training: 100%|██████████| 50/50 [00:02<00:00, 19.24it/s]\n",
      "Evaluating: 100%|██████████| 30/30 [00:00<00:00, 37.54it/s]\n",
      "Training:   6%|▌         | 3/50 [00:00<00:02, 18.88it/s]"
     ]
    },
    {
     "name": "stdout",
     "output_type": "stream",
     "text": [
      "200.0\n"
     ]
    },
    {
     "name": "stderr",
     "output_type": "stream",
     "text": [
      "Training: 100%|██████████| 50/50 [00:02<00:00, 17.21it/s]\n",
      "Evaluating: 100%|██████████| 30/30 [00:00<00:00, 37.24it/s]\n",
      "Training:   4%|▍         | 2/50 [00:00<00:03, 15.11it/s]"
     ]
    },
    {
     "name": "stdout",
     "output_type": "stream",
     "text": [
      "200.0\n"
     ]
    },
    {
     "name": "stderr",
     "output_type": "stream",
     "text": [
      "Training: 100%|██████████| 50/50 [00:02<00:00, 20.69it/s]\n",
      "Evaluating: 100%|██████████| 30/30 [00:00<00:00, 43.10it/s]\n",
      "Training:   4%|▍         | 2/50 [00:00<00:02, 18.20it/s]"
     ]
    },
    {
     "name": "stdout",
     "output_type": "stream",
     "text": [
      "174.13333333333333\n"
     ]
    },
    {
     "name": "stderr",
     "output_type": "stream",
     "text": [
      "Training: 100%|██████████| 50/50 [00:03<00:00, 14.08it/s]\n",
      "Evaluating: 100%|██████████| 30/30 [00:01<00:00, 29.39it/s]\n",
      "Training:   2%|▏         | 1/50 [00:00<00:06,  7.52it/s]"
     ]
    },
    {
     "name": "stdout",
     "output_type": "stream",
     "text": [
      "200.0\n"
     ]
    },
    {
     "name": "stderr",
     "output_type": "stream",
     "text": [
      "Training: 100%|██████████| 50/50 [00:03<00:00, 16.18it/s]\n",
      "Evaluating: 100%|██████████| 30/30 [00:00<00:00, 34.95it/s]\n",
      "Training:   2%|▏         | 1/50 [00:00<00:05,  9.56it/s]"
     ]
    },
    {
     "name": "stdout",
     "output_type": "stream",
     "text": [
      "168.8\n"
     ]
    },
    {
     "name": "stderr",
     "output_type": "stream",
     "text": [
      "Training: 100%|██████████| 50/50 [00:03<00:00, 14.75it/s]\n",
      "Evaluating: 100%|██████████| 30/30 [00:01<00:00, 29.14it/s]\n",
      "Training:   0%|          | 0/50 [00:00<?, ?it/s]"
     ]
    },
    {
     "name": "stdout",
     "output_type": "stream",
     "text": [
      "200.0\n"
     ]
    },
    {
     "name": "stderr",
     "output_type": "stream",
     "text": [
      "Training: 100%|██████████| 50/50 [00:03<00:00, 14.96it/s]\n",
      "Evaluating: 100%|██████████| 30/30 [00:00<00:00, 39.62it/s]\n",
      "Training:   4%|▍         | 2/50 [00:00<00:03, 15.69it/s]"
     ]
    },
    {
     "name": "stdout",
     "output_type": "stream",
     "text": [
      "188.86666666666667\n"
     ]
    },
    {
     "name": "stderr",
     "output_type": "stream",
     "text": [
      "Training: 100%|██████████| 50/50 [00:02<00:00, 19.59it/s]\n",
      "Evaluating: 100%|██████████| 30/30 [00:00<00:00, 59.39it/s]\n",
      "Training:   6%|▌         | 3/50 [00:00<00:01, 29.22it/s]"
     ]
    },
    {
     "name": "stdout",
     "output_type": "stream",
     "text": [
      "125.06666666666666\n"
     ]
    },
    {
     "name": "stderr",
     "output_type": "stream",
     "text": [
      "Training: 100%|██████████| 50/50 [00:02<00:00, 16.87it/s]\n",
      "Evaluating: 100%|██████████| 30/30 [00:00<00:00, 48.63it/s]\n",
      "Training:   6%|▌         | 3/50 [00:00<00:01, 26.30it/s]"
     ]
    },
    {
     "name": "stdout",
     "output_type": "stream",
     "text": [
      "144.03333333333333\n"
     ]
    },
    {
     "name": "stderr",
     "output_type": "stream",
     "text": [
      "Training: 100%|██████████| 50/50 [00:03<00:00, 15.20it/s]\n",
      "Evaluating: 100%|██████████| 30/30 [00:00<00:00, 79.51it/s]\n",
      "Training:   4%|▍         | 2/50 [00:00<00:03, 14.62it/s]"
     ]
    },
    {
     "name": "stdout",
     "output_type": "stream",
     "text": [
      "93.66666666666667\n"
     ]
    },
    {
     "name": "stderr",
     "output_type": "stream",
     "text": [
      "Training: 100%|██████████| 50/50 [00:03<00:00, 14.43it/s]\n",
      "Evaluating: 100%|██████████| 30/30 [00:00<00:00, 58.24it/s]\n",
      "Training:   0%|          | 0/50 [00:00<?, ?it/s]"
     ]
    },
    {
     "name": "stdout",
     "output_type": "stream",
     "text": [
      "129.36666666666667\n"
     ]
    },
    {
     "name": "stderr",
     "output_type": "stream",
     "text": [
      "Training: 100%|██████████| 50/50 [00:03<00:00, 13.75it/s]\n",
      "Evaluating: 100%|██████████| 30/30 [00:00<00:00, 43.63it/s]\n",
      "Training:   2%|▏         | 1/50 [00:00<00:06,  8.09it/s]"
     ]
    },
    {
     "name": "stdout",
     "output_type": "stream",
     "text": [
      "131.46666666666667\n"
     ]
    },
    {
     "name": "stderr",
     "output_type": "stream",
     "text": [
      "Training: 100%|██████████| 50/50 [00:03<00:00, 12.70it/s]\n",
      "Evaluating: 100%|██████████| 30/30 [00:00<00:00, 63.60it/s]\n",
      "Training:   4%|▍         | 2/50 [00:00<00:02, 16.65it/s]"
     ]
    },
    {
     "name": "stdout",
     "output_type": "stream",
     "text": [
      "114.86666666666666\n"
     ]
    },
    {
     "name": "stderr",
     "output_type": "stream",
     "text": [
      "Training: 100%|██████████| 50/50 [00:03<00:00, 14.35it/s]\n",
      "Evaluating: 100%|██████████| 30/30 [00:00<00:00, 48.27it/s]\n",
      "Training:   4%|▍         | 2/50 [00:00<00:03, 14.18it/s]"
     ]
    },
    {
     "name": "stdout",
     "output_type": "stream",
     "text": [
      "148.7\n"
     ]
    },
    {
     "name": "stderr",
     "output_type": "stream",
     "text": [
      "Training: 100%|██████████| 50/50 [00:04<00:00, 10.44it/s]\n",
      "Evaluating: 100%|██████████| 30/30 [00:00<00:00, 42.72it/s]\n",
      "Training:   0%|          | 0/50 [00:00<?, ?it/s]"
     ]
    },
    {
     "name": "stdout",
     "output_type": "stream",
     "text": [
      "176.03333333333333\n"
     ]
    },
    {
     "name": "stderr",
     "output_type": "stream",
     "text": [
      "Training: 100%|██████████| 50/50 [00:04<00:00, 10.53it/s]\n",
      "Evaluating: 100%|██████████| 30/30 [00:00<00:00, 42.16it/s]\n",
      "Training:   0%|          | 0/50 [00:00<?, ?it/s]"
     ]
    },
    {
     "name": "stdout",
     "output_type": "stream",
     "text": [
      "137.4\n"
     ]
    },
    {
     "name": "stderr",
     "output_type": "stream",
     "text": [
      "Training: 100%|██████████| 50/50 [00:05<00:00,  9.55it/s]\n",
      "Evaluating: 100%|██████████| 30/30 [00:00<00:00, 45.91it/s]\n",
      "Training:   2%|▏         | 1/50 [00:00<00:08,  6.09it/s]"
     ]
    },
    {
     "name": "stdout",
     "output_type": "stream",
     "text": [
      "164.1\n"
     ]
    },
    {
     "name": "stderr",
     "output_type": "stream",
     "text": [
      "Training: 100%|██████████| 50/50 [00:05<00:00,  8.91it/s]\n",
      "Evaluating: 100%|██████████| 30/30 [00:00<00:00, 53.20it/s]\n",
      "Training:   0%|          | 0/50 [00:00<?, ?it/s]"
     ]
    },
    {
     "name": "stdout",
     "output_type": "stream",
     "text": [
      "134.93333333333334\n"
     ]
    },
    {
     "name": "stderr",
     "output_type": "stream",
     "text": [
      "Training: 100%|██████████| 50/50 [00:04<00:00, 12.05it/s]\n",
      "Evaluating: 100%|██████████| 30/30 [00:00<00:00, 39.03it/s]\n",
      "Training:   6%|▌         | 3/50 [00:00<00:01, 28.73it/s]"
     ]
    },
    {
     "name": "stdout",
     "output_type": "stream",
     "text": [
      "185.06666666666666\n"
     ]
    },
    {
     "name": "stderr",
     "output_type": "stream",
     "text": [
      "Training: 100%|██████████| 50/50 [00:03<00:00, 16.21it/s]\n",
      "Evaluating: 100%|██████████| 30/30 [00:00<00:00, 71.16it/s]\n",
      "Training:   6%|▌         | 3/50 [00:00<00:02, 23.18it/s]"
     ]
    },
    {
     "name": "stdout",
     "output_type": "stream",
     "text": [
      "106.0\n"
     ]
    },
    {
     "name": "stderr",
     "output_type": "stream",
     "text": [
      "Training: 100%|██████████| 50/50 [00:03<00:00, 14.73it/s]\n",
      "Evaluating: 100%|██████████| 30/30 [00:00<00:00, 44.56it/s]\n",
      "Training:   0%|          | 0/50 [00:00<?, ?it/s]"
     ]
    },
    {
     "name": "stdout",
     "output_type": "stream",
     "text": [
      "170.36666666666667\n"
     ]
    },
    {
     "name": "stderr",
     "output_type": "stream",
     "text": [
      "Training: 100%|██████████| 50/50 [00:02<00:00, 21.74it/s]\n",
      "Evaluating: 100%|██████████| 30/30 [00:00<00:00, 408.63it/s]\n",
      "Training:   8%|▊         | 4/50 [00:00<00:01, 32.89it/s]"
     ]
    },
    {
     "name": "stdout",
     "output_type": "stream",
     "text": [
      "17.066666666666666\n"
     ]
    },
    {
     "name": "stderr",
     "output_type": "stream",
     "text": [
      "Training: 100%|██████████| 50/50 [00:03<00:00, 12.96it/s]\n",
      "Evaluating: 100%|██████████| 30/30 [00:01<00:00, 28.82it/s]\n",
      "Training:   0%|          | 0/50 [00:00<?, ?it/s]"
     ]
    },
    {
     "name": "stdout",
     "output_type": "stream",
     "text": [
      "200.0\n"
     ]
    },
    {
     "name": "stderr",
     "output_type": "stream",
     "text": [
      "Training: 100%|██████████| 50/50 [00:03<00:00, 13.57it/s]\n",
      "Evaluating: 100%|██████████| 30/30 [00:00<00:00, 37.67it/s]\n",
      "Training:   0%|          | 0/50 [00:00<?, ?it/s]"
     ]
    },
    {
     "name": "stdout",
     "output_type": "stream",
     "text": [
      "200.0\n"
     ]
    },
    {
     "name": "stderr",
     "output_type": "stream",
     "text": [
      "Training: 100%|██████████| 50/50 [00:03<00:00, 15.76it/s]\n",
      "Evaluating: 100%|██████████| 30/30 [00:00<00:00, 246.11it/s]\n",
      "Training:   4%|▍         | 2/50 [00:00<00:02, 16.52it/s]"
     ]
    },
    {
     "name": "stdout",
     "output_type": "stream",
     "text": [
      "30.066666666666666\n"
     ]
    },
    {
     "name": "stderr",
     "output_type": "stream",
     "text": [
      "Training: 100%|██████████| 50/50 [00:02<00:00, 17.27it/s]\n",
      "Evaluating: 100%|██████████| 30/30 [00:00<00:00, 327.31it/s]\n",
      "Training:   0%|          | 0/50 [00:00<?, ?it/s]"
     ]
    },
    {
     "name": "stdout",
     "output_type": "stream",
     "text": [
      "21.533333333333335\n"
     ]
    },
    {
     "name": "stderr",
     "output_type": "stream",
     "text": [
      "Training: 100%|██████████| 50/50 [00:02<00:00, 23.55it/s]\n",
      "Evaluating: 100%|██████████| 30/30 [00:00<00:00, 176.49it/s]\n",
      "Training:   4%|▍         | 2/50 [00:00<00:04, 11.20it/s]"
     ]
    },
    {
     "name": "stdout",
     "output_type": "stream",
     "text": [
      "42.03333333333333\n"
     ]
    },
    {
     "name": "stderr",
     "output_type": "stream",
     "text": [
      "Training: 100%|██████████| 50/50 [00:03<00:00, 14.93it/s]\n",
      "Evaluating: 100%|██████████| 30/30 [00:00<00:00, 195.69it/s]\n",
      "Training:   4%|▍         | 2/50 [00:00<00:02, 16.40it/s]"
     ]
    },
    {
     "name": "stdout",
     "output_type": "stream",
     "text": [
      "38.333333333333336\n"
     ]
    },
    {
     "name": "stderr",
     "output_type": "stream",
     "text": [
      "Training: 100%|██████████| 50/50 [00:02<00:00, 22.14it/s]\n",
      "Evaluating: 100%|██████████| 30/30 [00:00<00:00, 165.11it/s]\n",
      "Training:   6%|▌         | 3/50 [00:00<00:01, 24.06it/s]"
     ]
    },
    {
     "name": "stdout",
     "output_type": "stream",
     "text": [
      "45.3\n"
     ]
    },
    {
     "name": "stderr",
     "output_type": "stream",
     "text": [
      "Training: 100%|██████████| 50/50 [00:02<00:00, 16.82it/s]\n",
      "Evaluating: 100%|██████████| 30/30 [00:00<00:00, 59.84it/s]\n",
      "Training:   0%|          | 0/50 [00:00<?, ?it/s]"
     ]
    },
    {
     "name": "stdout",
     "output_type": "stream",
     "text": [
      "124.56666666666666\n"
     ]
    },
    {
     "name": "stderr",
     "output_type": "stream",
     "text": [
      "Training: 100%|██████████| 50/50 [00:05<00:00,  8.74it/s]\n",
      "Evaluating: 100%|██████████| 30/30 [00:00<00:00, 57.05it/s]\n",
      "Training:   0%|          | 0/50 [00:00<?, ?it/s]"
     ]
    },
    {
     "name": "stdout",
     "output_type": "stream",
     "text": [
      "131.83333333333334\n"
     ]
    },
    {
     "name": "stderr",
     "output_type": "stream",
     "text": [
      "Training: 100%|██████████| 50/50 [00:03<00:00, 13.26it/s]\n",
      "Evaluating: 100%|██████████| 30/30 [00:00<00:00, 404.07it/s]\n",
      "Training:   4%|▍         | 2/50 [00:00<00:02, 17.27it/s]"
     ]
    },
    {
     "name": "stdout",
     "output_type": "stream",
     "text": [
      "18.366666666666667\n"
     ]
    },
    {
     "name": "stderr",
     "output_type": "stream",
     "text": [
      "Training: 100%|██████████| 50/50 [00:02<00:00, 23.61it/s]\n",
      "Evaluating: 100%|██████████| 30/30 [00:00<00:00, 160.89it/s]\n",
      "Training:   6%|▌         | 3/50 [00:00<00:01, 27.40it/s]"
     ]
    },
    {
     "name": "stdout",
     "output_type": "stream",
     "text": [
      "45.2\n"
     ]
    },
    {
     "name": "stderr",
     "output_type": "stream",
     "text": [
      "Training: 100%|██████████| 50/50 [00:05<00:00,  8.97it/s]\n",
      "Evaluating: 100%|██████████| 30/30 [00:00<00:00, 468.51it/s]\n",
      "Training:  10%|█         | 5/50 [00:00<00:00, 46.79it/s]"
     ]
    },
    {
     "name": "stdout",
     "output_type": "stream",
     "text": [
      "14.766666666666667\n"
     ]
    },
    {
     "name": "stderr",
     "output_type": "stream",
     "text": [
      "Training: 100%|██████████| 50/50 [00:03<00:00, 16.01it/s]\n",
      "Evaluating: 100%|██████████| 30/30 [00:00<00:00, 114.14it/s]\n",
      "Training:   2%|▏         | 1/50 [00:00<00:05,  9.54it/s]"
     ]
    },
    {
     "name": "stdout",
     "output_type": "stream",
     "text": [
      "62.5\n"
     ]
    },
    {
     "name": "stderr",
     "output_type": "stream",
     "text": [
      "Training: 100%|██████████| 50/50 [00:02<00:00, 19.45it/s]\n",
      "Evaluating: 100%|██████████| 30/30 [00:00<00:00, 66.44it/s]\n",
      "Training:   4%|▍         | 2/50 [00:00<00:04, 11.79it/s]"
     ]
    },
    {
     "name": "stdout",
     "output_type": "stream",
     "text": [
      "113.43333333333334\n"
     ]
    },
    {
     "name": "stderr",
     "output_type": "stream",
     "text": [
      "Training: 100%|██████████| 50/50 [00:02<00:00, 21.81it/s]\n",
      "Evaluating: 100%|██████████| 30/30 [00:00<00:00, 537.84it/s]\n",
      "Training:   8%|▊         | 4/50 [00:00<00:02, 22.42it/s]"
     ]
    },
    {
     "name": "stdout",
     "output_type": "stream",
     "text": [
      "13.633333333333333\n"
     ]
    },
    {
     "name": "stderr",
     "output_type": "stream",
     "text": [
      "Training: 100%|██████████| 50/50 [00:07<00:00,  6.67it/s]\n",
      "Evaluating: 100%|██████████| 30/30 [00:00<00:00, 62.69it/s]\n",
      "Training:   2%|▏         | 1/50 [00:00<00:07,  6.56it/s]"
     ]
    },
    {
     "name": "stdout",
     "output_type": "stream",
     "text": [
      "120.86666666666666\n"
     ]
    },
    {
     "name": "stderr",
     "output_type": "stream",
     "text": [
      "Training: 100%|██████████| 50/50 [00:10<00:00,  4.99it/s]\n",
      "Evaluating: 100%|██████████| 30/30 [00:00<00:00, 65.33it/s]\n",
      "Training:   0%|          | 0/50 [00:00<?, ?it/s]"
     ]
    },
    {
     "name": "stdout",
     "output_type": "stream",
     "text": [
      "115.56666666666666\n"
     ]
    },
    {
     "name": "stderr",
     "output_type": "stream",
     "text": [
      "Training: 100%|██████████| 50/50 [00:08<00:00,  5.67it/s]\n",
      "Evaluating: 100%|██████████| 30/30 [00:00<00:00, 36.94it/s]\n",
      "Training:   0%|          | 0/50 [00:00<?, ?it/s]"
     ]
    },
    {
     "name": "stdout",
     "output_type": "stream",
     "text": [
      "200.0\n"
     ]
    },
    {
     "name": "stderr",
     "output_type": "stream",
     "text": [
      "Training: 100%|██████████| 50/50 [00:10<00:00,  4.77it/s]\n",
      "Evaluating: 100%|██████████| 30/30 [00:00<00:00, 182.16it/s]\n",
      "Training:   0%|          | 0/50 [00:00<?, ?it/s]"
     ]
    },
    {
     "name": "stdout",
     "output_type": "stream",
     "text": [
      "38.8\n"
     ]
    },
    {
     "name": "stderr",
     "output_type": "stream",
     "text": [
      "Training: 100%|██████████| 50/50 [00:08<00:00,  5.95it/s]\n",
      "Evaluating: 100%|██████████| 30/30 [00:00<00:00, 35.24it/s]\n",
      "Training:   0%|          | 0/50 [00:00<?, ?it/s]"
     ]
    },
    {
     "name": "stdout",
     "output_type": "stream",
     "text": [
      "159.13333333333333\n"
     ]
    },
    {
     "name": "stderr",
     "output_type": "stream",
     "text": [
      "Training: 100%|██████████| 50/50 [00:06<00:00,  8.24it/s]\n",
      "Evaluating: 100%|██████████| 30/30 [00:00<00:00, 68.40it/s]\n",
      "Training:   2%|▏         | 1/50 [00:00<00:08,  5.45it/s]"
     ]
    },
    {
     "name": "stdout",
     "output_type": "stream",
     "text": [
      "110.83333333333333\n"
     ]
    },
    {
     "name": "stderr",
     "output_type": "stream",
     "text": [
      "Training: 100%|██████████| 50/50 [00:07<00:00,  6.65it/s]\n",
      "Evaluating: 100%|██████████| 30/30 [00:00<00:00, 59.15it/s]\n",
      "Training:   0%|          | 0/50 [00:00<?, ?it/s]"
     ]
    },
    {
     "name": "stdout",
     "output_type": "stream",
     "text": [
      "96.53333333333333\n"
     ]
    },
    {
     "name": "stderr",
     "output_type": "stream",
     "text": [
      "Training: 100%|██████████| 50/50 [00:07<00:00,  7.01it/s]\n",
      "Evaluating: 100%|██████████| 30/30 [00:00<00:00, 49.58it/s]\n",
      "Training:   2%|▏         | 1/50 [00:00<00:08,  5.50it/s]"
     ]
    },
    {
     "name": "stdout",
     "output_type": "stream",
     "text": [
      "153.8\n"
     ]
    },
    {
     "name": "stderr",
     "output_type": "stream",
     "text": [
      "Training: 100%|██████████| 50/50 [00:10<00:00,  4.56it/s]\n",
      "Evaluating: 100%|██████████| 30/30 [00:00<00:00, 43.22it/s]\n",
      "Training:   0%|          | 0/50 [00:00<?, ?it/s]"
     ]
    },
    {
     "name": "stdout",
     "output_type": "stream",
     "text": [
      "170.43333333333334\n"
     ]
    },
    {
     "name": "stderr",
     "output_type": "stream",
     "text": [
      "Training: 100%|██████████| 50/50 [00:09<00:00,  5.16it/s]\n",
      "Evaluating: 100%|██████████| 30/30 [00:00<00:00, 37.77it/s]\n",
      "Training:   0%|          | 0/50 [00:00<?, ?it/s]"
     ]
    },
    {
     "name": "stdout",
     "output_type": "stream",
     "text": [
      "200.0\n"
     ]
    },
    {
     "name": "stderr",
     "output_type": "stream",
     "text": [
      "Training: 100%|██████████| 50/50 [00:09<00:00,  5.01it/s]\n",
      "Evaluating: 100%|██████████| 30/30 [00:00<00:00, 99.25it/s]\n",
      "Training:   0%|          | 0/50 [00:00<?, ?it/s]"
     ]
    },
    {
     "name": "stdout",
     "output_type": "stream",
     "text": [
      "75.73333333333333\n"
     ]
    },
    {
     "name": "stderr",
     "output_type": "stream",
     "text": [
      "Training: 100%|██████████| 50/50 [00:07<00:00,  6.96it/s]\n",
      "Evaluating: 100%|██████████| 30/30 [00:00<00:00, 54.67it/s]\n",
      "Training:   0%|          | 0/50 [00:00<?, ?it/s]"
     ]
    },
    {
     "name": "stdout",
     "output_type": "stream",
     "text": [
      "139.76666666666668\n"
     ]
    },
    {
     "name": "stderr",
     "output_type": "stream",
     "text": [
      "Training: 100%|██████████| 50/50 [00:10<00:00,  4.63it/s]\n",
      "Evaluating: 100%|██████████| 30/30 [00:00<00:00, 433.00it/s]\n",
      "Training:   0%|          | 0/50 [00:00<?, ?it/s]"
     ]
    },
    {
     "name": "stdout",
     "output_type": "stream",
     "text": [
      "17.066666666666666\n"
     ]
    },
    {
     "name": "stderr",
     "output_type": "stream",
     "text": [
      "Training: 100%|██████████| 50/50 [00:10<00:00,  4.71it/s]\n",
      "Evaluating: 100%|██████████| 30/30 [00:00<00:00, 36.74it/s]\n",
      "Training:   2%|▏         | 1/50 [00:00<00:08,  5.44it/s]"
     ]
    },
    {
     "name": "stdout",
     "output_type": "stream",
     "text": [
      "200.0\n"
     ]
    },
    {
     "name": "stderr",
     "output_type": "stream",
     "text": [
      "Training: 100%|██████████| 50/50 [00:07<00:00,  6.45it/s]\n",
      "Evaluating: 100%|██████████| 30/30 [00:00<00:00, 69.28it/s]\n",
      "Training:   0%|          | 0/50 [00:00<?, ?it/s]"
     ]
    },
    {
     "name": "stdout",
     "output_type": "stream",
     "text": [
      "109.2\n"
     ]
    },
    {
     "name": "stderr",
     "output_type": "stream",
     "text": [
      "Training: 100%|██████████| 50/50 [00:05<00:00,  8.49it/s]\n",
      "Evaluating: 100%|██████████| 30/30 [00:00<00:00, 68.37it/s]\n",
      "Training:   2%|▏         | 1/50 [00:00<00:07,  6.14it/s]"
     ]
    },
    {
     "name": "stdout",
     "output_type": "stream",
     "text": [
      "107.93333333333334\n"
     ]
    },
    {
     "name": "stderr",
     "output_type": "stream",
     "text": [
      "Training: 100%|██████████| 50/50 [00:04<00:00, 10.86it/s]\n",
      "Evaluating: 100%|██████████| 30/30 [00:00<00:00, 64.04it/s]\n",
      "Training:   2%|▏         | 1/50 [00:00<00:07,  6.19it/s]"
     ]
    },
    {
     "name": "stdout",
     "output_type": "stream",
     "text": [
      "118.16666666666667\n"
     ]
    },
    {
     "name": "stderr",
     "output_type": "stream",
     "text": [
      "Training: 100%|██████████| 50/50 [00:07<00:00,  7.04it/s]\n",
      "Evaluating: 100%|██████████| 30/30 [00:00<00:00, 224.27it/s]\n",
      "Training:   0%|          | 0/50 [00:00<?, ?it/s]"
     ]
    },
    {
     "name": "stdout",
     "output_type": "stream",
     "text": [
      "33.233333333333334\n"
     ]
    },
    {
     "name": "stderr",
     "output_type": "stream",
     "text": [
      "Training: 100%|██████████| 50/50 [00:14<00:00,  3.56it/s]\n",
      "Evaluating: 100%|██████████| 30/30 [00:00<00:00, 48.76it/s]\n",
      "Training:   0%|          | 0/50 [00:00<?, ?it/s]"
     ]
    },
    {
     "name": "stdout",
     "output_type": "stream",
     "text": [
      "154.8\n"
     ]
    },
    {
     "name": "stderr",
     "output_type": "stream",
     "text": [
      "Training: 100%|██████████| 50/50 [00:12<00:00,  3.90it/s]\n",
      "Evaluating: 100%|██████████| 30/30 [00:00<00:00, 44.01it/s]\n",
      "Training:   0%|          | 0/50 [00:00<?, ?it/s]"
     ]
    },
    {
     "name": "stdout",
     "output_type": "stream",
     "text": [
      "163.96666666666667\n"
     ]
    },
    {
     "name": "stderr",
     "output_type": "stream",
     "text": [
      "Training: 100%|██████████| 50/50 [00:11<00:00,  4.22it/s]\n",
      "Evaluating: 100%|██████████| 30/30 [00:00<00:00, 37.93it/s]\n",
      "Training:   2%|▏         | 1/50 [00:00<00:05,  8.47it/s]"
     ]
    },
    {
     "name": "stdout",
     "output_type": "stream",
     "text": [
      "200.0\n"
     ]
    },
    {
     "name": "stderr",
     "output_type": "stream",
     "text": [
      "Training: 100%|██████████| 50/50 [00:11<00:00,  4.47it/s]\n",
      "Evaluating: 100%|██████████| 30/30 [00:00<00:00, 37.83it/s]\n",
      "Training:   0%|          | 0/50 [00:00<?, ?it/s]"
     ]
    },
    {
     "name": "stdout",
     "output_type": "stream",
     "text": [
      "200.0\n"
     ]
    },
    {
     "name": "stderr",
     "output_type": "stream",
     "text": [
      "Training: 100%|██████████| 50/50 [00:10<00:00,  4.83it/s]\n",
      "Evaluating: 100%|██████████| 30/30 [00:00<00:00, 37.98it/s]\n",
      "Training:   0%|          | 0/50 [00:00<?, ?it/s]"
     ]
    },
    {
     "name": "stdout",
     "output_type": "stream",
     "text": [
      "200.0\n"
     ]
    },
    {
     "name": "stderr",
     "output_type": "stream",
     "text": [
      "Training: 100%|██████████| 50/50 [00:05<00:00,  9.26it/s]\n",
      "Evaluating: 100%|██████████| 30/30 [00:00<00:00, 156.68it/s]\n",
      "Training:   2%|▏         | 1/50 [00:00<00:08,  5.80it/s]"
     ]
    },
    {
     "name": "stdout",
     "output_type": "stream",
     "text": [
      "45.86666666666667\n"
     ]
    },
    {
     "name": "stderr",
     "output_type": "stream",
     "text": [
      "Training: 100%|██████████| 50/50 [00:04<00:00, 10.19it/s]\n",
      "Evaluating: 100%|██████████| 30/30 [00:00<00:00, 462.83it/s]\n",
      "Training:  14%|█▍        | 7/50 [00:00<00:00, 53.86it/s]"
     ]
    },
    {
     "name": "stdout",
     "output_type": "stream",
     "text": [
      "15.1\n"
     ]
    },
    {
     "name": "stderr",
     "output_type": "stream",
     "text": [
      "Training: 100%|██████████| 50/50 [00:02<00:00, 18.74it/s]\n",
      "Evaluating: 100%|██████████| 30/30 [00:00<00:00, 103.50it/s]\n",
      "Training:   0%|          | 0/50 [00:00<?, ?it/s]"
     ]
    },
    {
     "name": "stdout",
     "output_type": "stream",
     "text": [
      "69.13333333333334\n"
     ]
    },
    {
     "name": "stderr",
     "output_type": "stream",
     "text": [
      "Training: 100%|██████████| 50/50 [00:06<00:00,  7.38it/s]\n",
      "Evaluating: 100%|██████████| 30/30 [00:00<00:00, 70.36it/s]\n",
      "Training:   4%|▍         | 2/50 [00:00<00:02, 19.38it/s]"
     ]
    },
    {
     "name": "stdout",
     "output_type": "stream",
     "text": [
      "81.13333333333334\n"
     ]
    },
    {
     "name": "stderr",
     "output_type": "stream",
     "text": [
      "Training: 100%|██████████| 50/50 [00:05<00:00,  8.69it/s]\n",
      "Evaluating: 100%|██████████| 30/30 [00:00<00:00, 38.28it/s]\n",
      "Training:   0%|          | 0/50 [00:00<?, ?it/s]"
     ]
    },
    {
     "name": "stdout",
     "output_type": "stream",
     "text": [
      "150.9\n"
     ]
    },
    {
     "name": "stderr",
     "output_type": "stream",
     "text": [
      "Training: 100%|██████████| 50/50 [00:06<00:00,  7.24it/s]\n",
      "Evaluating: 100%|██████████| 30/30 [00:00<00:00, 73.66it/s]\n",
      "Training:   2%|▏         | 1/50 [00:00<00:05,  8.84it/s]"
     ]
    },
    {
     "name": "stdout",
     "output_type": "stream",
     "text": [
      "99.43333333333334\n"
     ]
    },
    {
     "name": "stderr",
     "output_type": "stream",
     "text": [
      "Training: 100%|██████████| 50/50 [00:06<00:00,  7.70it/s]\n",
      "Evaluating: 100%|██████████| 30/30 [00:00<00:00, 48.69it/s]\n",
      "Training:   0%|          | 0/50 [00:00<?, ?it/s]"
     ]
    },
    {
     "name": "stdout",
     "output_type": "stream",
     "text": [
      "118.3\n"
     ]
    },
    {
     "name": "stderr",
     "output_type": "stream",
     "text": [
      "Training: 100%|██████████| 50/50 [00:09<00:00,  5.36it/s]\n",
      "Evaluating: 100%|██████████| 30/30 [00:00<00:00, 59.55it/s]\n",
      "Training:   2%|▏         | 1/50 [00:00<00:09,  5.29it/s]"
     ]
    },
    {
     "name": "stdout",
     "output_type": "stream",
     "text": [
      "94.23333333333333\n"
     ]
    },
    {
     "name": "stderr",
     "output_type": "stream",
     "text": [
      "Training: 100%|██████████| 50/50 [00:04<00:00, 10.16it/s]\n",
      "Evaluating: 100%|██████████| 30/30 [00:00<00:00, 112.53it/s]\n",
      "Training:   0%|          | 0/50 [00:00<?, ?it/s]"
     ]
    },
    {
     "name": "stdout",
     "output_type": "stream",
     "text": [
      "63.53333333333333\n"
     ]
    },
    {
     "name": "stderr",
     "output_type": "stream",
     "text": [
      "Training: 100%|██████████| 50/50 [00:05<00:00,  9.46it/s]\n",
      "Evaluating: 100%|██████████| 30/30 [00:00<00:00, 97.33it/s]\n",
      "Training:   2%|▏         | 1/50 [00:00<00:05,  9.31it/s]"
     ]
    },
    {
     "name": "stdout",
     "output_type": "stream",
     "text": [
      "60.53333333333333\n"
     ]
    },
    {
     "name": "stderr",
     "output_type": "stream",
     "text": [
      "Training: 100%|██████████| 50/50 [00:04<00:00, 11.41it/s]\n",
      "Evaluating: 100%|██████████| 30/30 [00:00<00:00, 272.50it/s]\n",
      "Training:   6%|▌         | 3/50 [00:00<00:02, 17.09it/s]"
     ]
    },
    {
     "name": "stdout",
     "output_type": "stream",
     "text": [
      "26.9\n"
     ]
    },
    {
     "name": "stderr",
     "output_type": "stream",
     "text": [
      "Training: 100%|██████████| 50/50 [00:05<00:00,  8.75it/s]\n",
      "Evaluating: 100%|██████████| 30/30 [00:00<00:00, 67.49it/s]\n",
      "Training:   0%|          | 0/50 [00:00<?, ?it/s]"
     ]
    },
    {
     "name": "stdout",
     "output_type": "stream",
     "text": [
      "112.1\n"
     ]
    },
    {
     "name": "stderr",
     "output_type": "stream",
     "text": [
      "Training: 100%|██████████| 50/50 [00:08<00:00,  6.23it/s]\n",
      "Evaluating: 100%|██████████| 30/30 [00:00<00:00, 70.24it/s]\n",
      "Training:   6%|▌         | 3/50 [00:00<00:02, 17.57it/s]"
     ]
    },
    {
     "name": "stdout",
     "output_type": "stream",
     "text": [
      "101.56666666666666\n"
     ]
    },
    {
     "name": "stderr",
     "output_type": "stream",
     "text": [
      "Training: 100%|██████████| 50/50 [00:07<00:00,  6.98it/s]\n",
      "Evaluating: 100%|██████████| 30/30 [00:00<00:00, 82.85it/s]\n",
      "Training:   2%|▏         | 1/50 [00:00<00:06,  7.07it/s]"
     ]
    },
    {
     "name": "stdout",
     "output_type": "stream",
     "text": [
      "91.3\n"
     ]
    },
    {
     "name": "stderr",
     "output_type": "stream",
     "text": [
      "Training: 100%|██████████| 50/50 [00:03<00:00, 13.22it/s]\n",
      "Evaluating: 100%|██████████| 30/30 [00:00<00:00, 353.74it/s]\n",
      "Training:   6%|▌         | 3/50 [00:00<00:01, 25.79it/s]"
     ]
    },
    {
     "name": "stdout",
     "output_type": "stream",
     "text": [
      "20.933333333333334\n"
     ]
    },
    {
     "name": "stderr",
     "output_type": "stream",
     "text": [
      "Training: 100%|██████████| 50/50 [00:03<00:00, 15.26it/s]\n",
      "Evaluating: 100%|██████████| 30/30 [00:00<00:00, 152.96it/s]\n",
      "Training:   4%|▍         | 2/50 [00:00<00:02, 18.15it/s]"
     ]
    },
    {
     "name": "stdout",
     "output_type": "stream",
     "text": [
      "48.4\n"
     ]
    },
    {
     "name": "stderr",
     "output_type": "stream",
     "text": [
      "Training: 100%|██████████| 50/50 [00:06<00:00,  8.26it/s]\n",
      "Evaluating: 100%|██████████| 30/30 [00:00<00:00, 161.42it/s]\n",
      "Training:   0%|          | 0/50 [00:00<?, ?it/s]"
     ]
    },
    {
     "name": "stdout",
     "output_type": "stream",
     "text": [
      "46.96666666666667\n"
     ]
    },
    {
     "name": "stderr",
     "output_type": "stream",
     "text": [
      "Training: 100%|██████████| 50/50 [00:09<00:00,  5.53it/s]\n",
      "Evaluating: 100%|██████████| 30/30 [00:00<00:00, 166.91it/s]\n",
      "Training:   2%|▏         | 1/50 [00:00<00:06,  7.52it/s]"
     ]
    },
    {
     "name": "stdout",
     "output_type": "stream",
     "text": [
      "45.1\n"
     ]
    },
    {
     "name": "stderr",
     "output_type": "stream",
     "text": [
      "Training: 100%|██████████| 50/50 [00:06<00:00,  7.43it/s]\n",
      "Evaluating: 100%|██████████| 30/30 [00:00<00:00, 38.06it/s]\n",
      "Training:   4%|▍         | 2/50 [00:00<00:02, 16.19it/s]"
     ]
    },
    {
     "name": "stdout",
     "output_type": "stream",
     "text": [
      "200.0\n"
     ]
    },
    {
     "name": "stderr",
     "output_type": "stream",
     "text": [
      "Training: 100%|██████████| 50/50 [00:10<00:00,  4.67it/s]\n",
      "Evaluating: 100%|██████████| 30/30 [00:00<00:00, 38.03it/s]\n",
      "Training:   0%|          | 0/50 [00:00<?, ?it/s]"
     ]
    },
    {
     "name": "stdout",
     "output_type": "stream",
     "text": [
      "200.0\n"
     ]
    },
    {
     "name": "stderr",
     "output_type": "stream",
     "text": [
      "Training: 100%|██████████| 50/50 [00:07<00:00,  7.09it/s]\n",
      "Evaluating: 100%|██████████| 30/30 [00:00<00:00, 153.34it/s]\n",
      "Training:   0%|          | 0/50 [00:00<?, ?it/s]"
     ]
    },
    {
     "name": "stdout",
     "output_type": "stream",
     "text": [
      "48.833333333333336\n"
     ]
    },
    {
     "name": "stderr",
     "output_type": "stream",
     "text": [
      "Training: 100%|██████████| 50/50 [00:05<00:00,  9.02it/s]\n",
      "Evaluating: 100%|██████████| 30/30 [00:00<00:00, 37.85it/s]\n",
      "Training:   2%|▏         | 1/50 [00:00<00:08,  6.03it/s]"
     ]
    },
    {
     "name": "stdout",
     "output_type": "stream",
     "text": [
      "200.0\n"
     ]
    },
    {
     "name": "stderr",
     "output_type": "stream",
     "text": [
      "Training: 100%|██████████| 50/50 [00:09<00:00,  5.33it/s]\n",
      "Evaluating: 100%|██████████| 30/30 [00:00<00:00, 46.86it/s]\n",
      "Training:   2%|▏         | 1/50 [00:00<00:07,  6.43it/s]"
     ]
    },
    {
     "name": "stdout",
     "output_type": "stream",
     "text": [
      "120.86666666666666\n"
     ]
    },
    {
     "name": "stderr",
     "output_type": "stream",
     "text": [
      "Training: 100%|██████████| 50/50 [00:11<00:00,  4.50it/s]\n",
      "Evaluating: 100%|██████████| 30/30 [00:00<00:00, 38.25it/s]\n",
      "Training:   2%|▏         | 1/50 [00:00<00:08,  5.97it/s]"
     ]
    },
    {
     "name": "stdout",
     "output_type": "stream",
     "text": [
      "200.0\n"
     ]
    },
    {
     "name": "stderr",
     "output_type": "stream",
     "text": [
      "Training: 100%|██████████| 50/50 [00:10<00:00,  4.81it/s]\n",
      "Evaluating: 100%|██████████| 30/30 [00:00<00:00, 37.92it/s]\n",
      "Training:   2%|▏         | 1/50 [00:00<00:06,  7.92it/s]"
     ]
    },
    {
     "name": "stdout",
     "output_type": "stream",
     "text": [
      "200.0\n"
     ]
    },
    {
     "name": "stderr",
     "output_type": "stream",
     "text": [
      "Training: 100%|██████████| 50/50 [00:07<00:00,  7.03it/s]\n",
      "Evaluating: 100%|██████████| 30/30 [00:00<00:00, 38.03it/s]\n",
      "Training:   4%|▍         | 2/50 [00:00<00:03, 12.06it/s]"
     ]
    },
    {
     "name": "stdout",
     "output_type": "stream",
     "text": [
      "200.0\n"
     ]
    },
    {
     "name": "stderr",
     "output_type": "stream",
     "text": [
      "Training: 100%|██████████| 50/50 [00:05<00:00,  8.41it/s]\n",
      "Evaluating: 100%|██████████| 30/30 [00:00<00:00, 95.44it/s] \n",
      "Training:   4%|▍         | 2/50 [00:00<00:03, 13.29it/s]"
     ]
    },
    {
     "name": "stdout",
     "output_type": "stream",
     "text": [
      "79.23333333333333\n"
     ]
    },
    {
     "name": "stderr",
     "output_type": "stream",
     "text": [
      "Training: 100%|██████████| 50/50 [00:07<00:00,  6.56it/s]\n",
      "Evaluating: 100%|██████████| 30/30 [00:00<00:00, 38.02it/s]\n",
      "Training:   0%|          | 0/50 [00:00<?, ?it/s]"
     ]
    },
    {
     "name": "stdout",
     "output_type": "stream",
     "text": [
      "200.0\n"
     ]
    },
    {
     "name": "stderr",
     "output_type": "stream",
     "text": [
      "Training: 100%|██████████| 50/50 [00:07<00:00,  6.74it/s]\n",
      "Evaluating: 100%|██████████| 30/30 [00:00<00:00, 449.84it/s]\n",
      "Training:  10%|█         | 5/50 [00:00<00:01, 40.78it/s]"
     ]
    },
    {
     "name": "stdout",
     "output_type": "stream",
     "text": [
      "15.466666666666667\n"
     ]
    },
    {
     "name": "stderr",
     "output_type": "stream",
     "text": [
      "Training: 100%|██████████| 50/50 [00:02<00:00, 18.99it/s]\n",
      "Evaluating: 100%|██████████| 30/30 [00:00<00:00, 365.51it/s]\n",
      "Training:   8%|▊         | 4/50 [00:00<00:01, 38.84it/s]"
     ]
    },
    {
     "name": "stdout",
     "output_type": "stream",
     "text": [
      "18.433333333333334\n"
     ]
    },
    {
     "name": "stderr",
     "output_type": "stream",
     "text": [
      "Training: 100%|██████████| 50/50 [00:08<00:00,  5.71it/s]\n",
      "Evaluating: 100%|██████████| 30/30 [00:00<00:00, 67.24it/s]\n",
      "Training:   0%|          | 0/50 [00:00<?, ?it/s]"
     ]
    },
    {
     "name": "stdout",
     "output_type": "stream",
     "text": [
      "106.36666666666666\n"
     ]
    },
    {
     "name": "stderr",
     "output_type": "stream",
     "text": [
      "Training: 100%|██████████| 50/50 [00:04<00:00, 10.10it/s]\n",
      "Evaluating: 100%|██████████| 30/30 [00:00<00:00, 349.28it/s]\n",
      "Training:   8%|▊         | 4/50 [00:00<00:01, 39.19it/s]"
     ]
    },
    {
     "name": "stdout",
     "output_type": "stream",
     "text": [
      "17.233333333333334\n"
     ]
    },
    {
     "name": "stderr",
     "output_type": "stream",
     "text": [
      "Training: 100%|██████████| 50/50 [00:03<00:00, 13.88it/s]\n",
      "Evaluating: 100%|██████████| 30/30 [00:00<00:00, 120.72it/s]\n",
      "Training:   2%|▏         | 1/50 [00:00<00:04,  9.97it/s]"
     ]
    },
    {
     "name": "stdout",
     "output_type": "stream",
     "text": [
      "62.2\n"
     ]
    },
    {
     "name": "stderr",
     "output_type": "stream",
     "text": [
      "Training: 100%|██████████| 50/50 [00:04<00:00, 11.01it/s]\n",
      "Evaluating: 100%|██████████| 30/30 [00:00<00:00, 129.85it/s]\n",
      "Training:   2%|▏         | 1/50 [00:00<00:05,  8.97it/s]"
     ]
    },
    {
     "name": "stdout",
     "output_type": "stream",
     "text": [
      "42.9\n"
     ]
    },
    {
     "name": "stderr",
     "output_type": "stream",
     "text": [
      "Training: 100%|██████████| 50/50 [00:03<00:00, 14.66it/s]\n",
      "Evaluating: 100%|██████████| 30/30 [00:00<00:00, 132.99it/s]\n",
      "Training:   2%|▏         | 1/50 [00:00<00:05,  9.47it/s]"
     ]
    },
    {
     "name": "stdout",
     "output_type": "stream",
     "text": [
      "56.1\n"
     ]
    },
    {
     "name": "stderr",
     "output_type": "stream",
     "text": [
      "Training: 100%|██████████| 50/50 [00:05<00:00,  9.92it/s]\n",
      "Evaluating: 100%|██████████| 30/30 [00:00<00:00, 81.56it/s]\n",
      "Training:   0%|          | 0/50 [00:00<?, ?it/s]"
     ]
    },
    {
     "name": "stdout",
     "output_type": "stream",
     "text": [
      "92.66666666666667\n"
     ]
    },
    {
     "name": "stderr",
     "output_type": "stream",
     "text": [
      "Training: 100%|██████████| 50/50 [00:06<00:00,  7.96it/s]\n",
      "Evaluating: 100%|██████████| 30/30 [00:00<00:00, 37.10it/s]\n",
      "Training:   2%|▏         | 1/50 [00:00<00:06,  7.88it/s]"
     ]
    },
    {
     "name": "stdout",
     "output_type": "stream",
     "text": [
      "200.0\n"
     ]
    },
    {
     "name": "stderr",
     "output_type": "stream",
     "text": [
      "Training: 100%|██████████| 50/50 [00:09<00:00,  5.04it/s]\n",
      "Evaluating: 100%|██████████| 30/30 [00:00<00:00, 74.97it/s]\n",
      "Training:   2%|▏         | 1/50 [00:00<00:07,  6.22it/s]"
     ]
    },
    {
     "name": "stdout",
     "output_type": "stream",
     "text": [
      "96.56666666666666\n"
     ]
    },
    {
     "name": "stderr",
     "output_type": "stream",
     "text": [
      "Training: 100%|██████████| 50/50 [00:08<00:00,  6.21it/s]\n",
      "Evaluating: 100%|██████████| 30/30 [00:00<00:00, 119.86it/s]\n",
      "Training:   4%|▍         | 2/50 [00:00<00:02, 19.22it/s]"
     ]
    },
    {
     "name": "stdout",
     "output_type": "stream",
     "text": [
      "60.666666666666664\n"
     ]
    },
    {
     "name": "stderr",
     "output_type": "stream",
     "text": [
      "Training: 100%|██████████| 50/50 [00:05<00:00,  9.09it/s]\n",
      "Evaluating: 100%|██████████| 30/30 [00:00<00:00, 69.05it/s]\n",
      "Training:   2%|▏         | 1/50 [00:00<00:07,  6.69it/s]"
     ]
    },
    {
     "name": "stdout",
     "output_type": "stream",
     "text": [
      "103.2\n"
     ]
    },
    {
     "name": "stderr",
     "output_type": "stream",
     "text": [
      "Training: 100%|██████████| 50/50 [00:07<00:00,  6.71it/s]\n",
      "Evaluating: 100%|██████████| 30/30 [00:00<00:00, 64.23it/s]\n",
      "Training:   0%|          | 0/50 [00:00<?, ?it/s]"
     ]
    },
    {
     "name": "stdout",
     "output_type": "stream",
     "text": [
      "116.76666666666667\n"
     ]
    },
    {
     "name": "stderr",
     "output_type": "stream",
     "text": [
      "Training: 100%|██████████| 50/50 [00:08<00:00,  5.81it/s]\n",
      "Evaluating: 100%|██████████| 30/30 [00:00<00:00, 77.23it/s]\n",
      "Training:   2%|▏         | 1/50 [00:00<00:06,  7.37it/s]"
     ]
    },
    {
     "name": "stdout",
     "output_type": "stream",
     "text": [
      "97.56666666666666\n"
     ]
    },
    {
     "name": "stderr",
     "output_type": "stream",
     "text": [
      "Training: 100%|██████████| 50/50 [00:03<00:00, 15.79it/s]\n",
      "Evaluating: 100%|██████████| 30/30 [00:00<00:00, 323.01it/s]\n",
      "Training:   6%|▌         | 3/50 [00:00<00:01, 29.06it/s]"
     ]
    },
    {
     "name": "stdout",
     "output_type": "stream",
     "text": [
      "17.866666666666667\n"
     ]
    },
    {
     "name": "stderr",
     "output_type": "stream",
     "text": [
      "Training: 100%|██████████| 50/50 [00:01<00:00, 28.57it/s]\n",
      "Evaluating: 100%|██████████| 30/30 [00:00<00:00, 281.76it/s]\n",
      "Training:   6%|▌         | 3/50 [00:00<00:01, 29.55it/s]"
     ]
    },
    {
     "name": "stdout",
     "output_type": "stream",
     "text": [
      "22.533333333333335\n"
     ]
    },
    {
     "name": "stderr",
     "output_type": "stream",
     "text": [
      "Training: 100%|██████████| 50/50 [00:03<00:00, 15.72it/s]\n",
      "Evaluating: 100%|██████████| 30/30 [00:00<00:00, 264.83it/s]\n",
      "Training:  10%|█         | 5/50 [00:00<00:01, 41.34it/s]"
     ]
    },
    {
     "name": "stdout",
     "output_type": "stream",
     "text": [
      "27.633333333333333\n"
     ]
    },
    {
     "name": "stderr",
     "output_type": "stream",
     "text": [
      "Training: 100%|██████████| 50/50 [00:05<00:00,  8.41it/s]\n",
      "Evaluating: 100%|██████████| 30/30 [00:00<00:00, 76.24it/s]\n",
      "Training:   2%|▏         | 1/50 [00:00<00:09,  5.35it/s]"
     ]
    },
    {
     "name": "stdout",
     "output_type": "stream",
     "text": [
      "98.33333333333333\n"
     ]
    },
    {
     "name": "stderr",
     "output_type": "stream",
     "text": [
      "Training: 100%|██████████| 50/50 [00:10<00:00,  4.81it/s]\n",
      "Evaluating: 100%|██████████| 30/30 [00:00<00:00, 54.62it/s]\n",
      "Training:   0%|          | 0/50 [00:00<?, ?it/s]"
     ]
    },
    {
     "name": "stdout",
     "output_type": "stream",
     "text": [
      "134.3\n"
     ]
    },
    {
     "name": "stderr",
     "output_type": "stream",
     "text": [
      "Training: 100%|██████████| 50/50 [00:08<00:00,  6.22it/s]\n",
      "Evaluating: 100%|██████████| 30/30 [00:00<00:00, 70.31it/s]\n",
      "Training:   0%|          | 0/50 [00:00<?, ?it/s]"
     ]
    },
    {
     "name": "stdout",
     "output_type": "stream",
     "text": [
      "106.83333333333333\n"
     ]
    },
    {
     "name": "stderr",
     "output_type": "stream",
     "text": [
      "Training: 100%|██████████| 50/50 [00:12<00:00,  4.08it/s]\n",
      "Evaluating: 100%|██████████| 30/30 [00:01<00:00, 29.33it/s]\n",
      "Training:   0%|          | 0/50 [00:00<?, ?it/s]"
     ]
    },
    {
     "name": "stdout",
     "output_type": "stream",
     "text": [
      "200.0\n"
     ]
    },
    {
     "name": "stderr",
     "output_type": "stream",
     "text": [
      "Training: 100%|██████████| 50/50 [00:10<00:00,  4.73it/s]\n",
      "Evaluating: 100%|██████████| 30/30 [00:00<00:00, 77.17it/s]\n",
      "Training:   2%|▏         | 1/50 [00:00<00:07,  6.49it/s]"
     ]
    },
    {
     "name": "stdout",
     "output_type": "stream",
     "text": [
      "93.76666666666667\n"
     ]
    },
    {
     "name": "stderr",
     "output_type": "stream",
     "text": [
      "Training: 100%|██████████| 50/50 [00:07<00:00,  6.42it/s]\n",
      "Evaluating: 100%|██████████| 30/30 [00:00<00:00, 78.25it/s]\n",
      "Training:   2%|▏         | 1/50 [00:00<00:09,  5.21it/s]"
     ]
    },
    {
     "name": "stdout",
     "output_type": "stream",
     "text": [
      "95.36666666666666\n"
     ]
    },
    {
     "name": "stderr",
     "output_type": "stream",
     "text": [
      "Training: 100%|██████████| 50/50 [00:10<00:00,  4.62it/s]\n",
      "Evaluating: 100%|██████████| 30/30 [00:00<00:00, 37.88it/s]\n",
      "Training:   0%|          | 0/50 [00:00<?, ?it/s]"
     ]
    },
    {
     "name": "stdout",
     "output_type": "stream",
     "text": [
      "200.0\n"
     ]
    },
    {
     "name": "stderr",
     "output_type": "stream",
     "text": [
      "Training: 100%|██████████| 50/50 [00:06<00:00,  7.35it/s]\n",
      "Evaluating: 100%|██████████| 30/30 [00:00<00:00, 500.40it/s]\n",
      "Training:   2%|▏         | 1/50 [00:00<00:07,  6.26it/s]"
     ]
    },
    {
     "name": "stdout",
     "output_type": "stream",
     "text": [
      "14.166666666666666\n"
     ]
    },
    {
     "name": "stderr",
     "output_type": "stream",
     "text": [
      "Training: 100%|██████████| 50/50 [00:04<00:00, 11.32it/s]\n",
      "Evaluating: 100%|██████████| 30/30 [00:00<00:00, 58.10it/s]\n",
      "Training:   2%|▏         | 1/50 [00:00<00:08,  5.49it/s]"
     ]
    },
    {
     "name": "stdout",
     "output_type": "stream",
     "text": [
      "117.6\n"
     ]
    },
    {
     "name": "stderr",
     "output_type": "stream",
     "text": [
      "Training: 100%|██████████| 50/50 [00:10<00:00,  4.80it/s]\n",
      "Evaluating: 100%|██████████| 30/30 [00:00<00:00, 66.26it/s]\n",
      "Training:   0%|          | 0/50 [00:00<?, ?it/s]"
     ]
    },
    {
     "name": "stdout",
     "output_type": "stream",
     "text": [
      "105.9\n"
     ]
    },
    {
     "name": "stderr",
     "output_type": "stream",
     "text": [
      "Training: 100%|██████████| 50/50 [00:08<00:00,  6.21it/s]\n",
      "Evaluating: 100%|██████████| 30/30 [00:00<00:00, 65.13it/s]\n",
      "Training:   2%|▏         | 1/50 [00:00<00:06,  7.31it/s]"
     ]
    },
    {
     "name": "stdout",
     "output_type": "stream",
     "text": [
      "114.13333333333334\n"
     ]
    },
    {
     "name": "stderr",
     "output_type": "stream",
     "text": [
      "Training: 100%|██████████| 50/50 [00:06<00:00,  7.89it/s]\n",
      "Evaluating: 100%|██████████| 30/30 [00:00<00:00, 83.64it/s]\n",
      "Training:   6%|▌         | 3/50 [00:00<00:02, 17.07it/s]"
     ]
    },
    {
     "name": "stdout",
     "output_type": "stream",
     "text": [
      "89.63333333333334\n"
     ]
    },
    {
     "name": "stderr",
     "output_type": "stream",
     "text": [
      "Training: 100%|██████████| 50/50 [00:05<00:00,  8.68it/s]\n",
      "Evaluating: 100%|██████████| 30/30 [00:00<00:00, 37.68it/s]\n",
      "Training:   0%|          | 0/50 [00:00<?, ?it/s]"
     ]
    },
    {
     "name": "stdout",
     "output_type": "stream",
     "text": [
      "200.0\n"
     ]
    },
    {
     "name": "stderr",
     "output_type": "stream",
     "text": [
      "Training: 100%|██████████| 50/50 [00:04<00:00, 11.96it/s]\n",
      "Evaluating: 100%|██████████| 30/30 [00:00<00:00, 73.28it/s]\n",
      "Training:   0%|          | 0/50 [00:00<?, ?it/s]"
     ]
    },
    {
     "name": "stdout",
     "output_type": "stream",
     "text": [
      "95.3\n"
     ]
    },
    {
     "name": "stderr",
     "output_type": "stream",
     "text": [
      "Training: 100%|██████████| 50/50 [00:06<00:00,  8.15it/s]\n",
      "Evaluating: 100%|██████████| 30/30 [00:00<00:00, 75.87it/s]\n",
      "Training:   2%|▏         | 1/50 [00:00<00:07,  6.76it/s]"
     ]
    },
    {
     "name": "stdout",
     "output_type": "stream",
     "text": [
      "98.96666666666667\n"
     ]
    },
    {
     "name": "stderr",
     "output_type": "stream",
     "text": [
      "Training: 100%|██████████| 50/50 [00:07<00:00,  6.71it/s]\n",
      "Evaluating: 100%|██████████| 30/30 [00:00<00:00, 36.95it/s]\n",
      "Training:   0%|          | 0/50 [00:00<?, ?it/s]"
     ]
    },
    {
     "name": "stdout",
     "output_type": "stream",
     "text": [
      "200.0\n"
     ]
    },
    {
     "name": "stderr",
     "output_type": "stream",
     "text": [
      "Training: 100%|██████████| 50/50 [00:10<00:00,  4.93it/s]\n",
      "Evaluating: 100%|██████████| 30/30 [00:00<00:00, 84.49it/s]\n",
      "Training:   2%|▏         | 1/50 [00:00<00:06,  8.13it/s]"
     ]
    },
    {
     "name": "stdout",
     "output_type": "stream",
     "text": [
      "87.86666666666666\n"
     ]
    },
    {
     "name": "stderr",
     "output_type": "stream",
     "text": [
      "Training: 100%|██████████| 50/50 [00:08<00:00,  6.23it/s]\n",
      "Evaluating: 100%|██████████| 30/30 [00:01<00:00, 28.32it/s]\n",
      "Training:   0%|          | 0/50 [00:00<?, ?it/s]"
     ]
    },
    {
     "name": "stdout",
     "output_type": "stream",
     "text": [
      "200.0\n"
     ]
    },
    {
     "name": "stderr",
     "output_type": "stream",
     "text": [
      "Training: 100%|██████████| 50/50 [00:02<00:00, 16.92it/s]\n",
      "Evaluating: 100%|██████████| 30/30 [00:00<00:00, 340.10it/s]\n",
      "Training:   6%|▌         | 3/50 [00:00<00:01, 23.65it/s]"
     ]
    },
    {
     "name": "stdout",
     "output_type": "stream",
     "text": [
      "21.2\n"
     ]
    },
    {
     "name": "stderr",
     "output_type": "stream",
     "text": [
      "Training: 100%|██████████| 50/50 [00:02<00:00, 19.30it/s]\n",
      "Evaluating: 100%|██████████| 30/30 [00:00<00:00, 36.76it/s]\n",
      "Training:   0%|          | 0/50 [00:00<?, ?it/s]"
     ]
    },
    {
     "name": "stdout",
     "output_type": "stream",
     "text": [
      "200.0\n"
     ]
    },
    {
     "name": "stderr",
     "output_type": "stream",
     "text": [
      "Training: 100%|██████████| 50/50 [00:04<00:00, 10.19it/s]\n",
      "Evaluating: 100%|██████████| 30/30 [00:00<00:00, 37.51it/s]\n",
      "Training:   0%|          | 0/50 [00:00<?, ?it/s]"
     ]
    },
    {
     "name": "stdout",
     "output_type": "stream",
     "text": [
      "200.0\n"
     ]
    },
    {
     "name": "stderr",
     "output_type": "stream",
     "text": [
      "Training: 100%|██████████| 50/50 [00:08<00:00,  5.93it/s]\n",
      "Evaluating: 100%|██████████| 30/30 [00:00<00:00, 91.05it/s]\n",
      "Training:   2%|▏         | 1/50 [00:00<00:08,  5.84it/s]"
     ]
    },
    {
     "name": "stdout",
     "output_type": "stream",
     "text": [
      "81.93333333333334\n"
     ]
    },
    {
     "name": "stderr",
     "output_type": "stream",
     "text": [
      "Training: 100%|██████████| 50/50 [00:07<00:00,  6.91it/s]\n",
      "Evaluating: 100%|██████████| 30/30 [00:00<00:00, 37.63it/s]\n",
      "Training:   0%|          | 0/50 [00:00<?, ?it/s]"
     ]
    },
    {
     "name": "stdout",
     "output_type": "stream",
     "text": [
      "200.0\n"
     ]
    },
    {
     "name": "stderr",
     "output_type": "stream",
     "text": [
      "Training: 100%|██████████| 50/50 [00:05<00:00,  9.58it/s]\n",
      "Evaluating: 100%|██████████| 30/30 [00:00<00:00, 390.28it/s]\n",
      "Training:   8%|▊         | 4/50 [00:00<00:01, 39.51it/s]"
     ]
    },
    {
     "name": "stdout",
     "output_type": "stream",
     "text": [
      "17.766666666666666\n"
     ]
    },
    {
     "name": "stderr",
     "output_type": "stream",
     "text": [
      "Training: 100%|██████████| 50/50 [00:01<00:00, 26.68it/s]\n",
      "Evaluating: 100%|██████████| 30/30 [00:00<00:00, 359.79it/s]\n",
      "Training:   8%|▊         | 4/50 [00:00<00:01, 37.95it/s]"
     ]
    },
    {
     "name": "stdout",
     "output_type": "stream",
     "text": [
      "20.333333333333332\n"
     ]
    },
    {
     "name": "stderr",
     "output_type": "stream",
     "text": [
      "Training: 100%|██████████| 50/50 [00:05<00:00,  8.89it/s]\n",
      "Evaluating: 100%|██████████| 30/30 [00:00<00:00, 48.52it/s]\n",
      "Training:   2%|▏         | 1/50 [00:00<00:04,  9.97it/s]"
     ]
    },
    {
     "name": "stdout",
     "output_type": "stream",
     "text": [
      "154.96666666666667\n"
     ]
    },
    {
     "name": "stderr",
     "output_type": "stream",
     "text": [
      "Training: 100%|██████████| 50/50 [00:02<00:00, 17.79it/s]\n",
      "Evaluating: 100%|██████████| 30/30 [00:00<00:00, 411.50it/s]\n",
      "Training:   0%|          | 0/50 [00:00<?, ?it/s]"
     ]
    },
    {
     "name": "stdout",
     "output_type": "stream",
     "text": [
      "17.633333333333333\n"
     ]
    },
    {
     "name": "stderr",
     "output_type": "stream",
     "text": [
      "Training: 100%|██████████| 50/50 [00:01<00:00, 29.76it/s]\n",
      "Evaluating: 100%|██████████| 30/30 [00:00<00:00, 467.46it/s]\n",
      "Training:   4%|▍         | 2/50 [00:00<00:03, 12.56it/s]"
     ]
    },
    {
     "name": "stdout",
     "output_type": "stream",
     "text": [
      "14.866666666666667\n"
     ]
    },
    {
     "name": "stderr",
     "output_type": "stream",
     "text": [
      "Training: 100%|██████████| 50/50 [00:01<00:00, 37.64it/s]\n",
      "Evaluating: 100%|██████████| 30/30 [00:00<00:00, 483.87it/s]\n",
      "Training:  10%|█         | 5/50 [00:00<00:01, 40.72it/s]"
     ]
    },
    {
     "name": "stdout",
     "output_type": "stream",
     "text": [
      "14.733333333333333\n"
     ]
    },
    {
     "name": "stderr",
     "output_type": "stream",
     "text": [
      "Training: 100%|██████████| 50/50 [00:01<00:00, 27.79it/s]\n",
      "Evaluating: 100%|██████████| 30/30 [00:00<00:00, 120.99it/s]\n",
      "Training:  10%|█         | 5/50 [00:00<00:01, 44.00it/s]"
     ]
    },
    {
     "name": "stdout",
     "output_type": "stream",
     "text": [
      "58.03333333333333\n"
     ]
    },
    {
     "name": "stderr",
     "output_type": "stream",
     "text": [
      "Training: 100%|██████████| 50/50 [00:02<00:00, 16.85it/s]\n",
      "Evaluating: 100%|██████████| 30/30 [00:00<00:00, 274.32it/s]\n",
      "Training:   6%|▌         | 3/50 [00:00<00:02, 20.79it/s]"
     ]
    },
    {
     "name": "stdout",
     "output_type": "stream",
     "text": [
      "26.1\n"
     ]
    },
    {
     "name": "stderr",
     "output_type": "stream",
     "text": [
      "Training: 100%|██████████| 50/50 [00:08<00:00,  6.23it/s]\n",
      "Evaluating: 100%|██████████| 30/30 [00:00<00:00, 36.66it/s]\n",
      "Training:   0%|          | 0/50 [00:00<?, ?it/s]"
     ]
    },
    {
     "name": "stdout",
     "output_type": "stream",
     "text": [
      "200.0\n"
     ]
    },
    {
     "name": "stderr",
     "output_type": "stream",
     "text": [
      "Training: 100%|██████████| 50/50 [00:06<00:00,  7.37it/s]\n",
      "Evaluating: 100%|██████████| 30/30 [00:00<00:00, 77.90it/s]\n",
      "Training:   2%|▏         | 1/50 [00:00<00:05,  8.99it/s]"
     ]
    },
    {
     "name": "stdout",
     "output_type": "stream",
     "text": [
      "91.33333333333333\n"
     ]
    },
    {
     "name": "stderr",
     "output_type": "stream",
     "text": [
      "Training: 100%|██████████| 50/50 [00:04<00:00, 11.90it/s]\n",
      "Evaluating: 100%|██████████| 30/30 [00:00<00:00, 417.29it/s]\n",
      "Training:  10%|█         | 5/50 [00:00<00:00, 48.79it/s]"
     ]
    },
    {
     "name": "stdout",
     "output_type": "stream",
     "text": [
      "16.566666666666666\n"
     ]
    },
    {
     "name": "stderr",
     "output_type": "stream",
     "text": [
      "Training: 100%|██████████| 50/50 [00:01<00:00, 34.49it/s]\n",
      "Evaluating: 100%|██████████| 30/30 [00:00<00:00, 311.50it/s]\n",
      "Training:   0%|          | 0/50 [00:00<?, ?it/s]"
     ]
    },
    {
     "name": "stdout",
     "output_type": "stream",
     "text": [
      "23.933333333333334\n"
     ]
    },
    {
     "name": "stderr",
     "output_type": "stream",
     "text": [
      "Training: 100%|██████████| 50/50 [00:01<00:00, 30.03it/s]\n",
      "Evaluating: 100%|██████████| 30/30 [00:00<00:00, 282.36it/s]\n",
      "Training:   8%|▊         | 4/50 [00:00<00:01, 32.42it/s]"
     ]
    },
    {
     "name": "stdout",
     "output_type": "stream",
     "text": [
      "21.833333333333332\n"
     ]
    },
    {
     "name": "stderr",
     "output_type": "stream",
     "text": [
      "Training: 100%|██████████| 50/50 [00:02<00:00, 16.83it/s]\n",
      "Evaluating: 100%|██████████| 30/30 [00:00<00:00, 247.42it/s]\n",
      "Training:   4%|▍         | 2/50 [00:00<00:04, 11.17it/s]"
     ]
    },
    {
     "name": "stdout",
     "output_type": "stream",
     "text": [
      "22.033333333333335\n"
     ]
    },
    {
     "name": "stderr",
     "output_type": "stream",
     "text": [
      "Training: 100%|██████████| 50/50 [00:02<00:00, 21.06it/s]\n",
      "Evaluating: 100%|██████████| 30/30 [00:00<00:00, 468.16it/s]\n",
      "Training:   0%|          | 0/50 [00:00<?, ?it/s]"
     ]
    },
    {
     "name": "stdout",
     "output_type": "stream",
     "text": [
      "14.866666666666667\n"
     ]
    },
    {
     "name": "stderr",
     "output_type": "stream",
     "text": [
      "Training: 100%|██████████| 50/50 [00:05<00:00,  9.97it/s]\n",
      "Evaluating: 100%|██████████| 30/30 [00:00<00:00, 38.00it/s]\n",
      "Training:   0%|          | 0/50 [00:00<?, ?it/s]"
     ]
    },
    {
     "name": "stdout",
     "output_type": "stream",
     "text": [
      "194.6\n"
     ]
    },
    {
     "name": "stderr",
     "output_type": "stream",
     "text": [
      "Training: 100%|██████████| 50/50 [00:07<00:00,  6.58it/s]\n",
      "Evaluating: 100%|██████████| 30/30 [00:00<00:00, 57.84it/s]\n",
      "Training:   0%|          | 0/50 [00:00<?, ?it/s]"
     ]
    },
    {
     "name": "stdout",
     "output_type": "stream",
     "text": [
      "123.16666666666667\n"
     ]
    },
    {
     "name": "stderr",
     "output_type": "stream",
     "text": [
      "Training: 100%|██████████| 50/50 [00:06<00:00,  7.20it/s]\n",
      "Evaluating: 100%|██████████| 30/30 [00:00<00:00, 37.40it/s]\n",
      "Training:   4%|▍         | 2/50 [00:00<00:03, 13.89it/s]"
     ]
    },
    {
     "name": "stdout",
     "output_type": "stream",
     "text": [
      "200.0\n"
     ]
    },
    {
     "name": "stderr",
     "output_type": "stream",
     "text": [
      "Training: 100%|██████████| 50/50 [00:04<00:00, 12.19it/s]\n",
      "Evaluating: 100%|██████████| 30/30 [00:00<00:00, 36.89it/s]\n",
      "Training:   2%|▏         | 1/50 [00:00<00:09,  5.28it/s]"
     ]
    },
    {
     "name": "stdout",
     "output_type": "stream",
     "text": [
      "195.1\n"
     ]
    },
    {
     "name": "stderr",
     "output_type": "stream",
     "text": [
      "Training: 100%|██████████| 50/50 [00:09<00:00,  5.36it/s]\n",
      "Evaluating: 100%|██████████| 30/30 [00:00<00:00, 57.68it/s]\n",
      "Training:   0%|          | 0/50 [00:00<?, ?it/s]"
     ]
    },
    {
     "name": "stdout",
     "output_type": "stream",
     "text": [
      "126.5\n"
     ]
    },
    {
     "name": "stderr",
     "output_type": "stream",
     "text": [
      "Training: 100%|██████████| 50/50 [00:04<00:00, 10.42it/s]\n",
      "Evaluating: 100%|██████████| 30/30 [00:00<00:00, 256.20it/s]\n",
      "Training:   6%|▌         | 3/50 [00:00<00:02, 15.88it/s]"
     ]
    },
    {
     "name": "stdout",
     "output_type": "stream",
     "text": [
      "28.533333333333335\n"
     ]
    },
    {
     "name": "stderr",
     "output_type": "stream",
     "text": [
      "Training: 100%|██████████| 50/50 [00:01<00:00, 30.43it/s]\n",
      "Evaluating: 100%|██████████| 30/30 [00:00<00:00, 185.84it/s]\n",
      "Training:   4%|▍         | 2/50 [00:00<00:02, 16.13it/s]"
     ]
    },
    {
     "name": "stdout",
     "output_type": "stream",
     "text": [
      "35.666666666666664\n"
     ]
    },
    {
     "name": "stderr",
     "output_type": "stream",
     "text": [
      "Training: 100%|██████████| 50/50 [00:02<00:00, 21.91it/s]\n",
      "Evaluating: 100%|██████████| 30/30 [00:00<00:00, 37.13it/s]\n",
      "Training:   6%|▌         | 3/50 [00:00<00:01, 28.16it/s]"
     ]
    },
    {
     "name": "stdout",
     "output_type": "stream",
     "text": [
      "200.0\n"
     ]
    },
    {
     "name": "stderr",
     "output_type": "stream",
     "text": [
      "Training: 100%|██████████| 50/50 [00:02<00:00, 19.25it/s]\n",
      "Evaluating: 100%|██████████| 30/30 [00:00<00:00, 41.67it/s]\n",
      "Training:   0%|          | 0/50 [00:00<?, ?it/s]"
     ]
    },
    {
     "name": "stdout",
     "output_type": "stream",
     "text": [
      "178.2\n"
     ]
    },
    {
     "name": "stderr",
     "output_type": "stream",
     "text": [
      "Training: 100%|██████████| 50/50 [00:05<00:00,  8.62it/s]\n",
      "Evaluating: 100%|██████████| 30/30 [00:00<00:00, 66.80it/s]\n",
      "Training:   0%|          | 0/50 [00:00<?, ?it/s]"
     ]
    },
    {
     "name": "stdout",
     "output_type": "stream",
     "text": [
      "111.26666666666667\n"
     ]
    },
    {
     "name": "stderr",
     "output_type": "stream",
     "text": [
      "Training: 100%|██████████| 50/50 [00:06<00:00,  8.01it/s]\n",
      "Evaluating: 100%|██████████| 30/30 [00:00<00:00, 71.52it/s]\n",
      "Training:   0%|          | 0/50 [00:00<?, ?it/s]"
     ]
    },
    {
     "name": "stdout",
     "output_type": "stream",
     "text": [
      "91.26666666666667\n"
     ]
    },
    {
     "name": "stderr",
     "output_type": "stream",
     "text": [
      "Training: 100%|██████████| 50/50 [00:09<00:00,  5.11it/s]\n",
      "Evaluating: 100%|██████████| 30/30 [00:00<00:00, 41.31it/s]\n",
      "Training:   0%|          | 0/50 [00:00<?, ?it/s]"
     ]
    },
    {
     "name": "stdout",
     "output_type": "stream",
     "text": [
      "174.26666666666668\n"
     ]
    },
    {
     "name": "stderr",
     "output_type": "stream",
     "text": [
      "Training: 100%|██████████| 50/50 [00:08<00:00,  5.71it/s]\n",
      "Evaluating: 100%|██████████| 30/30 [00:00<00:00, 132.01it/s]\n",
      "Training:   0%|          | 0/50 [00:00<?, ?it/s]"
     ]
    },
    {
     "name": "stdout",
     "output_type": "stream",
     "text": [
      "52.6\n"
     ]
    },
    {
     "name": "stderr",
     "output_type": "stream",
     "text": [
      "Training: 100%|██████████| 50/50 [00:06<00:00,  7.80it/s]\n",
      "Evaluating: 100%|██████████| 30/30 [00:00<00:00, 135.11it/s]\n",
      "Training:   4%|▍         | 2/50 [00:00<00:03, 14.84it/s]"
     ]
    },
    {
     "name": "stdout",
     "output_type": "stream",
     "text": [
      "52.0\n"
     ]
    },
    {
     "name": "stderr",
     "output_type": "stream",
     "text": [
      "Training: 100%|██████████| 50/50 [00:04<00:00, 10.08it/s]\n",
      "Evaluating: 100%|██████████| 30/30 [00:00<00:00, 108.25it/s]\n",
      "Training:   4%|▍         | 2/50 [00:00<00:02, 16.49it/s]"
     ]
    },
    {
     "name": "stdout",
     "output_type": "stream",
     "text": [
      "64.76666666666667\n"
     ]
    },
    {
     "name": "stderr",
     "output_type": "stream",
     "text": [
      "Training: 100%|██████████| 50/50 [00:07<00:00,  6.93it/s]\n",
      "Evaluating: 100%|██████████| 30/30 [00:00<00:00, 40.38it/s]\n",
      "Training:   2%|▏         | 1/50 [00:00<00:07,  6.56it/s]"
     ]
    },
    {
     "name": "stdout",
     "output_type": "stream",
     "text": [
      "179.56666666666666\n"
     ]
    },
    {
     "name": "stderr",
     "output_type": "stream",
     "text": [
      "Training: 100%|██████████| 50/50 [00:07<00:00,  6.77it/s]\n",
      "Evaluating: 100%|██████████| 30/30 [00:00<00:00, 100.15it/s]\n",
      "Training:   0%|          | 0/50 [00:00<?, ?it/s]"
     ]
    },
    {
     "name": "stdout",
     "output_type": "stream",
     "text": [
      "58.0\n"
     ]
    },
    {
     "name": "stderr",
     "output_type": "stream",
     "text": [
      "Training: 100%|██████████| 50/50 [00:06<00:00,  8.01it/s]\n",
      "Evaluating: 100%|██████████| 30/30 [00:00<00:00, 39.25it/s]\n",
      "Training:   0%|          | 0/50 [00:00<?, ?it/s]"
     ]
    },
    {
     "name": "stdout",
     "output_type": "stream",
     "text": [
      "187.86666666666667\n"
     ]
    },
    {
     "name": "stderr",
     "output_type": "stream",
     "text": [
      "Training: 100%|██████████| 50/50 [00:07<00:00,  6.71it/s]\n",
      "Evaluating: 100%|██████████| 30/30 [00:00<00:00, 74.34it/s]\n",
      "Training:   6%|▌         | 3/50 [00:00<00:01, 29.31it/s]"
     ]
    },
    {
     "name": "stdout",
     "output_type": "stream",
     "text": [
      "100.93333333333334\n"
     ]
    },
    {
     "name": "stderr",
     "output_type": "stream",
     "text": [
      "Training: 100%|██████████| 50/50 [00:04<00:00, 12.49it/s]\n",
      "Evaluating: 100%|██████████| 30/30 [00:00<00:00, 317.77it/s]\n",
      "Training:   6%|▌         | 3/50 [00:00<00:02, 18.24it/s]"
     ]
    },
    {
     "name": "stdout",
     "output_type": "stream",
     "text": [
      "21.666666666666668\n"
     ]
    },
    {
     "name": "stderr",
     "output_type": "stream",
     "text": [
      "Training: 100%|██████████| 50/50 [00:04<00:00, 10.16it/s]\n",
      "Evaluating: 100%|██████████| 30/30 [00:00<00:00, 545.75it/s]\n",
      "Training:  10%|█         | 5/50 [00:00<00:01, 33.90it/s]"
     ]
    },
    {
     "name": "stdout",
     "output_type": "stream",
     "text": [
      "12.433333333333334\n"
     ]
    },
    {
     "name": "stderr",
     "output_type": "stream",
     "text": [
      "Training: 100%|██████████| 50/50 [00:01<00:00, 28.43it/s]\n",
      "Evaluating: 100%|██████████| 30/30 [00:00<00:00, 362.16it/s]\n",
      "Training:   8%|▊         | 4/50 [00:00<00:01, 30.14it/s]"
     ]
    },
    {
     "name": "stdout",
     "output_type": "stream",
     "text": [
      "20.166666666666668\n"
     ]
    },
    {
     "name": "stderr",
     "output_type": "stream",
     "text": [
      "Training: 100%|██████████| 50/50 [00:05<00:00,  9.78it/s]\n",
      "Evaluating: 100%|██████████| 30/30 [00:00<00:00, 413.04it/s]\n",
      "Training:  10%|█         | 5/50 [00:00<00:01, 39.22it/s]"
     ]
    },
    {
     "name": "stdout",
     "output_type": "stream",
     "text": [
      "15.066666666666666\n"
     ]
    },
    {
     "name": "stderr",
     "output_type": "stream",
     "text": [
      "Training: 100%|██████████| 50/50 [00:08<00:00,  5.75it/s]\n",
      "Evaluating: 100%|██████████| 30/30 [00:00<00:00, 44.98it/s]\n",
      "Training:   2%|▏         | 1/50 [00:00<00:05,  9.65it/s]"
     ]
    },
    {
     "name": "stdout",
     "output_type": "stream",
     "text": [
      "165.5\n"
     ]
    },
    {
     "name": "stderr",
     "output_type": "stream",
     "text": [
      "Training: 100%|██████████| 50/50 [00:03<00:00, 12.77it/s]\n",
      "Evaluating: 100%|██████████| 30/30 [00:00<00:00, 68.93it/s]\n",
      "Training:   4%|▍         | 2/50 [00:00<00:03, 15.88it/s]"
     ]
    },
    {
     "name": "stdout",
     "output_type": "stream",
     "text": [
      "106.73333333333333\n"
     ]
    },
    {
     "name": "stderr",
     "output_type": "stream",
     "text": [
      "Training: 100%|██████████| 50/50 [00:07<00:00,  6.31it/s]\n",
      "Evaluating: 100%|██████████| 30/30 [00:00<00:00, 37.15it/s]\n",
      "Training:   0%|          | 0/50 [00:00<?, ?it/s]"
     ]
    },
    {
     "name": "stdout",
     "output_type": "stream",
     "text": [
      "200.0\n"
     ]
    },
    {
     "name": "stderr",
     "output_type": "stream",
     "text": [
      "Training: 100%|██████████| 50/50 [00:10<00:00,  4.90it/s]\n",
      "Evaluating: 100%|██████████| 30/30 [00:00<00:00, 457.23it/s]\n",
      "Training:   0%|          | 0/50 [00:00<?, ?it/s]"
     ]
    },
    {
     "name": "stdout",
     "output_type": "stream",
     "text": [
      "15.866666666666667\n"
     ]
    },
    {
     "name": "stderr",
     "output_type": "stream",
     "text": [
      "Training: 100%|██████████| 50/50 [00:10<00:00,  4.60it/s]\n",
      "Evaluating: 100%|██████████| 30/30 [00:00<00:00, 37.67it/s]\n",
      "Training:   0%|          | 0/50 [00:00<?, ?it/s]"
     ]
    },
    {
     "name": "stdout",
     "output_type": "stream",
     "text": [
      "200.0\n"
     ]
    },
    {
     "name": "stderr",
     "output_type": "stream",
     "text": [
      "Training: 100%|██████████| 50/50 [00:08<00:00,  5.56it/s]\n",
      "Evaluating: 100%|██████████| 30/30 [00:00<00:00, 59.95it/s] \n",
      "Training:   4%|▍         | 2/50 [00:00<00:03, 13.56it/s]"
     ]
    },
    {
     "name": "stdout",
     "output_type": "stream",
     "text": [
      "114.23333333333333\n"
     ]
    },
    {
     "name": "stderr",
     "output_type": "stream",
     "text": [
      "Training: 100%|██████████| 50/50 [00:03<00:00, 12.53it/s]\n",
      "Evaluating: 100%|██████████| 30/30 [00:00<00:00, 37.63it/s]\n",
      "Training:   2%|▏         | 1/50 [00:00<00:07,  6.40it/s]"
     ]
    },
    {
     "name": "stdout",
     "output_type": "stream",
     "text": [
      "168.53333333333333\n"
     ]
    },
    {
     "name": "stderr",
     "output_type": "stream",
     "text": [
      "Training: 100%|██████████| 50/50 [00:08<00:00,  6.06it/s]\n",
      "Evaluating: 100%|██████████| 30/30 [00:00<00:00, 37.05it/s]\n",
      "Training:   0%|          | 0/50 [00:00<?, ?it/s]"
     ]
    },
    {
     "name": "stdout",
     "output_type": "stream",
     "text": [
      "200.0\n"
     ]
    },
    {
     "name": "stderr",
     "output_type": "stream",
     "text": [
      "Training: 100%|██████████| 50/50 [00:07<00:00,  6.68it/s]\n",
      "Evaluating: 100%|██████████| 30/30 [00:00<00:00, 34.95it/s]\n",
      "Training:   2%|▏         | 1/50 [00:00<00:07,  6.65it/s]"
     ]
    },
    {
     "name": "stdout",
     "output_type": "stream",
     "text": [
      "200.0\n"
     ]
    },
    {
     "name": "stderr",
     "output_type": "stream",
     "text": [
      "Training: 100%|██████████| 50/50 [00:09<00:00,  5.32it/s]\n",
      "Evaluating: 100%|██████████| 30/30 [00:00<00:00, 37.33it/s]\n",
      "Training:   0%|          | 0/50 [00:00<?, ?it/s]"
     ]
    },
    {
     "name": "stdout",
     "output_type": "stream",
     "text": [
      "200.0\n"
     ]
    },
    {
     "name": "stderr",
     "output_type": "stream",
     "text": [
      "Training: 100%|██████████| 50/50 [00:04<00:00, 10.52it/s]\n",
      "Evaluating: 100%|██████████| 30/30 [00:00<00:00, 574.41it/s]\n",
      "Training:   4%|▍         | 2/50 [00:00<00:02, 18.83it/s]"
     ]
    },
    {
     "name": "stdout",
     "output_type": "stream",
     "text": [
      "12.333333333333334\n"
     ]
    },
    {
     "name": "stderr",
     "output_type": "stream",
     "text": [
      "Training: 100%|██████████| 50/50 [00:04<00:00, 10.53it/s]\n",
      "Evaluating: 100%|██████████| 30/30 [00:00<00:00, 130.79it/s]\n",
      "Training:   4%|▍         | 2/50 [00:00<00:03, 12.75it/s]"
     ]
    },
    {
     "name": "stdout",
     "output_type": "stream",
     "text": [
      "56.7\n"
     ]
    },
    {
     "name": "stderr",
     "output_type": "stream",
     "text": [
      "Training: 100%|██████████| 50/50 [00:05<00:00,  8.64it/s]\n",
      "Evaluating: 100%|██████████| 30/30 [00:00<00:00, 97.74it/s]\n",
      "Training:   4%|▍         | 2/50 [00:00<00:02, 19.15it/s]"
     ]
    },
    {
     "name": "stdout",
     "output_type": "stream",
     "text": [
      "75.66666666666667\n"
     ]
    },
    {
     "name": "stderr",
     "output_type": "stream",
     "text": [
      "Training: 100%|██████████| 50/50 [00:07<00:00,  6.61it/s]\n",
      "Evaluating: 100%|██████████| 30/30 [00:00<00:00, 57.55it/s]\n",
      "Training:   4%|▍         | 2/50 [00:00<00:03, 12.01it/s]"
     ]
    },
    {
     "name": "stdout",
     "output_type": "stream",
     "text": [
      "131.66666666666666\n"
     ]
    },
    {
     "name": "stderr",
     "output_type": "stream",
     "text": [
      "Training: 100%|██████████| 50/50 [00:05<00:00,  8.91it/s]\n",
      "Evaluating: 100%|██████████| 30/30 [00:00<00:00, 36.61it/s]\n",
      "Training:   0%|          | 0/50 [00:00<?, ?it/s]"
     ]
    },
    {
     "name": "stdout",
     "output_type": "stream",
     "text": [
      "200.0\n"
     ]
    },
    {
     "name": "stderr",
     "output_type": "stream",
     "text": [
      "Training: 100%|██████████| 50/50 [00:09<00:00,  5.22it/s]\n",
      "Evaluating: 100%|██████████| 30/30 [00:00<00:00, 52.82it/s]"
     ]
    },
    {
     "name": "stdout",
     "output_type": "stream",
     "text": [
      "139.06666666666666\n",
      "\n",
      "Learning Performance:\n",
      "\n"
     ]
    },
    {
     "name": "stderr",
     "output_type": "stream",
     "text": [
      "\n"
     ]
    },
    {
     "data": {
      "text/plain": [
       "<Figure size 432x288 with 0 Axes>"
      ]
     },
     "metadata": {},
     "output_type": "display_data"
    },
    {
     "data": {
      "image/png": "[encoded data removed]",
      "text/plain": [
       "<Figure size 432x288 with 1 Axes>"
      ]
     },
     "metadata": {
      "needs_background": "light"
     },
     "output_type": "display_data"
    }
   ],
   "source": [
    "# without replay buffer but with target network\n",
    "\n",
    "hyperparams_CartPole = {\n",
    "    'epsilon_decay_steps' : 100000, \n",
    "    'final_epsilon' : 0.1,\n",
    "    'batch_size' : 1, \n",
    "    'update_steps' : 1, \n",
    "    'memory_size' : 1, \n",
    "    'beta' : 0.99, \n",
    "    'model_replace_freq' : 2000,\n",
    "    'learning_rate' : 0.0003,\n",
    "    'use_target_model': True\n",
    "}\n",
    "\n",
    "training_episodes, test_interval = 10000, 50\n",
    "agent = DQN_agent(env_CartPole, hyperparams_CartPole)\n",
    "result = agent.learn_and_evaluate(training_episodes, test_interval)\n",
    "plot_result(result, test_interval, [\"batch_update with target_model\"])"
   ]
  },
  {
   "cell_type": "code",
   "execution_count": 12,
   "metadata": {},
   "outputs": [
    {
     "name": "stderr",
     "output_type": "stream",
     "text": [
      "Training: 100%|██████████| 50/50 [00:01<00:00, 30.16it/s]\n",
      "Evaluating: 100%|██████████| 30/30 [00:00<00:00, 592.37it/s]\n",
      "Training:   8%|▊         | 4/50 [00:00<00:01, 36.12it/s]"
     ]
    },
    {
     "name": "stdout",
     "output_type": "stream",
     "text": [
      "9.466666666666667\n"
     ]
    },
    {
     "name": "stderr",
     "output_type": "stream",
     "text": [
      "Training: 100%|██████████| 50/50 [00:01<00:00, 34.19it/s]\n",
      "Evaluating: 100%|██████████| 30/30 [00:00<00:00, 759.37it/s]\n",
      "Training:  10%|█         | 5/50 [00:00<00:00, 48.63it/s]"
     ]
    },
    {
     "name": "stdout",
     "output_type": "stream",
     "text": [
      "9.533333333333333\n"
     ]
    },
    {
     "name": "stderr",
     "output_type": "stream",
     "text": [
      "Training: 100%|██████████| 50/50 [00:01<00:00, 31.50it/s]\n",
      "Evaluating: 100%|██████████| 30/30 [00:00<00:00, 693.83it/s]\n",
      "Training:   6%|▌         | 3/50 [00:00<00:01, 26.44it/s]"
     ]
    },
    {
     "name": "stdout",
     "output_type": "stream",
     "text": [
      "9.466666666666667\n"
     ]
    },
    {
     "name": "stderr",
     "output_type": "stream",
     "text": [
      "Training: 100%|██████████| 50/50 [00:01<00:00, 33.50it/s]\n",
      "Evaluating: 100%|██████████| 30/30 [00:00<00:00, 703.71it/s]\n",
      "Training:   4%|▍         | 2/50 [00:00<00:02, 18.28it/s]"
     ]
    },
    {
     "name": "stdout",
     "output_type": "stream",
     "text": [
      "9.633333333333333\n"
     ]
    },
    {
     "name": "stderr",
     "output_type": "stream",
     "text": [
      "Training: 100%|██████████| 50/50 [00:01<00:00, 31.93it/s]\n",
      "Evaluating: 100%|██████████| 30/30 [00:00<00:00, 678.73it/s]\n",
      "Training:   8%|▊         | 4/50 [00:00<00:01, 34.74it/s]"
     ]
    },
    {
     "name": "stdout",
     "output_type": "stream",
     "text": [
      "9.366666666666667\n"
     ]
    },
    {
     "name": "stderr",
     "output_type": "stream",
     "text": [
      "Training: 100%|██████████| 50/50 [00:01<00:00, 29.47it/s]\n",
      "Evaluating: 100%|██████████| 30/30 [00:00<00:00, 572.31it/s]\n",
      "Training:   8%|▊         | 4/50 [00:00<00:01, 24.58it/s]"
     ]
    },
    {
     "name": "stdout",
     "output_type": "stream",
     "text": [
      "9.0\n"
     ]
    },
    {
     "name": "stderr",
     "output_type": "stream",
     "text": [
      "Training: 100%|██████████| 50/50 [00:01<00:00, 34.12it/s]\n",
      "Evaluating: 100%|██████████| 30/30 [00:00<00:00, 541.56it/s]\n",
      "Training:   6%|▌         | 3/50 [00:00<00:02, 22.04it/s]"
     ]
    },
    {
     "name": "stdout",
     "output_type": "stream",
     "text": [
      "9.266666666666667\n"
     ]
    },
    {
     "name": "stderr",
     "output_type": "stream",
     "text": [
      "Training: 100%|██████████| 50/50 [00:01<00:00, 34.00it/s]\n",
      "Evaluating: 100%|██████████| 30/30 [00:00<00:00, 679.98it/s]\n",
      "Training:   8%|▊         | 4/50 [00:00<00:01, 33.31it/s]"
     ]
    },
    {
     "name": "stdout",
     "output_type": "stream",
     "text": [
      "9.5\n"
     ]
    },
    {
     "name": "stderr",
     "output_type": "stream",
     "text": [
      "Training: 100%|██████████| 50/50 [00:01<00:00, 36.54it/s]\n",
      "Evaluating: 100%|██████████| 30/30 [00:00<00:00, 757.04it/s]\n",
      "Training:   6%|▌         | 3/50 [00:00<00:01, 26.79it/s]"
     ]
    },
    {
     "name": "stdout",
     "output_type": "stream",
     "text": [
      "9.3\n"
     ]
    },
    {
     "name": "stderr",
     "output_type": "stream",
     "text": [
      "Training: 100%|██████████| 50/50 [00:01<00:00, 37.42it/s]\n",
      "Evaluating: 100%|██████████| 30/30 [00:00<00:00, 749.03it/s]\n",
      "Training:   4%|▍         | 2/50 [00:00<00:04, 11.26it/s]"
     ]
    },
    {
     "name": "stdout",
     "output_type": "stream",
     "text": [
      "9.366666666666667\n"
     ]
    },
    {
     "name": "stderr",
     "output_type": "stream",
     "text": [
      "Training: 100%|██████████| 50/50 [00:01<00:00, 31.28it/s]\n",
      "Evaluating: 100%|██████████| 30/30 [00:00<00:00, 757.89it/s]\n",
      "Training:   6%|▌         | 3/50 [00:00<00:01, 26.59it/s]"
     ]
    },
    {
     "name": "stdout",
     "output_type": "stream",
     "text": [
      "9.5\n"
     ]
    },
    {
     "name": "stderr",
     "output_type": "stream",
     "text": [
      "Training: 100%|██████████| 50/50 [00:01<00:00, 35.49it/s]\n",
      "Evaluating: 100%|██████████| 30/30 [00:00<00:00, 787.83it/s]\n",
      "Training:  10%|█         | 5/50 [00:00<00:01, 31.24it/s]"
     ]
    },
    {
     "name": "stdout",
     "output_type": "stream",
     "text": [
      "9.1\n"
     ]
    },
    {
     "name": "stderr",
     "output_type": "stream",
     "text": [
      "Training: 100%|██████████| 50/50 [00:01<00:00, 36.53it/s]\n",
      "Evaluating: 100%|██████████| 30/30 [00:00<00:00, 124.50it/s]\n",
      "Training:   4%|▍         | 2/50 [00:00<00:02, 16.86it/s]"
     ]
    },
    {
     "name": "stdout",
     "output_type": "stream",
     "text": [
      "59.86666666666667\n"
     ]
    },
    {
     "name": "stderr",
     "output_type": "stream",
     "text": [
      "Training: 100%|██████████| 50/50 [00:01<00:00, 33.48it/s]\n",
      "Evaluating: 100%|██████████| 30/30 [00:00<00:00, 542.23it/s]\n",
      "Training:   6%|▌         | 3/50 [00:00<00:01, 29.24it/s]"
     ]
    },
    {
     "name": "stdout",
     "output_type": "stream",
     "text": [
      "9.433333333333334\n"
     ]
    },
    {
     "name": "stderr",
     "output_type": "stream",
     "text": [
      "Training: 100%|██████████| 50/50 [00:01<00:00, 36.01it/s]\n",
      "Evaluating: 100%|██████████| 30/30 [00:00<00:00, 716.64it/s]\n",
      "Training:  10%|█         | 5/50 [00:00<00:01, 42.84it/s]"
     ]
    },
    {
     "name": "stdout",
     "output_type": "stream",
     "text": [
      "9.533333333333333\n"
     ]
    },
    {
     "name": "stderr",
     "output_type": "stream",
     "text": [
      "Training: 100%|██████████| 50/50 [00:01<00:00, 30.36it/s]\n",
      "Evaluating: 100%|██████████| 30/30 [00:00<00:00, 801.39it/s]\n",
      "Training:   6%|▌         | 3/50 [00:00<00:01, 25.54it/s]"
     ]
    },
    {
     "name": "stdout",
     "output_type": "stream",
     "text": [
      "9.066666666666666\n"
     ]
    },
    {
     "name": "stderr",
     "output_type": "stream",
     "text": [
      "Training: 100%|██████████| 50/50 [00:01<00:00, 30.87it/s]\n",
      "Evaluating: 100%|██████████| 30/30 [00:00<00:00, 752.73it/s]\n",
      "Training:   4%|▍         | 2/50 [00:00<00:02, 16.15it/s]"
     ]
    },
    {
     "name": "stdout",
     "output_type": "stream",
     "text": [
      "9.5\n"
     ]
    },
    {
     "name": "stderr",
     "output_type": "stream",
     "text": [
      "Training: 100%|██████████| 50/50 [00:01<00:00, 28.12it/s]\n",
      "Evaluating: 100%|██████████| 30/30 [00:00<00:00, 584.40it/s]\n",
      "Training:   8%|▊         | 4/50 [00:00<00:01, 34.93it/s]"
     ]
    },
    {
     "name": "stdout",
     "output_type": "stream",
     "text": [
      "9.4\n"
     ]
    },
    {
     "name": "stderr",
     "output_type": "stream",
     "text": [
      "Training: 100%|██████████| 50/50 [00:01<00:00, 33.66it/s]\n",
      "Evaluating: 100%|██████████| 30/30 [00:00<00:00, 747.03it/s]\n",
      "Training:   6%|▌         | 3/50 [00:00<00:01, 26.09it/s]"
     ]
    },
    {
     "name": "stdout",
     "output_type": "stream",
     "text": [
      "9.466666666666667\n"
     ]
    },
    {
     "name": "stderr",
     "output_type": "stream",
     "text": [
      "Training: 100%|██████████| 50/50 [00:01<00:00, 29.24it/s]\n",
      "Evaluating: 100%|██████████| 30/30 [00:00<00:00, 738.67it/s]\n",
      "Training:   6%|▌         | 3/50 [00:00<00:01, 25.05it/s]"
     ]
    },
    {
     "name": "stdout",
     "output_type": "stream",
     "text": [
      "9.233333333333333\n"
     ]
    },
    {
     "name": "stderr",
     "output_type": "stream",
     "text": [
      "Training: 100%|██████████| 50/50 [00:01<00:00, 28.68it/s]\n",
      "Evaluating: 100%|██████████| 30/30 [00:00<00:00, 711.62it/s]\n",
      "Training:   8%|▊         | 4/50 [00:00<00:01, 35.79it/s]"
     ]
    },
    {
     "name": "stdout",
     "output_type": "stream",
     "text": [
      "9.4\n"
     ]
    },
    {
     "name": "stderr",
     "output_type": "stream",
     "text": [
      "Training: 100%|██████████| 50/50 [00:01<00:00, 25.94it/s]\n",
      "Evaluating: 100%|██████████| 30/30 [00:00<00:00, 103.61it/s]\n",
      "Training:  10%|█         | 5/50 [00:00<00:01, 43.13it/s]"
     ]
    },
    {
     "name": "stdout",
     "output_type": "stream",
     "text": [
      "72.5\n"
     ]
    },
    {
     "name": "stderr",
     "output_type": "stream",
     "text": [
      "Training: 100%|██████████| 50/50 [00:01<00:00, 26.20it/s]\n",
      "Evaluating: 100%|██████████| 30/30 [00:00<00:00, 387.38it/s]\n",
      "Training:   2%|▏         | 1/50 [00:00<00:05,  8.65it/s]"
     ]
    },
    {
     "name": "stdout",
     "output_type": "stream",
     "text": [
      "15.633333333333333\n"
     ]
    },
    {
     "name": "stderr",
     "output_type": "stream",
     "text": [
      "Training: 100%|██████████| 50/50 [00:02<00:00, 18.94it/s]\n",
      "Evaluating: 100%|██████████| 30/30 [00:00<00:00, 53.91it/s]\n",
      "Training:   6%|▌         | 3/50 [00:00<00:01, 25.34it/s]"
     ]
    },
    {
     "name": "stdout",
     "output_type": "stream",
     "text": [
      "134.0\n"
     ]
    },
    {
     "name": "stderr",
     "output_type": "stream",
     "text": [
      "Training: 100%|██████████| 50/50 [00:02<00:00, 16.91it/s]\n",
      "Evaluating: 100%|██████████| 30/30 [00:00<00:00, 41.24it/s]\n",
      "Training:   0%|          | 0/50 [00:00<?, ?it/s]"
     ]
    },
    {
     "name": "stdout",
     "output_type": "stream",
     "text": [
      "181.7\n"
     ]
    },
    {
     "name": "stderr",
     "output_type": "stream",
     "text": [
      "Training: 100%|██████████| 50/50 [00:03<00:00, 14.03it/s]\n",
      "Evaluating: 100%|██████████| 30/30 [00:00<00:00, 41.58it/s]\n",
      "Training:   4%|▍         | 2/50 [00:00<00:04, 10.15it/s]"
     ]
    },
    {
     "name": "stdout",
     "output_type": "stream",
     "text": [
      "139.4\n"
     ]
    },
    {
     "name": "stderr",
     "output_type": "stream",
     "text": [
      "Training: 100%|██████████| 50/50 [00:03<00:00, 12.98it/s]\n",
      "Evaluating: 100%|██████████| 30/30 [00:00<00:00, 72.82it/s]\n",
      "Training:   8%|▊         | 4/50 [00:00<00:01, 34.41it/s]"
     ]
    },
    {
     "name": "stdout",
     "output_type": "stream",
     "text": [
      "103.7\n"
     ]
    },
    {
     "name": "stderr",
     "output_type": "stream",
     "text": [
      "Training: 100%|██████████| 50/50 [00:01<00:00, 25.15it/s]\n",
      "Evaluating: 100%|██████████| 30/30 [00:00<00:00, 73.04it/s]\n",
      "Training:   6%|▌         | 3/50 [00:00<00:01, 26.79it/s]"
     ]
    },
    {
     "name": "stdout",
     "output_type": "stream",
     "text": [
      "103.83333333333333\n"
     ]
    },
    {
     "name": "stderr",
     "output_type": "stream",
     "text": [
      "Training: 100%|██████████| 50/50 [00:02<00:00, 18.46it/s]\n",
      "Evaluating: 100%|██████████| 30/30 [00:00<00:00, 38.78it/s]\n",
      "Training:   6%|▌         | 3/50 [00:00<00:02, 19.96it/s]"
     ]
    },
    {
     "name": "stdout",
     "output_type": "stream",
     "text": [
      "192.33333333333334\n"
     ]
    },
    {
     "name": "stderr",
     "output_type": "stream",
     "text": [
      "Training: 100%|██████████| 50/50 [00:03<00:00, 15.97it/s]\n",
      "Evaluating: 100%|██████████| 30/30 [00:00<00:00, 47.31it/s]\n",
      "Training:   4%|▍         | 2/50 [00:00<00:02, 18.55it/s]"
     ]
    },
    {
     "name": "stdout",
     "output_type": "stream",
     "text": [
      "158.8\n"
     ]
    },
    {
     "name": "stderr",
     "output_type": "stream",
     "text": [
      "Training: 100%|██████████| 50/50 [00:02<00:00, 16.82it/s]\n",
      "Evaluating: 100%|██████████| 30/30 [00:00<00:00, 73.20it/s]\n",
      "Training:  10%|█         | 5/50 [00:00<00:01, 31.85it/s]"
     ]
    },
    {
     "name": "stdout",
     "output_type": "stream",
     "text": [
      "94.56666666666666\n"
     ]
    },
    {
     "name": "stderr",
     "output_type": "stream",
     "text": [
      "Training: 100%|██████████| 50/50 [00:02<00:00, 20.54it/s]\n",
      "Evaluating: 100%|██████████| 30/30 [00:00<00:00, 90.58it/s]\n",
      "Training:   8%|▊         | 4/50 [00:00<00:01, 36.63it/s]"
     ]
    },
    {
     "name": "stdout",
     "output_type": "stream",
     "text": [
      "78.23333333333333\n"
     ]
    },
    {
     "name": "stderr",
     "output_type": "stream",
     "text": [
      "Training: 100%|██████████| 50/50 [00:03<00:00, 13.44it/s]\n",
      "Evaluating: 100%|██████████| 30/30 [00:00<00:00, 42.70it/s]\n",
      "Training:   6%|▌         | 3/50 [00:00<00:01, 23.55it/s]"
     ]
    },
    {
     "name": "stdout",
     "output_type": "stream",
     "text": [
      "138.26666666666668\n"
     ]
    },
    {
     "name": "stderr",
     "output_type": "stream",
     "text": [
      "Training: 100%|██████████| 50/50 [00:02<00:00, 19.41it/s]\n",
      "Evaluating: 100%|██████████| 30/30 [00:00<00:00, 271.65it/s]\n",
      "Training:   6%|▌         | 3/50 [00:00<00:01, 25.28it/s]"
     ]
    },
    {
     "name": "stdout",
     "output_type": "stream",
     "text": [
      "27.166666666666668\n"
     ]
    },
    {
     "name": "stderr",
     "output_type": "stream",
     "text": [
      "Training: 100%|██████████| 50/50 [00:02<00:00, 21.98it/s]\n",
      "Evaluating: 100%|██████████| 30/30 [00:00<00:00, 248.58it/s]\n",
      "Training:  10%|█         | 5/50 [00:00<00:01, 39.63it/s]"
     ]
    },
    {
     "name": "stdout",
     "output_type": "stream",
     "text": [
      "22.033333333333335\n"
     ]
    },
    {
     "name": "stderr",
     "output_type": "stream",
     "text": [
      "Training: 100%|██████████| 50/50 [00:02<00:00, 17.21it/s]\n",
      "Evaluating: 100%|██████████| 30/30 [00:00<00:00, 64.08it/s]\n",
      "Training:   2%|▏         | 1/50 [00:00<00:06,  7.03it/s]"
     ]
    },
    {
     "name": "stdout",
     "output_type": "stream",
     "text": [
      "112.73333333333333\n"
     ]
    },
    {
     "name": "stderr",
     "output_type": "stream",
     "text": [
      "Training: 100%|██████████| 50/50 [00:02<00:00, 18.21it/s]\n",
      "Evaluating: 100%|██████████| 30/30 [00:00<00:00, 78.44it/s]\n",
      "Training:   4%|▍         | 2/50 [00:00<00:03, 13.01it/s]"
     ]
    },
    {
     "name": "stdout",
     "output_type": "stream",
     "text": [
      "96.26666666666667\n"
     ]
    },
    {
     "name": "stderr",
     "output_type": "stream",
     "text": [
      "Training: 100%|██████████| 50/50 [00:02<00:00, 17.21it/s]\n",
      "Evaluating: 100%|██████████| 30/30 [00:00<00:00, 143.20it/s]\n",
      "Training:  10%|█         | 5/50 [00:00<00:01, 27.57it/s]"
     ]
    },
    {
     "name": "stdout",
     "output_type": "stream",
     "text": [
      "49.56666666666667\n"
     ]
    },
    {
     "name": "stderr",
     "output_type": "stream",
     "text": [
      "Training: 100%|██████████| 50/50 [00:03<00:00, 15.63it/s]\n",
      "Evaluating: 100%|██████████| 30/30 [00:00<00:00, 46.70it/s]\n",
      "Training:   0%|          | 0/50 [00:00<?, ?it/s]"
     ]
    },
    {
     "name": "stdout",
     "output_type": "stream",
     "text": [
      "146.53333333333333\n"
     ]
    },
    {
     "name": "stderr",
     "output_type": "stream",
     "text": [
      "Training: 100%|██████████| 50/50 [00:02<00:00, 21.86it/s]\n",
      "Evaluating: 100%|██████████| 30/30 [00:00<00:00, 123.81it/s]\n",
      "Training:   8%|▊         | 4/50 [00:00<00:02, 20.92it/s]"
     ]
    },
    {
     "name": "stdout",
     "output_type": "stream",
     "text": [
      "59.86666666666667\n"
     ]
    },
    {
     "name": "stderr",
     "output_type": "stream",
     "text": [
      "Training: 100%|██████████| 50/50 [00:03<00:00, 16.46it/s]\n",
      "Evaluating: 100%|██████████| 30/30 [00:00<00:00, 151.03it/s]\n",
      "Training:   6%|▌         | 3/50 [00:00<00:01, 25.43it/s]"
     ]
    },
    {
     "name": "stdout",
     "output_type": "stream",
     "text": [
      "47.266666666666666\n"
     ]
    },
    {
     "name": "stderr",
     "output_type": "stream",
     "text": [
      "Training: 100%|██████████| 50/50 [00:02<00:00, 22.95it/s]\n",
      "Evaluating: 100%|██████████| 30/30 [00:00<00:00, 415.35it/s]\n",
      "Training:   6%|▌         | 3/50 [00:00<00:02, 21.00it/s]"
     ]
    },
    {
     "name": "stdout",
     "output_type": "stream",
     "text": [
      "17.566666666666666\n"
     ]
    },
    {
     "name": "stderr",
     "output_type": "stream",
     "text": [
      "Training: 100%|██████████| 50/50 [00:02<00:00, 17.28it/s]\n",
      "Evaluating: 100%|██████████| 30/30 [00:00<00:00, 107.75it/s]\n",
      "Training:   4%|▍         | 2/50 [00:00<00:02, 16.50it/s]"
     ]
    },
    {
     "name": "stdout",
     "output_type": "stream",
     "text": [
      "54.13333333333333\n"
     ]
    },
    {
     "name": "stderr",
     "output_type": "stream",
     "text": [
      "Training: 100%|██████████| 50/50 [00:03<00:00, 13.14it/s]\n",
      "Evaluating: 100%|██████████| 30/30 [00:00<00:00, 76.34it/s]\n",
      "Training:   2%|▏         | 1/50 [00:00<00:05,  9.18it/s]"
     ]
    },
    {
     "name": "stdout",
     "output_type": "stream",
     "text": [
      "91.13333333333334\n"
     ]
    },
    {
     "name": "stderr",
     "output_type": "stream",
     "text": [
      "Training: 100%|██████████| 50/50 [00:03<00:00, 13.98it/s]\n",
      "Evaluating: 100%|██████████| 30/30 [00:00<00:00, 155.87it/s]\n",
      "Training:   4%|▍         | 2/50 [00:00<00:02, 19.48it/s]"
     ]
    },
    {
     "name": "stdout",
     "output_type": "stream",
     "text": [
      "45.43333333333333\n"
     ]
    },
    {
     "name": "stderr",
     "output_type": "stream",
     "text": [
      "Training: 100%|██████████| 50/50 [00:03<00:00, 12.55it/s]\n",
      "Evaluating: 100%|██████████| 30/30 [00:00<00:00, 732.33it/s]\n",
      "Training:   0%|          | 0/50 [00:00<?, ?it/s]"
     ]
    },
    {
     "name": "stdout",
     "output_type": "stream",
     "text": [
      "9.3\n"
     ]
    },
    {
     "name": "stderr",
     "output_type": "stream",
     "text": [
      "Training: 100%|██████████| 50/50 [00:03<00:00, 13.62it/s]\n",
      "Evaluating: 100%|██████████| 30/30 [00:00<00:00, 140.87it/s]\n",
      "Training:  10%|█         | 5/50 [00:00<00:01, 34.35it/s]"
     ]
    },
    {
     "name": "stdout",
     "output_type": "stream",
     "text": [
      "48.96666666666667\n"
     ]
    },
    {
     "name": "stderr",
     "output_type": "stream",
     "text": [
      "Training: 100%|██████████| 50/50 [00:02<00:00, 20.71it/s]\n",
      "Evaluating: 100%|██████████| 30/30 [00:00<00:00, 115.54it/s]\n",
      "Training:   8%|▊         | 4/50 [00:00<00:01, 38.93it/s]"
     ]
    },
    {
     "name": "stdout",
     "output_type": "stream",
     "text": [
      "65.0\n"
     ]
    },
    {
     "name": "stderr",
     "output_type": "stream",
     "text": [
      "Training: 100%|██████████| 50/50 [00:03<00:00, 15.49it/s]\n",
      "Evaluating: 100%|██████████| 30/30 [00:00<00:00, 209.04it/s]\n",
      "Training:   6%|▌         | 3/50 [00:00<00:01, 27.33it/s]"
     ]
    },
    {
     "name": "stdout",
     "output_type": "stream",
     "text": [
      "35.833333333333336\n"
     ]
    },
    {
     "name": "stderr",
     "output_type": "stream",
     "text": [
      "Training: 100%|██████████| 50/50 [00:02<00:00, 17.49it/s]\n",
      "Evaluating: 100%|██████████| 30/30 [00:00<00:00, 108.28it/s]\n",
      "Training:   4%|▍         | 2/50 [00:00<00:03, 15.62it/s]"
     ]
    },
    {
     "name": "stdout",
     "output_type": "stream",
     "text": [
      "68.96666666666667\n"
     ]
    },
    {
     "name": "stderr",
     "output_type": "stream",
     "text": [
      "Training: 100%|██████████| 50/50 [00:02<00:00, 21.78it/s]\n",
      "Evaluating: 100%|██████████| 30/30 [00:00<00:00, 736.60it/s]\n",
      "Training:  12%|█▏        | 6/50 [00:00<00:01, 33.01it/s]"
     ]
    },
    {
     "name": "stdout",
     "output_type": "stream",
     "text": [
      "9.466666666666667\n"
     ]
    },
    {
     "name": "stderr",
     "output_type": "stream",
     "text": [
      "Training: 100%|██████████| 50/50 [00:03<00:00, 14.49it/s]\n",
      "Evaluating: 100%|██████████| 30/30 [00:00<00:00, 62.55it/s]\n",
      "Training:   2%|▏         | 1/50 [00:00<00:04, 10.00it/s]"
     ]
    },
    {
     "name": "stdout",
     "output_type": "stream",
     "text": [
      "121.0\n"
     ]
    },
    {
     "name": "stderr",
     "output_type": "stream",
     "text": [
      "Training: 100%|██████████| 50/50 [00:03<00:00, 12.96it/s]\n",
      "Evaluating: 100%|██████████| 30/30 [00:00<00:00, 680.53it/s]\n",
      "Training:   8%|▊         | 4/50 [00:00<00:01, 26.37it/s]"
     ]
    },
    {
     "name": "stdout",
     "output_type": "stream",
     "text": [
      "9.833333333333334\n"
     ]
    },
    {
     "name": "stderr",
     "output_type": "stream",
     "text": [
      "Training: 100%|██████████| 50/50 [00:09<00:00,  5.12it/s]\n",
      "Evaluating: 100%|██████████| 30/30 [00:00<00:00, 107.97it/s]\n",
      "Training:   2%|▏         | 1/50 [00:00<00:06,  7.54it/s]"
     ]
    },
    {
     "name": "stdout",
     "output_type": "stream",
     "text": [
      "65.76666666666667\n"
     ]
    },
    {
     "name": "stderr",
     "output_type": "stream",
     "text": [
      "Training: 100%|██████████| 50/50 [00:04<00:00, 10.34it/s]\n",
      "Evaluating: 100%|██████████| 30/30 [00:00<00:00, 737.42it/s]\n",
      "Training:  14%|█▍        | 7/50 [00:00<00:00, 63.57it/s]"
     ]
    },
    {
     "name": "stdout",
     "output_type": "stream",
     "text": [
      "9.533333333333333\n"
     ]
    },
    {
     "name": "stderr",
     "output_type": "stream",
     "text": [
      "Training: 100%|██████████| 50/50 [00:04<00:00, 11.47it/s]\n",
      "Evaluating: 100%|██████████| 30/30 [00:00<00:00, 79.37it/s]\n",
      "Training:   2%|▏         | 1/50 [00:00<00:07,  6.93it/s]"
     ]
    },
    {
     "name": "stdout",
     "output_type": "stream",
     "text": [
      "95.1\n"
     ]
    },
    {
     "name": "stderr",
     "output_type": "stream",
     "text": [
      "Training: 100%|██████████| 50/50 [00:05<00:00,  8.45it/s]\n",
      "Evaluating: 100%|██████████| 30/30 [00:00<00:00, 93.81it/s]\n",
      "Training:   2%|▏         | 1/50 [00:00<00:05,  9.79it/s]"
     ]
    },
    {
     "name": "stdout",
     "output_type": "stream",
     "text": [
      "77.03333333333333\n"
     ]
    },
    {
     "name": "stderr",
     "output_type": "stream",
     "text": [
      "Training: 100%|██████████| 50/50 [00:04<00:00, 11.26it/s]\n",
      "Evaluating: 100%|██████████| 30/30 [00:00<00:00, 57.14it/s]\n",
      "Training:   2%|▏         | 1/50 [00:00<00:09,  5.32it/s]"
     ]
    },
    {
     "name": "stdout",
     "output_type": "stream",
     "text": [
      "125.46666666666667\n"
     ]
    },
    {
     "name": "stderr",
     "output_type": "stream",
     "text": [
      "Training: 100%|██████████| 50/50 [00:11<00:00,  4.53it/s]\n",
      "Evaluating: 100%|██████████| 30/30 [00:00<00:00, 37.61it/s]\n",
      "Training:   0%|          | 0/50 [00:00<?, ?it/s]"
     ]
    },
    {
     "name": "stdout",
     "output_type": "stream",
     "text": [
      "200.0\n"
     ]
    },
    {
     "name": "stderr",
     "output_type": "stream",
     "text": [
      "Training: 100%|██████████| 50/50 [00:09<00:00,  5.13it/s]\n",
      "Evaluating: 100%|██████████| 30/30 [00:00<00:00, 371.48it/s]\n",
      "Training:  10%|█         | 5/50 [00:00<00:00, 46.67it/s]"
     ]
    },
    {
     "name": "stdout",
     "output_type": "stream",
     "text": [
      "19.133333333333333\n"
     ]
    },
    {
     "name": "stderr",
     "output_type": "stream",
     "text": [
      "Training: 100%|██████████| 50/50 [00:01<00:00, 43.26it/s]\n",
      "Evaluating: 100%|██████████| 30/30 [00:00<00:00, 647.15it/s]\n",
      "Training:   4%|▍         | 2/50 [00:00<00:02, 18.05it/s]"
     ]
    },
    {
     "name": "stdout",
     "output_type": "stream",
     "text": [
      "10.4\n"
     ]
    },
    {
     "name": "stderr",
     "output_type": "stream",
     "text": [
      "Training: 100%|██████████| 50/50 [00:08<00:00,  5.82it/s]\n",
      "Evaluating: 100%|██████████| 30/30 [00:01<00:00, 29.03it/s]\n",
      "Training:   0%|          | 0/50 [00:00<?, ?it/s]"
     ]
    },
    {
     "name": "stdout",
     "output_type": "stream",
     "text": [
      "200.0\n"
     ]
    },
    {
     "name": "stderr",
     "output_type": "stream",
     "text": [
      "Training: 100%|██████████| 50/50 [00:09<00:00,  5.35it/s]\n",
      "Evaluating: 100%|██████████| 30/30 [00:00<00:00, 708.66it/s]\n",
      "Training:   8%|▊         | 4/50 [00:00<00:01, 38.02it/s]"
     ]
    },
    {
     "name": "stdout",
     "output_type": "stream",
     "text": [
      "9.533333333333333\n"
     ]
    },
    {
     "name": "stderr",
     "output_type": "stream",
     "text": [
      "Training: 100%|██████████| 50/50 [00:09<00:00,  5.01it/s]\n",
      "Evaluating: 100%|██████████| 30/30 [00:00<00:00, 70.79it/s]\n",
      "Training:   2%|▏         | 1/50 [00:00<00:08,  5.67it/s]"
     ]
    },
    {
     "name": "stdout",
     "output_type": "stream",
     "text": [
      "106.66666666666667\n"
     ]
    },
    {
     "name": "stderr",
     "output_type": "stream",
     "text": [
      "Training: 100%|██████████| 50/50 [00:05<00:00,  8.77it/s]\n",
      "Evaluating: 100%|██████████| 30/30 [00:00<00:00, 747.24it/s]\n",
      "Training:   0%|          | 0/50 [00:00<?, ?it/s]"
     ]
    },
    {
     "name": "stdout",
     "output_type": "stream",
     "text": [
      "9.466666666666667\n"
     ]
    },
    {
     "name": "stderr",
     "output_type": "stream",
     "text": [
      "Training: 100%|██████████| 50/50 [00:08<00:00,  6.22it/s]\n",
      "Evaluating: 100%|██████████| 30/30 [00:00<00:00, 40.29it/s]\n",
      "Training:   0%|          | 0/50 [00:00<?, ?it/s]"
     ]
    },
    {
     "name": "stdout",
     "output_type": "stream",
     "text": [
      "187.8\n"
     ]
    },
    {
     "name": "stderr",
     "output_type": "stream",
     "text": [
      "Training: 100%|██████████| 50/50 [00:07<00:00,  6.33it/s]\n",
      "Evaluating: 100%|██████████| 30/30 [00:00<00:00, 389.24it/s]\n",
      "Training:  10%|█         | 5/50 [00:00<00:01, 36.87it/s]"
     ]
    },
    {
     "name": "stdout",
     "output_type": "stream",
     "text": [
      "18.733333333333334\n"
     ]
    },
    {
     "name": "stderr",
     "output_type": "stream",
     "text": [
      "Training: 100%|██████████| 50/50 [00:07<00:00,  6.41it/s]\n",
      "Evaluating: 100%|██████████| 30/30 [00:00<00:00, 226.31it/s]\n",
      "Training:   0%|          | 0/50 [00:00<?, ?it/s]"
     ]
    },
    {
     "name": "stdout",
     "output_type": "stream",
     "text": [
      "32.3\n"
     ]
    },
    {
     "name": "stderr",
     "output_type": "stream",
     "text": [
      "Training: 100%|██████████| 50/50 [00:11<00:00,  4.29it/s]\n",
      "Evaluating: 100%|██████████| 30/30 [00:00<00:00, 37.49it/s]\n",
      "Training:   0%|          | 0/50 [00:00<?, ?it/s]"
     ]
    },
    {
     "name": "stdout",
     "output_type": "stream",
     "text": [
      "200.0\n"
     ]
    },
    {
     "name": "stderr",
     "output_type": "stream",
     "text": [
      "Training: 100%|██████████| 50/50 [00:10<00:00,  4.86it/s]\n",
      "Evaluating: 100%|██████████| 30/30 [00:00<00:00, 35.71it/s]\n",
      "Training:   0%|          | 0/50 [00:00<?, ?it/s]"
     ]
    },
    {
     "name": "stdout",
     "output_type": "stream",
     "text": [
      "200.0\n"
     ]
    },
    {
     "name": "stderr",
     "output_type": "stream",
     "text": [
      "Training: 100%|██████████| 50/50 [00:08<00:00,  5.76it/s]\n",
      "Evaluating: 100%|██████████| 30/30 [00:00<00:00, 712.28it/s]\n",
      "Training:  14%|█▍        | 7/50 [00:00<00:00, 67.43it/s]"
     ]
    },
    {
     "name": "stdout",
     "output_type": "stream",
     "text": [
      "9.4\n"
     ]
    },
    {
     "name": "stderr",
     "output_type": "stream",
     "text": [
      "Training: 100%|██████████| 50/50 [00:10<00:00,  4.68it/s]\n",
      "Evaluating: 100%|██████████| 30/30 [00:01<00:00, 29.47it/s]\n",
      "Training:   0%|          | 0/50 [00:00<?, ?it/s]"
     ]
    },
    {
     "name": "stdout",
     "output_type": "stream",
     "text": [
      "200.0\n"
     ]
    },
    {
     "name": "stderr",
     "output_type": "stream",
     "text": [
      "Training: 100%|██████████| 50/50 [00:15<00:00,  3.15it/s]\n",
      "Evaluating: 100%|██████████| 30/30 [00:00<00:00, 37.34it/s]\n",
      "Training:   0%|          | 0/50 [00:00<?, ?it/s]"
     ]
    },
    {
     "name": "stdout",
     "output_type": "stream",
     "text": [
      "200.0\n"
     ]
    },
    {
     "name": "stderr",
     "output_type": "stream",
     "text": [
      "Training: 100%|██████████| 50/50 [00:11<00:00,  4.19it/s]\n",
      "Evaluating: 100%|██████████| 30/30 [00:00<00:00, 35.72it/s]\n",
      "Training:   0%|          | 0/50 [00:00<?, ?it/s]"
     ]
    },
    {
     "name": "stdout",
     "output_type": "stream",
     "text": [
      "200.0\n"
     ]
    },
    {
     "name": "stderr",
     "output_type": "stream",
     "text": [
      "Training: 100%|██████████| 50/50 [00:11<00:00,  4.45it/s]\n",
      "Evaluating: 100%|██████████| 30/30 [00:00<00:00, 36.79it/s]\n",
      "Training:   0%|          | 0/50 [00:00<?, ?it/s]"
     ]
    },
    {
     "name": "stdout",
     "output_type": "stream",
     "text": [
      "200.0\n"
     ]
    },
    {
     "name": "stderr",
     "output_type": "stream",
     "text": [
      "Training: 100%|██████████| 50/50 [00:10<00:00,  4.65it/s]\n",
      "Evaluating: 100%|██████████| 30/30 [00:00<00:00, 36.30it/s]\n",
      "Training:   0%|          | 0/50 [00:00<?, ?it/s]"
     ]
    },
    {
     "name": "stdout",
     "output_type": "stream",
     "text": [
      "200.0\n"
     ]
    },
    {
     "name": "stderr",
     "output_type": "stream",
     "text": [
      "Training: 100%|██████████| 50/50 [00:13<00:00,  3.75it/s]\n",
      "Evaluating: 100%|██████████| 30/30 [00:00<00:00, 36.29it/s]\n",
      "Training:   0%|          | 0/50 [00:00<?, ?it/s]"
     ]
    },
    {
     "name": "stdout",
     "output_type": "stream",
     "text": [
      "200.0\n"
     ]
    },
    {
     "name": "stderr",
     "output_type": "stream",
     "text": [
      "Training: 100%|██████████| 50/50 [00:08<00:00,  5.75it/s]\n",
      "Evaluating: 100%|██████████| 30/30 [00:00<00:00, 96.04it/s]\n",
      "Training:   2%|▏         | 1/50 [00:00<00:05,  9.74it/s]"
     ]
    },
    {
     "name": "stdout",
     "output_type": "stream",
     "text": [
      "74.13333333333334\n"
     ]
    },
    {
     "name": "stderr",
     "output_type": "stream",
     "text": [
      "Training: 100%|██████████| 50/50 [00:08<00:00,  5.75it/s]\n",
      "Evaluating: 100%|██████████| 30/30 [00:00<00:00, 111.74it/s]\n",
      "Training:   0%|          | 0/50 [00:00<?, ?it/s]"
     ]
    },
    {
     "name": "stdout",
     "output_type": "stream",
     "text": [
      "58.9\n"
     ]
    },
    {
     "name": "stderr",
     "output_type": "stream",
     "text": [
      "Training: 100%|██████████| 50/50 [00:08<00:00,  6.10it/s]\n",
      "Evaluating: 100%|██████████| 30/30 [00:00<00:00, 75.23it/s]\n",
      "Training:   0%|          | 0/50 [00:00<?, ?it/s]"
     ]
    },
    {
     "name": "stdout",
     "output_type": "stream",
     "text": [
      "99.53333333333333\n"
     ]
    },
    {
     "name": "stderr",
     "output_type": "stream",
     "text": [
      "Training: 100%|██████████| 50/50 [00:11<00:00,  4.27it/s]\n",
      "Evaluating: 100%|██████████| 30/30 [00:00<00:00, 37.56it/s]\n",
      "Training:   0%|          | 0/50 [00:00<?, ?it/s]"
     ]
    },
    {
     "name": "stdout",
     "output_type": "stream",
     "text": [
      "200.0\n"
     ]
    },
    {
     "name": "stderr",
     "output_type": "stream",
     "text": [
      "Training: 100%|██████████| 50/50 [00:13<00:00,  3.60it/s]\n",
      "Evaluating: 100%|██████████| 30/30 [00:00<00:00, 37.72it/s]\n",
      "Training:   0%|          | 0/50 [00:00<?, ?it/s]"
     ]
    },
    {
     "name": "stdout",
     "output_type": "stream",
     "text": [
      "200.0\n"
     ]
    },
    {
     "name": "stderr",
     "output_type": "stream",
     "text": [
      "Training: 100%|██████████| 50/50 [00:09<00:00,  5.37it/s]\n",
      "Evaluating: 100%|██████████| 30/30 [00:00<00:00, 86.32it/s]\n",
      "Training:   4%|▍         | 2/50 [00:00<00:03, 14.98it/s]"
     ]
    },
    {
     "name": "stdout",
     "output_type": "stream",
     "text": [
      "82.43333333333334\n"
     ]
    },
    {
     "name": "stderr",
     "output_type": "stream",
     "text": [
      "Training: 100%|██████████| 50/50 [00:06<00:00,  7.81it/s]\n",
      "Evaluating: 100%|██████████| 30/30 [00:00<00:00, 108.94it/s]\n",
      "Training:   2%|▏         | 1/50 [00:00<00:08,  6.05it/s]"
     ]
    },
    {
     "name": "stdout",
     "output_type": "stream",
     "text": [
      "69.03333333333333\n"
     ]
    },
    {
     "name": "stderr",
     "output_type": "stream",
     "text": [
      "Training: 100%|██████████| 50/50 [00:04<00:00, 10.89it/s]\n",
      "Evaluating: 100%|██████████| 30/30 [00:00<00:00, 132.76it/s]\n",
      "Training:   4%|▍         | 2/50 [00:00<00:03, 14.46it/s]"
     ]
    },
    {
     "name": "stdout",
     "output_type": "stream",
     "text": [
      "53.53333333333333\n"
     ]
    },
    {
     "name": "stderr",
     "output_type": "stream",
     "text": [
      "Training: 100%|██████████| 50/50 [00:04<00:00, 10.16it/s]\n",
      "Evaluating: 100%|██████████| 30/30 [00:00<00:00, 721.47it/s]\n",
      "Training:  10%|█         | 5/50 [00:00<00:01, 41.58it/s]"
     ]
    },
    {
     "name": "stdout",
     "output_type": "stream",
     "text": [
      "9.3\n"
     ]
    },
    {
     "name": "stderr",
     "output_type": "stream",
     "text": [
      "Training: 100%|██████████| 50/50 [00:05<00:00,  9.27it/s]\n",
      "Evaluating: 100%|██████████| 30/30 [00:00<00:00, 98.01it/s]\n",
      "Training:   2%|▏         | 1/50 [00:00<00:07,  6.15it/s]"
     ]
    },
    {
     "name": "stdout",
     "output_type": "stream",
     "text": [
      "75.8\n"
     ]
    },
    {
     "name": "stderr",
     "output_type": "stream",
     "text": [
      "Training: 100%|██████████| 50/50 [00:06<00:00,  7.20it/s]\n",
      "Evaluating: 100%|██████████| 30/30 [00:00<00:00, 74.92it/s]\n",
      "Training:   2%|▏         | 1/50 [00:00<00:09,  5.26it/s]"
     ]
    },
    {
     "name": "stdout",
     "output_type": "stream",
     "text": [
      "90.8\n"
     ]
    },
    {
     "name": "stderr",
     "output_type": "stream",
     "text": [
      "Training: 100%|██████████| 50/50 [00:04<00:00, 10.57it/s]\n",
      "Evaluating: 100%|██████████| 30/30 [00:00<00:00, 79.88it/s]\n",
      "Training:   0%|          | 0/50 [00:00<?, ?it/s]"
     ]
    },
    {
     "name": "stdout",
     "output_type": "stream",
     "text": [
      "93.8\n"
     ]
    },
    {
     "name": "stderr",
     "output_type": "stream",
     "text": [
      "Training: 100%|██████████| 50/50 [00:05<00:00,  8.73it/s]\n",
      "Evaluating: 100%|██████████| 30/30 [00:00<00:00, 91.71it/s]\n",
      "Training:   2%|▏         | 1/50 [00:00<00:05,  9.68it/s]"
     ]
    },
    {
     "name": "stdout",
     "output_type": "stream",
     "text": [
      "77.76666666666667\n"
     ]
    },
    {
     "name": "stderr",
     "output_type": "stream",
     "text": [
      "Training: 100%|██████████| 50/50 [00:05<00:00,  9.27it/s]\n",
      "Evaluating: 100%|██████████| 30/30 [00:00<00:00, 80.00it/s]\n",
      "Training:   2%|▏         | 1/50 [00:00<00:06,  7.42it/s]"
     ]
    },
    {
     "name": "stdout",
     "output_type": "stream",
     "text": [
      "93.5\n"
     ]
    },
    {
     "name": "stderr",
     "output_type": "stream",
     "text": [
      "Training: 100%|██████████| 50/50 [00:04<00:00, 10.74it/s]\n",
      "Evaluating: 100%|██████████| 30/30 [00:00<00:00, 106.96it/s]\n",
      "Training:   2%|▏         | 1/50 [00:00<00:05,  8.86it/s]"
     ]
    },
    {
     "name": "stdout",
     "output_type": "stream",
     "text": [
      "68.16666666666667\n"
     ]
    },
    {
     "name": "stderr",
     "output_type": "stream",
     "text": [
      "Training: 100%|██████████| 50/50 [00:03<00:00, 13.77it/s]\n",
      "Evaluating: 100%|██████████| 30/30 [00:00<00:00, 360.03it/s]\n",
      "Training:  10%|█         | 5/50 [00:00<00:01, 32.57it/s]"
     ]
    },
    {
     "name": "stdout",
     "output_type": "stream",
     "text": [
      "20.9\n"
     ]
    },
    {
     "name": "stderr",
     "output_type": "stream",
     "text": [
      "Training: 100%|██████████| 50/50 [00:03<00:00, 14.88it/s]\n",
      "Evaluating: 100%|██████████| 30/30 [00:00<00:00, 773.87it/s]\n",
      "Training:   2%|▏         | 1/50 [00:00<00:06,  7.02it/s]"
     ]
    },
    {
     "name": "stdout",
     "output_type": "stream",
     "text": [
      "9.433333333333334\n"
     ]
    },
    {
     "name": "stderr",
     "output_type": "stream",
     "text": [
      "Training: 100%|██████████| 50/50 [00:09<00:00,  5.13it/s]\n",
      "Evaluating: 100%|██████████| 30/30 [00:00<00:00, 36.94it/s]\n",
      "Training:   0%|          | 0/50 [00:00<?, ?it/s]"
     ]
    },
    {
     "name": "stdout",
     "output_type": "stream",
     "text": [
      "200.0\n"
     ]
    },
    {
     "name": "stderr",
     "output_type": "stream",
     "text": [
      "Training: 100%|██████████| 50/50 [00:08<00:00,  6.14it/s]\n",
      "Evaluating: 100%|██████████| 30/30 [00:00<00:00, 79.79it/s]\n",
      "Training:   4%|▍         | 2/50 [00:00<00:03, 12.49it/s]"
     ]
    },
    {
     "name": "stdout",
     "output_type": "stream",
     "text": [
      "93.53333333333333\n"
     ]
    },
    {
     "name": "stderr",
     "output_type": "stream",
     "text": [
      "Training: 100%|██████████| 50/50 [00:04<00:00, 10.85it/s]\n",
      "Evaluating: 100%|██████████| 30/30 [00:00<00:00, 79.09it/s]\n",
      "Training:   2%|▏         | 1/50 [00:00<00:07,  6.88it/s]"
     ]
    },
    {
     "name": "stdout",
     "output_type": "stream",
     "text": [
      "93.7\n"
     ]
    },
    {
     "name": "stderr",
     "output_type": "stream",
     "text": [
      "Training: 100%|██████████| 50/50 [00:04<00:00, 11.69it/s]\n",
      "Evaluating: 100%|██████████| 30/30 [00:00<00:00, 86.86it/s]\n",
      "Training:   2%|▏         | 1/50 [00:00<00:06,  7.17it/s]"
     ]
    },
    {
     "name": "stdout",
     "output_type": "stream",
     "text": [
      "86.1\n"
     ]
    },
    {
     "name": "stderr",
     "output_type": "stream",
     "text": [
      "Training: 100%|██████████| 50/50 [00:04<00:00, 11.58it/s]\n",
      "Evaluating: 100%|██████████| 30/30 [00:00<00:00, 204.86it/s]\n",
      "Training:   8%|▊         | 4/50 [00:00<00:01, 24.94it/s]"
     ]
    },
    {
     "name": "stdout",
     "output_type": "stream",
     "text": [
      "26.9\n"
     ]
    },
    {
     "name": "stderr",
     "output_type": "stream",
     "text": [
      "Training: 100%|██████████| 50/50 [00:03<00:00, 12.63it/s]\n",
      "Evaluating: 100%|██████████| 30/30 [00:00<00:00, 87.06it/s]\n",
      "Training:   6%|▌         | 3/50 [00:00<00:02, 17.11it/s]"
     ]
    },
    {
     "name": "stdout",
     "output_type": "stream",
     "text": [
      "84.0\n"
     ]
    },
    {
     "name": "stderr",
     "output_type": "stream",
     "text": [
      "Training: 100%|██████████| 50/50 [00:04<00:00, 11.29it/s]\n",
      "Evaluating: 100%|██████████| 30/30 [00:00<00:00, 539.48it/s]\n",
      "Training:   0%|          | 0/50 [00:00<?, ?it/s]"
     ]
    },
    {
     "name": "stdout",
     "output_type": "stream",
     "text": [
      "10.5\n"
     ]
    },
    {
     "name": "stderr",
     "output_type": "stream",
     "text": [
      "Training: 100%|██████████| 50/50 [00:05<00:00,  9.49it/s]\n",
      "Evaluating: 100%|██████████| 30/30 [00:00<00:00, 93.83it/s]\n",
      "Training:   2%|▏         | 1/50 [00:00<00:06,  7.34it/s]"
     ]
    },
    {
     "name": "stdout",
     "output_type": "stream",
     "text": [
      "62.46666666666667\n"
     ]
    },
    {
     "name": "stderr",
     "output_type": "stream",
     "text": [
      "Training: 100%|██████████| 50/50 [00:04<00:00, 11.82it/s]\n",
      "Evaluating: 100%|██████████| 30/30 [00:00<00:00, 84.50it/s]\n",
      "Training:   2%|▏         | 1/50 [00:00<00:04,  9.81it/s]"
     ]
    },
    {
     "name": "stdout",
     "output_type": "stream",
     "text": [
      "89.36666666666666\n"
     ]
    },
    {
     "name": "stderr",
     "output_type": "stream",
     "text": [
      "Training: 100%|██████████| 50/50 [00:06<00:00,  8.28it/s]\n",
      "Evaluating: 100%|██████████| 30/30 [00:00<00:00, 616.11it/s]\n",
      "Training:   0%|          | 0/50 [00:00<?, ?it/s]"
     ]
    },
    {
     "name": "stdout",
     "output_type": "stream",
     "text": [
      "11.1\n"
     ]
    },
    {
     "name": "stderr",
     "output_type": "stream",
     "text": [
      "Training: 100%|██████████| 50/50 [00:03<00:00, 14.62it/s]\n",
      "Evaluating: 100%|██████████| 30/30 [00:00<00:00, 63.74it/s]\n",
      "Training:   0%|          | 0/50 [00:00<?, ?it/s]"
     ]
    },
    {
     "name": "stdout",
     "output_type": "stream",
     "text": [
      "92.0\n"
     ]
    },
    {
     "name": "stderr",
     "output_type": "stream",
     "text": [
      "Training: 100%|██████████| 50/50 [00:04<00:00, 10.96it/s]\n",
      "Evaluating: 100%|██████████| 30/30 [00:00<00:00, 82.32it/s]\n",
      "Training:   4%|▍         | 2/50 [00:00<00:03, 15.80it/s]"
     ]
    },
    {
     "name": "stdout",
     "output_type": "stream",
     "text": [
      "69.6\n"
     ]
    },
    {
     "name": "stderr",
     "output_type": "stream",
     "text": [
      "Training: 100%|██████████| 50/50 [00:03<00:00, 14.01it/s]\n",
      "Evaluating: 100%|██████████| 30/30 [00:00<00:00, 524.80it/s]\n",
      "Training:   6%|▌         | 3/50 [00:00<00:01, 26.21it/s]"
     ]
    },
    {
     "name": "stdout",
     "output_type": "stream",
     "text": [
      "14.1\n"
     ]
    },
    {
     "name": "stderr",
     "output_type": "stream",
     "text": [
      "Training: 100%|██████████| 50/50 [00:06<00:00,  7.69it/s]\n",
      "Evaluating: 100%|██████████| 30/30 [00:00<00:00, 47.28it/s]\n",
      "Training:   2%|▏         | 1/50 [00:00<00:06,  7.90it/s]"
     ]
    },
    {
     "name": "stdout",
     "output_type": "stream",
     "text": [
      "123.66666666666667\n"
     ]
    },
    {
     "name": "stderr",
     "output_type": "stream",
     "text": [
      "Training: 100%|██████████| 50/50 [00:10<00:00,  4.97it/s]\n",
      "Evaluating: 100%|██████████| 30/30 [00:00<00:00, 36.66it/s]\n",
      "Training:   0%|          | 0/50 [00:00<?, ?it/s]"
     ]
    },
    {
     "name": "stdout",
     "output_type": "stream",
     "text": [
      "200.0\n"
     ]
    },
    {
     "name": "stderr",
     "output_type": "stream",
     "text": [
      "Training: 100%|██████████| 50/50 [00:06<00:00,  7.90it/s]\n",
      "Evaluating: 100%|██████████| 30/30 [00:00<00:00, 664.82it/s]\n",
      "Training:  12%|█▏        | 6/50 [00:00<00:00, 58.01it/s]"
     ]
    },
    {
     "name": "stdout",
     "output_type": "stream",
     "text": [
      "10.066666666666666\n"
     ]
    },
    {
     "name": "stderr",
     "output_type": "stream",
     "text": [
      "Training: 100%|██████████| 50/50 [00:03<00:00, 16.19it/s]\n",
      "Evaluating: 100%|██████████| 30/30 [00:00<00:00, 202.50it/s]\n",
      "Training:   4%|▍         | 2/50 [00:00<00:03, 15.61it/s]"
     ]
    },
    {
     "name": "stdout",
     "output_type": "stream",
     "text": [
      "28.566666666666666\n"
     ]
    },
    {
     "name": "stderr",
     "output_type": "stream",
     "text": [
      "Training: 100%|██████████| 50/50 [00:04<00:00, 10.66it/s]\n",
      "Evaluating: 100%|██████████| 30/30 [00:00<00:00, 67.49it/s]\n",
      "Training:   0%|          | 0/50 [00:00<?, ?it/s]"
     ]
    },
    {
     "name": "stdout",
     "output_type": "stream",
     "text": [
      "109.13333333333334\n"
     ]
    },
    {
     "name": "stderr",
     "output_type": "stream",
     "text": [
      "Training: 100%|██████████| 50/50 [00:04<00:00, 11.56it/s]\n",
      "Evaluating: 100%|██████████| 30/30 [00:00<00:00, 768.84it/s]\n",
      "Training:   4%|▍         | 2/50 [00:00<00:04, 10.41it/s]"
     ]
    },
    {
     "name": "stdout",
     "output_type": "stream",
     "text": [
      "9.2\n"
     ]
    },
    {
     "name": "stderr",
     "output_type": "stream",
     "text": [
      "Training: 100%|██████████| 50/50 [00:06<00:00,  7.36it/s]\n",
      "Evaluating: 100%|██████████| 30/30 [00:00<00:00, 70.22it/s]\n",
      "Training:   0%|          | 0/50 [00:00<?, ?it/s]"
     ]
    },
    {
     "name": "stdout",
     "output_type": "stream",
     "text": [
      "105.16666666666667\n"
     ]
    },
    {
     "name": "stderr",
     "output_type": "stream",
     "text": [
      "Training: 100%|██████████| 50/50 [00:07<00:00,  6.96it/s]\n",
      "Evaluating: 100%|██████████| 30/30 [00:00<00:00, 76.32it/s]\n",
      "Training:   0%|          | 0/50 [00:00<?, ?it/s]"
     ]
    },
    {
     "name": "stdout",
     "output_type": "stream",
     "text": [
      "98.5\n"
     ]
    },
    {
     "name": "stderr",
     "output_type": "stream",
     "text": [
      "Training: 100%|██████████| 50/50 [00:07<00:00,  7.00it/s]\n",
      "Evaluating: 100%|██████████| 30/30 [00:00<00:00, 124.65it/s]\n",
      "Training:   4%|▍         | 2/50 [00:00<00:02, 19.61it/s]"
     ]
    },
    {
     "name": "stdout",
     "output_type": "stream",
     "text": [
      "59.43333333333333\n"
     ]
    },
    {
     "name": "stderr",
     "output_type": "stream",
     "text": [
      "Training: 100%|██████████| 50/50 [00:05<00:00,  8.45it/s]\n",
      "Evaluating: 100%|██████████| 30/30 [00:00<00:00, 74.85it/s]\n",
      "Training:   2%|▏         | 1/50 [00:00<00:08,  5.86it/s]"
     ]
    },
    {
     "name": "stdout",
     "output_type": "stream",
     "text": [
      "100.16666666666667\n"
     ]
    },
    {
     "name": "stderr",
     "output_type": "stream",
     "text": [
      "Training: 100%|██████████| 50/50 [00:07<00:00,  6.88it/s]\n",
      "Evaluating: 100%|██████████| 30/30 [00:00<00:00, 104.82it/s]\n",
      "Training:   2%|▏         | 1/50 [00:00<00:07,  6.19it/s]"
     ]
    },
    {
     "name": "stdout",
     "output_type": "stream",
     "text": [
      "67.33333333333333\n"
     ]
    },
    {
     "name": "stderr",
     "output_type": "stream",
     "text": [
      "Training: 100%|██████████| 50/50 [00:04<00:00, 12.21it/s]\n",
      "Evaluating: 100%|██████████| 30/30 [00:00<00:00, 73.86it/s]\n",
      "Training:   2%|▏         | 1/50 [00:00<00:08,  5.76it/s]"
     ]
    },
    {
     "name": "stdout",
     "output_type": "stream",
     "text": [
      "101.56666666666666\n"
     ]
    },
    {
     "name": "stderr",
     "output_type": "stream",
     "text": [
      "Training: 100%|██████████| 50/50 [00:06<00:00,  7.77it/s]\n",
      "Evaluating: 100%|██████████| 30/30 [00:00<00:00, 79.66it/s]\n",
      "Training:   2%|▏         | 1/50 [00:00<00:07,  6.15it/s]"
     ]
    },
    {
     "name": "stdout",
     "output_type": "stream",
     "text": [
      "93.23333333333333\n"
     ]
    },
    {
     "name": "stderr",
     "output_type": "stream",
     "text": [
      "Training: 100%|██████████| 50/50 [00:04<00:00, 10.84it/s]\n",
      "Evaluating: 100%|██████████| 30/30 [00:00<00:00, 729.00it/s]\n",
      "Training:   4%|▍         | 2/50 [00:00<00:04, 11.89it/s]"
     ]
    },
    {
     "name": "stdout",
     "output_type": "stream",
     "text": [
      "9.333333333333334\n"
     ]
    },
    {
     "name": "stderr",
     "output_type": "stream",
     "text": [
      "Training: 100%|██████████| 50/50 [00:07<00:00,  7.04it/s]\n",
      "Evaluating: 100%|██████████| 30/30 [00:00<00:00, 725.60it/s]\n",
      "Training:   2%|▏         | 1/50 [00:00<00:05,  9.01it/s]"
     ]
    },
    {
     "name": "stdout",
     "output_type": "stream",
     "text": [
      "9.4\n"
     ]
    },
    {
     "name": "stderr",
     "output_type": "stream",
     "text": [
      "Training: 100%|██████████| 50/50 [00:05<00:00,  8.71it/s]\n",
      "Evaluating: 100%|██████████| 30/30 [00:00<00:00, 99.04it/s] \n",
      "Training:   2%|▏         | 1/50 [00:00<00:07,  6.39it/s]"
     ]
    },
    {
     "name": "stdout",
     "output_type": "stream",
     "text": [
      "73.63333333333334\n"
     ]
    },
    {
     "name": "stderr",
     "output_type": "stream",
     "text": [
      "Training: 100%|██████████| 50/50 [00:04<00:00, 10.10it/s]\n",
      "Evaluating: 100%|██████████| 30/30 [00:00<00:00, 120.55it/s]\n",
      "Training:   2%|▏         | 1/50 [00:00<00:09,  5.37it/s]"
     ]
    },
    {
     "name": "stdout",
     "output_type": "stream",
     "text": [
      "61.86666666666667\n"
     ]
    },
    {
     "name": "stderr",
     "output_type": "stream",
     "text": [
      "Training: 100%|██████████| 50/50 [00:04<00:00, 12.23it/s]\n",
      "Evaluating: 100%|██████████| 30/30 [00:00<00:00, 84.94it/s]\n",
      "Training:   4%|▍         | 2/50 [00:00<00:03, 15.42it/s]"
     ]
    },
    {
     "name": "stdout",
     "output_type": "stream",
     "text": [
      "88.8\n"
     ]
    },
    {
     "name": "stderr",
     "output_type": "stream",
     "text": [
      "Training: 100%|██████████| 50/50 [00:04<00:00, 11.44it/s]\n",
      "Evaluating: 100%|██████████| 30/30 [00:00<00:00, 76.28it/s]\n",
      "Training:   4%|▍         | 2/50 [00:00<00:02, 17.42it/s]"
     ]
    },
    {
     "name": "stdout",
     "output_type": "stream",
     "text": [
      "89.5\n"
     ]
    },
    {
     "name": "stderr",
     "output_type": "stream",
     "text": [
      "Training: 100%|██████████| 50/50 [00:04<00:00, 10.06it/s]\n",
      "Evaluating: 100%|██████████| 30/30 [00:00<00:00, 87.12it/s]\n",
      "Training:   2%|▏         | 1/50 [00:00<00:06,  7.74it/s]"
     ]
    },
    {
     "name": "stdout",
     "output_type": "stream",
     "text": [
      "85.3\n"
     ]
    },
    {
     "name": "stderr",
     "output_type": "stream",
     "text": [
      "Training: 100%|██████████| 50/50 [00:05<00:00,  8.88it/s]\n",
      "Evaluating: 100%|██████████| 30/30 [00:00<00:00, 82.20it/s]\n",
      "Training:   4%|▍         | 2/50 [00:00<00:03, 13.67it/s]"
     ]
    },
    {
     "name": "stdout",
     "output_type": "stream",
     "text": [
      "89.1\n"
     ]
    },
    {
     "name": "stderr",
     "output_type": "stream",
     "text": [
      "Training: 100%|██████████| 50/50 [00:04<00:00, 10.37it/s]\n",
      "Evaluating: 100%|██████████| 30/30 [00:00<00:00, 77.97it/s]\n",
      "Training:   2%|▏         | 1/50 [00:00<00:07,  6.93it/s]"
     ]
    },
    {
     "name": "stdout",
     "output_type": "stream",
     "text": [
      "95.83333333333333\n"
     ]
    },
    {
     "name": "stderr",
     "output_type": "stream",
     "text": [
      "Training: 100%|██████████| 50/50 [00:05<00:00,  9.68it/s]\n",
      "Evaluating: 100%|██████████| 30/30 [00:00<00:00, 190.22it/s]\n",
      "Training:   0%|          | 0/50 [00:00<?, ?it/s]"
     ]
    },
    {
     "name": "stdout",
     "output_type": "stream",
     "text": [
      "38.13333333333333\n"
     ]
    },
    {
     "name": "stderr",
     "output_type": "stream",
     "text": [
      "Training: 100%|██████████| 50/50 [00:04<00:00, 10.28it/s]\n",
      "Evaluating: 100%|██████████| 30/30 [00:00<00:00, 101.08it/s]\n",
      "Training:   2%|▏         | 1/50 [00:00<00:05,  8.42it/s]"
     ]
    },
    {
     "name": "stdout",
     "output_type": "stream",
     "text": [
      "72.7\n"
     ]
    },
    {
     "name": "stderr",
     "output_type": "stream",
     "text": [
      "Training: 100%|██████████| 50/50 [00:05<00:00,  9.58it/s]\n",
      "Evaluating: 100%|██████████| 30/30 [00:00<00:00, 710.68it/s]\n",
      "Training:  12%|█▏        | 6/50 [00:00<00:00, 58.80it/s]"
     ]
    },
    {
     "name": "stdout",
     "output_type": "stream",
     "text": [
      "9.466666666666667\n"
     ]
    },
    {
     "name": "stderr",
     "output_type": "stream",
     "text": [
      "Training: 100%|██████████| 50/50 [00:01<00:00, 34.72it/s]\n",
      "Evaluating: 100%|██████████| 30/30 [00:00<00:00, 318.28it/s]\n",
      "Training:   4%|▍         | 2/50 [00:00<00:02, 19.62it/s]"
     ]
    },
    {
     "name": "stdout",
     "output_type": "stream",
     "text": [
      "22.033333333333335\n"
     ]
    },
    {
     "name": "stderr",
     "output_type": "stream",
     "text": [
      "Training: 100%|██████████| 50/50 [00:03<00:00, 14.94it/s]\n",
      "Evaluating: 100%|██████████| 30/30 [00:00<00:00, 97.28it/s] \n",
      "Training:   2%|▏         | 1/50 [00:00<00:08,  5.71it/s]"
     ]
    },
    {
     "name": "stdout",
     "output_type": "stream",
     "text": [
      "76.63333333333334\n"
     ]
    },
    {
     "name": "stderr",
     "output_type": "stream",
     "text": [
      "Training: 100%|██████████| 50/50 [00:07<00:00,  6.80it/s]\n",
      "Evaluating: 100%|██████████| 30/30 [00:00<00:00, 76.50it/s]\n",
      "Training:   2%|▏         | 1/50 [00:00<00:08,  5.60it/s]"
     ]
    },
    {
     "name": "stdout",
     "output_type": "stream",
     "text": [
      "93.83333333333333\n"
     ]
    },
    {
     "name": "stderr",
     "output_type": "stream",
     "text": [
      "Training: 100%|██████████| 50/50 [00:03<00:00, 15.14it/s]\n",
      "Evaluating: 100%|██████████| 30/30 [00:00<00:00, 783.99it/s]\n",
      "Training:   4%|▍         | 2/50 [00:00<00:04, 11.98it/s]"
     ]
    },
    {
     "name": "stdout",
     "output_type": "stream",
     "text": [
      "9.233333333333333\n"
     ]
    },
    {
     "name": "stderr",
     "output_type": "stream",
     "text": [
      "Training: 100%|██████████| 50/50 [00:07<00:00,  7.06it/s]\n",
      "Evaluating: 100%|██████████| 30/30 [00:00<00:00, 35.90it/s]\n",
      "Training:   0%|          | 0/50 [00:00<?, ?it/s]"
     ]
    },
    {
     "name": "stdout",
     "output_type": "stream",
     "text": [
      "200.0\n"
     ]
    },
    {
     "name": "stderr",
     "output_type": "stream",
     "text": [
      "Training: 100%|██████████| 50/50 [00:08<00:00,  6.21it/s]\n",
      "Evaluating: 100%|██████████| 30/30 [00:00<00:00, 37.39it/s]\n",
      "Training:   0%|          | 0/50 [00:00<?, ?it/s]"
     ]
    },
    {
     "name": "stdout",
     "output_type": "stream",
     "text": [
      "200.0\n"
     ]
    },
    {
     "name": "stderr",
     "output_type": "stream",
     "text": [
      "Training: 100%|██████████| 50/50 [00:07<00:00,  7.03it/s]\n",
      "Evaluating: 100%|██████████| 30/30 [00:00<00:00, 37.23it/s]\n",
      "Training:   0%|          | 0/50 [00:00<?, ?it/s]"
     ]
    },
    {
     "name": "stdout",
     "output_type": "stream",
     "text": [
      "200.0\n"
     ]
    },
    {
     "name": "stderr",
     "output_type": "stream",
     "text": [
      "Training: 100%|██████████| 50/50 [00:03<00:00, 13.06it/s]\n",
      "Evaluating: 100%|██████████| 30/30 [00:00<00:00, 752.40it/s]\n",
      "Training:   0%|          | 0/50 [00:00<?, ?it/s]"
     ]
    },
    {
     "name": "stdout",
     "output_type": "stream",
     "text": [
      "9.333333333333334\n"
     ]
    },
    {
     "name": "stderr",
     "output_type": "stream",
     "text": [
      "Training: 100%|██████████| 50/50 [00:09<00:00,  5.19it/s]\n",
      "Evaluating: 100%|██████████| 30/30 [00:00<00:00, 737.66it/s]\n",
      "Training:   0%|          | 0/50 [00:00<?, ?it/s]"
     ]
    },
    {
     "name": "stdout",
     "output_type": "stream",
     "text": [
      "9.266666666666667\n"
     ]
    },
    {
     "name": "stderr",
     "output_type": "stream",
     "text": [
      "Training: 100%|██████████| 50/50 [00:11<00:00,  4.47it/s]\n",
      "Evaluating: 100%|██████████| 30/30 [00:00<00:00, 188.46it/s]\n",
      "Training:   4%|▍         | 2/50 [00:00<00:03, 12.82it/s]"
     ]
    },
    {
     "name": "stdout",
     "output_type": "stream",
     "text": [
      "30.633333333333333\n"
     ]
    },
    {
     "name": "stderr",
     "output_type": "stream",
     "text": [
      "Training: 100%|██████████| 50/50 [00:02<00:00, 24.25it/s]\n",
      "Evaluating: 100%|██████████| 30/30 [00:00<00:00, 681.90it/s]\n",
      "Training:  14%|█▍        | 7/50 [00:00<00:00, 63.51it/s]"
     ]
    },
    {
     "name": "stdout",
     "output_type": "stream",
     "text": [
      "9.466666666666667\n"
     ]
    },
    {
     "name": "stderr",
     "output_type": "stream",
     "text": [
      "Training: 100%|██████████| 50/50 [00:11<00:00,  4.42it/s]\n",
      "Evaluating: 100%|██████████| 30/30 [00:00<00:00, 49.18it/s]\n",
      "Training:   0%|          | 0/50 [00:00<?, ?it/s]"
     ]
    },
    {
     "name": "stdout",
     "output_type": "stream",
     "text": [
      "137.4\n"
     ]
    },
    {
     "name": "stderr",
     "output_type": "stream",
     "text": [
      "Training: 100%|██████████| 50/50 [00:11<00:00,  4.38it/s]\n",
      "Evaluating: 100%|██████████| 30/30 [00:00<00:00, 37.31it/s]\n",
      "Training:   0%|          | 0/50 [00:00<?, ?it/s]"
     ]
    },
    {
     "name": "stdout",
     "output_type": "stream",
     "text": [
      "200.0\n"
     ]
    },
    {
     "name": "stderr",
     "output_type": "stream",
     "text": [
      "Training: 100%|██████████| 50/50 [00:10<00:00,  4.84it/s]\n",
      "Evaluating: 100%|██████████| 30/30 [00:00<00:00, 472.69it/s]\n",
      "Training:   0%|          | 0/50 [00:00<?, ?it/s]"
     ]
    },
    {
     "name": "stdout",
     "output_type": "stream",
     "text": [
      "15.5\n"
     ]
    },
    {
     "name": "stderr",
     "output_type": "stream",
     "text": [
      "Training: 100%|██████████| 50/50 [00:14<00:00,  3.45it/s]\n",
      "Evaluating: 100%|██████████| 30/30 [00:00<00:00, 37.30it/s]\n",
      "Training:   0%|          | 0/50 [00:00<?, ?it/s]"
     ]
    },
    {
     "name": "stdout",
     "output_type": "stream",
     "text": [
      "200.0\n"
     ]
    },
    {
     "name": "stderr",
     "output_type": "stream",
     "text": [
      "Training: 100%|██████████| 50/50 [00:11<00:00,  4.28it/s]\n",
      "Evaluating: 100%|██████████| 30/30 [00:00<00:00, 37.61it/s]\n",
      "Training:   0%|          | 0/50 [00:00<?, ?it/s]"
     ]
    },
    {
     "name": "stdout",
     "output_type": "stream",
     "text": [
      "193.0\n"
     ]
    },
    {
     "name": "stderr",
     "output_type": "stream",
     "text": [
      "Training: 100%|██████████| 50/50 [00:13<00:00,  3.69it/s]\n",
      "Evaluating: 100%|██████████| 30/30 [00:00<00:00, 37.32it/s]\n",
      "Training:   0%|          | 0/50 [00:00<?, ?it/s]"
     ]
    },
    {
     "name": "stdout",
     "output_type": "stream",
     "text": [
      "200.0\n"
     ]
    },
    {
     "name": "stderr",
     "output_type": "stream",
     "text": [
      "Training: 100%|██████████| 50/50 [00:13<00:00,  3.61it/s]\n",
      "Evaluating: 100%|██████████| 30/30 [00:00<00:00, 36.63it/s]\n",
      "Training:   0%|          | 0/50 [00:00<?, ?it/s]"
     ]
    },
    {
     "name": "stdout",
     "output_type": "stream",
     "text": [
      "198.56666666666666\n"
     ]
    },
    {
     "name": "stderr",
     "output_type": "stream",
     "text": [
      "Training: 100%|██████████| 50/50 [00:03<00:00, 14.08it/s]\n",
      "Evaluating: 100%|██████████| 30/30 [00:00<00:00, 62.25it/s]\n",
      "Training:   2%|▏         | 1/50 [00:00<00:09,  5.12it/s]"
     ]
    },
    {
     "name": "stdout",
     "output_type": "stream",
     "text": [
      "118.4\n"
     ]
    },
    {
     "name": "stderr",
     "output_type": "stream",
     "text": [
      "Training: 100%|██████████| 50/50 [00:04<00:00, 11.65it/s]\n",
      "Evaluating: 100%|██████████| 30/30 [00:00<00:00, 228.18it/s]\n",
      "Training:   6%|▌         | 3/50 [00:00<00:02, 20.90it/s]"
     ]
    },
    {
     "name": "stdout",
     "output_type": "stream",
     "text": [
      "32.166666666666664\n"
     ]
    },
    {
     "name": "stderr",
     "output_type": "stream",
     "text": [
      "Training: 100%|██████████| 50/50 [00:02<00:00, 19.97it/s]\n",
      "Evaluating: 100%|██████████| 30/30 [00:00<00:00, 199.28it/s]\n",
      "Training:   4%|▍         | 2/50 [00:00<00:02, 18.80it/s]"
     ]
    },
    {
     "name": "stdout",
     "output_type": "stream",
     "text": [
      "34.86666666666667\n"
     ]
    },
    {
     "name": "stderr",
     "output_type": "stream",
     "text": [
      "Training: 100%|██████████| 50/50 [00:01<00:00, 27.30it/s]\n",
      "Evaluating: 100%|██████████| 30/30 [00:00<00:00, 515.22it/s]\n",
      "Training:   6%|▌         | 3/50 [00:00<00:01, 26.56it/s]"
     ]
    },
    {
     "name": "stdout",
     "output_type": "stream",
     "text": [
      "13.766666666666667\n"
     ]
    },
    {
     "name": "stderr",
     "output_type": "stream",
     "text": [
      "Training: 100%|██████████| 50/50 [00:02<00:00, 20.90it/s]\n",
      "Evaluating: 100%|██████████| 30/30 [00:00<00:00, 293.12it/s]\n",
      "Training:   4%|▍         | 2/50 [00:00<00:03, 14.16it/s]"
     ]
    },
    {
     "name": "stdout",
     "output_type": "stream",
     "text": [
      "25.033333333333335\n"
     ]
    },
    {
     "name": "stderr",
     "output_type": "stream",
     "text": [
      "Training: 100%|██████████| 50/50 [00:02<00:00, 16.98it/s]\n",
      "Evaluating: 100%|██████████| 30/30 [00:00<00:00, 468.46it/s]\n",
      "Training:   4%|▍         | 2/50 [00:00<00:04, 10.45it/s]"
     ]
    },
    {
     "name": "stdout",
     "output_type": "stream",
     "text": [
      "15.366666666666667\n"
     ]
    },
    {
     "name": "stderr",
     "output_type": "stream",
     "text": [
      "Training: 100%|██████████| 50/50 [00:02<00:00, 16.71it/s]\n",
      "Evaluating: 100%|██████████| 30/30 [00:00<00:00, 417.01it/s]\n",
      "Training:   8%|▊         | 4/50 [00:00<00:01, 39.29it/s]"
     ]
    },
    {
     "name": "stdout",
     "output_type": "stream",
     "text": [
      "16.6\n"
     ]
    },
    {
     "name": "stderr",
     "output_type": "stream",
     "text": [
      "Training: 100%|██████████| 50/50 [00:02<00:00, 23.39it/s]\n",
      "Evaluating: 100%|██████████| 30/30 [00:00<00:00, 288.11it/s]\n",
      "Training:  10%|█         | 5/50 [00:00<00:01, 44.84it/s]"
     ]
    },
    {
     "name": "stdout",
     "output_type": "stream",
     "text": [
      "24.9\n"
     ]
    },
    {
     "name": "stderr",
     "output_type": "stream",
     "text": [
      "Training: 100%|██████████| 50/50 [00:06<00:00,  7.87it/s]\n",
      "Evaluating: 100%|██████████| 30/30 [00:00<00:00, 660.54it/s]\n",
      "Training:   0%|          | 0/50 [00:00<?, ?it/s]"
     ]
    },
    {
     "name": "stdout",
     "output_type": "stream",
     "text": [
      "10.933333333333334\n"
     ]
    },
    {
     "name": "stderr",
     "output_type": "stream",
     "text": [
      "Training: 100%|██████████| 50/50 [00:12<00:00,  3.96it/s]\n",
      "Evaluating: 100%|██████████| 30/30 [00:00<00:00, 233.45it/s]\n",
      "Training:   0%|          | 0/50 [00:00<?, ?it/s]"
     ]
    },
    {
     "name": "stdout",
     "output_type": "stream",
     "text": [
      "31.7\n"
     ]
    },
    {
     "name": "stderr",
     "output_type": "stream",
     "text": [
      "Training: 100%|██████████| 50/50 [00:10<00:00,  4.71it/s]\n",
      "Evaluating: 100%|██████████| 30/30 [00:00<00:00, 51.50it/s]\n",
      "Training:   0%|          | 0/50 [00:00<?, ?it/s]"
     ]
    },
    {
     "name": "stdout",
     "output_type": "stream",
     "text": [
      "145.63333333333333\n"
     ]
    },
    {
     "name": "stderr",
     "output_type": "stream",
     "text": [
      "Training: 100%|██████████| 50/50 [00:09<00:00,  5.33it/s]\n",
      "Evaluating: 100%|██████████| 30/30 [00:00<00:00, 705.72it/s]\n",
      "Training:   0%|          | 0/50 [00:00<?, ?it/s]"
     ]
    },
    {
     "name": "stdout",
     "output_type": "stream",
     "text": [
      "9.6\n"
     ]
    },
    {
     "name": "stderr",
     "output_type": "stream",
     "text": [
      "Training: 100%|██████████| 50/50 [00:06<00:00,  7.63it/s]\n",
      "Evaluating: 100%|██████████| 30/30 [00:00<00:00, 742.13it/s]\n",
      "Training:  14%|█▍        | 7/50 [00:00<00:00, 67.08it/s]"
     ]
    },
    {
     "name": "stdout",
     "output_type": "stream",
     "text": [
      "9.333333333333334\n"
     ]
    },
    {
     "name": "stderr",
     "output_type": "stream",
     "text": [
      "Training: 100%|██████████| 50/50 [00:07<00:00,  7.06it/s]\n",
      "Evaluating: 100%|██████████| 30/30 [00:00<00:00, 57.36it/s]\n",
      "Training:   0%|          | 0/50 [00:00<?, ?it/s]"
     ]
    },
    {
     "name": "stdout",
     "output_type": "stream",
     "text": [
      "122.86666666666666\n"
     ]
    },
    {
     "name": "stderr",
     "output_type": "stream",
     "text": [
      "Training: 100%|██████████| 50/50 [00:07<00:00,  6.34it/s]\n",
      "Evaluating: 100%|██████████| 30/30 [00:00<00:00, 110.84it/s]\n",
      "Training:   2%|▏         | 1/50 [00:00<00:08,  5.94it/s]"
     ]
    },
    {
     "name": "stdout",
     "output_type": "stream",
     "text": [
      "49.46666666666667\n"
     ]
    },
    {
     "name": "stderr",
     "output_type": "stream",
     "text": [
      "Training: 100%|██████████| 50/50 [00:04<00:00, 11.27it/s]\n",
      "Evaluating: 100%|██████████| 30/30 [00:00<00:00, 178.94it/s]\n",
      "Training:   0%|          | 0/50 [00:00<?, ?it/s]"
     ]
    },
    {
     "name": "stdout",
     "output_type": "stream",
     "text": [
      "41.5\n"
     ]
    },
    {
     "name": "stderr",
     "output_type": "stream",
     "text": [
      "Training: 100%|██████████| 50/50 [00:05<00:00,  9.03it/s]\n",
      "Evaluating: 100%|██████████| 30/30 [00:00<00:00, 81.16it/s]\n",
      "Training:   2%|▏         | 1/50 [00:00<00:06,  7.83it/s]"
     ]
    },
    {
     "name": "stdout",
     "output_type": "stream",
     "text": [
      "91.96666666666667\n"
     ]
    },
    {
     "name": "stderr",
     "output_type": "stream",
     "text": [
      "Training: 100%|██████████| 50/50 [00:06<00:00,  8.27it/s]\n",
      "Evaluating: 100%|██████████| 30/30 [00:00<00:00, 133.37it/s]\n",
      "Training:   4%|▍         | 2/50 [00:00<00:03, 14.66it/s]"
     ]
    },
    {
     "name": "stdout",
     "output_type": "stream",
     "text": [
      "52.5\n"
     ]
    },
    {
     "name": "stderr",
     "output_type": "stream",
     "text": [
      "Training: 100%|██████████| 50/50 [00:05<00:00,  9.30it/s]\n",
      "Evaluating: 100%|██████████| 30/30 [00:00<00:00, 104.74it/s]\n",
      "Training:   2%|▏         | 1/50 [00:00<00:06,  7.80it/s]"
     ]
    },
    {
     "name": "stdout",
     "output_type": "stream",
     "text": [
      "55.4\n"
     ]
    },
    {
     "name": "stderr",
     "output_type": "stream",
     "text": [
      "Training: 100%|██████████| 50/50 [00:05<00:00,  8.91it/s]\n",
      "Evaluating: 100%|██████████| 30/30 [00:00<00:00, 101.86it/s]\n",
      "Training:   2%|▏         | 1/50 [00:00<00:05,  8.25it/s]"
     ]
    },
    {
     "name": "stdout",
     "output_type": "stream",
     "text": [
      "71.63333333333334\n"
     ]
    },
    {
     "name": "stderr",
     "output_type": "stream",
     "text": [
      "Training: 100%|██████████| 50/50 [00:05<00:00,  9.00it/s]\n",
      "Evaluating: 100%|██████████| 30/30 [00:00<00:00, 97.18it/s]\n",
      "Training:   4%|▍         | 2/50 [00:00<00:04, 10.63it/s]"
     ]
    },
    {
     "name": "stdout",
     "output_type": "stream",
     "text": [
      "76.03333333333333\n"
     ]
    },
    {
     "name": "stderr",
     "output_type": "stream",
     "text": [
      "Training: 100%|██████████| 50/50 [00:04<00:00, 10.19it/s]\n",
      "Evaluating: 100%|██████████| 30/30 [00:00<00:00, 710.24it/s]\n",
      "Training:   0%|          | 0/50 [00:00<?, ?it/s]"
     ]
    },
    {
     "name": "stdout",
     "output_type": "stream",
     "text": [
      "9.333333333333334\n"
     ]
    },
    {
     "name": "stderr",
     "output_type": "stream",
     "text": [
      "Training: 100%|██████████| 50/50 [00:06<00:00,  7.87it/s]\n",
      "Evaluating: 100%|██████████| 30/30 [00:00<00:00, 74.11it/s]\n",
      "Training:   4%|▍         | 2/50 [00:00<00:04, 10.34it/s]"
     ]
    },
    {
     "name": "stdout",
     "output_type": "stream",
     "text": [
      "96.93333333333334\n"
     ]
    },
    {
     "name": "stderr",
     "output_type": "stream",
     "text": [
      "Training: 100%|██████████| 50/50 [00:06<00:00,  7.81it/s]\n",
      "Evaluating: 100%|██████████| 30/30 [00:00<00:00, 79.86it/s]\n",
      "Training:   2%|▏         | 1/50 [00:00<00:07,  6.78it/s]"
     ]
    },
    {
     "name": "stdout",
     "output_type": "stream",
     "text": [
      "93.26666666666667\n"
     ]
    },
    {
     "name": "stderr",
     "output_type": "stream",
     "text": [
      "Training: 100%|██████████| 50/50 [00:03<00:00, 13.52it/s]\n",
      "Evaluating: 100%|██████████| 30/30 [00:00<00:00, 426.82it/s]\n",
      "Training:  10%|█         | 5/50 [00:00<00:01, 30.81it/s]"
     ]
    },
    {
     "name": "stdout",
     "output_type": "stream",
     "text": [
      "14.3\n"
     ]
    },
    {
     "name": "stderr",
     "output_type": "stream",
     "text": [
      "Training: 100%|██████████| 50/50 [00:06<00:00,  7.38it/s]\n",
      "Evaluating: 100%|██████████| 30/30 [00:00<00:00, 79.96it/s]\n",
      "Training:   4%|▍         | 2/50 [00:00<00:04, 10.59it/s]"
     ]
    },
    {
     "name": "stdout",
     "output_type": "stream",
     "text": [
      "93.36666666666666\n"
     ]
    },
    {
     "name": "stderr",
     "output_type": "stream",
     "text": [
      "Training: 100%|██████████| 50/50 [00:06<00:00,  7.31it/s]\n",
      "Evaluating: 100%|██████████| 30/30 [00:00<00:00, 78.75it/s]\n",
      "Training:   2%|▏         | 1/50 [00:00<00:07,  6.21it/s]"
     ]
    },
    {
     "name": "stdout",
     "output_type": "stream",
     "text": [
      "94.63333333333334\n"
     ]
    },
    {
     "name": "stderr",
     "output_type": "stream",
     "text": [
      "Training: 100%|██████████| 50/50 [00:05<00:00,  8.92it/s]\n",
      "Evaluating: 100%|██████████| 30/30 [00:00<00:00, 78.59it/s]\n",
      "Training:   2%|▏         | 1/50 [00:00<00:08,  5.76it/s]"
     ]
    },
    {
     "name": "stdout",
     "output_type": "stream",
     "text": [
      "95.26666666666667\n"
     ]
    },
    {
     "name": "stderr",
     "output_type": "stream",
     "text": [
      "Training: 100%|██████████| 50/50 [00:04<00:00, 10.28it/s]\n",
      "Evaluating: 100%|██████████| 30/30 [00:00<00:00, 81.10it/s]\n",
      "Training:   2%|▏         | 1/50 [00:00<00:05,  9.71it/s]"
     ]
    },
    {
     "name": "stdout",
     "output_type": "stream",
     "text": [
      "89.2\n"
     ]
    },
    {
     "name": "stderr",
     "output_type": "stream",
     "text": [
      "Training: 100%|██████████| 50/50 [00:06<00:00,  7.92it/s]\n",
      "Evaluating: 100%|██████████| 30/30 [00:00<00:00, 77.83it/s]\n",
      "Training:   2%|▏         | 1/50 [00:00<00:07,  6.65it/s]"
     ]
    },
    {
     "name": "stdout",
     "output_type": "stream",
     "text": [
      "95.4\n"
     ]
    },
    {
     "name": "stderr",
     "output_type": "stream",
     "text": [
      "Training: 100%|██████████| 50/50 [00:06<00:00,  7.21it/s]\n",
      "Evaluating: 100%|██████████| 30/30 [00:00<00:00, 351.26it/s]\n",
      "Training:   2%|▏         | 1/50 [00:00<00:08,  5.66it/s]"
     ]
    },
    {
     "name": "stdout",
     "output_type": "stream",
     "text": [
      "20.633333333333333\n"
     ]
    },
    {
     "name": "stderr",
     "output_type": "stream",
     "text": [
      "Training: 100%|██████████| 50/50 [00:07<00:00,  6.72it/s]\n",
      "Evaluating: 100%|██████████| 30/30 [00:00<00:00, 174.00it/s]\n",
      "Training:   4%|▍         | 2/50 [00:00<00:02, 16.47it/s]"
     ]
    },
    {
     "name": "stdout",
     "output_type": "stream",
     "text": [
      "41.93333333333333\n"
     ]
    },
    {
     "name": "stderr",
     "output_type": "stream",
     "text": [
      "Training: 100%|██████████| 50/50 [00:06<00:00,  8.14it/s]\n",
      "Evaluating: 100%|██████████| 30/30 [00:00<00:00, 61.72it/s]\n",
      "Training:   0%|          | 0/50 [00:00<?, ?it/s]"
     ]
    },
    {
     "name": "stdout",
     "output_type": "stream",
     "text": [
      "120.93333333333334\n"
     ]
    },
    {
     "name": "stderr",
     "output_type": "stream",
     "text": [
      "Training: 100%|██████████| 50/50 [00:07<00:00,  6.79it/s]\n",
      "Evaluating: 100%|██████████| 30/30 [00:00<00:00, 62.41it/s]\n",
      "Training:   2%|▏         | 1/50 [00:00<00:08,  6.06it/s]"
     ]
    },
    {
     "name": "stdout",
     "output_type": "stream",
     "text": [
      "99.43333333333334\n"
     ]
    },
    {
     "name": "stderr",
     "output_type": "stream",
     "text": [
      "Training: 100%|██████████| 50/50 [00:08<00:00,  5.73it/s]\n",
      "Evaluating: 100%|██████████| 30/30 [00:00<00:00, 41.04it/s]\n",
      "Training:   0%|          | 0/50 [00:00<?, ?it/s]"
     ]
    },
    {
     "name": "stdout",
     "output_type": "stream",
     "text": [
      "182.23333333333332\n"
     ]
    },
    {
     "name": "stderr",
     "output_type": "stream",
     "text": [
      "Training: 100%|██████████| 50/50 [00:08<00:00,  6.06it/s]\n",
      "Evaluating: 100%|██████████| 30/30 [00:00<00:00, 83.40it/s]\n",
      "Training:   2%|▏         | 1/50 [00:00<00:05,  8.43it/s]"
     ]
    },
    {
     "name": "stdout",
     "output_type": "stream",
     "text": [
      "67.16666666666667\n"
     ]
    },
    {
     "name": "stderr",
     "output_type": "stream",
     "text": [
      "Training: 100%|██████████| 50/50 [00:04<00:00, 10.18it/s]\n",
      "Evaluating: 100%|██████████| 30/30 [00:00<00:00, 72.85it/s]\n",
      "Training:   2%|▏         | 1/50 [00:00<00:07,  6.22it/s]"
     ]
    },
    {
     "name": "stdout",
     "output_type": "stream",
     "text": [
      "80.6\n"
     ]
    },
    {
     "name": "stderr",
     "output_type": "stream",
     "text": [
      "Training: 100%|██████████| 50/50 [00:06<00:00,  7.73it/s]\n",
      "Evaluating: 100%|██████████| 30/30 [00:00<00:00, 78.52it/s]\n",
      "Training:   2%|▏         | 1/50 [00:00<00:08,  5.72it/s]"
     ]
    },
    {
     "name": "stdout",
     "output_type": "stream",
     "text": [
      "94.23333333333333\n"
     ]
    },
    {
     "name": "stderr",
     "output_type": "stream",
     "text": [
      "Training: 100%|██████████| 50/50 [00:07<00:00,  7.10it/s]\n",
      "Evaluating: 100%|██████████| 30/30 [00:00<00:00, 71.70it/s]\n",
      "Training:   2%|▏         | 1/50 [00:00<00:09,  5.32it/s]"
     ]
    },
    {
     "name": "stdout",
     "output_type": "stream",
     "text": [
      "103.03333333333333\n"
     ]
    },
    {
     "name": "stderr",
     "output_type": "stream",
     "text": [
      "Training: 100%|██████████| 50/50 [00:06<00:00,  8.33it/s]\n",
      "Evaluating: 100%|██████████| 30/30 [00:00<00:00, 77.77it/s]\n",
      "Training:   2%|▏         | 1/50 [00:00<00:06,  7.33it/s]"
     ]
    },
    {
     "name": "stdout",
     "output_type": "stream",
     "text": [
      "96.23333333333333\n"
     ]
    },
    {
     "name": "stderr",
     "output_type": "stream",
     "text": [
      "Training: 100%|██████████| 50/50 [00:05<00:00,  9.27it/s]\n",
      "Evaluating: 100%|██████████| 30/30 [00:00<00:00, 52.51it/s]\n",
      "Training:   0%|          | 0/50 [00:00<?, ?it/s]"
     ]
    },
    {
     "name": "stdout",
     "output_type": "stream",
     "text": [
      "107.3\n"
     ]
    },
    {
     "name": "stderr",
     "output_type": "stream",
     "text": [
      "Training: 100%|██████████| 50/50 [00:05<00:00,  8.62it/s]\n",
      "Evaluating: 100%|██████████| 30/30 [00:00<00:00, 62.75it/s]\n",
      "Training:   2%|▏         | 1/50 [00:00<00:07,  6.93it/s]"
     ]
    },
    {
     "name": "stdout",
     "output_type": "stream",
     "text": [
      "117.6\n"
     ]
    },
    {
     "name": "stderr",
     "output_type": "stream",
     "text": [
      "Training: 100%|██████████| 50/50 [00:06<00:00,  7.80it/s]\n",
      "Evaluating: 100%|██████████| 30/30 [00:00<00:00, 673.79it/s]\n",
      "Training:   0%|          | 0/50 [00:00<?, ?it/s]"
     ]
    },
    {
     "name": "stdout",
     "output_type": "stream",
     "text": [
      "9.566666666666666\n"
     ]
    },
    {
     "name": "stderr",
     "output_type": "stream",
     "text": [
      "Training: 100%|██████████| 50/50 [00:06<00:00,  7.71it/s]\n",
      "Evaluating: 100%|██████████| 30/30 [00:00<00:00, 79.43it/s]\n",
      "Training:   2%|▏         | 1/50 [00:00<00:07,  6.65it/s]"
     ]
    },
    {
     "name": "stdout",
     "output_type": "stream",
     "text": [
      "93.96666666666667\n"
     ]
    },
    {
     "name": "stderr",
     "output_type": "stream",
     "text": [
      "Training: 100%|██████████| 50/50 [00:07<00:00,  7.08it/s]\n",
      "Evaluating: 100%|██████████| 30/30 [00:00<00:00, 63.32it/s]\n",
      "Training:   2%|▏         | 1/50 [00:00<00:08,  6.03it/s]"
     ]
    },
    {
     "name": "stdout",
     "output_type": "stream",
     "text": [
      "117.66666666666667\n"
     ]
    },
    {
     "name": "stderr",
     "output_type": "stream",
     "text": [
      "Training: 100%|██████████| 50/50 [00:05<00:00,  8.56it/s]\n",
      "Evaluating: 100%|██████████| 30/30 [00:00<00:00, 69.25it/s]\n",
      "Training:   2%|▏         | 1/50 [00:00<00:07,  6.78it/s]"
     ]
    },
    {
     "name": "stdout",
     "output_type": "stream",
     "text": [
      "103.2\n"
     ]
    },
    {
     "name": "stderr",
     "output_type": "stream",
     "text": [
      "Training: 100%|██████████| 50/50 [00:05<00:00,  8.61it/s]\n",
      "Evaluating: 100%|██████████| 30/30 [00:00<00:00, 746.02it/s]\n",
      "Training:   4%|▍         | 2/50 [00:00<00:03, 15.52it/s]"
     ]
    },
    {
     "name": "stdout",
     "output_type": "stream",
     "text": [
      "9.2\n"
     ]
    },
    {
     "name": "stderr",
     "output_type": "stream",
     "text": [
      "Training: 100%|██████████| 50/50 [00:06<00:00,  7.52it/s]\n",
      "Evaluating: 100%|██████████| 30/30 [00:00<00:00, 57.42it/s]\n",
      "Training:   2%|▏         | 1/50 [00:00<00:08,  6.08it/s]"
     ]
    },
    {
     "name": "stdout",
     "output_type": "stream",
     "text": [
      "121.46666666666667\n"
     ]
    },
    {
     "name": "stderr",
     "output_type": "stream",
     "text": [
      "Training: 100%|██████████| 50/50 [00:05<00:00,  8.98it/s]\n",
      "Evaluating: 100%|██████████| 30/30 [00:00<00:00, 74.72it/s]\n",
      "Training:   4%|▍         | 2/50 [00:00<00:04, 11.00it/s]"
     ]
    },
    {
     "name": "stdout",
     "output_type": "stream",
     "text": [
      "99.86666666666666\n"
     ]
    },
    {
     "name": "stderr",
     "output_type": "stream",
     "text": [
      "Training: 100%|██████████| 50/50 [00:07<00:00,  7.05it/s]\n",
      "Evaluating: 100%|██████████| 30/30 [00:00<00:00, 86.81it/s]"
     ]
    },
    {
     "name": "stdout",
     "output_type": "stream",
     "text": [
      "83.23333333333333\n",
      "\n",
      "Learning Performance:\n",
      "\n"
     ]
    },
    {
     "name": "stderr",
     "output_type": "stream",
     "text": [
      "\n"
     ]
    },
    {
     "data": {
      "text/plain": [
       "<Figure size 432x288 with 0 Axes>"
      ]
     },
     "metadata": {},
     "output_type": "display_data"
    },
    {
     "data": {
      "image/png": "[encoded data removed]",
      "text/plain": [
       "<Figure size 432x288 with 1 Axes>"
      ]
     },
     "metadata": {
      "needs_background": "light"
     },
     "output_type": "display_data"
    }
   ],
   "source": [
    "# without replay buffer and without target network\n",
    "\n",
    "hyperparams_CartPole = {\n",
    "    'epsilon_decay_steps' : 100000, \n",
    "    'final_epsilon' : 0.1,\n",
    "    'batch_size' : 1, \n",
    "    'update_steps' : 1, \n",
    "    'memory_size' : 1, \n",
    "    'beta' : 0.99, \n",
    "    'model_replace_freq' : 2000,\n",
    "    'learning_rate' : 0.0003,\n",
    "    'use_target_model': False\n",
    "}\n",
    "\n",
    "training_episodes, test_interval = 10000, 50\n",
    "agent = DQN_agent(env_CartPole, hyperparams_CartPole)\n",
    "result = agent.learn_and_evaluate(training_episodes, test_interval)\n",
    "plot_result(result, test_interval, [\"batch_update with target_model\"])"
   ]
  },
  {
   "cell_type": "markdown",
   "metadata": {},
   "source": [
    "***\n",
    "# Part 2: Distributed DQN\n",
    "***\n",
    "\n",
    "Here you will implement a distributed version of the above DQN approach. The distribution approach can be the same as that used for the table-based distribution Q-learning algorithm from homework 3."
   ]
  },
  {
   "cell_type": "markdown",
   "metadata": {},
   "source": [
    "## init Ray"
   ]
  },
  {
   "cell_type": "code",
   "execution_count": null,
   "metadata": {},
   "outputs": [],
   "source": [
    "ray.shutdown()\n",
    "ray.init(include_webui=False, ignore_reinit_error=True, redis_max_memory=500000000, object_store_memory=5000000000)"
   ]
  },
  {
   "cell_type": "markdown",
   "metadata": {},
   "source": [
    "## Distributed DQN agent\n",
    "The idea is to speedup learning by creating actors to collect data and a model_server to update the neural network model.\n",
    "- Collector: There is a simulator inside each collector. Their job is to collect exprience from the simulator, and send them to the memory server. They follow the explore_or_exploit policy, getting greedy action from model server. Also, call update function of model server to update the model.  \n",
    "- Evaluator: There is a simulator inside the evaluator. It is called by the the Model Server, taking eval_model from it, and test its performance.\n",
    "- Model Server: Stores the evalation and target networks. It Takes experiences from Memory Server and updates the Q-network, also replacing target Q-network periodically. It also interfaces to the evaluator periodically. \n",
    "- Memory Server: It is used to store/sample experience relays.\n",
    "\n",
    "An image of this architecture is below. \n",
    "\n",
    "For this part, you should use our custom_cartpole as your enviroment. This version of cartpole is slower, which allows for the benefits of distributed experience collection to be observed. In particular, the time to generate an experience tuple needs to be non-trivial compared to the time needed to do a neural network model update. \n",
    "\n",
    "<span style=\"color:green\">It is better to run the distributed DQN agent in exclusive node, not in Jupyter notebook</span>\n",
    "```\n",
    "Store all of your distrited DQN code into a python file.\n",
    "ssh colfax (get access to the Devcloud on terminal)\n",
    "qsub -I -lselect=1\n",
    "python3 distributed_dqn.py\n",
    "```\n",
    "\n",
    "<img src=\"distributed DQN.png\">\n",
    "\n",
    "For this part of the homework you need to submit your code for distributed DQN and run experiments that vary the number of workers involved. Produce some learning curves and timing results and discuss your observations. "
   ]
  },
  {
   "cell_type": "code",
   "execution_count": null,
   "metadata": {},
   "outputs": [],
   "source": [
    "from memory_remote import ReplayBuffer_remote\n",
    "from dqn_model import _DQNModel\n",
    "import torch\n",
    "from custom_cartpole import CartPoleEnv"
   ]
  },
  {
   "cell_type": "code",
   "execution_count": null,
   "metadata": {},
   "outputs": [],
   "source": [
    "# Set the Env name and action space for CartPole\n",
    "ENV_NAME = 'CartPole_distributed'\n",
    "\n",
    "# Set result saveing floder\n",
    "result_floder = ENV_NAME + \"_distributed\"\n",
    "result_file = ENV_NAME + \"/results.txt\"\n",
    "if not os.path.isdir(result_floder):\n",
    "    os.mkdir(result_floder)\n",
    "torch.set_num_threads(12)"
   ]
  }
 ],
 "metadata": {
  "kernelspec": {
   "display_name": "Python 3",
   "language": "python",
   "name": "python3"
  },
  "language_info": {
   "codemirror_mode": {
    "name": "ipython",
    "version": 3
   },
   "file_extension": ".py",
   "mimetype": "text/x-python",
   "name": "python",
   "nbconvert_exporter": "python",
   "pygments_lexer": "ipython3",
   "version": "3.7.7"
  }
 },
 "nbformat": 4,
 "nbformat_minor": 4
}
